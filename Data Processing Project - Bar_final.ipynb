{
 "cells": [
  {
   "cell_type": "markdown",
   "metadata": {},
   "source": [
    "<div style=\"border-radius: 15px; border: 3px solid indigo; padding: 15px;\">\n",
    "<b> Reviewer's comment</b>\n",
    "    \n",
    "Hello, my name is Sveta Nosova and I am going to review this project. \n",
    "\n",
    "Before we start, I want to pay your attention to the color marking:\n",
    "    \n",
    "<div class=\"alert alert-success\" style=\"border-radius: 15px; box-shadow: 4px 4px 4px; border: 1px solid \">\n",
    "<b> Reviewer's comment</b>\n",
    "    \n",
    "Great solutions and ideas that can and should be used in the future are in green comments.   \n",
    "</div>    \n",
    "    \n",
    "    \n",
    "<div class=\"alert alert-warning\" style=\"border-radius: 15px; box-shadow: 4px 4px 4px; border: 1px solid \">\n",
    "<b> Reviewer's comment</b>\n",
    "\n",
    "Yellow color indicates what should be optimized. This is not necessary, but it will be great if you make changes to this project.\n",
    "</div>      \n",
    "    \n",
    "    \n",
    "<div class=\"alert alert-danger\" style=\"border-radius: 15px; box-shadow: 4px 4px 4px; border: 1px solid \">\n",
    "<b> Reviewer's comment</b>\n",
    "\n",
    "Issues that need to be corrected to get right results are indicated in red comments. Note that the project cannot be accepted until these issues are resolved.\n",
    "</div>    \n",
    "\n",
    "<hr>\n",
    "    \n",
    "**Please, use some color other than those listed to highlight answers to my comments.**\n",
    "I would also ask you **not to change, move or delete my comments** so that it would be easier for me to navigate during the next review.\n",
    "    \n",
    "In addition, my comments are defined as headings. \n",
    "They can mess up the content, however, they are convenient, since you can immediately go to them. I will remove the headings from my comments in the next review. \n",
    "   \n",
    "    \n",
    "    \n",
    "<hr>\n",
    "    \n",
    "<font color='dodgerblue'>**A few words about the project:**</font> you did a very good job, everything is clear and neat, there are analysis and intermediate conclusions, the code is pretty much clear and easy to understand. I still have some questions, I have written them in my comments. I've also left there some recommendations for improving the project.\n",
    "    \n",
    "    \n",
    "I will wait for the project for a second review :)\n",
    "\n",
    "    \n",
    "    \n",
    "📌 Here are some tips and tricks that may help you with Markdown cells:    \n",
    "<hr style=\"border-top: 3px solid purple; \"></hr>\n",
    "\n",
    "You can leave comments using this code inside a Markdown cell:\n",
    "    \n",
    "    \n",
    "    <div class=\"alert alert-info\">\n",
    "    <h2> Student's comment</h2>\n",
    "\n",
    "    Your text here. \n",
    "    </div>\n",
    "\n",
    "    \n",
    "    \n",
    "    <font color='red'> This code is used to change text color. </font>     \n",
    "\n",
    "<font color='red'> It will look like this. </font> \n",
    "    \n",
    "If you don't want your comments to be headings, replace **h2** with **b** or just add `<a class=\"tocSkip\">` after the phrase *Student's comment*.\n",
    "\n",
    "\n",
    "You can find out how to **format text** in a Markdown cell or how to **add links** [here](https://sqlbak.com/blog/jupyter-notebook-markdown-cheatsheet) и [and here](https://medium.com/analytics-vidhya/the-ultimate-markdown-guide-for-jupyter-notebook-d5e5abf728fd).\n",
    "</div>"
   ]
  },
  {
   "cell_type": "markdown",
   "metadata": {},
   "source": [
    "<div style=\"border-radius: 15px; border: 3px solid indigo; padding: 15px;\">\n",
    "<b> Reviewer's comment 2</b>\n",
    "\n",
    "\n",
    "Thank you for sending the corrected version of the project. You've done a great job, I really appreciate it. The headings from the old comments are removed. I've also left a few comments titled as **Reviewer's comment 2**. Check them out, I've left some code examples for you. \n",
    "    \n",
    "\n",
    "Your project has passed code review. Congratulations 😊\n",
    "    \n",
    "\n",
    "    \n",
    "Take care and good luck! 😊   \n",
    "</div>"
   ]
  },
  {
   "cell_type": "markdown",
   "metadata": {},
   "source": [
    "# Analyzing borrowers’ risk of defaulting\n",
    "\n",
    "Your project is to prepare a report for a bank’s loan division. You’ll need to find out if a customer’s marital status and number of children has an impact on whether they will default on a loan. The bank already has some data on customers’ credit worthiness.\n",
    "\n",
    "Your report will be considered when building the **credit score** of a potential customer. The **credit score** is used to evaluate the ability of a potential borrower to repay their loan.\n",
    "\n",
    "[In this notebook you're provided with hints and brief instructions and thinking prompts. Don't ignore them as they are designed to equip you with the structure for the project and will help you analyze what you're doing on a deeper level. Before submitting your project, make sure you remove all hints and descriptions provided to you. Instead, make this report look as if you're sending it to your teammates to demonstrate your findings - they shouldn't know you had some external help from us! To help you out, we've placed the hints you should remove in square brackets.]\n",
    "\n",
    "[Before you dive into analyzing your data, explain the purposes of the project and hypotheses you're going to test.]"
   ]
  },
  {
   "cell_type": "markdown",
   "metadata": {},
   "source": [
    "<div class=\"alert alert-success\" style=\"border-radius: 15px; box-shadow: 4px 4px 4px; border: 1px solid \">\n",
    "<b> Reviewer's comment</b>\n",
    "    \n",
    "There's an introduction, which is good. It is important to write an introductory part, because it gives an idea about the content of the project.\n",
    "</div>"
   ]
  },
  {
   "cell_type": "markdown",
   "metadata": {},
   "source": [
    "## Open the data file and have a look at the general information. \n",
    "\n",
    "importing the libraries and loading the data:"
   ]
  },
  {
   "cell_type": "code",
   "execution_count": 106,
   "metadata": {},
   "outputs": [],
   "source": [
    "# Loading all the libraries\n",
    "import pandas as pd\n",
    "\n",
    "# Load the data\n",
    "try:\n",
    "    data = pd.read_csv('credit_scoring_eng.csv')\n",
    "except:\n",
    "    data = pd.read_csv('/datasets/credit_scoring_eng.csv')"
   ]
  },
  {
   "cell_type": "markdown",
   "metadata": {},
   "source": [
    "<div class=\"alert alert-success\" style=\"border-radius: 15px; box-shadow: 4px 4px 4px; border: 1px solid \">\n",
    "<b> Reviewer's comment</b>\n",
    "    \n",
    "It's very good that you use `try-except`. Although it is usually used for catching some specific exceptions, it can be used here as well. Another good practice is to add `else` and `finally`. Thus, `try` block allows us to handle some error. The `except` block catches the exceptions. `else` does something if there's no error. `finally` is to be executed in any case, whether there is an exception or not (it is useful when you definitely need to do something, for example, to close a file). \n",
    "    \n",
    "    \n",
    "Look at this code snippet:    \n",
    "</div>\n",
    "\n",
    "```python\n",
    "\n",
    "try:\n",
    "    # Try to do smth here.\n",
    "except Exception as e:\n",
    "    # Handle an instance of SomeException.\n",
    "    # So we deal with the expected error.\n",
    "else:\n",
    "    # Do smth if there is no exception.\n",
    "finally:\n",
    "    # Do something no matter what.\n",
    "    \n",
    "```"
   ]
  },
  {
   "cell_type": "markdown",
   "metadata": {},
   "source": [
    "<div class=\"alert alert-info\">\n",
    "<b> Student's comment</b>\n",
    "\n",
    "Thanks! good to know.\n",
    "</div>\n",
    "\n",
    "<font color='red'></font>"
   ]
  },
  {
   "cell_type": "markdown",
   "metadata": {},
   "source": [
    "<div class=\"alert alert-success\" style=\"border-radius: 15px; box-shadow: 4px 4px 4px; border: 1px solid \">\n",
    "<h2> Reviewer's comment 2</h2>\n",
    "    \n",
    "\n",
    "😉\n",
    "</div>"
   ]
  },
  {
   "cell_type": "markdown",
   "metadata": {},
   "source": [
    "## Task 1. Data exploration\n",
    "\n",
    "**Description of the data**\n",
    "- `children` - the number of children in the family\n",
    "- `days_employed` - work experience in days\n",
    "- `dob_years` - client's age in years\n",
    "- `education` - client's education\n",
    "- `education_id` - education identifier\n",
    "- `family_status` - marital status\n",
    "- `family_status_id` - marital status identifier\n",
    "- `gender` - gender of the client\n",
    "- `income_type` - type of employment\n",
    "- `debt` - was there any debt on loan repayment\n",
    "- `total_income` - monthly income\n",
    "- `purpose` - the purpose of obtaining a loan\n",
    "\n",
    "Let's explore our data:"
   ]
  },
  {
   "cell_type": "code",
   "execution_count": 107,
   "metadata": {},
   "outputs": [
    {
     "name": "stdout",
     "output_type": "stream",
     "text": [
      "<class 'pandas.core.frame.DataFrame'>\n",
      "RangeIndex: 21525 entries, 0 to 21524\n",
      "Data columns (total 12 columns):\n",
      " #   Column            Non-Null Count  Dtype  \n",
      "---  ------            --------------  -----  \n",
      " 0   children          21525 non-null  int64  \n",
      " 1   days_employed     19351 non-null  float64\n",
      " 2   dob_years         21525 non-null  int64  \n",
      " 3   education         21525 non-null  object \n",
      " 4   education_id      21525 non-null  int64  \n",
      " 5   family_status     21525 non-null  object \n",
      " 6   family_status_id  21525 non-null  int64  \n",
      " 7   gender            21525 non-null  object \n",
      " 8   income_type       21525 non-null  object \n",
      " 9   debt              21525 non-null  int64  \n",
      " 10  total_income      19351 non-null  float64\n",
      " 11  purpose           21525 non-null  object \n",
      "dtypes: float64(2), int64(5), object(5)\n",
      "memory usage: 2.0+ MB\n"
     ]
    }
   ],
   "source": [
    "# Let's see how many rows and columns our dataset has\n",
    "data.info()"
   ]
  },
  {
   "cell_type": "code",
   "execution_count": 108,
   "metadata": {
    "scrolled": false
   },
   "outputs": [
    {
     "data": {
      "text/html": [
       "<div>\n",
       "<style scoped>\n",
       "    .dataframe tbody tr th:only-of-type {\n",
       "        vertical-align: middle;\n",
       "    }\n",
       "\n",
       "    .dataframe tbody tr th {\n",
       "        vertical-align: top;\n",
       "    }\n",
       "\n",
       "    .dataframe thead th {\n",
       "        text-align: right;\n",
       "    }\n",
       "</style>\n",
       "<table border=\"1\" class=\"dataframe\">\n",
       "  <thead>\n",
       "    <tr style=\"text-align: right;\">\n",
       "      <th></th>\n",
       "      <th>children</th>\n",
       "      <th>days_employed</th>\n",
       "      <th>dob_years</th>\n",
       "      <th>education</th>\n",
       "      <th>education_id</th>\n",
       "      <th>family_status</th>\n",
       "      <th>family_status_id</th>\n",
       "      <th>gender</th>\n",
       "      <th>income_type</th>\n",
       "      <th>debt</th>\n",
       "      <th>total_income</th>\n",
       "      <th>purpose</th>\n",
       "    </tr>\n",
       "  </thead>\n",
       "  <tbody>\n",
       "    <tr>\n",
       "      <th>0</th>\n",
       "      <td>1</td>\n",
       "      <td>-8437.673</td>\n",
       "      <td>42</td>\n",
       "      <td>bachelor's degree</td>\n",
       "      <td>0</td>\n",
       "      <td>married</td>\n",
       "      <td>0</td>\n",
       "      <td>F</td>\n",
       "      <td>employee</td>\n",
       "      <td>0</td>\n",
       "      <td>40620.102</td>\n",
       "      <td>purchase of the house</td>\n",
       "    </tr>\n",
       "    <tr>\n",
       "      <th>1</th>\n",
       "      <td>1</td>\n",
       "      <td>-4024.804</td>\n",
       "      <td>36</td>\n",
       "      <td>secondary education</td>\n",
       "      <td>1</td>\n",
       "      <td>married</td>\n",
       "      <td>0</td>\n",
       "      <td>F</td>\n",
       "      <td>employee</td>\n",
       "      <td>0</td>\n",
       "      <td>17932.802</td>\n",
       "      <td>car purchase</td>\n",
       "    </tr>\n",
       "    <tr>\n",
       "      <th>2</th>\n",
       "      <td>0</td>\n",
       "      <td>-5623.423</td>\n",
       "      <td>33</td>\n",
       "      <td>Secondary Education</td>\n",
       "      <td>1</td>\n",
       "      <td>married</td>\n",
       "      <td>0</td>\n",
       "      <td>M</td>\n",
       "      <td>employee</td>\n",
       "      <td>0</td>\n",
       "      <td>23341.752</td>\n",
       "      <td>purchase of the house</td>\n",
       "    </tr>\n",
       "    <tr>\n",
       "      <th>3</th>\n",
       "      <td>3</td>\n",
       "      <td>-4124.747</td>\n",
       "      <td>32</td>\n",
       "      <td>secondary education</td>\n",
       "      <td>1</td>\n",
       "      <td>married</td>\n",
       "      <td>0</td>\n",
       "      <td>M</td>\n",
       "      <td>employee</td>\n",
       "      <td>0</td>\n",
       "      <td>42820.568</td>\n",
       "      <td>supplementary education</td>\n",
       "    </tr>\n",
       "    <tr>\n",
       "      <th>4</th>\n",
       "      <td>0</td>\n",
       "      <td>340266.072</td>\n",
       "      <td>53</td>\n",
       "      <td>secondary education</td>\n",
       "      <td>1</td>\n",
       "      <td>civil partnership</td>\n",
       "      <td>1</td>\n",
       "      <td>F</td>\n",
       "      <td>retiree</td>\n",
       "      <td>0</td>\n",
       "      <td>25378.572</td>\n",
       "      <td>to have a wedding</td>\n",
       "    </tr>\n",
       "    <tr>\n",
       "      <th>5</th>\n",
       "      <td>0</td>\n",
       "      <td>-926.186</td>\n",
       "      <td>27</td>\n",
       "      <td>bachelor's degree</td>\n",
       "      <td>0</td>\n",
       "      <td>civil partnership</td>\n",
       "      <td>1</td>\n",
       "      <td>M</td>\n",
       "      <td>business</td>\n",
       "      <td>0</td>\n",
       "      <td>40922.170</td>\n",
       "      <td>purchase of the house</td>\n",
       "    </tr>\n",
       "    <tr>\n",
       "      <th>6</th>\n",
       "      <td>0</td>\n",
       "      <td>-2879.202</td>\n",
       "      <td>43</td>\n",
       "      <td>bachelor's degree</td>\n",
       "      <td>0</td>\n",
       "      <td>married</td>\n",
       "      <td>0</td>\n",
       "      <td>F</td>\n",
       "      <td>business</td>\n",
       "      <td>0</td>\n",
       "      <td>38484.156</td>\n",
       "      <td>housing transactions</td>\n",
       "    </tr>\n",
       "    <tr>\n",
       "      <th>7</th>\n",
       "      <td>0</td>\n",
       "      <td>-152.780</td>\n",
       "      <td>50</td>\n",
       "      <td>SECONDARY EDUCATION</td>\n",
       "      <td>1</td>\n",
       "      <td>married</td>\n",
       "      <td>0</td>\n",
       "      <td>M</td>\n",
       "      <td>employee</td>\n",
       "      <td>0</td>\n",
       "      <td>21731.829</td>\n",
       "      <td>education</td>\n",
       "    </tr>\n",
       "    <tr>\n",
       "      <th>8</th>\n",
       "      <td>2</td>\n",
       "      <td>-6929.865</td>\n",
       "      <td>35</td>\n",
       "      <td>BACHELOR'S DEGREE</td>\n",
       "      <td>0</td>\n",
       "      <td>civil partnership</td>\n",
       "      <td>1</td>\n",
       "      <td>F</td>\n",
       "      <td>employee</td>\n",
       "      <td>0</td>\n",
       "      <td>15337.093</td>\n",
       "      <td>having a wedding</td>\n",
       "    </tr>\n",
       "    <tr>\n",
       "      <th>9</th>\n",
       "      <td>0</td>\n",
       "      <td>-2188.756</td>\n",
       "      <td>41</td>\n",
       "      <td>secondary education</td>\n",
       "      <td>1</td>\n",
       "      <td>married</td>\n",
       "      <td>0</td>\n",
       "      <td>M</td>\n",
       "      <td>employee</td>\n",
       "      <td>0</td>\n",
       "      <td>23108.150</td>\n",
       "      <td>purchase of the house for my family</td>\n",
       "    </tr>\n",
       "    <tr>\n",
       "      <th>10</th>\n",
       "      <td>2</td>\n",
       "      <td>-4171.484</td>\n",
       "      <td>36</td>\n",
       "      <td>bachelor's degree</td>\n",
       "      <td>0</td>\n",
       "      <td>married</td>\n",
       "      <td>0</td>\n",
       "      <td>M</td>\n",
       "      <td>business</td>\n",
       "      <td>0</td>\n",
       "      <td>18230.959</td>\n",
       "      <td>buy real estate</td>\n",
       "    </tr>\n",
       "    <tr>\n",
       "      <th>11</th>\n",
       "      <td>0</td>\n",
       "      <td>-792.702</td>\n",
       "      <td>40</td>\n",
       "      <td>secondary education</td>\n",
       "      <td>1</td>\n",
       "      <td>married</td>\n",
       "      <td>0</td>\n",
       "      <td>F</td>\n",
       "      <td>employee</td>\n",
       "      <td>0</td>\n",
       "      <td>12331.077</td>\n",
       "      <td>buy commercial real estate</td>\n",
       "    </tr>\n",
       "    <tr>\n",
       "      <th>12</th>\n",
       "      <td>0</td>\n",
       "      <td>NaN</td>\n",
       "      <td>65</td>\n",
       "      <td>secondary education</td>\n",
       "      <td>1</td>\n",
       "      <td>civil partnership</td>\n",
       "      <td>1</td>\n",
       "      <td>M</td>\n",
       "      <td>retiree</td>\n",
       "      <td>0</td>\n",
       "      <td>NaN</td>\n",
       "      <td>to have a wedding</td>\n",
       "    </tr>\n",
       "    <tr>\n",
       "      <th>13</th>\n",
       "      <td>0</td>\n",
       "      <td>-1846.642</td>\n",
       "      <td>54</td>\n",
       "      <td>some college</td>\n",
       "      <td>2</td>\n",
       "      <td>married</td>\n",
       "      <td>0</td>\n",
       "      <td>F</td>\n",
       "      <td>employee</td>\n",
       "      <td>0</td>\n",
       "      <td>20873.317</td>\n",
       "      <td>car purchase</td>\n",
       "    </tr>\n",
       "    <tr>\n",
       "      <th>14</th>\n",
       "      <td>0</td>\n",
       "      <td>-1844.956</td>\n",
       "      <td>56</td>\n",
       "      <td>bachelor's degree</td>\n",
       "      <td>0</td>\n",
       "      <td>civil partnership</td>\n",
       "      <td>1</td>\n",
       "      <td>F</td>\n",
       "      <td>business</td>\n",
       "      <td>1</td>\n",
       "      <td>26420.466</td>\n",
       "      <td>buy residential real estate</td>\n",
       "    </tr>\n",
       "  </tbody>\n",
       "</table>\n",
       "</div>"
      ],
      "text/plain": [
       "    children  days_employed  dob_years            education  education_id  \\\n",
       "0          1      -8437.673         42    bachelor's degree             0   \n",
       "1          1      -4024.804         36  secondary education             1   \n",
       "2          0      -5623.423         33  Secondary Education             1   \n",
       "3          3      -4124.747         32  secondary education             1   \n",
       "4          0     340266.072         53  secondary education             1   \n",
       "5          0       -926.186         27    bachelor's degree             0   \n",
       "6          0      -2879.202         43    bachelor's degree             0   \n",
       "7          0       -152.780         50  SECONDARY EDUCATION             1   \n",
       "8          2      -6929.865         35    BACHELOR'S DEGREE             0   \n",
       "9          0      -2188.756         41  secondary education             1   \n",
       "10         2      -4171.484         36    bachelor's degree             0   \n",
       "11         0       -792.702         40  secondary education             1   \n",
       "12         0            NaN         65  secondary education             1   \n",
       "13         0      -1846.642         54         some college             2   \n",
       "14         0      -1844.956         56    bachelor's degree             0   \n",
       "\n",
       "        family_status  family_status_id gender income_type  debt  \\\n",
       "0             married                 0      F    employee     0   \n",
       "1             married                 0      F    employee     0   \n",
       "2             married                 0      M    employee     0   \n",
       "3             married                 0      M    employee     0   \n",
       "4   civil partnership                 1      F     retiree     0   \n",
       "5   civil partnership                 1      M    business     0   \n",
       "6             married                 0      F    business     0   \n",
       "7             married                 0      M    employee     0   \n",
       "8   civil partnership                 1      F    employee     0   \n",
       "9             married                 0      M    employee     0   \n",
       "10            married                 0      M    business     0   \n",
       "11            married                 0      F    employee     0   \n",
       "12  civil partnership                 1      M     retiree     0   \n",
       "13            married                 0      F    employee     0   \n",
       "14  civil partnership                 1      F    business     1   \n",
       "\n",
       "    total_income                              purpose  \n",
       "0      40620.102                purchase of the house  \n",
       "1      17932.802                         car purchase  \n",
       "2      23341.752                purchase of the house  \n",
       "3      42820.568              supplementary education  \n",
       "4      25378.572                    to have a wedding  \n",
       "5      40922.170                purchase of the house  \n",
       "6      38484.156                 housing transactions  \n",
       "7      21731.829                            education  \n",
       "8      15337.093                     having a wedding  \n",
       "9      23108.150  purchase of the house for my family  \n",
       "10     18230.959                      buy real estate  \n",
       "11     12331.077           buy commercial real estate  \n",
       "12           NaN                    to have a wedding  \n",
       "13     20873.317                         car purchase  \n",
       "14     26420.466          buy residential real estate  "
      ]
     },
     "execution_count": 108,
     "metadata": {},
     "output_type": "execute_result"
    }
   ],
   "source": [
    "# let's print the first N rows\n",
    "data.head(15)"
   ]
  },
  {
   "cell_type": "code",
   "execution_count": 109,
   "metadata": {
    "scrolled": true
   },
   "outputs": [
    {
     "data": {
      "text/html": [
       "<div>\n",
       "<style scoped>\n",
       "    .dataframe tbody tr th:only-of-type {\n",
       "        vertical-align: middle;\n",
       "    }\n",
       "\n",
       "    .dataframe tbody tr th {\n",
       "        vertical-align: top;\n",
       "    }\n",
       "\n",
       "    .dataframe thead th {\n",
       "        text-align: right;\n",
       "    }\n",
       "</style>\n",
       "<table border=\"1\" class=\"dataframe\">\n",
       "  <thead>\n",
       "    <tr style=\"text-align: right;\">\n",
       "      <th></th>\n",
       "      <th>children</th>\n",
       "      <th>days_employed</th>\n",
       "      <th>dob_years</th>\n",
       "      <th>education</th>\n",
       "      <th>education_id</th>\n",
       "      <th>family_status</th>\n",
       "      <th>family_status_id</th>\n",
       "      <th>gender</th>\n",
       "      <th>income_type</th>\n",
       "      <th>debt</th>\n",
       "      <th>total_income</th>\n",
       "      <th>purpose</th>\n",
       "    </tr>\n",
       "  </thead>\n",
       "  <tbody>\n",
       "    <tr>\n",
       "      <th>count</th>\n",
       "      <td>21525.000</td>\n",
       "      <td>19351.000</td>\n",
       "      <td>21525.000</td>\n",
       "      <td>21525</td>\n",
       "      <td>21525.000</td>\n",
       "      <td>21525</td>\n",
       "      <td>21525.000</td>\n",
       "      <td>21525</td>\n",
       "      <td>21525</td>\n",
       "      <td>21525.000</td>\n",
       "      <td>19351.000</td>\n",
       "      <td>21525</td>\n",
       "    </tr>\n",
       "    <tr>\n",
       "      <th>unique</th>\n",
       "      <td>NaN</td>\n",
       "      <td>NaN</td>\n",
       "      <td>NaN</td>\n",
       "      <td>15</td>\n",
       "      <td>NaN</td>\n",
       "      <td>5</td>\n",
       "      <td>NaN</td>\n",
       "      <td>3</td>\n",
       "      <td>8</td>\n",
       "      <td>NaN</td>\n",
       "      <td>NaN</td>\n",
       "      <td>38</td>\n",
       "    </tr>\n",
       "    <tr>\n",
       "      <th>top</th>\n",
       "      <td>NaN</td>\n",
       "      <td>NaN</td>\n",
       "      <td>NaN</td>\n",
       "      <td>secondary education</td>\n",
       "      <td>NaN</td>\n",
       "      <td>married</td>\n",
       "      <td>NaN</td>\n",
       "      <td>F</td>\n",
       "      <td>employee</td>\n",
       "      <td>NaN</td>\n",
       "      <td>NaN</td>\n",
       "      <td>wedding ceremony</td>\n",
       "    </tr>\n",
       "    <tr>\n",
       "      <th>freq</th>\n",
       "      <td>NaN</td>\n",
       "      <td>NaN</td>\n",
       "      <td>NaN</td>\n",
       "      <td>13750</td>\n",
       "      <td>NaN</td>\n",
       "      <td>12380</td>\n",
       "      <td>NaN</td>\n",
       "      <td>14236</td>\n",
       "      <td>11119</td>\n",
       "      <td>NaN</td>\n",
       "      <td>NaN</td>\n",
       "      <td>797</td>\n",
       "    </tr>\n",
       "    <tr>\n",
       "      <th>mean</th>\n",
       "      <td>0.539</td>\n",
       "      <td>63046.498</td>\n",
       "      <td>43.293</td>\n",
       "      <td>NaN</td>\n",
       "      <td>0.817</td>\n",
       "      <td>NaN</td>\n",
       "      <td>0.973</td>\n",
       "      <td>NaN</td>\n",
       "      <td>NaN</td>\n",
       "      <td>0.081</td>\n",
       "      <td>26787.568</td>\n",
       "      <td>NaN</td>\n",
       "    </tr>\n",
       "    <tr>\n",
       "      <th>std</th>\n",
       "      <td>1.382</td>\n",
       "      <td>140827.312</td>\n",
       "      <td>12.575</td>\n",
       "      <td>NaN</td>\n",
       "      <td>0.548</td>\n",
       "      <td>NaN</td>\n",
       "      <td>1.420</td>\n",
       "      <td>NaN</td>\n",
       "      <td>NaN</td>\n",
       "      <td>0.273</td>\n",
       "      <td>16475.451</td>\n",
       "      <td>NaN</td>\n",
       "    </tr>\n",
       "    <tr>\n",
       "      <th>min</th>\n",
       "      <td>-1.000</td>\n",
       "      <td>-18388.950</td>\n",
       "      <td>0.000</td>\n",
       "      <td>NaN</td>\n",
       "      <td>0.000</td>\n",
       "      <td>NaN</td>\n",
       "      <td>0.000</td>\n",
       "      <td>NaN</td>\n",
       "      <td>NaN</td>\n",
       "      <td>0.000</td>\n",
       "      <td>3306.762</td>\n",
       "      <td>NaN</td>\n",
       "    </tr>\n",
       "    <tr>\n",
       "      <th>25%</th>\n",
       "      <td>0.000</td>\n",
       "      <td>-2747.424</td>\n",
       "      <td>33.000</td>\n",
       "      <td>NaN</td>\n",
       "      <td>1.000</td>\n",
       "      <td>NaN</td>\n",
       "      <td>0.000</td>\n",
       "      <td>NaN</td>\n",
       "      <td>NaN</td>\n",
       "      <td>0.000</td>\n",
       "      <td>16488.505</td>\n",
       "      <td>NaN</td>\n",
       "    </tr>\n",
       "    <tr>\n",
       "      <th>50%</th>\n",
       "      <td>0.000</td>\n",
       "      <td>-1203.370</td>\n",
       "      <td>42.000</td>\n",
       "      <td>NaN</td>\n",
       "      <td>1.000</td>\n",
       "      <td>NaN</td>\n",
       "      <td>0.000</td>\n",
       "      <td>NaN</td>\n",
       "      <td>NaN</td>\n",
       "      <td>0.000</td>\n",
       "      <td>23202.870</td>\n",
       "      <td>NaN</td>\n",
       "    </tr>\n",
       "    <tr>\n",
       "      <th>75%</th>\n",
       "      <td>1.000</td>\n",
       "      <td>-291.096</td>\n",
       "      <td>53.000</td>\n",
       "      <td>NaN</td>\n",
       "      <td>1.000</td>\n",
       "      <td>NaN</td>\n",
       "      <td>1.000</td>\n",
       "      <td>NaN</td>\n",
       "      <td>NaN</td>\n",
       "      <td>0.000</td>\n",
       "      <td>32549.611</td>\n",
       "      <td>NaN</td>\n",
       "    </tr>\n",
       "    <tr>\n",
       "      <th>max</th>\n",
       "      <td>20.000</td>\n",
       "      <td>401755.400</td>\n",
       "      <td>75.000</td>\n",
       "      <td>NaN</td>\n",
       "      <td>4.000</td>\n",
       "      <td>NaN</td>\n",
       "      <td>4.000</td>\n",
       "      <td>NaN</td>\n",
       "      <td>NaN</td>\n",
       "      <td>1.000</td>\n",
       "      <td>362496.645</td>\n",
       "      <td>NaN</td>\n",
       "    </tr>\n",
       "  </tbody>\n",
       "</table>\n",
       "</div>"
      ],
      "text/plain": [
       "        children  days_employed  dob_years            education  education_id  \\\n",
       "count  21525.000      19351.000  21525.000                21525     21525.000   \n",
       "unique       NaN            NaN        NaN                   15           NaN   \n",
       "top          NaN            NaN        NaN  secondary education           NaN   \n",
       "freq         NaN            NaN        NaN                13750           NaN   \n",
       "mean       0.539      63046.498     43.293                  NaN         0.817   \n",
       "std        1.382     140827.312     12.575                  NaN         0.548   \n",
       "min       -1.000     -18388.950      0.000                  NaN         0.000   \n",
       "25%        0.000      -2747.424     33.000                  NaN         1.000   \n",
       "50%        0.000      -1203.370     42.000                  NaN         1.000   \n",
       "75%        1.000       -291.096     53.000                  NaN         1.000   \n",
       "max       20.000     401755.400     75.000                  NaN         4.000   \n",
       "\n",
       "       family_status  family_status_id gender income_type      debt  \\\n",
       "count          21525         21525.000  21525       21525 21525.000   \n",
       "unique             5               NaN      3           8       NaN   \n",
       "top          married               NaN      F    employee       NaN   \n",
       "freq           12380               NaN  14236       11119       NaN   \n",
       "mean             NaN             0.973    NaN         NaN     0.081   \n",
       "std              NaN             1.420    NaN         NaN     0.273   \n",
       "min              NaN             0.000    NaN         NaN     0.000   \n",
       "25%              NaN             0.000    NaN         NaN     0.000   \n",
       "50%              NaN             0.000    NaN         NaN     0.000   \n",
       "75%              NaN             1.000    NaN         NaN     0.000   \n",
       "max              NaN             4.000    NaN         NaN     1.000   \n",
       "\n",
       "        total_income           purpose  \n",
       "count      19351.000             21525  \n",
       "unique           NaN                38  \n",
       "top              NaN  wedding ceremony  \n",
       "freq             NaN               797  \n",
       "mean       26787.568               NaN  \n",
       "std        16475.451               NaN  \n",
       "min         3306.762               NaN  \n",
       "25%        16488.505               NaN  \n",
       "50%        23202.870               NaN  \n",
       "75%        32549.611               NaN  \n",
       "max       362496.645               NaN  "
      ]
     },
     "execution_count": 109,
     "metadata": {},
     "output_type": "execute_result"
    }
   ],
   "source": [
    "data.describe(include='all')"
   ]
  },
  {
   "cell_type": "markdown",
   "metadata": {},
   "source": [
    "We can see that the columns names defined correctly.\n",
    "While checking the data sample we can learn a few things:\n",
    "1. The column days_employed has negative values and missing values, we need to check why.\n",
    "2. The column education has inconsistent values, there are lower and upper case letters.\n",
    "3. The column children min is negative and the max might be an outlier.\n",
    "4. The column total_income has some missing values."
   ]
  },
  {
   "cell_type": "markdown",
   "metadata": {},
   "source": [
    "<div class=\"alert alert-success\" style=\"border-radius: 15px; box-shadow: 4px 4px 4px; border: 1px solid \">\n",
    "<b> Reviewer's comment</b>\n",
    "    \n",
    "\n",
    "Good observation. </div>"
   ]
  },
  {
   "cell_type": "code",
   "execution_count": 110,
   "metadata": {
    "scrolled": true
   },
   "outputs": [
    {
     "data": {
      "text/plain": [
       "children               0\n",
       "days_employed       2174\n",
       "dob_years              0\n",
       "education              0\n",
       "education_id           0\n",
       "family_status          0\n",
       "family_status_id       0\n",
       "gender                 0\n",
       "income_type            0\n",
       "debt                   0\n",
       "total_income        2174\n",
       "purpose                0\n",
       "dtype: int64"
      ]
     },
     "execution_count": 110,
     "metadata": {},
     "output_type": "execute_result"
    }
   ],
   "source": [
    "# Get info on data\n",
    "data.isna().sum()"
   ]
  },
  {
   "cell_type": "code",
   "execution_count": 111,
   "metadata": {},
   "outputs": [
    {
     "data": {
      "text/plain": [
       "children           0.000\n",
       "days_employed      0.101\n",
       "dob_years          0.000\n",
       "education          0.000\n",
       "education_id       0.000\n",
       "family_status      0.000\n",
       "family_status_id   0.000\n",
       "gender             0.000\n",
       "income_type        0.000\n",
       "debt               0.000\n",
       "total_income       0.101\n",
       "purpose            0.000\n",
       "dtype: float64"
      ]
     },
     "execution_count": 111,
     "metadata": {},
     "output_type": "execute_result"
    }
   ],
   "source": [
    "data.isna().sum()/data.shape[0]"
   ]
  },
  {
   "cell_type": "markdown",
   "metadata": {},
   "source": [
    "As we can see, there are missing values in days_employed and total_income columns.\n",
    "The amount are the same, it will be intersting to check if it's on the same rows.\n",
    "Also, we can see the the percentage in low, so it might not be so intersting."
   ]
  },
  {
   "cell_type": "code",
   "execution_count": 112,
   "metadata": {},
   "outputs": [
    {
     "name": "stdout",
     "output_type": "stream",
     "text": [
      "days_employed\n",
      "total_income\n"
     ]
    }
   ],
   "source": [
    "for i in data:\n",
    "    if data[i].isna().sum()>0:\n",
    "        print(i)"
   ]
  },
  {
   "cell_type": "code",
   "execution_count": 113,
   "metadata": {
    "scrolled": false
   },
   "outputs": [
    {
     "data": {
      "text/html": [
       "<div>\n",
       "<style scoped>\n",
       "    .dataframe tbody tr th:only-of-type {\n",
       "        vertical-align: middle;\n",
       "    }\n",
       "\n",
       "    .dataframe tbody tr th {\n",
       "        vertical-align: top;\n",
       "    }\n",
       "\n",
       "    .dataframe thead th {\n",
       "        text-align: right;\n",
       "    }\n",
       "</style>\n",
       "<table border=\"1\" class=\"dataframe\">\n",
       "  <thead>\n",
       "    <tr style=\"text-align: right;\">\n",
       "      <th></th>\n",
       "      <th>children</th>\n",
       "      <th>days_employed</th>\n",
       "      <th>dob_years</th>\n",
       "      <th>education</th>\n",
       "      <th>education_id</th>\n",
       "      <th>family_status</th>\n",
       "      <th>family_status_id</th>\n",
       "      <th>gender</th>\n",
       "      <th>income_type</th>\n",
       "      <th>debt</th>\n",
       "      <th>total_income</th>\n",
       "      <th>purpose</th>\n",
       "    </tr>\n",
       "  </thead>\n",
       "  <tbody>\n",
       "    <tr>\n",
       "      <th>12</th>\n",
       "      <td>0</td>\n",
       "      <td>NaN</td>\n",
       "      <td>65</td>\n",
       "      <td>secondary education</td>\n",
       "      <td>1</td>\n",
       "      <td>civil partnership</td>\n",
       "      <td>1</td>\n",
       "      <td>M</td>\n",
       "      <td>retiree</td>\n",
       "      <td>0</td>\n",
       "      <td>NaN</td>\n",
       "      <td>to have a wedding</td>\n",
       "    </tr>\n",
       "    <tr>\n",
       "      <th>26</th>\n",
       "      <td>0</td>\n",
       "      <td>NaN</td>\n",
       "      <td>41</td>\n",
       "      <td>secondary education</td>\n",
       "      <td>1</td>\n",
       "      <td>married</td>\n",
       "      <td>0</td>\n",
       "      <td>M</td>\n",
       "      <td>civil servant</td>\n",
       "      <td>0</td>\n",
       "      <td>NaN</td>\n",
       "      <td>education</td>\n",
       "    </tr>\n",
       "    <tr>\n",
       "      <th>29</th>\n",
       "      <td>0</td>\n",
       "      <td>NaN</td>\n",
       "      <td>63</td>\n",
       "      <td>secondary education</td>\n",
       "      <td>1</td>\n",
       "      <td>unmarried</td>\n",
       "      <td>4</td>\n",
       "      <td>F</td>\n",
       "      <td>retiree</td>\n",
       "      <td>0</td>\n",
       "      <td>NaN</td>\n",
       "      <td>building a real estate</td>\n",
       "    </tr>\n",
       "    <tr>\n",
       "      <th>41</th>\n",
       "      <td>0</td>\n",
       "      <td>NaN</td>\n",
       "      <td>50</td>\n",
       "      <td>secondary education</td>\n",
       "      <td>1</td>\n",
       "      <td>married</td>\n",
       "      <td>0</td>\n",
       "      <td>F</td>\n",
       "      <td>civil servant</td>\n",
       "      <td>0</td>\n",
       "      <td>NaN</td>\n",
       "      <td>second-hand car purchase</td>\n",
       "    </tr>\n",
       "    <tr>\n",
       "      <th>55</th>\n",
       "      <td>0</td>\n",
       "      <td>NaN</td>\n",
       "      <td>54</td>\n",
       "      <td>secondary education</td>\n",
       "      <td>1</td>\n",
       "      <td>civil partnership</td>\n",
       "      <td>1</td>\n",
       "      <td>F</td>\n",
       "      <td>retiree</td>\n",
       "      <td>1</td>\n",
       "      <td>NaN</td>\n",
       "      <td>to have a wedding</td>\n",
       "    </tr>\n",
       "    <tr>\n",
       "      <th>...</th>\n",
       "      <td>...</td>\n",
       "      <td>...</td>\n",
       "      <td>...</td>\n",
       "      <td>...</td>\n",
       "      <td>...</td>\n",
       "      <td>...</td>\n",
       "      <td>...</td>\n",
       "      <td>...</td>\n",
       "      <td>...</td>\n",
       "      <td>...</td>\n",
       "      <td>...</td>\n",
       "      <td>...</td>\n",
       "    </tr>\n",
       "    <tr>\n",
       "      <th>21489</th>\n",
       "      <td>2</td>\n",
       "      <td>NaN</td>\n",
       "      <td>47</td>\n",
       "      <td>Secondary Education</td>\n",
       "      <td>1</td>\n",
       "      <td>married</td>\n",
       "      <td>0</td>\n",
       "      <td>M</td>\n",
       "      <td>business</td>\n",
       "      <td>0</td>\n",
       "      <td>NaN</td>\n",
       "      <td>purchase of a car</td>\n",
       "    </tr>\n",
       "    <tr>\n",
       "      <th>21495</th>\n",
       "      <td>1</td>\n",
       "      <td>NaN</td>\n",
       "      <td>50</td>\n",
       "      <td>secondary education</td>\n",
       "      <td>1</td>\n",
       "      <td>civil partnership</td>\n",
       "      <td>1</td>\n",
       "      <td>F</td>\n",
       "      <td>employee</td>\n",
       "      <td>0</td>\n",
       "      <td>NaN</td>\n",
       "      <td>wedding ceremony</td>\n",
       "    </tr>\n",
       "    <tr>\n",
       "      <th>21497</th>\n",
       "      <td>0</td>\n",
       "      <td>NaN</td>\n",
       "      <td>48</td>\n",
       "      <td>BACHELOR'S DEGREE</td>\n",
       "      <td>0</td>\n",
       "      <td>married</td>\n",
       "      <td>0</td>\n",
       "      <td>F</td>\n",
       "      <td>business</td>\n",
       "      <td>0</td>\n",
       "      <td>NaN</td>\n",
       "      <td>building a property</td>\n",
       "    </tr>\n",
       "    <tr>\n",
       "      <th>21502</th>\n",
       "      <td>1</td>\n",
       "      <td>NaN</td>\n",
       "      <td>42</td>\n",
       "      <td>secondary education</td>\n",
       "      <td>1</td>\n",
       "      <td>married</td>\n",
       "      <td>0</td>\n",
       "      <td>F</td>\n",
       "      <td>employee</td>\n",
       "      <td>0</td>\n",
       "      <td>NaN</td>\n",
       "      <td>building a real estate</td>\n",
       "    </tr>\n",
       "    <tr>\n",
       "      <th>21510</th>\n",
       "      <td>2</td>\n",
       "      <td>NaN</td>\n",
       "      <td>28</td>\n",
       "      <td>secondary education</td>\n",
       "      <td>1</td>\n",
       "      <td>married</td>\n",
       "      <td>0</td>\n",
       "      <td>F</td>\n",
       "      <td>employee</td>\n",
       "      <td>0</td>\n",
       "      <td>NaN</td>\n",
       "      <td>car purchase</td>\n",
       "    </tr>\n",
       "  </tbody>\n",
       "</table>\n",
       "<p>2174 rows × 12 columns</p>\n",
       "</div>"
      ],
      "text/plain": [
       "       children  days_employed  dob_years            education  education_id  \\\n",
       "12            0            NaN         65  secondary education             1   \n",
       "26            0            NaN         41  secondary education             1   \n",
       "29            0            NaN         63  secondary education             1   \n",
       "41            0            NaN         50  secondary education             1   \n",
       "55            0            NaN         54  secondary education             1   \n",
       "...         ...            ...        ...                  ...           ...   \n",
       "21489         2            NaN         47  Secondary Education             1   \n",
       "21495         1            NaN         50  secondary education             1   \n",
       "21497         0            NaN         48    BACHELOR'S DEGREE             0   \n",
       "21502         1            NaN         42  secondary education             1   \n",
       "21510         2            NaN         28  secondary education             1   \n",
       "\n",
       "           family_status  family_status_id gender    income_type  debt  \\\n",
       "12     civil partnership                 1      M        retiree     0   \n",
       "26               married                 0      M  civil servant     0   \n",
       "29             unmarried                 4      F        retiree     0   \n",
       "41               married                 0      F  civil servant     0   \n",
       "55     civil partnership                 1      F        retiree     1   \n",
       "...                  ...               ...    ...            ...   ...   \n",
       "21489            married                 0      M       business     0   \n",
       "21495  civil partnership                 1      F       employee     0   \n",
       "21497            married                 0      F       business     0   \n",
       "21502            married                 0      F       employee     0   \n",
       "21510            married                 0      F       employee     0   \n",
       "\n",
       "       total_income                   purpose  \n",
       "12              NaN         to have a wedding  \n",
       "26              NaN                 education  \n",
       "29              NaN    building a real estate  \n",
       "41              NaN  second-hand car purchase  \n",
       "55              NaN         to have a wedding  \n",
       "...             ...                       ...  \n",
       "21489           NaN         purchase of a car  \n",
       "21495           NaN          wedding ceremony  \n",
       "21497           NaN       building a property  \n",
       "21502           NaN    building a real estate  \n",
       "21510           NaN              car purchase  \n",
       "\n",
       "[2174 rows x 12 columns]"
      ]
     },
     "execution_count": 113,
     "metadata": {},
     "output_type": "execute_result"
    }
   ],
   "source": [
    "# Let's look in the filtered table at the the first column with missing data\n",
    "data[data.days_employed.isna()]"
   ]
  },
  {
   "cell_type": "code",
   "execution_count": 114,
   "metadata": {
    "scrolled": true
   },
   "outputs": [
    {
     "data": {
      "text/html": [
       "<div>\n",
       "<style scoped>\n",
       "    .dataframe tbody tr th:only-of-type {\n",
       "        vertical-align: middle;\n",
       "    }\n",
       "\n",
       "    .dataframe tbody tr th {\n",
       "        vertical-align: top;\n",
       "    }\n",
       "\n",
       "    .dataframe thead th {\n",
       "        text-align: right;\n",
       "    }\n",
       "</style>\n",
       "<table border=\"1\" class=\"dataframe\">\n",
       "  <thead>\n",
       "    <tr style=\"text-align: right;\">\n",
       "      <th></th>\n",
       "      <th>children</th>\n",
       "      <th>days_employed</th>\n",
       "      <th>dob_years</th>\n",
       "      <th>education</th>\n",
       "      <th>education_id</th>\n",
       "      <th>family_status</th>\n",
       "      <th>family_status_id</th>\n",
       "      <th>gender</th>\n",
       "      <th>income_type</th>\n",
       "      <th>debt</th>\n",
       "      <th>total_income</th>\n",
       "      <th>purpose</th>\n",
       "    </tr>\n",
       "  </thead>\n",
       "  <tbody>\n",
       "    <tr>\n",
       "      <th>12</th>\n",
       "      <td>0</td>\n",
       "      <td>NaN</td>\n",
       "      <td>65</td>\n",
       "      <td>secondary education</td>\n",
       "      <td>1</td>\n",
       "      <td>civil partnership</td>\n",
       "      <td>1</td>\n",
       "      <td>M</td>\n",
       "      <td>retiree</td>\n",
       "      <td>0</td>\n",
       "      <td>NaN</td>\n",
       "      <td>to have a wedding</td>\n",
       "    </tr>\n",
       "    <tr>\n",
       "      <th>26</th>\n",
       "      <td>0</td>\n",
       "      <td>NaN</td>\n",
       "      <td>41</td>\n",
       "      <td>secondary education</td>\n",
       "      <td>1</td>\n",
       "      <td>married</td>\n",
       "      <td>0</td>\n",
       "      <td>M</td>\n",
       "      <td>civil servant</td>\n",
       "      <td>0</td>\n",
       "      <td>NaN</td>\n",
       "      <td>education</td>\n",
       "    </tr>\n",
       "    <tr>\n",
       "      <th>29</th>\n",
       "      <td>0</td>\n",
       "      <td>NaN</td>\n",
       "      <td>63</td>\n",
       "      <td>secondary education</td>\n",
       "      <td>1</td>\n",
       "      <td>unmarried</td>\n",
       "      <td>4</td>\n",
       "      <td>F</td>\n",
       "      <td>retiree</td>\n",
       "      <td>0</td>\n",
       "      <td>NaN</td>\n",
       "      <td>building a real estate</td>\n",
       "    </tr>\n",
       "    <tr>\n",
       "      <th>41</th>\n",
       "      <td>0</td>\n",
       "      <td>NaN</td>\n",
       "      <td>50</td>\n",
       "      <td>secondary education</td>\n",
       "      <td>1</td>\n",
       "      <td>married</td>\n",
       "      <td>0</td>\n",
       "      <td>F</td>\n",
       "      <td>civil servant</td>\n",
       "      <td>0</td>\n",
       "      <td>NaN</td>\n",
       "      <td>second-hand car purchase</td>\n",
       "    </tr>\n",
       "    <tr>\n",
       "      <th>55</th>\n",
       "      <td>0</td>\n",
       "      <td>NaN</td>\n",
       "      <td>54</td>\n",
       "      <td>secondary education</td>\n",
       "      <td>1</td>\n",
       "      <td>civil partnership</td>\n",
       "      <td>1</td>\n",
       "      <td>F</td>\n",
       "      <td>retiree</td>\n",
       "      <td>1</td>\n",
       "      <td>NaN</td>\n",
       "      <td>to have a wedding</td>\n",
       "    </tr>\n",
       "    <tr>\n",
       "      <th>...</th>\n",
       "      <td>...</td>\n",
       "      <td>...</td>\n",
       "      <td>...</td>\n",
       "      <td>...</td>\n",
       "      <td>...</td>\n",
       "      <td>...</td>\n",
       "      <td>...</td>\n",
       "      <td>...</td>\n",
       "      <td>...</td>\n",
       "      <td>...</td>\n",
       "      <td>...</td>\n",
       "      <td>...</td>\n",
       "    </tr>\n",
       "    <tr>\n",
       "      <th>21489</th>\n",
       "      <td>2</td>\n",
       "      <td>NaN</td>\n",
       "      <td>47</td>\n",
       "      <td>Secondary Education</td>\n",
       "      <td>1</td>\n",
       "      <td>married</td>\n",
       "      <td>0</td>\n",
       "      <td>M</td>\n",
       "      <td>business</td>\n",
       "      <td>0</td>\n",
       "      <td>NaN</td>\n",
       "      <td>purchase of a car</td>\n",
       "    </tr>\n",
       "    <tr>\n",
       "      <th>21495</th>\n",
       "      <td>1</td>\n",
       "      <td>NaN</td>\n",
       "      <td>50</td>\n",
       "      <td>secondary education</td>\n",
       "      <td>1</td>\n",
       "      <td>civil partnership</td>\n",
       "      <td>1</td>\n",
       "      <td>F</td>\n",
       "      <td>employee</td>\n",
       "      <td>0</td>\n",
       "      <td>NaN</td>\n",
       "      <td>wedding ceremony</td>\n",
       "    </tr>\n",
       "    <tr>\n",
       "      <th>21497</th>\n",
       "      <td>0</td>\n",
       "      <td>NaN</td>\n",
       "      <td>48</td>\n",
       "      <td>BACHELOR'S DEGREE</td>\n",
       "      <td>0</td>\n",
       "      <td>married</td>\n",
       "      <td>0</td>\n",
       "      <td>F</td>\n",
       "      <td>business</td>\n",
       "      <td>0</td>\n",
       "      <td>NaN</td>\n",
       "      <td>building a property</td>\n",
       "    </tr>\n",
       "    <tr>\n",
       "      <th>21502</th>\n",
       "      <td>1</td>\n",
       "      <td>NaN</td>\n",
       "      <td>42</td>\n",
       "      <td>secondary education</td>\n",
       "      <td>1</td>\n",
       "      <td>married</td>\n",
       "      <td>0</td>\n",
       "      <td>F</td>\n",
       "      <td>employee</td>\n",
       "      <td>0</td>\n",
       "      <td>NaN</td>\n",
       "      <td>building a real estate</td>\n",
       "    </tr>\n",
       "    <tr>\n",
       "      <th>21510</th>\n",
       "      <td>2</td>\n",
       "      <td>NaN</td>\n",
       "      <td>28</td>\n",
       "      <td>secondary education</td>\n",
       "      <td>1</td>\n",
       "      <td>married</td>\n",
       "      <td>0</td>\n",
       "      <td>F</td>\n",
       "      <td>employee</td>\n",
       "      <td>0</td>\n",
       "      <td>NaN</td>\n",
       "      <td>car purchase</td>\n",
       "    </tr>\n",
       "  </tbody>\n",
       "</table>\n",
       "<p>2174 rows × 12 columns</p>\n",
       "</div>"
      ],
      "text/plain": [
       "       children  days_employed  dob_years            education  education_id  \\\n",
       "12            0            NaN         65  secondary education             1   \n",
       "26            0            NaN         41  secondary education             1   \n",
       "29            0            NaN         63  secondary education             1   \n",
       "41            0            NaN         50  secondary education             1   \n",
       "55            0            NaN         54  secondary education             1   \n",
       "...         ...            ...        ...                  ...           ...   \n",
       "21489         2            NaN         47  Secondary Education             1   \n",
       "21495         1            NaN         50  secondary education             1   \n",
       "21497         0            NaN         48    BACHELOR'S DEGREE             0   \n",
       "21502         1            NaN         42  secondary education             1   \n",
       "21510         2            NaN         28  secondary education             1   \n",
       "\n",
       "           family_status  family_status_id gender    income_type  debt  \\\n",
       "12     civil partnership                 1      M        retiree     0   \n",
       "26               married                 0      M  civil servant     0   \n",
       "29             unmarried                 4      F        retiree     0   \n",
       "41               married                 0      F  civil servant     0   \n",
       "55     civil partnership                 1      F        retiree     1   \n",
       "...                  ...               ...    ...            ...   ...   \n",
       "21489            married                 0      M       business     0   \n",
       "21495  civil partnership                 1      F       employee     0   \n",
       "21497            married                 0      F       business     0   \n",
       "21502            married                 0      F       employee     0   \n",
       "21510            married                 0      F       employee     0   \n",
       "\n",
       "       total_income                   purpose  \n",
       "12              NaN         to have a wedding  \n",
       "26              NaN                 education  \n",
       "29              NaN    building a real estate  \n",
       "41              NaN  second-hand car purchase  \n",
       "55              NaN         to have a wedding  \n",
       "...             ...                       ...  \n",
       "21489           NaN         purchase of a car  \n",
       "21495           NaN          wedding ceremony  \n",
       "21497           NaN       building a property  \n",
       "21502           NaN    building a real estate  \n",
       "21510           NaN              car purchase  \n",
       "\n",
       "[2174 rows x 12 columns]"
      ]
     },
     "execution_count": 114,
     "metadata": {},
     "output_type": "execute_result"
    }
   ],
   "source": [
    "# Let's apply multiple conditions for filtering data and look at the number of rows in the filtered table.\n",
    "data[(data.days_employed.isna())&(data.total_income.isna())]"
   ]
  },
  {
   "cell_type": "markdown",
   "metadata": {},
   "source": [
    "As we can see the total amount of missing values in both colums is 2174. The missing values seem to be symmetric."
   ]
  },
  {
   "cell_type": "markdown",
   "metadata": {},
   "source": [
    "**Intermediate conclusion**\n",
    "\n",
    "The number of rows in the filtered table are the same as the number of missing values.\n",
    "As conclusion we can assume that maybe these people aren't working (no days_employed and no total_income), but it could also be a mistake.\n",
    "We can see that the percentage of the missing values are very small and the days_employed has messy values, we dont need this columns for our research so it's not necessary for now, I can make the values absolute.\n",
    "As for the total_income, the percentage is low 1% of the data. We can fill the mean or median  income for each income type to be on the safe side.\n",
    "\n",
    "Now, I would like to check if the missing data could be due to the specific client characteristic.\n",
    "I chose to check the income type column - maybe there is a correlation between the type and the total income.\n",
    "\n",
    "Let's check whether missing values are due to some column:"
   ]
  },
  {
   "cell_type": "code",
   "execution_count": 115,
   "metadata": {},
   "outputs": [
    {
     "data": {
      "text/plain": [
       "employee         1105\n",
       "business          508\n",
       "retiree           413\n",
       "civil servant     147\n",
       "entrepreneur        1\n",
       "Name: income_type, dtype: int64"
      ]
     },
     "execution_count": 115,
     "metadata": {},
     "output_type": "execute_result"
    }
   ],
   "source": [
    "# Let's investigate clients who do not have data on identified characteristic and the column with the missing values\n",
    "#data['income_type'].value_counts()\n",
    "data[data.total_income.isna()]['income_type'].value_counts() "
   ]
  },
  {
   "cell_type": "code",
   "execution_count": 116,
   "metadata": {},
   "outputs": [
    {
     "data": {
      "text/plain": [
       "employee        0.051\n",
       "business        0.024\n",
       "retiree         0.019\n",
       "civil servant   0.007\n",
       "entrepreneur    0.000\n",
       "Name: income_type, dtype: float64"
      ]
     },
     "execution_count": 116,
     "metadata": {},
     "output_type": "execute_result"
    }
   ],
   "source": [
    "data[data.total_income.isna()]['income_type'].value_counts()/len(data)"
   ]
  },
  {
   "cell_type": "markdown",
   "metadata": {},
   "source": [
    "<div class=\"alert alert-success\" style=\"border-radius: 15px; box-shadow: 4px 4px 4px; border: 1px solid \">\n",
    "<b> Reviewer's comment</b>\n",
    "    \n",
    "\n",
    "Great idea. You can also use `value_counts(normalize=True)`. Here is what I mean: </div>"
   ]
  },
  {
   "cell_type": "code",
   "execution_count": 117,
   "metadata": {},
   "outputs": [
    {
     "name": "stdout",
     "output_type": "stream",
     "text": [
      "Nan dataframe. Income type distribution:\n"
     ]
    },
    {
     "data": {
      "text/plain": [
       "employee         1105\n",
       "business          508\n",
       "retiree           413\n",
       "civil servant     147\n",
       "entrepreneur        1\n",
       "Name: income_type, dtype: int64"
      ]
     },
     "metadata": {},
     "output_type": "display_data"
    },
    {
     "name": "stdout",
     "output_type": "stream",
     "text": [
      "Not Nan dataframe. Income type distribution:\n"
     ]
    },
    {
     "data": {
      "text/plain": [
       "employee                       10014\n",
       "business                        4577\n",
       "retiree                         3443\n",
       "civil servant                   1312\n",
       "unemployed                         2\n",
       "student                            1\n",
       "entrepreneur                       1\n",
       "paternity / maternity leave        1\n",
       "Name: income_type, dtype: int64"
      ]
     },
     "metadata": {},
     "output_type": "display_data"
    }
   ],
   "source": [
    "# Reviewer's code\n",
    "\n",
    "print('Nan dataframe. Income type distribution:')\n",
    "display(data[data.total_income.isna()]['income_type'].value_counts())\n",
    "\n",
    "print('Not Nan dataframe. Income type distribution:')\n",
    "display(data[~data.total_income.isna()]['income_type'].value_counts())"
   ]
  },
  {
   "cell_type": "code",
   "execution_count": 118,
   "metadata": {},
   "outputs": [
    {
     "name": "stdout",
     "output_type": "stream",
     "text": [
      "Nan dataframe. Income type normalized distribution:\n"
     ]
    },
    {
     "data": {
      "text/plain": [
       "employee        0.508\n",
       "business        0.234\n",
       "retiree         0.190\n",
       "civil servant   0.068\n",
       "entrepreneur    0.000\n",
       "Name: income_type, dtype: float64"
      ]
     },
     "metadata": {},
     "output_type": "display_data"
    },
    {
     "name": "stdout",
     "output_type": "stream",
     "text": [
      "Not Nan dataframe. Income type normalized distribution:\n"
     ]
    },
    {
     "data": {
      "text/plain": [
       "employee                      0.517\n",
       "business                      0.237\n",
       "retiree                       0.178\n",
       "civil servant                 0.068\n",
       "unemployed                    0.000\n",
       "student                       0.000\n",
       "entrepreneur                  0.000\n",
       "paternity / maternity leave   0.000\n",
       "Name: income_type, dtype: float64"
      ]
     },
     "metadata": {},
     "output_type": "display_data"
    }
   ],
   "source": [
    "# Reviewer's code\n",
    "\n",
    "print('Nan dataframe. Income type normalized distribution:')\n",
    "display(data[data.total_income.isna()]['income_type'].value_counts(normalize=True))\n",
    "\n",
    "print('Not Nan dataframe. Income type normalized distribution:')\n",
    "display(data[~data.total_income.isna()]['income_type'].value_counts(normalize=True))"
   ]
  },
  {
   "cell_type": "markdown",
   "metadata": {},
   "source": [
    "<div class=\"alert alert-info\">\n",
    "<b> Student's comment</b>\n",
    "\n",
    "Nice I like the normalize, Thank you!\n",
    "</div>\n",
    "\n",
    "\n",
    "\n",
    "<font color='red'></font>    "
   ]
  },
  {
   "cell_type": "markdown",
   "metadata": {},
   "source": [
    "<div class=\"alert alert-success\" style=\"border-radius: 15px; box-shadow: 4px 4px 4px; border: 1px solid \">\n",
    "<h2> Reviewer's comment 2</h2>\n",
    "    \n",
    "\n",
    "Yes, it's a useful thing. \n",
    "</div>"
   ]
  },
  {
   "cell_type": "code",
   "execution_count": 119,
   "metadata": {},
   "outputs": [
    {
     "name": "stdout",
     "output_type": "stream",
     "text": [
      " 0     1439\n",
      " 1      475\n",
      " 2      204\n",
      " 3       36\n",
      " 20       9\n",
      " 4        7\n",
      "-1        3\n",
      " 5        1\n",
      "Name: children, dtype: int64\n",
      "-------------\n",
      "Series([], Name: days_employed, dtype: int64)\n",
      "-------------\n",
      "34    69\n",
      "40    66\n",
      "31    65\n",
      "42    65\n",
      "35    64\n",
      "36    63\n",
      "47    59\n",
      "41    59\n",
      "30    58\n",
      "28    57\n",
      "57    56\n",
      "58    56\n",
      "54    55\n",
      "38    54\n",
      "56    54\n",
      "37    53\n",
      "52    53\n",
      "39    51\n",
      "33    51\n",
      "50    51\n",
      "51    50\n",
      "45    50\n",
      "49    50\n",
      "29    50\n",
      "43    50\n",
      "46    48\n",
      "55    48\n",
      "48    46\n",
      "53    44\n",
      "44    44\n",
      "60    39\n",
      "61    38\n",
      "62    38\n",
      "64    37\n",
      "32    37\n",
      "27    36\n",
      "23    36\n",
      "26    35\n",
      "59    34\n",
      "63    29\n",
      "25    23\n",
      "24    21\n",
      "66    20\n",
      "65    20\n",
      "21    18\n",
      "22    17\n",
      "67    16\n",
      "0     10\n",
      "68     9\n",
      "69     5\n",
      "20     5\n",
      "71     5\n",
      "70     3\n",
      "72     2\n",
      "19     1\n",
      "73     1\n",
      "Name: dob_years, dtype: int64\n",
      "-------------\n",
      "secondary education    1408\n",
      "bachelor's degree       496\n",
      "SECONDARY EDUCATION      67\n",
      "Secondary Education      65\n",
      "some college             55\n",
      "Bachelor's Degree        25\n",
      "BACHELOR'S DEGREE        23\n",
      "primary education        19\n",
      "Some College              7\n",
      "SOME COLLEGE              7\n",
      "PRIMARY EDUCATION         1\n",
      "Primary Education         1\n",
      "Name: education, dtype: int64\n",
      "-------------\n",
      "1    1540\n",
      "0     544\n",
      "2      69\n",
      "3      21\n",
      "Name: education_id, dtype: int64\n",
      "-------------\n",
      "married              1237\n",
      "civil partnership     442\n",
      "unmarried             288\n",
      "divorced              112\n",
      "widow / widower        95\n",
      "Name: family_status, dtype: int64\n",
      "-------------\n",
      "0    1237\n",
      "1     442\n",
      "4     288\n",
      "3     112\n",
      "2      95\n",
      "Name: family_status_id, dtype: int64\n",
      "-------------\n",
      "F    1484\n",
      "M     690\n",
      "Name: gender, dtype: int64\n",
      "-------------\n",
      "employee         1105\n",
      "business          508\n",
      "retiree           413\n",
      "civil servant     147\n",
      "entrepreneur        1\n",
      "Name: income_type, dtype: int64\n",
      "-------------\n",
      "0    2004\n",
      "1     170\n",
      "Name: debt, dtype: int64\n",
      "-------------\n",
      "Series([], Name: total_income, dtype: int64)\n",
      "-------------\n",
      "having a wedding                            92\n",
      "to have a wedding                           81\n",
      "wedding ceremony                            76\n",
      "construction of own property                75\n",
      "housing transactions                        74\n",
      "buy real estate                             72\n",
      "purchase of the house for my family         71\n",
      "transactions with my real estate            71\n",
      "housing renovation                          70\n",
      "transactions with commercial real estate    70\n",
      "buy commercial real estate                  67\n",
      "buying property for renting out             65\n",
      "property                                    62\n",
      "buy residential real estate                 61\n",
      "real estate transactions                    61\n",
      "housing                                     60\n",
      "building a property                         59\n",
      "cars                                        57\n",
      "going to university                         56\n",
      "to become educated                          55\n",
      "second-hand car purchase                    54\n",
      "buying my own car                           53\n",
      "to own a car                                52\n",
      "purchase of the house                       52\n",
      "to get a supplementary education            51\n",
      "getting an education                        50\n",
      "supplementary education                     48\n",
      "profile education                           47\n",
      "purchase of my own house                    46\n",
      "purchase of a car                           46\n",
      "building a real estate                      46\n",
      "car purchase                                43\n",
      "buying a second-hand car                    42\n",
      "education                                   42\n",
      "car                                         41\n",
      "university education                        40\n",
      "getting higher education                    36\n",
      "to buy a car                                30\n",
      "Name: purpose, dtype: int64\n",
      "-------------\n"
     ]
    }
   ],
   "source": [
    "# Checking the distribution in the whole dataset\n",
    "for i in data:\n",
    "    print(data[data.total_income.isna()][i].value_counts())\n",
    "    print('-------------')\n"
   ]
  },
  {
   "cell_type": "markdown",
   "metadata": {},
   "source": [
    "After checking all columns, I can't see any correlation between the missing values and other category. The values are missing randomly.\n",
    "I can't see any patterns in the missing data, I assume it's randomly.\n",
    "Maybe people that didn't want to share thier income or there was a technical issue while they filled the form or either they are not working and have none income."
   ]
  },
  {
   "cell_type": "markdown",
   "metadata": {},
   "source": [
    "<div class=\"alert alert-success\" style=\"border-radius: 15px; box-shadow: 4px 4px 4px; border: 1px solid \">\n",
    "<b> Reviewer's comment</b>\n",
    "    \n",
    "\n",
    "Yes, they seem to be random. </div>"
   ]
  },
  {
   "cell_type": "markdown",
   "metadata": {},
   "source": [
    "## Data transformation\n",
    "\n",
    "Let's go through each column to see what issues we may have in them.\n",
    "\n",
    "### Checking the data the `education` column:"
   ]
  },
  {
   "cell_type": "code",
   "execution_count": 120,
   "metadata": {},
   "outputs": [
    {
     "name": "stdout",
     "output_type": "stream",
     "text": [
      "15\n",
      "-------\n"
     ]
    },
    {
     "data": {
      "text/plain": [
       "secondary education    13750\n",
       "bachelor's degree       4718\n",
       "SECONDARY EDUCATION      772\n",
       "Secondary Education      711\n",
       "some college             668\n",
       "BACHELOR'S DEGREE        274\n",
       "Bachelor's Degree        268\n",
       "primary education        250\n",
       "Some College              47\n",
       "SOME COLLEGE              29\n",
       "PRIMARY EDUCATION         17\n",
       "Primary Education         15\n",
       "graduate degree            4\n",
       "Graduate Degree            1\n",
       "GRADUATE DEGREE            1\n",
       "Name: education, dtype: int64"
      ]
     },
     "execution_count": 120,
     "metadata": {},
     "output_type": "execute_result"
    }
   ],
   "source": [
    "# Let's see all values in education column to check if and what spellings will need to be fixed\n",
    "print(data['education'].nunique())\n",
    "print('-------')\n",
    "data['education'].value_counts()"
   ]
  },
  {
   "cell_type": "code",
   "execution_count": 121,
   "metadata": {
    "scrolled": true
   },
   "outputs": [],
   "source": [
    "# Fix the registers if required\n",
    "data['education'] = data['education'].str.lower()"
   ]
  },
  {
   "cell_type": "code",
   "execution_count": 122,
   "metadata": {},
   "outputs": [
    {
     "name": "stdout",
     "output_type": "stream",
     "text": [
      "5\n",
      "-------\n"
     ]
    },
    {
     "data": {
      "text/plain": [
       "secondary education    15233\n",
       "bachelor's degree       5260\n",
       "some college             744\n",
       "primary education        282\n",
       "graduate degree            6\n",
       "Name: education, dtype: int64"
      ]
     },
     "execution_count": 122,
     "metadata": {},
     "output_type": "execute_result"
    }
   ],
   "source": [
    "# Checking all the values in the column to make sure we fixed them\n",
    "print(data['education'].nunique())\n",
    "print('-------')\n",
    "data['education'].value_counts()"
   ]
  },
  {
   "cell_type": "markdown",
   "metadata": {},
   "source": [
    "I can see that the education category has same name that written in lower or upper case.\n",
    "Let's fix it and see how many categories we have.\n",
    "After fixing the data,we have 5 unique education categories."
   ]
  },
  {
   "cell_type": "markdown",
   "metadata": {},
   "source": [
    "### Checking the data the `children` column:"
   ]
  },
  {
   "cell_type": "code",
   "execution_count": 123,
   "metadata": {},
   "outputs": [
    {
     "data": {
      "text/plain": [
       " 0     14149\n",
       " 1      4818\n",
       " 2      2055\n",
       " 3       330\n",
       " 20       76\n",
       "-1        47\n",
       " 4        41\n",
       " 5         9\n",
       "Name: children, dtype: int64"
      ]
     },
     "execution_count": 123,
     "metadata": {},
     "output_type": "execute_result"
    }
   ],
   "source": [
    "# Let's see the distribution of values in the `children` column\n",
    "data['children'].value_counts()"
   ]
  },
  {
   "cell_type": "code",
   "execution_count": 124,
   "metadata": {},
   "outputs": [
    {
     "data": {
      "text/plain": [
       "children\n",
       "-1        47\n",
       " 0     14149\n",
       " 1      4818\n",
       " 2      2055\n",
       " 3       330\n",
       " 4        41\n",
       " 5         9\n",
       " 20       76\n",
       "Name: family_status, dtype: int64"
      ]
     },
     "execution_count": 124,
     "metadata": {},
     "output_type": "execute_result"
    }
   ],
   "source": [
    "#pd.set_option('display.float_format', lambda x: f'{x:.3f}')\n",
    "data.groupby('children')['family_status'].count()"
   ]
  },
  {
   "cell_type": "code",
   "execution_count": 125,
   "metadata": {},
   "outputs": [
    {
     "data": {
      "text/plain": [
       " 0    0.657\n",
       " 1    0.224\n",
       " 2    0.095\n",
       " 3    0.015\n",
       " 20   0.004\n",
       "-1    0.002\n",
       " 4    0.002\n",
       " 5    0.000\n",
       "Name: children, dtype: float64"
      ]
     },
     "execution_count": 125,
     "metadata": {},
     "output_type": "execute_result"
    }
   ],
   "source": [
    "data['children'].value_counts()/len(data)"
   ]
  },
  {
   "cell_type": "markdown",
   "metadata": {},
   "source": [
    "I can see that the data has negative amount of children (-1) and outlier of 20 children.\n",
    "I asume the the client enter it by mistake. so I decide to change the -1 to 1, and 20 to 2."
   ]
  },
  {
   "cell_type": "markdown",
   "metadata": {},
   "source": [
    "<div class=\"alert alert-success\" style=\"border-radius: 15px; box-shadow: 4px 4px 4px; border: 1px solid \">\n",
    "<b> Reviewer's comment</b>\n",
    "    \n",
    "\n",
    "Agree. Considering the lack of clients with the number of children from 6 to 19, I suppose that 20 is a mistake. It could be just 2 or Nan that was trasformed into an anomaly when the table was downloaded or, which is more likely, merged with another table. \n",
    "</div>"
   ]
  },
  {
   "cell_type": "code",
   "execution_count": 126,
   "metadata": {},
   "outputs": [],
   "source": [
    "# [fix the data based on your decision]\n",
    "data['children'] = data.apply(lambda row: 2 if row['children']== 20  else row['children'],axis=1)\n",
    "data['children'] = data.apply(lambda row: 1 if row['children']== -1 else row['children'],axis=1)\n",
    "#can I do it in one line??\n",
    "\n",
    "#another option:\n",
    "#data.loc[data['children']== 20, ['children']] = 2\n",
    "#data.loc[data['children']== -1, ['children']] = 1"
   ]
  },
  {
   "cell_type": "markdown",
   "metadata": {},
   "source": [
    "<div class=\"alert alert-success\" style=\"border-radius: 15px; box-shadow: 4px 4px 4px; border: 1px solid \">\n",
    "<b> Reviewer's comment</b>\n",
    "    \n",
    "\n",
    "A simple **replace** will do fine:\n",
    "\n",
    "</div>\n",
    "\n",
    "```python\n",
    "\n",
    "vals = {-1: 1, 20:2}\n",
    "\n",
    "data['children'] = data['children'].replace(vals)\n",
    "```"
   ]
  },
  {
   "cell_type": "code",
   "execution_count": 127,
   "metadata": {},
   "outputs": [
    {
     "data": {
      "text/plain": [
       "0    14149\n",
       "1     4865\n",
       "2     2131\n",
       "3      330\n",
       "4       41\n",
       "5        9\n",
       "Name: children, dtype: int64"
      ]
     },
     "execution_count": 127,
     "metadata": {},
     "output_type": "execute_result"
    }
   ],
   "source": [
    "# Checking the `children` column again to make sure it's all fixed\n",
    "data['children'].value_counts()"
   ]
  },
  {
   "cell_type": "code",
   "execution_count": 128,
   "metadata": {},
   "outputs": [
    {
     "data": {
      "text/plain": [
       "0   0.657\n",
       "1   0.226\n",
       "2   0.099\n",
       "3   0.015\n",
       "4   0.002\n",
       "5   0.000\n",
       "Name: children, dtype: float64"
      ]
     },
     "execution_count": 128,
     "metadata": {},
     "output_type": "execute_result"
    }
   ],
   "source": [
    "data['children'].value_counts()/len(data)"
   ]
  },
  {
   "cell_type": "code",
   "execution_count": 129,
   "metadata": {},
   "outputs": [
    {
     "data": {
      "text/plain": [
       "children\n",
       "0    14149\n",
       "1     4865\n",
       "2     2131\n",
       "3      330\n",
       "4       41\n",
       "5        9\n",
       "Name: family_status, dtype: int64"
      ]
     },
     "execution_count": 129,
     "metadata": {},
     "output_type": "execute_result"
    }
   ],
   "source": [
    "data.groupby('children')['family_status'].count()"
   ]
  },
  {
   "cell_type": "markdown",
   "metadata": {},
   "source": [
    "We can see that it didn't affect the percentage so much."
   ]
  },
  {
   "cell_type": "markdown",
   "metadata": {},
   "source": [
    "### Checking the data the `days_employed` column:"
   ]
  },
  {
   "cell_type": "code",
   "execution_count": 130,
   "metadata": {},
   "outputs": [
    {
     "data": {
      "text/plain": [
       "-327.686    0.000\n",
       "-1580.623   0.000\n",
       "-4122.461   0.000\n",
       "-2828.238   0.000\n",
       "-2636.091   0.000\n",
       "             ... \n",
       "-7120.518   0.000\n",
       "-2146.884   0.000\n",
       "-881.455    0.000\n",
       "-794.666    0.000\n",
       "-3382.114   0.000\n",
       "Name: days_employed, Length: 19351, dtype: float64"
      ]
     },
     "execution_count": 130,
     "metadata": {},
     "output_type": "execute_result"
    }
   ],
   "source": [
    "# Find problematic data in `days_employed`, if they exist, and calculate the percentage\n",
    "data['days_employed'].value_counts()/len(data)"
   ]
  },
  {
   "cell_type": "markdown",
   "metadata": {},
   "source": [
    "It looks like the all data is corrupt , days cant have negative values. I thing the best way to handle this is to make the values absult. Any way this information is not nessecery for our main goal."
   ]
  },
  {
   "cell_type": "markdown",
   "metadata": {},
   "source": [
    "<div class=\"alert alert-success\" style=\"border-radius: 15px; box-shadow: 4px 4px 4px; border: 1px solid \">\n",
    "<b> Reviewer's comment</b>\n",
    "    \n",
    "\n",
    "Sounds reasonable, negative values seem to be normal apart from these minuses.\n",
    "</div>"
   ]
  },
  {
   "cell_type": "code",
   "execution_count": 131,
   "metadata": {},
   "outputs": [],
   "source": [
    "# Address the problematic values, if they exist\n",
    "data['days_employed'] = data['days_employed'].abs()"
   ]
  },
  {
   "cell_type": "code",
   "execution_count": 132,
   "metadata": {},
   "outputs": [
    {
     "data": {
      "text/plain": [
       "0         8437.673\n",
       "1         4024.804\n",
       "2         5623.423\n",
       "3         4124.747\n",
       "4       340266.072\n",
       "           ...    \n",
       "21520     4529.317\n",
       "21521   343937.404\n",
       "21522     2113.347\n",
       "21523     3112.482\n",
       "21524     1984.508\n",
       "Name: days_employed, Length: 21525, dtype: float64"
      ]
     },
     "execution_count": 132,
     "metadata": {},
     "output_type": "execute_result"
    }
   ],
   "source": [
    "# Check the result - make sure it's fixed\n",
    "data['days_employed']"
   ]
  },
  {
   "cell_type": "markdown",
   "metadata": {},
   "source": [
    "### Checking the data the `dob_years` column:"
   ]
  },
  {
   "cell_type": "code",
   "execution_count": 133,
   "metadata": {
    "scrolled": true
   },
   "outputs": [
    {
     "data": {
      "text/plain": [
       "35   2.866\n",
       "40   2.829\n",
       "41   2.820\n",
       "34   2.801\n",
       "38   2.778\n",
       "42   2.774\n",
       "33   2.699\n",
       "39   2.662\n",
       "31   2.602\n",
       "36   2.578\n",
       "44   2.541\n",
       "29   2.532\n",
       "30   2.509\n",
       "48   2.499\n",
       "37   2.495\n",
       "50   2.388\n",
       "43   2.383\n",
       "32   2.369\n",
       "49   2.360\n",
       "28   2.337\n",
       "45   2.309\n",
       "27   2.290\n",
       "56   2.262\n",
       "52   2.249\n",
       "47   2.230\n",
       "54   2.225\n",
       "46   2.207\n",
       "58   2.142\n",
       "57   2.137\n",
       "53   2.132\n",
       "51   2.081\n",
       "59   2.063\n",
       "55   2.058\n",
       "26   1.895\n",
       "60   1.751\n",
       "25   1.659\n",
       "61   1.649\n",
       "62   1.635\n",
       "63   1.250\n",
       "64   1.231\n",
       "24   1.226\n",
       "23   1.180\n",
       "65   0.901\n",
       "66   0.850\n",
       "22   0.850\n",
       "67   0.776\n",
       "21   0.516\n",
       "0    0.469\n",
       "68   0.460\n",
       "69   0.395\n",
       "70   0.302\n",
       "71   0.269\n",
       "20   0.237\n",
       "72   0.153\n",
       "19   0.065\n",
       "73   0.037\n",
       "74   0.028\n",
       "75   0.005\n",
       "Name: dob_years, dtype: float64"
      ]
     },
     "execution_count": 133,
     "metadata": {},
     "output_type": "execute_result"
    }
   ],
   "source": [
    "# Check the `dob_years` for suspicious values and count the percentage\n",
    "data['dob_years'].value_counts()/data.shape[0]*100"
   ]
  },
  {
   "cell_type": "markdown",
   "metadata": {},
   "source": [
    "I can see the data has 0.469% of '0' in the age column. this is impossible.\n",
    "I checked all data for '0' to see if I missed something.\n",
    "I can see the dob_years is the only problematic category.\n",
    "I chose to replace it with the median."
   ]
  },
  {
   "cell_type": "markdown",
   "metadata": {},
   "source": [
    "<div class=\"alert alert-warning\" style=\"border-radius: 15px; box-shadow: 4px 4px 4px; border: 1px solid \">\n",
    "<b> Reviewer's comment</b>\n",
    "    \n",
    "\n",
    "Fortunately, there are only 101 values. If we had more, it would not be a good idea to replace them with the median. The median age is about 40, right? So we can receive 100 40 years old students or 100 40 years old employees with a few months of work experience. It may cause some questions. Another approach here is to take median according to job experience.\n",
    "    \n",
    "    \n",
    "**A piece of advice:** before replacing values with median or whatever, make sure that they arose accidentally. Sometimes Nan-s and outliers carry important information. \n",
    "\n",
    "</div>"
   ]
  },
  {
   "cell_type": "markdown",
   "metadata": {},
   "source": [
    "<div class=\"alert alert-info\">\n",
    "<b> Student's comment</b>\n",
    "\n",
    "So it's better to earase them?\n",
    "</div>\n",
    "\n",
    "\n",
    "\n",
    "<font color='red'></font>"
   ]
  },
  {
   "cell_type": "markdown",
   "metadata": {},
   "source": [
    "<div class=\"alert alert-success\" style=\"border-radius: 15px; box-shadow: 4px 4px 4px; border: 1px solid \">\n",
    "<h2> Reviewer's comment 2</h2>\n",
    "    \n",
    "\n",
    "It's better to leave them. I would say that if some values do not hurt the analysis, we can just ignore them. \n",
    "</div>"
   ]
  },
  {
   "cell_type": "code",
   "execution_count": 134,
   "metadata": {},
   "outputs": [
    {
     "name": "stdout",
     "output_type": "stream",
     "text": [
      "children 14149\n",
      "days_employed 0\n",
      "dob_years 101\n",
      "education 0\n",
      "education_id 5260\n",
      "family_status 0\n",
      "family_status_id 12380\n",
      "gender 0\n",
      "income_type 0\n",
      "debt 19784\n",
      "total_income 0\n",
      "purpose 0\n"
     ]
    }
   ],
   "source": [
    "# Address the issues in the `dob_years` column, if they exist\n",
    "for i in data:\n",
    "    print(i, len(data[data[i]==0]))"
   ]
  },
  {
   "cell_type": "markdown",
   "metadata": {},
   "source": [
    "There are '0' in 4 columns:\n",
    "1. children - correct, some people don't have children.\n",
    "2. dob_years - incorrect values, need to be fix.\n",
    "3. education_id - it's ok is just the id no.\n",
    "4. family_status_id - it's ok is just the id no."
   ]
  },
  {
   "cell_type": "code",
   "execution_count": 135,
   "metadata": {},
   "outputs": [
    {
     "data": {
      "text/plain": [
       "42.0"
      ]
     },
     "execution_count": 135,
     "metadata": {},
     "output_type": "execute_result"
    }
   ],
   "source": [
    "data['dob_years'].median()"
   ]
  },
  {
   "cell_type": "code",
   "execution_count": 136,
   "metadata": {},
   "outputs": [
    {
     "data": {
      "text/plain": [
       "43.29337979094077"
      ]
     },
     "execution_count": 136,
     "metadata": {},
     "output_type": "execute_result"
    }
   ],
   "source": [
    "data['dob_years'].mean()"
   ]
  },
  {
   "cell_type": "code",
   "execution_count": 137,
   "metadata": {},
   "outputs": [
    {
     "data": {
      "text/html": [
       "<div>\n",
       "<style scoped>\n",
       "    .dataframe tbody tr th:only-of-type {\n",
       "        vertical-align: middle;\n",
       "    }\n",
       "\n",
       "    .dataframe tbody tr th {\n",
       "        vertical-align: top;\n",
       "    }\n",
       "\n",
       "    .dataframe thead th {\n",
       "        text-align: right;\n",
       "    }\n",
       "</style>\n",
       "<table border=\"1\" class=\"dataframe\">\n",
       "  <thead>\n",
       "    <tr style=\"text-align: right;\">\n",
       "      <th></th>\n",
       "      <th>children</th>\n",
       "      <th>days_employed</th>\n",
       "      <th>dob_years</th>\n",
       "      <th>education</th>\n",
       "      <th>education_id</th>\n",
       "      <th>family_status</th>\n",
       "      <th>family_status_id</th>\n",
       "      <th>gender</th>\n",
       "      <th>income_type</th>\n",
       "      <th>debt</th>\n",
       "      <th>total_income</th>\n",
       "      <th>purpose</th>\n",
       "    </tr>\n",
       "  </thead>\n",
       "  <tbody>\n",
       "    <tr>\n",
       "      <th>99</th>\n",
       "      <td>0</td>\n",
       "      <td>346541.619</td>\n",
       "      <td>0</td>\n",
       "      <td>secondary education</td>\n",
       "      <td>1</td>\n",
       "      <td>married</td>\n",
       "      <td>0</td>\n",
       "      <td>F</td>\n",
       "      <td>retiree</td>\n",
       "      <td>0</td>\n",
       "      <td>11406.644</td>\n",
       "      <td>car</td>\n",
       "    </tr>\n",
       "    <tr>\n",
       "      <th>149</th>\n",
       "      <td>0</td>\n",
       "      <td>2664.273</td>\n",
       "      <td>0</td>\n",
       "      <td>secondary education</td>\n",
       "      <td>1</td>\n",
       "      <td>divorced</td>\n",
       "      <td>3</td>\n",
       "      <td>F</td>\n",
       "      <td>employee</td>\n",
       "      <td>0</td>\n",
       "      <td>11228.230</td>\n",
       "      <td>housing transactions</td>\n",
       "    </tr>\n",
       "    <tr>\n",
       "      <th>270</th>\n",
       "      <td>3</td>\n",
       "      <td>1872.663</td>\n",
       "      <td>0</td>\n",
       "      <td>secondary education</td>\n",
       "      <td>1</td>\n",
       "      <td>married</td>\n",
       "      <td>0</td>\n",
       "      <td>F</td>\n",
       "      <td>employee</td>\n",
       "      <td>0</td>\n",
       "      <td>16346.633</td>\n",
       "      <td>housing renovation</td>\n",
       "    </tr>\n",
       "    <tr>\n",
       "      <th>578</th>\n",
       "      <td>0</td>\n",
       "      <td>397856.565</td>\n",
       "      <td>0</td>\n",
       "      <td>secondary education</td>\n",
       "      <td>1</td>\n",
       "      <td>married</td>\n",
       "      <td>0</td>\n",
       "      <td>F</td>\n",
       "      <td>retiree</td>\n",
       "      <td>0</td>\n",
       "      <td>15619.310</td>\n",
       "      <td>construction of own property</td>\n",
       "    </tr>\n",
       "    <tr>\n",
       "      <th>1040</th>\n",
       "      <td>0</td>\n",
       "      <td>1158.030</td>\n",
       "      <td>0</td>\n",
       "      <td>bachelor's degree</td>\n",
       "      <td>0</td>\n",
       "      <td>divorced</td>\n",
       "      <td>3</td>\n",
       "      <td>F</td>\n",
       "      <td>business</td>\n",
       "      <td>0</td>\n",
       "      <td>48639.062</td>\n",
       "      <td>to own a car</td>\n",
       "    </tr>\n",
       "    <tr>\n",
       "      <th>...</th>\n",
       "      <td>...</td>\n",
       "      <td>...</td>\n",
       "      <td>...</td>\n",
       "      <td>...</td>\n",
       "      <td>...</td>\n",
       "      <td>...</td>\n",
       "      <td>...</td>\n",
       "      <td>...</td>\n",
       "      <td>...</td>\n",
       "      <td>...</td>\n",
       "      <td>...</td>\n",
       "      <td>...</td>\n",
       "    </tr>\n",
       "    <tr>\n",
       "      <th>19829</th>\n",
       "      <td>0</td>\n",
       "      <td>NaN</td>\n",
       "      <td>0</td>\n",
       "      <td>secondary education</td>\n",
       "      <td>1</td>\n",
       "      <td>married</td>\n",
       "      <td>0</td>\n",
       "      <td>F</td>\n",
       "      <td>employee</td>\n",
       "      <td>0</td>\n",
       "      <td>NaN</td>\n",
       "      <td>housing</td>\n",
       "    </tr>\n",
       "    <tr>\n",
       "      <th>20462</th>\n",
       "      <td>0</td>\n",
       "      <td>338734.869</td>\n",
       "      <td>0</td>\n",
       "      <td>secondary education</td>\n",
       "      <td>1</td>\n",
       "      <td>married</td>\n",
       "      <td>0</td>\n",
       "      <td>F</td>\n",
       "      <td>retiree</td>\n",
       "      <td>0</td>\n",
       "      <td>41471.027</td>\n",
       "      <td>purchase of my own house</td>\n",
       "    </tr>\n",
       "    <tr>\n",
       "      <th>20577</th>\n",
       "      <td>0</td>\n",
       "      <td>331741.271</td>\n",
       "      <td>0</td>\n",
       "      <td>secondary education</td>\n",
       "      <td>1</td>\n",
       "      <td>unmarried</td>\n",
       "      <td>4</td>\n",
       "      <td>F</td>\n",
       "      <td>retiree</td>\n",
       "      <td>0</td>\n",
       "      <td>20766.202</td>\n",
       "      <td>property</td>\n",
       "    </tr>\n",
       "    <tr>\n",
       "      <th>21179</th>\n",
       "      <td>2</td>\n",
       "      <td>108.967</td>\n",
       "      <td>0</td>\n",
       "      <td>bachelor's degree</td>\n",
       "      <td>0</td>\n",
       "      <td>married</td>\n",
       "      <td>0</td>\n",
       "      <td>M</td>\n",
       "      <td>business</td>\n",
       "      <td>0</td>\n",
       "      <td>38512.321</td>\n",
       "      <td>building a real estate</td>\n",
       "    </tr>\n",
       "    <tr>\n",
       "      <th>21313</th>\n",
       "      <td>0</td>\n",
       "      <td>1268.488</td>\n",
       "      <td>0</td>\n",
       "      <td>secondary education</td>\n",
       "      <td>1</td>\n",
       "      <td>unmarried</td>\n",
       "      <td>4</td>\n",
       "      <td>M</td>\n",
       "      <td>employee</td>\n",
       "      <td>0</td>\n",
       "      <td>24387.070</td>\n",
       "      <td>housing transactions</td>\n",
       "    </tr>\n",
       "  </tbody>\n",
       "</table>\n",
       "<p>101 rows × 12 columns</p>\n",
       "</div>"
      ],
      "text/plain": [
       "       children  days_employed  dob_years            education  education_id  \\\n",
       "99            0     346541.619          0  secondary education             1   \n",
       "149           0       2664.273          0  secondary education             1   \n",
       "270           3       1872.663          0  secondary education             1   \n",
       "578           0     397856.565          0  secondary education             1   \n",
       "1040          0       1158.030          0    bachelor's degree             0   \n",
       "...         ...            ...        ...                  ...           ...   \n",
       "19829         0            NaN          0  secondary education             1   \n",
       "20462         0     338734.869          0  secondary education             1   \n",
       "20577         0     331741.271          0  secondary education             1   \n",
       "21179         2        108.967          0    bachelor's degree             0   \n",
       "21313         0       1268.488          0  secondary education             1   \n",
       "\n",
       "      family_status  family_status_id gender income_type  debt  total_income  \\\n",
       "99          married                 0      F     retiree     0     11406.644   \n",
       "149        divorced                 3      F    employee     0     11228.230   \n",
       "270         married                 0      F    employee     0     16346.633   \n",
       "578         married                 0      F     retiree     0     15619.310   \n",
       "1040       divorced                 3      F    business     0     48639.062   \n",
       "...             ...               ...    ...         ...   ...           ...   \n",
       "19829       married                 0      F    employee     0           NaN   \n",
       "20462       married                 0      F     retiree     0     41471.027   \n",
       "20577     unmarried                 4      F     retiree     0     20766.202   \n",
       "21179       married                 0      M    business     0     38512.321   \n",
       "21313     unmarried                 4      M    employee     0     24387.070   \n",
       "\n",
       "                            purpose  \n",
       "99                              car  \n",
       "149            housing transactions  \n",
       "270              housing renovation  \n",
       "578    construction of own property  \n",
       "1040                   to own a car  \n",
       "...                             ...  \n",
       "19829                       housing  \n",
       "20462      purchase of my own house  \n",
       "20577                      property  \n",
       "21179        building a real estate  \n",
       "21313          housing transactions  \n",
       "\n",
       "[101 rows x 12 columns]"
      ]
     },
     "execution_count": 137,
     "metadata": {},
     "output_type": "execute_result"
    }
   ],
   "source": [
    "data[data['dob_years']==0]"
   ]
  },
  {
   "cell_type": "markdown",
   "metadata": {},
   "source": [
    "***replacing the '0' 'in dob_years' column:***"
   ]
  },
  {
   "cell_type": "code",
   "execution_count": 138,
   "metadata": {},
   "outputs": [],
   "source": [
    "# Check the result - make sure it's fixed\n",
    "data['dob_years'] = data['dob_years'].replace(0,data['dob_years'].median())"
   ]
  },
  {
   "cell_type": "code",
   "execution_count": 139,
   "metadata": {},
   "outputs": [
    {
     "name": "stdout",
     "output_type": "stream",
     "text": [
      "children 14149\n",
      "days_employed 0\n",
      "dob_years 0\n",
      "education 0\n",
      "education_id 5260\n",
      "family_status 0\n",
      "family_status_id 12380\n",
      "gender 0\n",
      "income_type 0\n",
      "debt 19784\n",
      "total_income 0\n",
      "purpose 0\n"
     ]
    }
   ],
   "source": [
    "for i in data:\n",
    "    print(i, len(data[data[i]==0]))"
   ]
  },
  {
   "cell_type": "markdown",
   "metadata": {},
   "source": [
    "dob_years is fixed. all values are correct now."
   ]
  },
  {
   "cell_type": "markdown",
   "metadata": {},
   "source": [
    "### Checking the data the `family_status` column:"
   ]
  },
  {
   "cell_type": "code",
   "execution_count": 140,
   "metadata": {},
   "outputs": [
    {
     "data": {
      "text/plain": [
       "array(['married', 'civil partnership', 'widow / widower', 'divorced',\n",
       "       'unmarried'], dtype=object)"
      ]
     },
     "execution_count": 140,
     "metadata": {},
     "output_type": "execute_result"
    }
   ],
   "source": [
    "# Let's see the values for the column\n",
    "data['family_status'].unique()"
   ]
  },
  {
   "cell_type": "markdown",
   "metadata": {},
   "source": [
    "All looks ok!"
   ]
  },
  {
   "cell_type": "markdown",
   "metadata": {},
   "source": [
    "### Checking the data the `gender` column:"
   ]
  },
  {
   "cell_type": "code",
   "execution_count": 141,
   "metadata": {},
   "outputs": [
    {
     "data": {
      "text/plain": [
       "array(['F', 'M', 'XNA'], dtype=object)"
      ]
     },
     "execution_count": 141,
     "metadata": {},
     "output_type": "execute_result"
    }
   ],
   "source": [
    "# Let's see the values in the column\n",
    "data['gender'].unique()"
   ]
  },
  {
   "cell_type": "code",
   "execution_count": 142,
   "metadata": {},
   "outputs": [
    {
     "name": "stdout",
     "output_type": "stream",
     "text": [
      "XNA income is: 32624.825\n",
      "-----------\n",
      "Female max income is: 274402.943\n",
      "-----------\n",
      "Male max income is: 362496.645\n",
      "-----------\n"
     ]
    }
   ],
   "source": [
    "print('XNA income is:',data[data['gender']== 'XNA']['total_income'].sum())\n",
    "print('-----------')\n",
    "print('Female max income is:',data[data['gender']== 'F']['total_income'].max())\n",
    "print('-----------')\n",
    "print('Male max income is:',data[data['gender']== 'M']['total_income'].max())\n",
    "print('-----------')"
   ]
  },
  {
   "cell_type": "markdown",
   "metadata": {},
   "source": [
    "I decide to change the 'XNA' to M because his income is higher the female max's income:"
   ]
  },
  {
   "cell_type": "code",
   "execution_count": 143,
   "metadata": {},
   "outputs": [],
   "source": [
    "# Address the problematic values, if they exist\n",
    "data.loc[data['gender']== 'XNA', 'gender']= 'F'"
   ]
  },
  {
   "cell_type": "code",
   "execution_count": 144,
   "metadata": {},
   "outputs": [
    {
     "data": {
      "text/plain": [
       "array(['F', 'M'], dtype=object)"
      ]
     },
     "execution_count": 144,
     "metadata": {},
     "output_type": "execute_result"
    }
   ],
   "source": [
    "# Check the result - make sure it's fixed\n",
    "data['gender'].unique()"
   ]
  },
  {
   "cell_type": "markdown",
   "metadata": {},
   "source": [
    "### Checking the data the `income_type` column:"
   ]
  },
  {
   "cell_type": "code",
   "execution_count": 145,
   "metadata": {},
   "outputs": [
    {
     "data": {
      "text/plain": [
       "array(['employee', 'retiree', 'business', 'civil servant', 'unemployed',\n",
       "       'entrepreneur', 'student', 'paternity / maternity leave'],\n",
       "      dtype=object)"
      ]
     },
     "execution_count": 145,
     "metadata": {},
     "output_type": "execute_result"
    }
   ],
   "source": [
    "# Let's see the values in the column\n",
    "data['income_type'].unique()"
   ]
  },
  {
   "cell_type": "markdown",
   "metadata": {},
   "source": [
    "No problem here."
   ]
  },
  {
   "cell_type": "markdown",
   "metadata": {},
   "source": [
    "# Checking for duplicates:"
   ]
  },
  {
   "cell_type": "code",
   "execution_count": 146,
   "metadata": {},
   "outputs": [
    {
     "data": {
      "text/plain": [
       "72"
      ]
     },
     "execution_count": 146,
     "metadata": {},
     "output_type": "execute_result"
    }
   ],
   "source": [
    "# Checking duplicates\n",
    "data.duplicated().sum()"
   ]
  },
  {
   "cell_type": "code",
   "execution_count": 147,
   "metadata": {},
   "outputs": [
    {
     "data": {
      "text/html": [
       "<div>\n",
       "<style scoped>\n",
       "    .dataframe tbody tr th:only-of-type {\n",
       "        vertical-align: middle;\n",
       "    }\n",
       "\n",
       "    .dataframe tbody tr th {\n",
       "        vertical-align: top;\n",
       "    }\n",
       "\n",
       "    .dataframe thead th {\n",
       "        text-align: right;\n",
       "    }\n",
       "</style>\n",
       "<table border=\"1\" class=\"dataframe\">\n",
       "  <thead>\n",
       "    <tr style=\"text-align: right;\">\n",
       "      <th></th>\n",
       "      <th>children</th>\n",
       "      <th>days_employed</th>\n",
       "      <th>dob_years</th>\n",
       "      <th>education</th>\n",
       "      <th>education_id</th>\n",
       "      <th>family_status</th>\n",
       "      <th>family_status_id</th>\n",
       "      <th>gender</th>\n",
       "      <th>income_type</th>\n",
       "      <th>debt</th>\n",
       "      <th>total_income</th>\n",
       "      <th>purpose</th>\n",
       "    </tr>\n",
       "  </thead>\n",
       "  <tbody>\n",
       "    <tr>\n",
       "      <th>2849</th>\n",
       "      <td>0</td>\n",
       "      <td>NaN</td>\n",
       "      <td>41.000</td>\n",
       "      <td>secondary education</td>\n",
       "      <td>1</td>\n",
       "      <td>married</td>\n",
       "      <td>0</td>\n",
       "      <td>F</td>\n",
       "      <td>employee</td>\n",
       "      <td>0</td>\n",
       "      <td>NaN</td>\n",
       "      <td>purchase of the house for my family</td>\n",
       "    </tr>\n",
       "    <tr>\n",
       "      <th>3290</th>\n",
       "      <td>0</td>\n",
       "      <td>NaN</td>\n",
       "      <td>58.000</td>\n",
       "      <td>secondary education</td>\n",
       "      <td>1</td>\n",
       "      <td>civil partnership</td>\n",
       "      <td>1</td>\n",
       "      <td>F</td>\n",
       "      <td>retiree</td>\n",
       "      <td>0</td>\n",
       "      <td>NaN</td>\n",
       "      <td>to have a wedding</td>\n",
       "    </tr>\n",
       "    <tr>\n",
       "      <th>4182</th>\n",
       "      <td>1</td>\n",
       "      <td>NaN</td>\n",
       "      <td>34.000</td>\n",
       "      <td>bachelor's degree</td>\n",
       "      <td>0</td>\n",
       "      <td>civil partnership</td>\n",
       "      <td>1</td>\n",
       "      <td>F</td>\n",
       "      <td>employee</td>\n",
       "      <td>0</td>\n",
       "      <td>NaN</td>\n",
       "      <td>wedding ceremony</td>\n",
       "    </tr>\n",
       "    <tr>\n",
       "      <th>4851</th>\n",
       "      <td>0</td>\n",
       "      <td>NaN</td>\n",
       "      <td>60.000</td>\n",
       "      <td>secondary education</td>\n",
       "      <td>1</td>\n",
       "      <td>civil partnership</td>\n",
       "      <td>1</td>\n",
       "      <td>F</td>\n",
       "      <td>retiree</td>\n",
       "      <td>0</td>\n",
       "      <td>NaN</td>\n",
       "      <td>wedding ceremony</td>\n",
       "    </tr>\n",
       "    <tr>\n",
       "      <th>5557</th>\n",
       "      <td>0</td>\n",
       "      <td>NaN</td>\n",
       "      <td>58.000</td>\n",
       "      <td>secondary education</td>\n",
       "      <td>1</td>\n",
       "      <td>civil partnership</td>\n",
       "      <td>1</td>\n",
       "      <td>F</td>\n",
       "      <td>retiree</td>\n",
       "      <td>0</td>\n",
       "      <td>NaN</td>\n",
       "      <td>to have a wedding</td>\n",
       "    </tr>\n",
       "  </tbody>\n",
       "</table>\n",
       "</div>"
      ],
      "text/plain": [
       "      children  days_employed  dob_years            education  education_id  \\\n",
       "2849         0            NaN     41.000  secondary education             1   \n",
       "3290         0            NaN     58.000  secondary education             1   \n",
       "4182         1            NaN     34.000    bachelor's degree             0   \n",
       "4851         0            NaN     60.000  secondary education             1   \n",
       "5557         0            NaN     58.000  secondary education             1   \n",
       "\n",
       "          family_status  family_status_id gender income_type  debt  \\\n",
       "2849            married                 0      F    employee     0   \n",
       "3290  civil partnership                 1      F     retiree     0   \n",
       "4182  civil partnership                 1      F    employee     0   \n",
       "4851  civil partnership                 1      F     retiree     0   \n",
       "5557  civil partnership                 1      F     retiree     0   \n",
       "\n",
       "      total_income                              purpose  \n",
       "2849           NaN  purchase of the house for my family  \n",
       "3290           NaN                    to have a wedding  \n",
       "4182           NaN                     wedding ceremony  \n",
       "4851           NaN                     wedding ceremony  \n",
       "5557           NaN                    to have a wedding  "
      ]
     },
     "execution_count": 147,
     "metadata": {},
     "output_type": "execute_result"
    }
   ],
   "source": [
    "data[data.duplicated()].head()"
   ]
  },
  {
   "cell_type": "code",
   "execution_count": 148,
   "metadata": {},
   "outputs": [],
   "source": [
    "# Address the duplicates, if they exist\n",
    "data_1 = data.copy()\n",
    "data_1 = data.drop_duplicates().reset_index(drop=True)"
   ]
  },
  {
   "cell_type": "code",
   "execution_count": 149,
   "metadata": {},
   "outputs": [
    {
     "data": {
      "text/plain": [
       "0"
      ]
     },
     "execution_count": 149,
     "metadata": {},
     "output_type": "execute_result"
    }
   ],
   "source": [
    "# Last check whether we have any duplicates\n",
    "data_1.duplicated().sum()"
   ]
  },
  {
   "cell_type": "code",
   "execution_count": 150,
   "metadata": {},
   "outputs": [
    {
     "name": "stdout",
     "output_type": "stream",
     "text": [
      "(21525, 12)\n",
      "-------\n",
      "(21453, 12)\n",
      "-------\n"
     ]
    },
    {
     "data": {
      "text/plain": [
       "0.33449477351916723"
      ]
     },
     "execution_count": 150,
     "metadata": {},
     "output_type": "execute_result"
    }
   ],
   "source": [
    "# Check the size of the dataset that you now have after your first manipulations with it\n",
    "print(data.shape)\n",
    "print('-------')\n",
    "print(data_1.shape)\n",
    "print('-------')\n",
    "(1-data_1.shape[0]/data.shape[0])*100"
   ]
  },
  {
   "cell_type": "markdown",
   "metadata": {},
   "source": [
    "We droped 72 duplicated rows and we can see now that the data is clean , the duplicates were only 0.33% of the data.\n",
    "for my convenience I will change the data_1 to data."
   ]
  },
  {
   "cell_type": "markdown",
   "metadata": {},
   "source": [
    "<div class=\"alert alert-warning\" style=\"border-radius: 15px; box-shadow: 4px 4px 4px; border: 1px solid \">\n",
    "<b> Reviewer's comment</b>\n",
    "    \n",
    "It is better to use **copy** method when copying dataframe. \n",
    "\n",
    "</div>\n",
    "<div class=\"alert alert-success\" style=\"border-radius: 15px; box-shadow: 4px 4px 4px; border: 1px solid \">\n",
    "<b> Reviewer's comment</b>\n",
    "    \n",
    "\n",
    "As there are no any unique id numbers for the clients, these duplicates can be related to different people. \n",
    "\n",
    "</div>"
   ]
  },
  {
   "cell_type": "markdown",
   "metadata": {},
   "source": [
    "<div class=\"alert alert-info\">\n",
    "<b> Student's comment</b>\n",
    "\n",
    "Ok noted, thanks.\n",
    "I used it :) hope this is what you ment.\n",
    "</div>\n",
    "<font color='red'></font>     "
   ]
  },
  {
   "cell_type": "markdown",
   "metadata": {},
   "source": [
    "<div class=\"alert alert-success\" style=\"border-radius: 15px; box-shadow: 4px 4px 4px; border: 1px solid \">\n",
    "<h2> Reviewer's comment 2</h2>\n",
    "    \n",
    "\n",
    "It is not a mistake for now, but in the future it cause some problems. Let me show you an example:\n",
    "</div>"
   ]
  },
  {
   "cell_type": "code",
   "execution_count": 151,
   "metadata": {},
   "outputs": [
    {
     "data": {
      "text/html": [
       "<div>\n",
       "<style scoped>\n",
       "    .dataframe tbody tr th:only-of-type {\n",
       "        vertical-align: middle;\n",
       "    }\n",
       "\n",
       "    .dataframe tbody tr th {\n",
       "        vertical-align: top;\n",
       "    }\n",
       "\n",
       "    .dataframe thead th {\n",
       "        text-align: right;\n",
       "    }\n",
       "</style>\n",
       "<table border=\"1\" class=\"dataframe\">\n",
       "  <thead>\n",
       "    <tr style=\"text-align: right;\">\n",
       "      <th></th>\n",
       "      <th>A</th>\n",
       "      <th>B</th>\n",
       "    </tr>\n",
       "  </thead>\n",
       "  <tbody>\n",
       "    <tr>\n",
       "      <th>0</th>\n",
       "      <td>1</td>\n",
       "      <td>3</td>\n",
       "    </tr>\n",
       "    <tr>\n",
       "      <th>1</th>\n",
       "      <td>2</td>\n",
       "      <td>3</td>\n",
       "    </tr>\n",
       "    <tr>\n",
       "      <th>2</th>\n",
       "      <td>4</td>\n",
       "      <td>5</td>\n",
       "    </tr>\n",
       "  </tbody>\n",
       "</table>\n",
       "</div>"
      ],
      "text/plain": [
       "   A  B\n",
       "0  1  3\n",
       "1  2  3\n",
       "2  4  5"
      ]
     },
     "metadata": {},
     "output_type": "display_data"
    },
    {
     "data": {
      "text/html": [
       "<div>\n",
       "<style scoped>\n",
       "    .dataframe tbody tr th:only-of-type {\n",
       "        vertical-align: middle;\n",
       "    }\n",
       "\n",
       "    .dataframe tbody tr th {\n",
       "        vertical-align: top;\n",
       "    }\n",
       "\n",
       "    .dataframe thead th {\n",
       "        text-align: right;\n",
       "    }\n",
       "</style>\n",
       "<table border=\"1\" class=\"dataframe\">\n",
       "  <thead>\n",
       "    <tr style=\"text-align: right;\">\n",
       "      <th></th>\n",
       "      <th>A</th>\n",
       "      <th>B</th>\n",
       "    </tr>\n",
       "  </thead>\n",
       "  <tbody>\n",
       "    <tr>\n",
       "      <th>0</th>\n",
       "      <td>1</td>\n",
       "      <td>3</td>\n",
       "    </tr>\n",
       "    <tr>\n",
       "      <th>1</th>\n",
       "      <td>2</td>\n",
       "      <td>3</td>\n",
       "    </tr>\n",
       "    <tr>\n",
       "      <th>2</th>\n",
       "      <td>4</td>\n",
       "      <td>5</td>\n",
       "    </tr>\n",
       "  </tbody>\n",
       "</table>\n",
       "</div>"
      ],
      "text/plain": [
       "   A  B\n",
       "0  1  3\n",
       "1  2  3\n",
       "2  4  5"
      ]
     },
     "metadata": {},
     "output_type": "display_data"
    },
    {
     "data": {
      "text/html": [
       "<div>\n",
       "<style scoped>\n",
       "    .dataframe tbody tr th:only-of-type {\n",
       "        vertical-align: middle;\n",
       "    }\n",
       "\n",
       "    .dataframe tbody tr th {\n",
       "        vertical-align: top;\n",
       "    }\n",
       "\n",
       "    .dataframe thead th {\n",
       "        text-align: right;\n",
       "    }\n",
       "</style>\n",
       "<table border=\"1\" class=\"dataframe\">\n",
       "  <thead>\n",
       "    <tr style=\"text-align: right;\">\n",
       "      <th></th>\n",
       "      <th>A</th>\n",
       "      <th>B</th>\n",
       "    </tr>\n",
       "  </thead>\n",
       "  <tbody>\n",
       "    <tr>\n",
       "      <th>0</th>\n",
       "      <td>1</td>\n",
       "      <td>3</td>\n",
       "    </tr>\n",
       "    <tr>\n",
       "      <th>1</th>\n",
       "      <td>2</td>\n",
       "      <td>3</td>\n",
       "    </tr>\n",
       "    <tr>\n",
       "      <th>2</th>\n",
       "      <td>4</td>\n",
       "      <td>5</td>\n",
       "    </tr>\n",
       "  </tbody>\n",
       "</table>\n",
       "</div>"
      ],
      "text/plain": [
       "   A  B\n",
       "0  1  3\n",
       "1  2  3\n",
       "2  4  5"
      ]
     },
     "metadata": {},
     "output_type": "display_data"
    }
   ],
   "source": [
    "# Reviewer's code 2.1\n",
    "\n",
    "l = {'A':[1,2,4], 'B':[3,3,5]}\n",
    "\n",
    "df1 = pd.DataFrame(l)\n",
    "\n",
    "df2 = df1\n",
    "\n",
    "df3 = df1.copy() \n",
    "\n",
    "display(df1, df2, df3)"
   ]
  },
  {
   "cell_type": "code",
   "execution_count": 152,
   "metadata": {},
   "outputs": [
    {
     "data": {
      "text/html": [
       "<div>\n",
       "<style scoped>\n",
       "    .dataframe tbody tr th:only-of-type {\n",
       "        vertical-align: middle;\n",
       "    }\n",
       "\n",
       "    .dataframe tbody tr th {\n",
       "        vertical-align: top;\n",
       "    }\n",
       "\n",
       "    .dataframe thead th {\n",
       "        text-align: right;\n",
       "    }\n",
       "</style>\n",
       "<table border=\"1\" class=\"dataframe\">\n",
       "  <thead>\n",
       "    <tr style=\"text-align: right;\">\n",
       "      <th></th>\n",
       "      <th>A</th>\n",
       "      <th>B</th>\n",
       "    </tr>\n",
       "  </thead>\n",
       "  <tbody>\n",
       "    <tr>\n",
       "      <th>0</th>\n",
       "      <td>change2</td>\n",
       "      <td>3</td>\n",
       "    </tr>\n",
       "    <tr>\n",
       "      <th>1</th>\n",
       "      <td>2</td>\n",
       "      <td>3</td>\n",
       "    </tr>\n",
       "    <tr>\n",
       "      <th>2</th>\n",
       "      <td>4</td>\n",
       "      <td>5</td>\n",
       "    </tr>\n",
       "  </tbody>\n",
       "</table>\n",
       "</div>"
      ],
      "text/plain": [
       "         A  B\n",
       "0  change2  3\n",
       "1        2  3\n",
       "2        4  5"
      ]
     },
     "metadata": {},
     "output_type": "display_data"
    },
    {
     "data": {
      "text/html": [
       "<div>\n",
       "<style scoped>\n",
       "    .dataframe tbody tr th:only-of-type {\n",
       "        vertical-align: middle;\n",
       "    }\n",
       "\n",
       "    .dataframe tbody tr th {\n",
       "        vertical-align: top;\n",
       "    }\n",
       "\n",
       "    .dataframe thead th {\n",
       "        text-align: right;\n",
       "    }\n",
       "</style>\n",
       "<table border=\"1\" class=\"dataframe\">\n",
       "  <thead>\n",
       "    <tr style=\"text-align: right;\">\n",
       "      <th></th>\n",
       "      <th>A</th>\n",
       "      <th>B</th>\n",
       "    </tr>\n",
       "  </thead>\n",
       "  <tbody>\n",
       "    <tr>\n",
       "      <th>0</th>\n",
       "      <td>change2</td>\n",
       "      <td>3</td>\n",
       "    </tr>\n",
       "    <tr>\n",
       "      <th>1</th>\n",
       "      <td>2</td>\n",
       "      <td>3</td>\n",
       "    </tr>\n",
       "    <tr>\n",
       "      <th>2</th>\n",
       "      <td>4</td>\n",
       "      <td>5</td>\n",
       "    </tr>\n",
       "  </tbody>\n",
       "</table>\n",
       "</div>"
      ],
      "text/plain": [
       "         A  B\n",
       "0  change2  3\n",
       "1        2  3\n",
       "2        4  5"
      ]
     },
     "metadata": {},
     "output_type": "display_data"
    },
    {
     "data": {
      "text/html": [
       "<div>\n",
       "<style scoped>\n",
       "    .dataframe tbody tr th:only-of-type {\n",
       "        vertical-align: middle;\n",
       "    }\n",
       "\n",
       "    .dataframe tbody tr th {\n",
       "        vertical-align: top;\n",
       "    }\n",
       "\n",
       "    .dataframe thead th {\n",
       "        text-align: right;\n",
       "    }\n",
       "</style>\n",
       "<table border=\"1\" class=\"dataframe\">\n",
       "  <thead>\n",
       "    <tr style=\"text-align: right;\">\n",
       "      <th></th>\n",
       "      <th>A</th>\n",
       "      <th>B</th>\n",
       "    </tr>\n",
       "  </thead>\n",
       "  <tbody>\n",
       "    <tr>\n",
       "      <th>0</th>\n",
       "      <td>1</td>\n",
       "      <td>3</td>\n",
       "    </tr>\n",
       "    <tr>\n",
       "      <th>1</th>\n",
       "      <td>change3</td>\n",
       "      <td>3</td>\n",
       "    </tr>\n",
       "    <tr>\n",
       "      <th>2</th>\n",
       "      <td>4</td>\n",
       "      <td>5</td>\n",
       "    </tr>\n",
       "  </tbody>\n",
       "</table>\n",
       "</div>"
      ],
      "text/plain": [
       "         A  B\n",
       "0        1  3\n",
       "1  change3  3\n",
       "2        4  5"
      ]
     },
     "metadata": {},
     "output_type": "display_data"
    }
   ],
   "source": [
    "# Reviewer's code 2.2\n",
    "\n",
    "df2.loc[0, 'A'] = 'change2'\n",
    "\n",
    "df3.loc[1, 'A'] = 'change3'\n",
    "\n",
    "display(df1, df2, df3)"
   ]
  },
  {
   "cell_type": "markdown",
   "metadata": {},
   "source": [
    "<div class=\"alert alert-success\" style=\"border-radius: 15px; box-shadow: 4px 4px 4px; border: 1px solid \">\n",
    "<h2> Reviewer's comment 2</h2>\n",
    "    \n",
    "\n",
    "As we see, the old dataframe, **df1** has the same changes as **df2** does, because **df2** was created without using **copy**. While the **df3** changes did not accur in the **df1** frame as **df3** was created with **copy**. \n",
    "\n",
    "</div>"
   ]
  },
  {
   "cell_type": "code",
   "execution_count": 153,
   "metadata": {},
   "outputs": [],
   "source": [
    "data = data_1"
   ]
  },
  {
   "cell_type": "code",
   "execution_count": 154,
   "metadata": {},
   "outputs": [
    {
     "data": {
      "text/plain": [
       "(21453, 12)"
      ]
     },
     "execution_count": 154,
     "metadata": {},
     "output_type": "execute_result"
    }
   ],
   "source": [
    "data.shape"
   ]
  },
  {
   "cell_type": "markdown",
   "metadata": {},
   "source": [
    "# Working with missing values"
   ]
  },
  {
   "cell_type": "markdown",
   "metadata": {},
   "source": [
    "It's better to work with dictionaries because it will be easier to address the values and it will save time."
   ]
  },
  {
   "cell_type": "code",
   "execution_count": 155,
   "metadata": {},
   "outputs": [
    {
     "data": {
      "text/html": [
       "<div>\n",
       "<style scoped>\n",
       "    .dataframe tbody tr th:only-of-type {\n",
       "        vertical-align: middle;\n",
       "    }\n",
       "\n",
       "    .dataframe tbody tr th {\n",
       "        vertical-align: top;\n",
       "    }\n",
       "\n",
       "    .dataframe thead th {\n",
       "        text-align: right;\n",
       "    }\n",
       "</style>\n",
       "<table border=\"1\" class=\"dataframe\">\n",
       "  <thead>\n",
       "    <tr style=\"text-align: right;\">\n",
       "      <th></th>\n",
       "      <th>education</th>\n",
       "      <th>education_id</th>\n",
       "      <th>family_status</th>\n",
       "      <th>family_status_id</th>\n",
       "    </tr>\n",
       "  </thead>\n",
       "  <tbody>\n",
       "    <tr>\n",
       "      <th>0</th>\n",
       "      <td>bachelor's degree</td>\n",
       "      <td>0</td>\n",
       "      <td>married</td>\n",
       "      <td>0</td>\n",
       "    </tr>\n",
       "    <tr>\n",
       "      <th>1</th>\n",
       "      <td>secondary education</td>\n",
       "      <td>1</td>\n",
       "      <td>married</td>\n",
       "      <td>0</td>\n",
       "    </tr>\n",
       "    <tr>\n",
       "      <th>2</th>\n",
       "      <td>secondary education</td>\n",
       "      <td>1</td>\n",
       "      <td>married</td>\n",
       "      <td>0</td>\n",
       "    </tr>\n",
       "    <tr>\n",
       "      <th>3</th>\n",
       "      <td>secondary education</td>\n",
       "      <td>1</td>\n",
       "      <td>married</td>\n",
       "      <td>0</td>\n",
       "    </tr>\n",
       "    <tr>\n",
       "      <th>4</th>\n",
       "      <td>secondary education</td>\n",
       "      <td>1</td>\n",
       "      <td>civil partnership</td>\n",
       "      <td>1</td>\n",
       "    </tr>\n",
       "    <tr>\n",
       "      <th>...</th>\n",
       "      <td>...</td>\n",
       "      <td>...</td>\n",
       "      <td>...</td>\n",
       "      <td>...</td>\n",
       "    </tr>\n",
       "    <tr>\n",
       "      <th>21448</th>\n",
       "      <td>secondary education</td>\n",
       "      <td>1</td>\n",
       "      <td>civil partnership</td>\n",
       "      <td>1</td>\n",
       "    </tr>\n",
       "    <tr>\n",
       "      <th>21449</th>\n",
       "      <td>secondary education</td>\n",
       "      <td>1</td>\n",
       "      <td>married</td>\n",
       "      <td>0</td>\n",
       "    </tr>\n",
       "    <tr>\n",
       "      <th>21450</th>\n",
       "      <td>secondary education</td>\n",
       "      <td>1</td>\n",
       "      <td>civil partnership</td>\n",
       "      <td>1</td>\n",
       "    </tr>\n",
       "    <tr>\n",
       "      <th>21451</th>\n",
       "      <td>secondary education</td>\n",
       "      <td>1</td>\n",
       "      <td>married</td>\n",
       "      <td>0</td>\n",
       "    </tr>\n",
       "    <tr>\n",
       "      <th>21452</th>\n",
       "      <td>secondary education</td>\n",
       "      <td>1</td>\n",
       "      <td>married</td>\n",
       "      <td>0</td>\n",
       "    </tr>\n",
       "  </tbody>\n",
       "</table>\n",
       "<p>21453 rows × 4 columns</p>\n",
       "</div>"
      ],
      "text/plain": [
       "                 education  education_id      family_status  family_status_id\n",
       "0        bachelor's degree             0            married                 0\n",
       "1      secondary education             1            married                 0\n",
       "2      secondary education             1            married                 0\n",
       "3      secondary education             1            married                 0\n",
       "4      secondary education             1  civil partnership                 1\n",
       "...                    ...           ...                ...               ...\n",
       "21448  secondary education             1  civil partnership                 1\n",
       "21449  secondary education             1            married                 0\n",
       "21450  secondary education             1  civil partnership                 1\n",
       "21451  secondary education             1            married                 0\n",
       "21452  secondary education             1            married                 0\n",
       "\n",
       "[21453 rows x 4 columns]"
      ]
     },
     "execution_count": 155,
     "metadata": {},
     "output_type": "execute_result"
    }
   ],
   "source": [
    "# Find the dictionaries\n",
    "data[['education','education_id','family_status', 'family_status_id']]"
   ]
  },
  {
   "cell_type": "markdown",
   "metadata": {},
   "source": [
    "### Restoring missing values in `total_income`"
   ]
  },
  {
   "cell_type": "markdown",
   "metadata": {},
   "source": [
    "We have 2 columns with missing values:\n",
    "1. days_employed\n",
    "2. total_income"
   ]
  },
  {
   "cell_type": "markdown",
   "metadata": {},
   "source": [
    "<div class=\"alert alert-warning\" style=\"border-radius: 15px; box-shadow: 4px 4px 4px; border: 1px solid \">\n",
    "<b> Reviewer's comment</b>\n",
    "    \n",
    "\n",
    "Do we need a loop here?\n",
    "</div>"
   ]
  },
  {
   "cell_type": "markdown",
   "metadata": {},
   "source": [
    "<div class=\"alert alert-info\">\n",
    "<b> Student's comment</b>\n",
    "\n",
    "I guess not because I already know the columns.\n",
    "So I removed it.\n",
    "</div>\n",
    "<font color='red'></font>     \n"
   ]
  },
  {
   "cell_type": "code",
   "execution_count": 156,
   "metadata": {},
   "outputs": [
    {
     "data": {
      "text/plain": [
       "19.000     14\n",
       "20.000     51\n",
       "21.000    111\n",
       "22.000    183\n",
       "23.000    252\n",
       "24.000    264\n",
       "25.000    357\n",
       "26.000    408\n",
       "27.000    493\n",
       "28.000    503\n",
       "29.000    544\n",
       "30.000    537\n",
       "31.000    559\n",
       "32.000    509\n",
       "33.000    581\n",
       "34.000    601\n",
       "35.000    616\n",
       "36.000    554\n",
       "37.000    536\n",
       "38.000    597\n",
       "39.000    572\n",
       "40.000    607\n",
       "41.000    605\n",
       "42.000    696\n",
       "43.000    512\n",
       "44.000    545\n",
       "45.000    496\n",
       "46.000    472\n",
       "47.000    477\n",
       "48.000    536\n",
       "49.000    508\n",
       "50.000    513\n",
       "51.000    446\n",
       "52.000    484\n",
       "53.000    459\n",
       "54.000    476\n",
       "55.000    443\n",
       "56.000    483\n",
       "57.000    456\n",
       "58.000    454\n",
       "59.000    443\n",
       "60.000    374\n",
       "61.000    354\n",
       "62.000    348\n",
       "63.000    269\n",
       "64.000    260\n",
       "65.000    193\n",
       "66.000    182\n",
       "67.000    167\n",
       "68.000     99\n",
       "69.000     85\n",
       "70.000     65\n",
       "71.000     56\n",
       "72.000     33\n",
       "73.000      8\n",
       "74.000      6\n",
       "75.000      1\n",
       "Name: dob_years, dtype: int64"
      ]
     },
     "execution_count": 156,
     "metadata": {},
     "output_type": "execute_result"
    }
   ],
   "source": [
    "data['dob_years'].value_counts().sort_index()"
   ]
  },
  {
   "cell_type": "code",
   "execution_count": 157,
   "metadata": {},
   "outputs": [],
   "source": [
    "# Let's write a function that calculates the age category\n",
    "def age_category(age):\n",
    "    if age < 19:\n",
    "        return 'too young for loan'\n",
    "    elif age < 29:\n",
    "        return '20-29 years old'\n",
    "    elif age < 39:\n",
    "        return '30-39 years old'\n",
    "    elif age < 49:\n",
    "        return '40-49 years old'\n",
    "    elif age < 59:\n",
    "        return '50-59 years old'\n",
    "    elif age < 69:\n",
    "        return '60-69 years old'\n",
    "    else:\n",
    "        return '70+ years old'"
   ]
  },
  {
   "cell_type": "markdown",
   "metadata": {},
   "source": [
    "<div class=\"alert alert-success\" style=\"border-radius: 15px; box-shadow: 4px 4px 4px; border: 1px solid \">\n",
    "<b> Reviewer's comment</b>\n",
    "    \n",
    "\n",
    "Nice idea. \n",
    "</div>"
   ]
  },
  {
   "cell_type": "code",
   "execution_count": 158,
   "metadata": {},
   "outputs": [
    {
     "data": {
      "text/plain": [
       "'50-59 years old'"
      ]
     },
     "execution_count": 158,
     "metadata": {},
     "output_type": "execute_result"
    }
   ],
   "source": [
    "# Test if the function works\n",
    "age_category(55)"
   ]
  },
  {
   "cell_type": "code",
   "execution_count": 159,
   "metadata": {},
   "outputs": [],
   "source": [
    "# Creating new column based on function\n",
    "data['age_group'] = data['dob_years'].apply(age_category)"
   ]
  },
  {
   "cell_type": "code",
   "execution_count": 160,
   "metadata": {},
   "outputs": [
    {
     "data": {
      "text/html": [
       "<div>\n",
       "<style scoped>\n",
       "    .dataframe tbody tr th:only-of-type {\n",
       "        vertical-align: middle;\n",
       "    }\n",
       "\n",
       "    .dataframe tbody tr th {\n",
       "        vertical-align: top;\n",
       "    }\n",
       "\n",
       "    .dataframe thead th {\n",
       "        text-align: right;\n",
       "    }\n",
       "</style>\n",
       "<table border=\"1\" class=\"dataframe\">\n",
       "  <thead>\n",
       "    <tr style=\"text-align: right;\">\n",
       "      <th></th>\n",
       "      <th>dob_years</th>\n",
       "      <th>age_group</th>\n",
       "    </tr>\n",
       "  </thead>\n",
       "  <tbody>\n",
       "    <tr>\n",
       "      <th>0</th>\n",
       "      <td>42.000</td>\n",
       "      <td>40-49 years old</td>\n",
       "    </tr>\n",
       "    <tr>\n",
       "      <th>1</th>\n",
       "      <td>36.000</td>\n",
       "      <td>30-39 years old</td>\n",
       "    </tr>\n",
       "    <tr>\n",
       "      <th>2</th>\n",
       "      <td>33.000</td>\n",
       "      <td>30-39 years old</td>\n",
       "    </tr>\n",
       "    <tr>\n",
       "      <th>3</th>\n",
       "      <td>32.000</td>\n",
       "      <td>30-39 years old</td>\n",
       "    </tr>\n",
       "    <tr>\n",
       "      <th>4</th>\n",
       "      <td>53.000</td>\n",
       "      <td>50-59 years old</td>\n",
       "    </tr>\n",
       "  </tbody>\n",
       "</table>\n",
       "</div>"
      ],
      "text/plain": [
       "   dob_years        age_group\n",
       "0     42.000  40-49 years old\n",
       "1     36.000  30-39 years old\n",
       "2     33.000  30-39 years old\n",
       "3     32.000  30-39 years old\n",
       "4     53.000  50-59 years old"
      ]
     },
     "execution_count": 160,
     "metadata": {},
     "output_type": "execute_result"
    }
   ],
   "source": [
    "# Checking how values in the new column\n",
    "data[['dob_years','age_group']].head()"
   ]
  },
  {
   "cell_type": "markdown",
   "metadata": {},
   "source": [
    "***Let's check the missing values now:***"
   ]
  },
  {
   "cell_type": "code",
   "execution_count": 161,
   "metadata": {},
   "outputs": [
    {
     "data": {
      "text/plain": [
       "children               0\n",
       "days_employed       2102\n",
       "dob_years              0\n",
       "education              0\n",
       "education_id           0\n",
       "family_status          0\n",
       "family_status_id       0\n",
       "gender                 0\n",
       "income_type            0\n",
       "debt                   0\n",
       "total_income        2102\n",
       "purpose                0\n",
       "age_group              0\n",
       "dtype: int64"
      ]
     },
     "execution_count": 161,
     "metadata": {},
     "output_type": "execute_result"
    }
   ],
   "source": [
    "data.isna().sum()"
   ]
  },
  {
   "cell_type": "code",
   "execution_count": 162,
   "metadata": {},
   "outputs": [
    {
     "data": {
      "text/html": [
       "<div>\n",
       "<style scoped>\n",
       "    .dataframe tbody tr th:only-of-type {\n",
       "        vertical-align: middle;\n",
       "    }\n",
       "\n",
       "    .dataframe tbody tr th {\n",
       "        vertical-align: top;\n",
       "    }\n",
       "\n",
       "    .dataframe thead th {\n",
       "        text-align: right;\n",
       "    }\n",
       "</style>\n",
       "<table border=\"1\" class=\"dataframe\">\n",
       "  <thead>\n",
       "    <tr style=\"text-align: right;\">\n",
       "      <th></th>\n",
       "      <th>children</th>\n",
       "      <th>days_employed</th>\n",
       "      <th>dob_years</th>\n",
       "      <th>education</th>\n",
       "      <th>education_id</th>\n",
       "      <th>family_status</th>\n",
       "      <th>family_status_id</th>\n",
       "      <th>gender</th>\n",
       "      <th>income_type</th>\n",
       "      <th>debt</th>\n",
       "      <th>total_income</th>\n",
       "      <th>purpose</th>\n",
       "      <th>age_group</th>\n",
       "    </tr>\n",
       "  </thead>\n",
       "  <tbody>\n",
       "    <tr>\n",
       "      <th>12</th>\n",
       "      <td>0</td>\n",
       "      <td>NaN</td>\n",
       "      <td>65.000</td>\n",
       "      <td>secondary education</td>\n",
       "      <td>1</td>\n",
       "      <td>civil partnership</td>\n",
       "      <td>1</td>\n",
       "      <td>M</td>\n",
       "      <td>retiree</td>\n",
       "      <td>0</td>\n",
       "      <td>NaN</td>\n",
       "      <td>to have a wedding</td>\n",
       "      <td>60-69 years old</td>\n",
       "    </tr>\n",
       "    <tr>\n",
       "      <th>26</th>\n",
       "      <td>0</td>\n",
       "      <td>NaN</td>\n",
       "      <td>41.000</td>\n",
       "      <td>secondary education</td>\n",
       "      <td>1</td>\n",
       "      <td>married</td>\n",
       "      <td>0</td>\n",
       "      <td>M</td>\n",
       "      <td>civil servant</td>\n",
       "      <td>0</td>\n",
       "      <td>NaN</td>\n",
       "      <td>education</td>\n",
       "      <td>40-49 years old</td>\n",
       "    </tr>\n",
       "    <tr>\n",
       "      <th>29</th>\n",
       "      <td>0</td>\n",
       "      <td>NaN</td>\n",
       "      <td>63.000</td>\n",
       "      <td>secondary education</td>\n",
       "      <td>1</td>\n",
       "      <td>unmarried</td>\n",
       "      <td>4</td>\n",
       "      <td>F</td>\n",
       "      <td>retiree</td>\n",
       "      <td>0</td>\n",
       "      <td>NaN</td>\n",
       "      <td>building a real estate</td>\n",
       "      <td>60-69 years old</td>\n",
       "    </tr>\n",
       "    <tr>\n",
       "      <th>41</th>\n",
       "      <td>0</td>\n",
       "      <td>NaN</td>\n",
       "      <td>50.000</td>\n",
       "      <td>secondary education</td>\n",
       "      <td>1</td>\n",
       "      <td>married</td>\n",
       "      <td>0</td>\n",
       "      <td>F</td>\n",
       "      <td>civil servant</td>\n",
       "      <td>0</td>\n",
       "      <td>NaN</td>\n",
       "      <td>second-hand car purchase</td>\n",
       "      <td>50-59 years old</td>\n",
       "    </tr>\n",
       "    <tr>\n",
       "      <th>55</th>\n",
       "      <td>0</td>\n",
       "      <td>NaN</td>\n",
       "      <td>54.000</td>\n",
       "      <td>secondary education</td>\n",
       "      <td>1</td>\n",
       "      <td>civil partnership</td>\n",
       "      <td>1</td>\n",
       "      <td>F</td>\n",
       "      <td>retiree</td>\n",
       "      <td>1</td>\n",
       "      <td>NaN</td>\n",
       "      <td>to have a wedding</td>\n",
       "      <td>50-59 years old</td>\n",
       "    </tr>\n",
       "    <tr>\n",
       "      <th>...</th>\n",
       "      <td>...</td>\n",
       "      <td>...</td>\n",
       "      <td>...</td>\n",
       "      <td>...</td>\n",
       "      <td>...</td>\n",
       "      <td>...</td>\n",
       "      <td>...</td>\n",
       "      <td>...</td>\n",
       "      <td>...</td>\n",
       "      <td>...</td>\n",
       "      <td>...</td>\n",
       "      <td>...</td>\n",
       "      <td>...</td>\n",
       "    </tr>\n",
       "    <tr>\n",
       "      <th>21417</th>\n",
       "      <td>2</td>\n",
       "      <td>NaN</td>\n",
       "      <td>47.000</td>\n",
       "      <td>secondary education</td>\n",
       "      <td>1</td>\n",
       "      <td>married</td>\n",
       "      <td>0</td>\n",
       "      <td>M</td>\n",
       "      <td>business</td>\n",
       "      <td>0</td>\n",
       "      <td>NaN</td>\n",
       "      <td>purchase of a car</td>\n",
       "      <td>40-49 years old</td>\n",
       "    </tr>\n",
       "    <tr>\n",
       "      <th>21423</th>\n",
       "      <td>1</td>\n",
       "      <td>NaN</td>\n",
       "      <td>50.000</td>\n",
       "      <td>secondary education</td>\n",
       "      <td>1</td>\n",
       "      <td>civil partnership</td>\n",
       "      <td>1</td>\n",
       "      <td>F</td>\n",
       "      <td>employee</td>\n",
       "      <td>0</td>\n",
       "      <td>NaN</td>\n",
       "      <td>wedding ceremony</td>\n",
       "      <td>50-59 years old</td>\n",
       "    </tr>\n",
       "    <tr>\n",
       "      <th>21425</th>\n",
       "      <td>0</td>\n",
       "      <td>NaN</td>\n",
       "      <td>48.000</td>\n",
       "      <td>bachelor's degree</td>\n",
       "      <td>0</td>\n",
       "      <td>married</td>\n",
       "      <td>0</td>\n",
       "      <td>F</td>\n",
       "      <td>business</td>\n",
       "      <td>0</td>\n",
       "      <td>NaN</td>\n",
       "      <td>building a property</td>\n",
       "      <td>40-49 years old</td>\n",
       "    </tr>\n",
       "    <tr>\n",
       "      <th>21430</th>\n",
       "      <td>1</td>\n",
       "      <td>NaN</td>\n",
       "      <td>42.000</td>\n",
       "      <td>secondary education</td>\n",
       "      <td>1</td>\n",
       "      <td>married</td>\n",
       "      <td>0</td>\n",
       "      <td>F</td>\n",
       "      <td>employee</td>\n",
       "      <td>0</td>\n",
       "      <td>NaN</td>\n",
       "      <td>building a real estate</td>\n",
       "      <td>40-49 years old</td>\n",
       "    </tr>\n",
       "    <tr>\n",
       "      <th>21438</th>\n",
       "      <td>2</td>\n",
       "      <td>NaN</td>\n",
       "      <td>28.000</td>\n",
       "      <td>secondary education</td>\n",
       "      <td>1</td>\n",
       "      <td>married</td>\n",
       "      <td>0</td>\n",
       "      <td>F</td>\n",
       "      <td>employee</td>\n",
       "      <td>0</td>\n",
       "      <td>NaN</td>\n",
       "      <td>car purchase</td>\n",
       "      <td>20-29 years old</td>\n",
       "    </tr>\n",
       "  </tbody>\n",
       "</table>\n",
       "<p>2102 rows × 13 columns</p>\n",
       "</div>"
      ],
      "text/plain": [
       "       children  days_employed  dob_years            education  education_id  \\\n",
       "12            0            NaN     65.000  secondary education             1   \n",
       "26            0            NaN     41.000  secondary education             1   \n",
       "29            0            NaN     63.000  secondary education             1   \n",
       "41            0            NaN     50.000  secondary education             1   \n",
       "55            0            NaN     54.000  secondary education             1   \n",
       "...         ...            ...        ...                  ...           ...   \n",
       "21417         2            NaN     47.000  secondary education             1   \n",
       "21423         1            NaN     50.000  secondary education             1   \n",
       "21425         0            NaN     48.000    bachelor's degree             0   \n",
       "21430         1            NaN     42.000  secondary education             1   \n",
       "21438         2            NaN     28.000  secondary education             1   \n",
       "\n",
       "           family_status  family_status_id gender    income_type  debt  \\\n",
       "12     civil partnership                 1      M        retiree     0   \n",
       "26               married                 0      M  civil servant     0   \n",
       "29             unmarried                 4      F        retiree     0   \n",
       "41               married                 0      F  civil servant     0   \n",
       "55     civil partnership                 1      F        retiree     1   \n",
       "...                  ...               ...    ...            ...   ...   \n",
       "21417            married                 0      M       business     0   \n",
       "21423  civil partnership                 1      F       employee     0   \n",
       "21425            married                 0      F       business     0   \n",
       "21430            married                 0      F       employee     0   \n",
       "21438            married                 0      F       employee     0   \n",
       "\n",
       "       total_income                   purpose        age_group  \n",
       "12              NaN         to have a wedding  60-69 years old  \n",
       "26              NaN                 education  40-49 years old  \n",
       "29              NaN    building a real estate  60-69 years old  \n",
       "41              NaN  second-hand car purchase  50-59 years old  \n",
       "55              NaN         to have a wedding  50-59 years old  \n",
       "...             ...                       ...              ...  \n",
       "21417           NaN         purchase of a car  40-49 years old  \n",
       "21423           NaN          wedding ceremony  50-59 years old  \n",
       "21425           NaN       building a property  40-49 years old  \n",
       "21430           NaN    building a real estate  40-49 years old  \n",
       "21438           NaN              car purchase  20-29 years old  \n",
       "\n",
       "[2102 rows x 13 columns]"
      ]
     },
     "execution_count": 162,
     "metadata": {},
     "output_type": "execute_result"
    }
   ],
   "source": [
    "data[(data.total_income.isna()) & (data.days_employed.isna())]"
   ]
  },
  {
   "cell_type": "markdown",
   "metadata": {},
   "source": [
    "As we can see the total amount of missing values in both colums is 2102.\n",
    "we can assume that all the missing values appears on the same rows."
   ]
  },
  {
   "cell_type": "code",
   "execution_count": 163,
   "metadata": {},
   "outputs": [
    {
     "data": {
      "text/html": [
       "<div>\n",
       "<style scoped>\n",
       "    .dataframe tbody tr th:only-of-type {\n",
       "        vertical-align: middle;\n",
       "    }\n",
       "\n",
       "    .dataframe tbody tr th {\n",
       "        vertical-align: top;\n",
       "    }\n",
       "\n",
       "    .dataframe thead th {\n",
       "        text-align: right;\n",
       "    }\n",
       "</style>\n",
       "<table border=\"1\" class=\"dataframe\">\n",
       "  <thead>\n",
       "    <tr style=\"text-align: right;\">\n",
       "      <th></th>\n",
       "      <th>children</th>\n",
       "      <th>days_employed</th>\n",
       "      <th>dob_years</th>\n",
       "      <th>education</th>\n",
       "      <th>education_id</th>\n",
       "      <th>family_status</th>\n",
       "      <th>family_status_id</th>\n",
       "      <th>gender</th>\n",
       "      <th>income_type</th>\n",
       "      <th>debt</th>\n",
       "      <th>total_income</th>\n",
       "      <th>purpose</th>\n",
       "      <th>age_group</th>\n",
       "    </tr>\n",
       "  </thead>\n",
       "  <tbody>\n",
       "    <tr>\n",
       "      <th>0</th>\n",
       "      <td>1</td>\n",
       "      <td>8437.673</td>\n",
       "      <td>42.000</td>\n",
       "      <td>bachelor's degree</td>\n",
       "      <td>0</td>\n",
       "      <td>married</td>\n",
       "      <td>0</td>\n",
       "      <td>F</td>\n",
       "      <td>employee</td>\n",
       "      <td>0</td>\n",
       "      <td>40620.102</td>\n",
       "      <td>purchase of the house</td>\n",
       "      <td>40-49 years old</td>\n",
       "    </tr>\n",
       "    <tr>\n",
       "      <th>1</th>\n",
       "      <td>1</td>\n",
       "      <td>4024.804</td>\n",
       "      <td>36.000</td>\n",
       "      <td>secondary education</td>\n",
       "      <td>1</td>\n",
       "      <td>married</td>\n",
       "      <td>0</td>\n",
       "      <td>F</td>\n",
       "      <td>employee</td>\n",
       "      <td>0</td>\n",
       "      <td>17932.802</td>\n",
       "      <td>car purchase</td>\n",
       "      <td>30-39 years old</td>\n",
       "    </tr>\n",
       "    <tr>\n",
       "      <th>2</th>\n",
       "      <td>0</td>\n",
       "      <td>5623.423</td>\n",
       "      <td>33.000</td>\n",
       "      <td>secondary education</td>\n",
       "      <td>1</td>\n",
       "      <td>married</td>\n",
       "      <td>0</td>\n",
       "      <td>M</td>\n",
       "      <td>employee</td>\n",
       "      <td>0</td>\n",
       "      <td>23341.752</td>\n",
       "      <td>purchase of the house</td>\n",
       "      <td>30-39 years old</td>\n",
       "    </tr>\n",
       "    <tr>\n",
       "      <th>3</th>\n",
       "      <td>3</td>\n",
       "      <td>4124.747</td>\n",
       "      <td>32.000</td>\n",
       "      <td>secondary education</td>\n",
       "      <td>1</td>\n",
       "      <td>married</td>\n",
       "      <td>0</td>\n",
       "      <td>M</td>\n",
       "      <td>employee</td>\n",
       "      <td>0</td>\n",
       "      <td>42820.568</td>\n",
       "      <td>supplementary education</td>\n",
       "      <td>30-39 years old</td>\n",
       "    </tr>\n",
       "    <tr>\n",
       "      <th>4</th>\n",
       "      <td>0</td>\n",
       "      <td>340266.072</td>\n",
       "      <td>53.000</td>\n",
       "      <td>secondary education</td>\n",
       "      <td>1</td>\n",
       "      <td>civil partnership</td>\n",
       "      <td>1</td>\n",
       "      <td>F</td>\n",
       "      <td>retiree</td>\n",
       "      <td>0</td>\n",
       "      <td>25378.572</td>\n",
       "      <td>to have a wedding</td>\n",
       "      <td>50-59 years old</td>\n",
       "    </tr>\n",
       "    <tr>\n",
       "      <th>5</th>\n",
       "      <td>0</td>\n",
       "      <td>926.186</td>\n",
       "      <td>27.000</td>\n",
       "      <td>bachelor's degree</td>\n",
       "      <td>0</td>\n",
       "      <td>civil partnership</td>\n",
       "      <td>1</td>\n",
       "      <td>M</td>\n",
       "      <td>business</td>\n",
       "      <td>0</td>\n",
       "      <td>40922.170</td>\n",
       "      <td>purchase of the house</td>\n",
       "      <td>20-29 years old</td>\n",
       "    </tr>\n",
       "    <tr>\n",
       "      <th>6</th>\n",
       "      <td>0</td>\n",
       "      <td>2879.202</td>\n",
       "      <td>43.000</td>\n",
       "      <td>bachelor's degree</td>\n",
       "      <td>0</td>\n",
       "      <td>married</td>\n",
       "      <td>0</td>\n",
       "      <td>F</td>\n",
       "      <td>business</td>\n",
       "      <td>0</td>\n",
       "      <td>38484.156</td>\n",
       "      <td>housing transactions</td>\n",
       "      <td>40-49 years old</td>\n",
       "    </tr>\n",
       "    <tr>\n",
       "      <th>7</th>\n",
       "      <td>0</td>\n",
       "      <td>152.780</td>\n",
       "      <td>50.000</td>\n",
       "      <td>secondary education</td>\n",
       "      <td>1</td>\n",
       "      <td>married</td>\n",
       "      <td>0</td>\n",
       "      <td>M</td>\n",
       "      <td>employee</td>\n",
       "      <td>0</td>\n",
       "      <td>21731.829</td>\n",
       "      <td>education</td>\n",
       "      <td>50-59 years old</td>\n",
       "    </tr>\n",
       "    <tr>\n",
       "      <th>8</th>\n",
       "      <td>2</td>\n",
       "      <td>6929.865</td>\n",
       "      <td>35.000</td>\n",
       "      <td>bachelor's degree</td>\n",
       "      <td>0</td>\n",
       "      <td>civil partnership</td>\n",
       "      <td>1</td>\n",
       "      <td>F</td>\n",
       "      <td>employee</td>\n",
       "      <td>0</td>\n",
       "      <td>15337.093</td>\n",
       "      <td>having a wedding</td>\n",
       "      <td>30-39 years old</td>\n",
       "    </tr>\n",
       "    <tr>\n",
       "      <th>9</th>\n",
       "      <td>0</td>\n",
       "      <td>2188.756</td>\n",
       "      <td>41.000</td>\n",
       "      <td>secondary education</td>\n",
       "      <td>1</td>\n",
       "      <td>married</td>\n",
       "      <td>0</td>\n",
       "      <td>M</td>\n",
       "      <td>employee</td>\n",
       "      <td>0</td>\n",
       "      <td>23108.150</td>\n",
       "      <td>purchase of the house for my family</td>\n",
       "      <td>40-49 years old</td>\n",
       "    </tr>\n",
       "  </tbody>\n",
       "</table>\n",
       "</div>"
      ],
      "text/plain": [
       "   children  days_employed  dob_years            education  education_id  \\\n",
       "0         1       8437.673     42.000    bachelor's degree             0   \n",
       "1         1       4024.804     36.000  secondary education             1   \n",
       "2         0       5623.423     33.000  secondary education             1   \n",
       "3         3       4124.747     32.000  secondary education             1   \n",
       "4         0     340266.072     53.000  secondary education             1   \n",
       "5         0        926.186     27.000    bachelor's degree             0   \n",
       "6         0       2879.202     43.000    bachelor's degree             0   \n",
       "7         0        152.780     50.000  secondary education             1   \n",
       "8         2       6929.865     35.000    bachelor's degree             0   \n",
       "9         0       2188.756     41.000  secondary education             1   \n",
       "\n",
       "       family_status  family_status_id gender income_type  debt  total_income  \\\n",
       "0            married                 0      F    employee     0     40620.102   \n",
       "1            married                 0      F    employee     0     17932.802   \n",
       "2            married                 0      M    employee     0     23341.752   \n",
       "3            married                 0      M    employee     0     42820.568   \n",
       "4  civil partnership                 1      F     retiree     0     25378.572   \n",
       "5  civil partnership                 1      M    business     0     40922.170   \n",
       "6            married                 0      F    business     0     38484.156   \n",
       "7            married                 0      M    employee     0     21731.829   \n",
       "8  civil partnership                 1      F    employee     0     15337.093   \n",
       "9            married                 0      M    employee     0     23108.150   \n",
       "\n",
       "                               purpose        age_group  \n",
       "0                purchase of the house  40-49 years old  \n",
       "1                         car purchase  30-39 years old  \n",
       "2                purchase of the house  30-39 years old  \n",
       "3              supplementary education  30-39 years old  \n",
       "4                    to have a wedding  50-59 years old  \n",
       "5                purchase of the house  20-29 years old  \n",
       "6                 housing transactions  40-49 years old  \n",
       "7                            education  50-59 years old  \n",
       "8                     having a wedding  30-39 years old  \n",
       "9  purchase of the house for my family  40-49 years old  "
      ]
     },
     "execution_count": 163,
     "metadata": {},
     "output_type": "execute_result"
    }
   ],
   "source": [
    "# Create a table without missing values and print a few of its rows to make sure it looks fine\n",
    "data[data.total_income.notna()].head(10)"
   ]
  },
  {
   "cell_type": "code",
   "execution_count": 164,
   "metadata": {},
   "outputs": [
    {
     "name": "stdout",
     "output_type": "stream",
     "text": [
      "income_type\n",
      "business                      32386.794\n",
      "civil servant                 27343.730\n",
      "employee                      25820.842\n",
      "entrepreneur                  79866.103\n",
      "paternity / maternity leave    8612.661\n",
      "retiree                       21940.395\n",
      "student                       15712.260\n",
      "unemployed                    21014.361\n",
      "Name: total_income, dtype: float64\n",
      "-------------\n",
      "education\n",
      "bachelor's degree     33142.802\n",
      "graduate degree       27960.025\n",
      "primary education     21144.882\n",
      "secondary education   24594.503\n",
      "some college          29045.444\n",
      "Name: total_income, dtype: float64\n",
      "-------------\n",
      "gender\n",
      "F   24656.230\n",
      "M   30907.144\n",
      "Name: total_income, dtype: float64\n",
      "-------------\n",
      "family_status\n",
      "civil partnership   26694.429\n",
      "divorced            27189.355\n",
      "married             27041.785\n",
      "unmarried           26934.070\n",
      "widow / widower     22984.209\n",
      "Name: total_income, dtype: float64\n",
      "-------------\n"
     ]
    }
   ],
   "source": [
    "# Look at the mean values for income based on your identified factors\n",
    "for i in data[['income_type','education','gender','family_status']]:\n",
    "    print(data.groupby([i])['total_income'].mean())\n",
    "    print('-------------')"
   ]
  },
  {
   "cell_type": "code",
   "execution_count": 165,
   "metadata": {
    "scrolled": true
   },
   "outputs": [
    {
     "name": "stdout",
     "output_type": "stream",
     "text": [
      "income_type\n",
      "business                      27577.272\n",
      "civil servant                 24071.669\n",
      "employee                      22815.103\n",
      "entrepreneur                  79866.103\n",
      "paternity / maternity leave    8612.661\n",
      "retiree                       18962.318\n",
      "student                       15712.260\n",
      "unemployed                    21014.361\n",
      "Name: total_income, dtype: float64\n",
      "-------------\n",
      "education\n",
      "bachelor's degree     28054.531\n",
      "graduate degree       25161.584\n",
      "primary education     18741.976\n",
      "secondary education   21836.583\n",
      "some college          25618.464\n",
      "Name: total_income, dtype: float64\n",
      "-------------\n",
      "gender\n",
      "F   21465.165\n",
      "M   26834.295\n",
      "Name: total_income, dtype: float64\n",
      "-------------\n",
      "family_status\n",
      "civil partnership   23186.534\n",
      "divorced            23515.096\n",
      "married             23389.540\n",
      "unmarried           23149.028\n",
      "widow / widower     20514.190\n",
      "Name: total_income, dtype: float64\n",
      "-------------\n"
     ]
    }
   ],
   "source": [
    "# Look at the median values for income based on your identified factors\n",
    "for i in data[['income_type','education','gender','family_status']]:\n",
    "    print(data.groupby([i])['total_income'].median())\n",
    "    print('-------------')"
   ]
  },
  {
   "cell_type": "markdown",
   "metadata": {},
   "source": [
    "I decide to checke factors that can effect person's income.\n",
    "\n",
    "income_type - variety of incomes.\n",
    "\n",
    "education - variety of incomes.\n",
    "\n",
    "gender - around 5-6K diffrence.\n",
    "\n",
    "family_status - no a big diffrence."
   ]
  },
  {
   "cell_type": "markdown",
   "metadata": {},
   "source": [
    "I decide to fill the income missing values according to the median income type.\n",
    "There are many income type and I assume it will be more accurate to use this category.\n",
    "The median is lower than the mean, it means there are some outlier and this is why I choose the medain."
   ]
  },
  {
   "cell_type": "code",
   "execution_count": 166,
   "metadata": {},
   "outputs": [],
   "source": [
    "#  Write a function that we will use for filling in missing values\n",
    "data['total_income'] = data['total_income'].fillna(data.groupby('income_type')['total_income'].transform('median'))"
   ]
  },
  {
   "cell_type": "markdown",
   "metadata": {},
   "source": [
    "<div class=\"alert alert-success\" style=\"border-radius: 15px; box-shadow: 4px 4px 4px; border: 1px solid \">\n",
    "<b> Reviewer's comment</b>\n",
    "    \n",
    "\n",
    "1. Very good decision. We can also add **education** in a groupby method.\n",
    "    \n",
    "    \n",
    "2. What kind of function do you want to receive? I mean, it is just one line of code. do we really need a function? If you are talking about the task, where it's said about some function, then don't worry, since your code is elegant. No *def* function is needed anymore. Actually, **fillna** is a function, so everything is ok here. \n",
    "    \n",
    "</div>"
   ]
  },
  {
   "cell_type": "markdown",
   "metadata": {},
   "source": [
    "<div class=\"alert alert-info\">\n",
    "<b> Student's comment</b>\n",
    "    \n",
    "1. you mean double groupby? or instead of the income type?\n",
    "    \n",
    "2. Great thank you! I thought they ask for a def.\n",
    "    \n",
    "</div>\n",
    "<font color='red'></font>     "
   ]
  },
  {
   "cell_type": "markdown",
   "metadata": {},
   "source": [
    "<div class=\"alert alert-success\" style=\"border-radius: 15px; box-shadow: 4px 4px 4px; border: 1px solid \">\n",
    "<h2> Reviewer's comment 2</h2>\n",
    "    \n",
    "\n",
    "I mean, you can use several columns to take a median value: \n",
    "    \n",
    "    `data['total_income'].fillna(data.groupby(['income_type', 'education'])['total_income'].transform('median'))`\n",
    "\n",
    "\n",
    "Then we will calculate a median **total_income** value for each pair **income_type-education**.</div>"
   ]
  },
  {
   "cell_type": "code",
   "execution_count": 167,
   "metadata": {},
   "outputs": [
    {
     "data": {
      "text/plain": [
       "0"
      ]
     },
     "execution_count": 167,
     "metadata": {},
     "output_type": "execute_result"
    }
   ],
   "source": [
    "# Check if it works\n",
    "data.total_income.isna().sum()"
   ]
  },
  {
   "cell_type": "code",
   "execution_count": 168,
   "metadata": {},
   "outputs": [
    {
     "data": {
      "text/plain": [
       "0       40620.102\n",
       "1       17932.802\n",
       "2       23341.752\n",
       "3       42820.568\n",
       "4       25378.572\n",
       "           ...   \n",
       "21448   35966.698\n",
       "21449   24959.969\n",
       "21450   14347.610\n",
       "21451   39054.888\n",
       "21452   13127.587\n",
       "Name: total_income, Length: 21453, dtype: float64"
      ]
     },
     "execution_count": 168,
     "metadata": {},
     "output_type": "execute_result"
    }
   ],
   "source": [
    "# Check if we got any errors\n",
    "data['total_income']"
   ]
  },
  {
   "cell_type": "code",
   "execution_count": 169,
   "metadata": {},
   "outputs": [
    {
     "name": "stdout",
     "output_type": "stream",
     "text": [
      "<class 'pandas.core.frame.DataFrame'>\n",
      "RangeIndex: 21453 entries, 0 to 21452\n",
      "Data columns (total 13 columns):\n",
      " #   Column            Non-Null Count  Dtype  \n",
      "---  ------            --------------  -----  \n",
      " 0   children          21453 non-null  int64  \n",
      " 1   days_employed     19351 non-null  float64\n",
      " 2   dob_years         21453 non-null  float64\n",
      " 3   education         21453 non-null  object \n",
      " 4   education_id      21453 non-null  int64  \n",
      " 5   family_status     21453 non-null  object \n",
      " 6   family_status_id  21453 non-null  int64  \n",
      " 7   gender            21453 non-null  object \n",
      " 8   income_type       21453 non-null  object \n",
      " 9   debt              21453 non-null  int64  \n",
      " 10  total_income      21453 non-null  float64\n",
      " 11  purpose           21453 non-null  object \n",
      " 12  age_group         21453 non-null  object \n",
      "dtypes: float64(3), int64(4), object(6)\n",
      "memory usage: 2.1+ MB\n"
     ]
    }
   ],
   "source": [
    "# Checking the number of entries in the columns\n",
    "data.info()"
   ]
  },
  {
   "cell_type": "markdown",
   "metadata": {},
   "source": [
    "###  Restoring values in `days_employed`"
   ]
  },
  {
   "cell_type": "code",
   "execution_count": 170,
   "metadata": {
    "pycharm": {
     "name": "#%%\n"
    }
   },
   "outputs": [
    {
     "data": {
      "text/plain": [
       "dob_years\n",
       "19.000      724.493\n",
       "20.000      674.839\n",
       "21.000      618.734\n",
       "22.000      703.310\n",
       "23.000      690.204\n",
       "24.000      947.731\n",
       "25.000      919.199\n",
       "26.000     1083.658\n",
       "27.000     1166.212\n",
       "28.000     1141.705\n",
       "29.000     1315.454\n",
       "30.000     1420.587\n",
       "31.000     1308.901\n",
       "32.000     1446.623\n",
       "33.000     1426.415\n",
       "34.000     1615.910\n",
       "35.000     1613.495\n",
       "36.000     1799.520\n",
       "37.000     1816.713\n",
       "38.000     1817.194\n",
       "39.000     1891.389\n",
       "40.000     1728.937\n",
       "41.000     1864.658\n",
       "42.000     2210.576\n",
       "43.000     1869.020\n",
       "44.000     2084.330\n",
       "45.000     2254.431\n",
       "46.000     2100.473\n",
       "47.000     2203.079\n",
       "48.000     2429.675\n",
       "49.000     2560.317\n",
       "50.000     2626.986\n",
       "51.000     2846.081\n",
       "52.000     3395.640\n",
       "53.000     3650.008\n",
       "54.000     4026.541\n",
       "55.000     7043.471\n",
       "56.000     6850.179\n",
       "57.000   333953.492\n",
       "58.000   331245.977\n",
       "59.000   344372.337\n",
       "60.000   349414.537\n",
       "61.000   343984.932\n",
       "62.000   354981.718\n",
       "63.000   358482.296\n",
       "64.000   355781.563\n",
       "65.000   357103.967\n",
       "66.000   363827.439\n",
       "67.000   357222.855\n",
       "68.000   365278.195\n",
       "69.000   362313.375\n",
       "70.000   362787.772\n",
       "71.000   359700.939\n",
       "72.000   367378.973\n",
       "73.000   364291.049\n",
       "74.000   343075.981\n",
       "75.000     1678.970\n",
       "Name: days_employed, dtype: float64"
      ]
     },
     "execution_count": 170,
     "metadata": {},
     "output_type": "execute_result"
    }
   ],
   "source": [
    "# Distribution of `days_employed` medians based on your identified parameters\n",
    "days_employes_median = data.groupby('dob_years')['days_employed'].median()\n",
    "days_employes_median"
   ]
  },
  {
   "cell_type": "code",
   "execution_count": 171,
   "metadata": {},
   "outputs": [
    {
     "data": {
      "text/plain": [
       "dob_years\n",
       "19.000      633.678\n",
       "20.000      684.944\n",
       "21.000      709.441\n",
       "22.000     2793.322\n",
       "23.000      827.309\n",
       "24.000     1026.405\n",
       "25.000     1088.406\n",
       "26.000     3214.617\n",
       "27.000     3725.821\n",
       "28.000     2180.056\n",
       "29.000     1553.823\n",
       "30.000     1696.039\n",
       "31.000     2331.247\n",
       "32.000     3877.197\n",
       "33.000     3241.413\n",
       "34.000     4141.243\n",
       "35.000     2755.226\n",
       "36.000     4496.535\n",
       "37.000     5879.263\n",
       "38.000     7641.485\n",
       "39.000     5277.456\n",
       "40.000     7076.522\n",
       "41.000     6400.926\n",
       "42.000    17741.626\n",
       "43.000     9418.428\n",
       "44.000     9952.060\n",
       "45.000    11748.039\n",
       "46.000    14121.192\n",
       "47.000    14223.686\n",
       "48.000    18149.684\n",
       "49.000    26679.791\n",
       "50.000    50493.031\n",
       "51.000    68425.773\n",
       "52.000    82803.402\n",
       "53.000    94073.249\n",
       "54.000   126757.782\n",
       "55.000   152264.947\n",
       "56.000   157417.505\n",
       "57.000   193689.068\n",
       "58.000   188571.490\n",
       "59.000   227496.974\n",
       "60.000   262925.278\n",
       "61.000   246731.049\n",
       "62.000   274381.284\n",
       "63.000   293383.721\n",
       "64.000   287670.476\n",
       "65.000   287448.539\n",
       "66.000   313613.718\n",
       "67.000   317629.789\n",
       "68.000   326896.749\n",
       "69.000   338361.512\n",
       "70.000   318072.656\n",
       "71.000   332751.982\n",
       "72.000   333177.823\n",
       "73.000   313848.167\n",
       "74.000   241262.659\n",
       "75.000     1678.970\n",
       "Name: days_employed, dtype: float64"
      ]
     },
     "execution_count": 171,
     "metadata": {},
     "output_type": "execute_result"
    }
   ],
   "source": [
    "# Distribution of `days_employed` means based on your identified parameters\n",
    "days_employes_mean = data.groupby('dob_years')['days_employed'].mean()\n",
    "days_employes_mean"
   ]
  },
  {
   "cell_type": "code",
   "execution_count": 172,
   "metadata": {},
   "outputs": [
    {
     "name": "stdout",
     "output_type": "stream",
     "text": [
      "57\n"
     ]
    },
    {
     "data": {
      "text/plain": [
       "dob_years\n",
       "58.000   -142674.487\n",
       "57.000   -140264.424\n",
       "59.000   -116875.363\n",
       "74.000   -101813.322\n",
       "61.000    -97253.883\n",
       "60.000    -86489.260\n",
       "62.000    -80600.434\n",
       "65.000    -69655.429\n",
       "64.000    -68111.087\n",
       "63.000    -65098.575\n",
       "73.000    -50442.882\n",
       "66.000    -50213.721\n",
       "70.000    -44715.116\n",
       "67.000    -39593.067\n",
       "68.000    -38381.446\n",
       "72.000    -34201.151\n",
       "71.000    -26948.957\n",
       "69.000    -23951.863\n",
       "19.000       -90.815\n",
       "75.000         0.000\n",
       "20.000        10.105\n",
       "24.000        78.674\n",
       "21.000        90.707\n",
       "23.000       137.105\n",
       "25.000       169.207\n",
       "29.000       238.370\n",
       "30.000       275.452\n",
       "31.000      1022.346\n",
       "28.000      1038.351\n",
       "35.000      1141.732\n",
       "33.000      1814.998\n",
       "22.000      2090.012\n",
       "26.000      2130.959\n",
       "32.000      2430.575\n",
       "34.000      2525.333\n",
       "27.000      2559.609\n",
       "36.000      2697.014\n",
       "39.000      3386.068\n",
       "37.000      4062.550\n",
       "41.000      4536.269\n",
       "40.000      5347.585\n",
       "38.000      5824.291\n",
       "43.000      7549.409\n",
       "44.000      7867.730\n",
       "45.000      9493.608\n",
       "47.000     12020.607\n",
       "46.000     12020.718\n",
       "42.000     15531.050\n",
       "48.000     15720.009\n",
       "49.000     24119.474\n",
       "50.000     47866.045\n",
       "51.000     65579.692\n",
       "52.000     79407.763\n",
       "53.000     90423.242\n",
       "54.000    122731.241\n",
       "55.000    145221.475\n",
       "56.000    150567.326\n",
       "Name: days_employed, dtype: float64"
      ]
     },
     "execution_count": 172,
     "metadata": {},
     "output_type": "execute_result"
    }
   ],
   "source": [
    "diff_days_employes = days_employes_mean - days_employes_median\n",
    "print(diff_days_employes.count())\n",
    "diff_days_employes.sort_values()"
   ]
  },
  {
   "cell_type": "markdown",
   "metadata": {},
   "source": [
    "I decided to check the days according to age as it might effect the amount of days people work.\n",
    "I choose the median because there is a big diffrent between median and mean, so we probably have some outliers."
   ]
  },
  {
   "cell_type": "markdown",
   "metadata": {},
   "source": [
    "<div class=\"alert alert-danger\" style=\"border-radius: 15px; box-shadow: 4px 4px 4px; border: 1px solid \">\n",
    "<b> Reviewer's comment</b>\n",
    "    \n",
    "\n",
    "How about age? I suppose, there's a stronger connection between days employed and age than between days employed and family status. What do you think? </div>"
   ]
  },
  {
   "cell_type": "markdown",
   "metadata": {},
   "source": [
    "<div class=\"alert alert-info\">\n",
    "<b> Student's comment</b>\n",
    "    \n",
    "I thought that probably people with children migth work less :) \n",
    "But maybe other family status is not so relevant. so, I guess age is better! I changed it.\n",
    "    \n",
    "</div>\n",
    "<font color='red'></font>     "
   ]
  },
  {
   "cell_type": "markdown",
   "metadata": {},
   "source": [
    "<div class=\"alert alert-success\" style=\"border-radius: 15px; box-shadow: 4px 4px 4px; border: 1px solid \">\n",
    "<h2> Reviewer's comment 2</h2>\n",
    "    \n",
    "\n",
    "Good :) \n",
    "</div>"
   ]
  },
  {
   "cell_type": "code",
   "execution_count": 173,
   "metadata": {},
   "outputs": [],
   "source": [
    "# Let's write a function that calculates means or medians (depending on your decision) based on your identified parameter\n",
    "data['days_employed'] = data['days_employed'].fillna(data.groupby('dob_years')['days_employed'].transform('median'))"
   ]
  },
  {
   "cell_type": "code",
   "execution_count": 174,
   "metadata": {},
   "outputs": [
    {
     "data": {
      "text/plain": [
       "0"
      ]
     },
     "execution_count": 174,
     "metadata": {},
     "output_type": "execute_result"
    }
   ],
   "source": [
    "# Check that the function works\n",
    "data['days_employed'].isna().sum()"
   ]
  },
  {
   "cell_type": "markdown",
   "metadata": {},
   "source": [
    "Let's check if the data is fine now:"
   ]
  },
  {
   "cell_type": "code",
   "execution_count": 175,
   "metadata": {},
   "outputs": [
    {
     "name": "stdout",
     "output_type": "stream",
     "text": [
      "<class 'pandas.core.frame.DataFrame'>\n",
      "RangeIndex: 21453 entries, 0 to 21452\n",
      "Data columns (total 13 columns):\n",
      " #   Column            Non-Null Count  Dtype  \n",
      "---  ------            --------------  -----  \n",
      " 0   children          21453 non-null  int64  \n",
      " 1   days_employed     21453 non-null  float64\n",
      " 2   dob_years         21453 non-null  float64\n",
      " 3   education         21453 non-null  object \n",
      " 4   education_id      21453 non-null  int64  \n",
      " 5   family_status     21453 non-null  object \n",
      " 6   family_status_id  21453 non-null  int64  \n",
      " 7   gender            21453 non-null  object \n",
      " 8   income_type       21453 non-null  object \n",
      " 9   debt              21453 non-null  int64  \n",
      " 10  total_income      21453 non-null  float64\n",
      " 11  purpose           21453 non-null  object \n",
      " 12  age_group         21453 non-null  object \n",
      "dtypes: float64(3), int64(4), object(6)\n",
      "memory usage: 2.1+ MB\n"
     ]
    }
   ],
   "source": [
    "# Check the entries in all columns - make sure we fixed all missing values\n",
    "data.info()"
   ]
  },
  {
   "cell_type": "markdown",
   "metadata": {},
   "source": [
    "All categories has 21453 rows and no missing values."
   ]
  },
  {
   "cell_type": "markdown",
   "metadata": {},
   "source": [
    "## Categorization of data\n",
    "\n",
    "Let's categorize the peoples according to thier purpose:"
   ]
  },
  {
   "cell_type": "code",
   "execution_count": 176,
   "metadata": {
    "scrolled": true
   },
   "outputs": [
    {
     "data": {
      "text/html": [
       "<div>\n",
       "<style scoped>\n",
       "    .dataframe tbody tr th:only-of-type {\n",
       "        vertical-align: middle;\n",
       "    }\n",
       "\n",
       "    .dataframe tbody tr th {\n",
       "        vertical-align: top;\n",
       "    }\n",
       "\n",
       "    .dataframe thead th {\n",
       "        text-align: right;\n",
       "    }\n",
       "</style>\n",
       "<table border=\"1\" class=\"dataframe\">\n",
       "  <thead>\n",
       "    <tr style=\"text-align: right;\">\n",
       "      <th></th>\n",
       "      <th>children</th>\n",
       "      <th>family_status</th>\n",
       "      <th>purpose</th>\n",
       "      <th>total_income</th>\n",
       "    </tr>\n",
       "  </thead>\n",
       "  <tbody>\n",
       "    <tr>\n",
       "      <th>0</th>\n",
       "      <td>1</td>\n",
       "      <td>married</td>\n",
       "      <td>purchase of the house</td>\n",
       "      <td>40620.102</td>\n",
       "    </tr>\n",
       "    <tr>\n",
       "      <th>1</th>\n",
       "      <td>1</td>\n",
       "      <td>married</td>\n",
       "      <td>car purchase</td>\n",
       "      <td>17932.802</td>\n",
       "    </tr>\n",
       "    <tr>\n",
       "      <th>2</th>\n",
       "      <td>0</td>\n",
       "      <td>married</td>\n",
       "      <td>purchase of the house</td>\n",
       "      <td>23341.752</td>\n",
       "    </tr>\n",
       "    <tr>\n",
       "      <th>3</th>\n",
       "      <td>3</td>\n",
       "      <td>married</td>\n",
       "      <td>supplementary education</td>\n",
       "      <td>42820.568</td>\n",
       "    </tr>\n",
       "    <tr>\n",
       "      <th>4</th>\n",
       "      <td>0</td>\n",
       "      <td>civil partnership</td>\n",
       "      <td>to have a wedding</td>\n",
       "      <td>25378.572</td>\n",
       "    </tr>\n",
       "    <tr>\n",
       "      <th>...</th>\n",
       "      <td>...</td>\n",
       "      <td>...</td>\n",
       "      <td>...</td>\n",
       "      <td>...</td>\n",
       "    </tr>\n",
       "    <tr>\n",
       "      <th>21448</th>\n",
       "      <td>1</td>\n",
       "      <td>civil partnership</td>\n",
       "      <td>housing transactions</td>\n",
       "      <td>35966.698</td>\n",
       "    </tr>\n",
       "    <tr>\n",
       "      <th>21449</th>\n",
       "      <td>0</td>\n",
       "      <td>married</td>\n",
       "      <td>purchase of a car</td>\n",
       "      <td>24959.969</td>\n",
       "    </tr>\n",
       "    <tr>\n",
       "      <th>21450</th>\n",
       "      <td>1</td>\n",
       "      <td>civil partnership</td>\n",
       "      <td>property</td>\n",
       "      <td>14347.610</td>\n",
       "    </tr>\n",
       "    <tr>\n",
       "      <th>21451</th>\n",
       "      <td>3</td>\n",
       "      <td>married</td>\n",
       "      <td>buying my own car</td>\n",
       "      <td>39054.888</td>\n",
       "    </tr>\n",
       "    <tr>\n",
       "      <th>21452</th>\n",
       "      <td>2</td>\n",
       "      <td>married</td>\n",
       "      <td>to buy a car</td>\n",
       "      <td>13127.587</td>\n",
       "    </tr>\n",
       "  </tbody>\n",
       "</table>\n",
       "<p>21453 rows × 4 columns</p>\n",
       "</div>"
      ],
      "text/plain": [
       "       children      family_status                  purpose  total_income\n",
       "0             1            married    purchase of the house     40620.102\n",
       "1             1            married             car purchase     17932.802\n",
       "2             0            married    purchase of the house     23341.752\n",
       "3             3            married  supplementary education     42820.568\n",
       "4             0  civil partnership        to have a wedding     25378.572\n",
       "...         ...                ...                      ...           ...\n",
       "21448         1  civil partnership     housing transactions     35966.698\n",
       "21449         0            married        purchase of a car     24959.969\n",
       "21450         1  civil partnership                 property     14347.610\n",
       "21451         3            married        buying my own car     39054.888\n",
       "21452         2            married             to buy a car     13127.587\n",
       "\n",
       "[21453 rows x 4 columns]"
      ]
     },
     "execution_count": 176,
     "metadata": {},
     "output_type": "execute_result"
    }
   ],
   "source": [
    "# Print the values for your selected data for categorization\n",
    "data[['children', 'family_status','purpose', 'total_income']]"
   ]
  },
  {
   "cell_type": "markdown",
   "metadata": {},
   "source": [
    "Let's check unique values:"
   ]
  },
  {
   "cell_type": "code",
   "execution_count": 177,
   "metadata": {},
   "outputs": [
    {
     "name": "stdout",
     "output_type": "stream",
     "text": [
      "there are 38 unique purposes.\n",
      "--------\n"
     ]
    },
    {
     "data": {
      "text/plain": [
       "array(['purchase of the house', 'car purchase', 'supplementary education',\n",
       "       'to have a wedding', 'housing transactions', 'education',\n",
       "       'having a wedding', 'purchase of the house for my family',\n",
       "       'buy real estate', 'buy commercial real estate',\n",
       "       'buy residential real estate', 'construction of own property',\n",
       "       'property', 'building a property', 'buying a second-hand car',\n",
       "       'buying my own car', 'transactions with commercial real estate',\n",
       "       'building a real estate', 'housing',\n",
       "       'transactions with my real estate', 'cars', 'to become educated',\n",
       "       'second-hand car purchase', 'getting an education', 'car',\n",
       "       'wedding ceremony', 'to get a supplementary education',\n",
       "       'purchase of my own house', 'real estate transactions',\n",
       "       'getting higher education', 'to own a car', 'purchase of a car',\n",
       "       'profile education', 'university education',\n",
       "       'buying property for renting out', 'to buy a car',\n",
       "       'housing renovation', 'going to university'], dtype=object)"
      ]
     },
     "execution_count": 177,
     "metadata": {},
     "output_type": "execute_result"
    }
   ],
   "source": [
    "# Check the unique values\n",
    "print('there are',data.purpose.nunique(), 'unique purposes.')\n",
    "print('--------')\n",
    "data.purpose.unique()"
   ]
  },
  {
   "cell_type": "markdown",
   "metadata": {},
   "source": [
    "There are some word that repeated it the unique purpose.\n",
    "I will categorize them by:\n",
    "1. house purpose (house, housing, real estate, property)\n",
    "2. car purpose (car)\n",
    "3. wedding purpose (wedding)\n",
    "4. education purpose (education, educated, university)\n",
    "\n",
    "[Based on these themes, we will probably want to categorize our data.]\n"
   ]
  },
  {
   "cell_type": "code",
   "execution_count": 178,
   "metadata": {},
   "outputs": [],
   "source": [
    "from pymystem3 import Mystem\n",
    "from collections import Counter\n",
    "m = Mystem()"
   ]
  },
  {
   "cell_type": "code",
   "execution_count": 179,
   "metadata": {},
   "outputs": [],
   "source": [
    "import nltk\n",
    "from nltk.stem import WordNetLemmatizer\n",
    "\n",
    "wordnet_lemma = WordNetLemmatizer()"
   ]
  },
  {
   "cell_type": "code",
   "execution_count": 180,
   "metadata": {},
   "outputs": [],
   "source": [
    "lemmas_list_all = []\n",
    "\n",
    "for issue in data.purpose.unique():\n",
    "    words = nltk.word_tokenize(issue)\n",
    "    lemmas = [wordnet_lemma.lemmatize(w, pos = 'n') for w in words]\n",
    "    lemmas=[l.lower() for l in lemmas]\n",
    "    for i in lemmas:\n",
    "        lemmas_list_all.append(i)"
   ]
  },
  {
   "cell_type": "code",
   "execution_count": 181,
   "metadata": {},
   "outputs": [
    {
     "data": {
      "text/plain": [
       "['purchase',\n",
       " 'of',\n",
       " 'the',\n",
       " 'house',\n",
       " 'car',\n",
       " 'purchase',\n",
       " 'supplementary',\n",
       " 'education',\n",
       " 'to',\n",
       " 'have',\n",
       " 'a',\n",
       " 'wedding',\n",
       " 'housing',\n",
       " 'transaction',\n",
       " 'education',\n",
       " 'having',\n",
       " 'a',\n",
       " 'wedding',\n",
       " 'purchase',\n",
       " 'of',\n",
       " 'the',\n",
       " 'house',\n",
       " 'for',\n",
       " 'my',\n",
       " 'family',\n",
       " 'buy',\n",
       " 'real',\n",
       " 'estate',\n",
       " 'buy',\n",
       " 'commercial',\n",
       " 'real',\n",
       " 'estate',\n",
       " 'buy',\n",
       " 'residential',\n",
       " 'real',\n",
       " 'estate',\n",
       " 'construction',\n",
       " 'of',\n",
       " 'own',\n",
       " 'property',\n",
       " 'property',\n",
       " 'building',\n",
       " 'a',\n",
       " 'property',\n",
       " 'buying',\n",
       " 'a',\n",
       " 'second-hand',\n",
       " 'car',\n",
       " 'buying',\n",
       " 'my',\n",
       " 'own',\n",
       " 'car',\n",
       " 'transaction',\n",
       " 'with',\n",
       " 'commercial',\n",
       " 'real',\n",
       " 'estate',\n",
       " 'building',\n",
       " 'a',\n",
       " 'real',\n",
       " 'estate',\n",
       " 'housing',\n",
       " 'transaction',\n",
       " 'with',\n",
       " 'my',\n",
       " 'real',\n",
       " 'estate',\n",
       " 'car',\n",
       " 'to',\n",
       " 'become',\n",
       " 'educated',\n",
       " 'second-hand',\n",
       " 'car',\n",
       " 'purchase',\n",
       " 'getting',\n",
       " 'an',\n",
       " 'education',\n",
       " 'car',\n",
       " 'wedding',\n",
       " 'ceremony',\n",
       " 'to',\n",
       " 'get',\n",
       " 'a',\n",
       " 'supplementary',\n",
       " 'education',\n",
       " 'purchase',\n",
       " 'of',\n",
       " 'my',\n",
       " 'own',\n",
       " 'house',\n",
       " 'real',\n",
       " 'estate',\n",
       " 'transaction',\n",
       " 'getting',\n",
       " 'higher',\n",
       " 'education',\n",
       " 'to',\n",
       " 'own',\n",
       " 'a',\n",
       " 'car',\n",
       " 'purchase',\n",
       " 'of',\n",
       " 'a',\n",
       " 'car',\n",
       " 'profile',\n",
       " 'education',\n",
       " 'university',\n",
       " 'education',\n",
       " 'buying',\n",
       " 'property',\n",
       " 'for',\n",
       " 'renting',\n",
       " 'out',\n",
       " 'to',\n",
       " 'buy',\n",
       " 'a',\n",
       " 'car',\n",
       " 'housing',\n",
       " 'renovation',\n",
       " 'going',\n",
       " 'to',\n",
       " 'university']"
      ]
     },
     "execution_count": 181,
     "metadata": {},
     "output_type": "execute_result"
    }
   ],
   "source": [
    "lemmas_list_all"
   ]
  },
  {
   "cell_type": "code",
   "execution_count": 182,
   "metadata": {},
   "outputs": [
    {
     "data": {
      "text/plain": [
       "Counter({'purchase': 6,\n",
       "         'of': 5,\n",
       "         'the': 2,\n",
       "         'house': 3,\n",
       "         'car': 9,\n",
       "         'supplementary': 2,\n",
       "         'education': 7,\n",
       "         'to': 6,\n",
       "         'have': 1,\n",
       "         'a': 9,\n",
       "         'wedding': 3,\n",
       "         'housing': 3,\n",
       "         'transaction': 4,\n",
       "         'having': 1,\n",
       "         'for': 2,\n",
       "         'my': 4,\n",
       "         'family': 1,\n",
       "         'buy': 4,\n",
       "         'real': 7,\n",
       "         'estate': 7,\n",
       "         'commercial': 2,\n",
       "         'residential': 1,\n",
       "         'construction': 1,\n",
       "         'own': 4,\n",
       "         'property': 4,\n",
       "         'building': 2,\n",
       "         'buying': 3,\n",
       "         'second-hand': 2,\n",
       "         'with': 2,\n",
       "         'become': 1,\n",
       "         'educated': 1,\n",
       "         'getting': 2,\n",
       "         'an': 1,\n",
       "         'ceremony': 1,\n",
       "         'get': 1,\n",
       "         'higher': 1,\n",
       "         'profile': 1,\n",
       "         'university': 2,\n",
       "         'renting': 1,\n",
       "         'out': 1,\n",
       "         'renovation': 1,\n",
       "         'going': 1})"
      ]
     },
     "execution_count": 182,
     "metadata": {},
     "output_type": "execute_result"
    }
   ],
   "source": [
    "Counter(lemmas_list_all)"
   ]
  },
  {
   "cell_type": "code",
   "execution_count": 183,
   "metadata": {},
   "outputs": [],
   "source": [
    "house_category = ['house', 'estate', 'housing','property']\n",
    "car_category = ['car']\n",
    "wedding_category = ['wedding']\n",
    "education_category = ['education', 'educated', 'university']"
   ]
  },
  {
   "cell_type": "code",
   "execution_count": 184,
   "metadata": {},
   "outputs": [],
   "source": [
    "def lemmatization_func(line):\n",
    "  \n",
    "    words = nltk.word_tokenize(line)\n",
    "    lemmas = [wordnet_lemma.lemmatize(w, pos = 'n') for w in words]\n",
    "    lemmas = [l.lower() for l in lemmas]\n",
    "    \n",
    "    if any(word in lemmas for word in house_category):\n",
    "        return 'house purpose'\n",
    "    elif  any(word in lemmas for word in car_category):\n",
    "        return 'car purpose'\n",
    "    elif  any(word in lemmas for word in wedding_category):\n",
    "        return 'wedding purpose'\n",
    "    elif  any(word in lemmas for word in education_category):\n",
    "        return 'education purpose'\n",
    "    else:\n",
    "        return 'other'"
   ]
  },
  {
   "cell_type": "code",
   "execution_count": 185,
   "metadata": {},
   "outputs": [
    {
     "data": {
      "text/html": [
       "<div>\n",
       "<style scoped>\n",
       "    .dataframe tbody tr th:only-of-type {\n",
       "        vertical-align: middle;\n",
       "    }\n",
       "\n",
       "    .dataframe tbody tr th {\n",
       "        vertical-align: top;\n",
       "    }\n",
       "\n",
       "    .dataframe thead th {\n",
       "        text-align: right;\n",
       "    }\n",
       "</style>\n",
       "<table border=\"1\" class=\"dataframe\">\n",
       "  <thead>\n",
       "    <tr style=\"text-align: right;\">\n",
       "      <th></th>\n",
       "      <th>children</th>\n",
       "      <th>days_employed</th>\n",
       "      <th>dob_years</th>\n",
       "      <th>education</th>\n",
       "      <th>education_id</th>\n",
       "      <th>family_status</th>\n",
       "      <th>family_status_id</th>\n",
       "      <th>gender</th>\n",
       "      <th>income_type</th>\n",
       "      <th>debt</th>\n",
       "      <th>total_income</th>\n",
       "      <th>purpose</th>\n",
       "      <th>age_group</th>\n",
       "      <th>clean_purpose</th>\n",
       "    </tr>\n",
       "  </thead>\n",
       "  <tbody>\n",
       "    <tr>\n",
       "      <th>0</th>\n",
       "      <td>1</td>\n",
       "      <td>8437.673</td>\n",
       "      <td>42.000</td>\n",
       "      <td>bachelor's degree</td>\n",
       "      <td>0</td>\n",
       "      <td>married</td>\n",
       "      <td>0</td>\n",
       "      <td>F</td>\n",
       "      <td>employee</td>\n",
       "      <td>0</td>\n",
       "      <td>40620.102</td>\n",
       "      <td>purchase of the house</td>\n",
       "      <td>40-49 years old</td>\n",
       "      <td>house purpose</td>\n",
       "    </tr>\n",
       "    <tr>\n",
       "      <th>1</th>\n",
       "      <td>1</td>\n",
       "      <td>4024.804</td>\n",
       "      <td>36.000</td>\n",
       "      <td>secondary education</td>\n",
       "      <td>1</td>\n",
       "      <td>married</td>\n",
       "      <td>0</td>\n",
       "      <td>F</td>\n",
       "      <td>employee</td>\n",
       "      <td>0</td>\n",
       "      <td>17932.802</td>\n",
       "      <td>car purchase</td>\n",
       "      <td>30-39 years old</td>\n",
       "      <td>car purpose</td>\n",
       "    </tr>\n",
       "    <tr>\n",
       "      <th>2</th>\n",
       "      <td>0</td>\n",
       "      <td>5623.423</td>\n",
       "      <td>33.000</td>\n",
       "      <td>secondary education</td>\n",
       "      <td>1</td>\n",
       "      <td>married</td>\n",
       "      <td>0</td>\n",
       "      <td>M</td>\n",
       "      <td>employee</td>\n",
       "      <td>0</td>\n",
       "      <td>23341.752</td>\n",
       "      <td>purchase of the house</td>\n",
       "      <td>30-39 years old</td>\n",
       "      <td>house purpose</td>\n",
       "    </tr>\n",
       "    <tr>\n",
       "      <th>3</th>\n",
       "      <td>3</td>\n",
       "      <td>4124.747</td>\n",
       "      <td>32.000</td>\n",
       "      <td>secondary education</td>\n",
       "      <td>1</td>\n",
       "      <td>married</td>\n",
       "      <td>0</td>\n",
       "      <td>M</td>\n",
       "      <td>employee</td>\n",
       "      <td>0</td>\n",
       "      <td>42820.568</td>\n",
       "      <td>supplementary education</td>\n",
       "      <td>30-39 years old</td>\n",
       "      <td>education purpose</td>\n",
       "    </tr>\n",
       "    <tr>\n",
       "      <th>4</th>\n",
       "      <td>0</td>\n",
       "      <td>340266.072</td>\n",
       "      <td>53.000</td>\n",
       "      <td>secondary education</td>\n",
       "      <td>1</td>\n",
       "      <td>civil partnership</td>\n",
       "      <td>1</td>\n",
       "      <td>F</td>\n",
       "      <td>retiree</td>\n",
       "      <td>0</td>\n",
       "      <td>25378.572</td>\n",
       "      <td>to have a wedding</td>\n",
       "      <td>50-59 years old</td>\n",
       "      <td>wedding purpose</td>\n",
       "    </tr>\n",
       "  </tbody>\n",
       "</table>\n",
       "</div>"
      ],
      "text/plain": [
       "   children  days_employed  dob_years            education  education_id  \\\n",
       "0         1       8437.673     42.000    bachelor's degree             0   \n",
       "1         1       4024.804     36.000  secondary education             1   \n",
       "2         0       5623.423     33.000  secondary education             1   \n",
       "3         3       4124.747     32.000  secondary education             1   \n",
       "4         0     340266.072     53.000  secondary education             1   \n",
       "\n",
       "       family_status  family_status_id gender income_type  debt  total_income  \\\n",
       "0            married                 0      F    employee     0     40620.102   \n",
       "1            married                 0      F    employee     0     17932.802   \n",
       "2            married                 0      M    employee     0     23341.752   \n",
       "3            married                 0      M    employee     0     42820.568   \n",
       "4  civil partnership                 1      F     retiree     0     25378.572   \n",
       "\n",
       "                   purpose        age_group      clean_purpose  \n",
       "0    purchase of the house  40-49 years old      house purpose  \n",
       "1             car purchase  30-39 years old        car purpose  \n",
       "2    purchase of the house  30-39 years old      house purpose  \n",
       "3  supplementary education  30-39 years old  education purpose  \n",
       "4        to have a wedding  50-59 years old    wedding purpose  "
      ]
     },
     "execution_count": 185,
     "metadata": {},
     "output_type": "execute_result"
    }
   ],
   "source": [
    "# Create a column with the categories and count the values for them\n",
    "data['clean_purpose'] = data['purpose'].apply(lemmatization_func)\n",
    "data.head()"
   ]
  },
  {
   "cell_type": "markdown",
   "metadata": {},
   "source": [
    "<div class=\"alert alert-success\" style=\"border-radius: 15px; box-shadow: 4px 4px 4px; border: 1px solid \">\n",
    "<b> Reviewer's comment</b>\n",
    "    \n",
    "\n",
    "Great code and I agree with the categories. But we can make it simple: just check whether a particular string contains the word or a part of the word. Example: \n",
    "    \n",
    "    \n",
    " \n",
    "</div>"
   ]
  },
  {
   "cell_type": "code",
   "execution_count": 186,
   "metadata": {},
   "outputs": [
    {
     "name": "stdout",
     "output_type": "stream",
     "text": [
      "True\n",
      "True\n",
      "True\n",
      "False\n"
     ]
    }
   ],
   "source": [
    "# Reviewer's code\n",
    "\n",
    "print('hous' in 'housing')\n",
    "\n",
    "print('hous' in 'house')\n",
    "\n",
    "print('car' in 'to buy a car')\n",
    "\n",
    "print('car' in 'housing')"
   ]
  },
  {
   "cell_type": "markdown",
   "metadata": {},
   "source": [
    "<div class=\"alert alert-info\">\n",
    "<b> Student's comment</b>\n",
    "    \n",
    "I am not sure what the code you wrote can replace in my code :)\n",
    "    \n",
    "</div>\n",
    "<font color='red'></font>  \n"
   ]
  },
  {
   "cell_type": "markdown",
   "metadata": {},
   "source": [
    "<div class=\"alert alert-success\" style=\"border-radius: 15px; box-shadow: 4px 4px 4px; border: 1px solid \">\n",
    "<h2> Reviewer's comment 2</h2>\n",
    "    \n",
    "\n",
    "We can write something like this: \n",
    "</div>"
   ]
  },
  {
   "cell_type": "code",
   "execution_count": 187,
   "metadata": {},
   "outputs": [
    {
     "data": {
      "text/plain": [
       "array(['real_estate', 'car', 'education', 'wedding'], dtype=object)"
      ]
     },
     "execution_count": 187,
     "metadata": {},
     "output_type": "execute_result"
    }
   ],
   "source": [
    "# Reviewer's code\n",
    "\n",
    "def func_purpose(row):\n",
    "    try:\n",
    "        if 'wed' in row:\n",
    "            return 'wedding'\n",
    "        elif 'estat' in row or 'hous' in row:\n",
    "            return 'real_estate'\n",
    "        elif 'car' in row:\n",
    "            return 'car'\n",
    "        else:\n",
    "            return 'education'\n",
    "    except:\n",
    "        return 'no_category'\n",
    "    \n",
    "    \n",
    "# Check the unique values after we apply the function to a column:    \n",
    "data['purpose'].apply(func_purpose).unique() \n"
   ]
  },
  {
   "cell_type": "code",
   "execution_count": 188,
   "metadata": {},
   "outputs": [
    {
     "data": {
      "text/plain": [
       "house purpose        10811\n",
       "car purpose           4306\n",
       "education purpose     4013\n",
       "wedding purpose       2323\n",
       "Name: clean_purpose, dtype: int64"
      ]
     },
     "execution_count": 188,
     "metadata": {},
     "output_type": "execute_result"
    }
   ],
   "source": [
    "data['clean_purpose'].value_counts()"
   ]
  },
  {
   "cell_type": "code",
   "execution_count": 189,
   "metadata": {},
   "outputs": [
    {
     "data": {
      "text/plain": [
       "house purpose       50.394\n",
       "car purpose         20.072\n",
       "education purpose   18.706\n",
       "wedding purpose     10.828\n",
       "Name: clean_purpose, dtype: float64"
      ]
     },
     "execution_count": 189,
     "metadata": {},
     "output_type": "execute_result"
    }
   ],
   "source": [
    "data['clean_purpose'].value_counts()/data.shape[0]*100"
   ]
  },
  {
   "cell_type": "code",
   "execution_count": 190,
   "metadata": {},
   "outputs": [
    {
     "data": {
      "text/plain": [
       "clean_purpose\n",
       "car purpose         113831851.666\n",
       "education purpose   104416685.037\n",
       "house purpose       288351206.258\n",
       "wedding purpose      60861764.112\n",
       "Name: total_income, dtype: float64"
      ]
     },
     "execution_count": 190,
     "metadata": {},
     "output_type": "execute_result"
    }
   ],
   "source": [
    "pd.set_option('display.float_format', lambda x: f'{x:.3f}')\n",
    "data.groupby('clean_purpose')['total_income'].sum()"
   ]
  },
  {
   "cell_type": "markdown",
   "metadata": {},
   "source": [
    "50% of the people are planning to buy a house with the loan.\n",
    "\n",
    "The people that wants to buy a house also have the higest income."
   ]
  },
  {
   "cell_type": "markdown",
   "metadata": {},
   "source": [
    "<div class=\"alert alert-danger\" style=\"border-radius: 15px; box-shadow: 4px 4px 4px; border: 1px solid \">\n",
    "<b> Reviewer's comment</b>\n",
    "    \n",
    "\n",
    "We are asked to pay attention to dictionaries. A pair of columns `education` and `education_id` can be called a dictionary, since they are interchangeable and a dictionary (dict data structure) can be made with them. Is there anything else like this in the dataset? \n",
    "\n",
    "</div>"
   ]
  },
  {
   "cell_type": "markdown",
   "metadata": {},
   "source": [
    "<div class=\"alert alert-info\">\n",
    "<b> Student's comment</b>\n",
    "\n",
    "I printed all the dic columns above.\n",
    "- education_id\n",
    "- education\n",
    "- family_status_id\n",
    "- family_status\n",
    "    \n",
    "I didn't know where to use the dictionary...\n",
    "In whitch task?\n",
    "\n",
    "</div>\n",
    "<font color='red'></font>"
   ]
  },
  {
   "cell_type": "markdown",
   "metadata": {},
   "source": [
    "<div class=\"alert alert-success\" style=\"border-radius: 15px; box-shadow: 4px 4px 4px; border: 1px solid \">\n",
    "<h2> Reviewer's comment 2</h2>\n",
    "    \n",
    "True. We can create them and save in another dataframe: \n",
    "</div>"
   ]
  },
  {
   "cell_type": "code",
   "execution_count": 191,
   "metadata": {},
   "outputs": [
    {
     "data": {
      "text/html": [
       "<div>\n",
       "<style scoped>\n",
       "    .dataframe tbody tr th:only-of-type {\n",
       "        vertical-align: middle;\n",
       "    }\n",
       "\n",
       "    .dataframe tbody tr th {\n",
       "        vertical-align: top;\n",
       "    }\n",
       "\n",
       "    .dataframe thead th {\n",
       "        text-align: right;\n",
       "    }\n",
       "</style>\n",
       "<table border=\"1\" class=\"dataframe\">\n",
       "  <thead>\n",
       "    <tr style=\"text-align: right;\">\n",
       "      <th></th>\n",
       "      <th>family_status_id</th>\n",
       "      <th>family_status</th>\n",
       "    </tr>\n",
       "  </thead>\n",
       "  <tbody>\n",
       "    <tr>\n",
       "      <th>0</th>\n",
       "      <td>0</td>\n",
       "      <td>married</td>\n",
       "    </tr>\n",
       "    <tr>\n",
       "      <th>1</th>\n",
       "      <td>1</td>\n",
       "      <td>civil partnership</td>\n",
       "    </tr>\n",
       "    <tr>\n",
       "      <th>2</th>\n",
       "      <td>2</td>\n",
       "      <td>widow / widower</td>\n",
       "    </tr>\n",
       "    <tr>\n",
       "      <th>3</th>\n",
       "      <td>3</td>\n",
       "      <td>divorced</td>\n",
       "    </tr>\n",
       "    <tr>\n",
       "      <th>4</th>\n",
       "      <td>4</td>\n",
       "      <td>unmarried</td>\n",
       "    </tr>\n",
       "  </tbody>\n",
       "</table>\n",
       "</div>"
      ],
      "text/plain": [
       "   family_status_id      family_status\n",
       "0                 0            married\n",
       "1                 1  civil partnership\n",
       "2                 2    widow / widower\n",
       "3                 3           divorced\n",
       "4                 4          unmarried"
      ]
     },
     "execution_count": 191,
     "metadata": {},
     "output_type": "execute_result"
    }
   ],
   "source": [
    "# Reviewer's code 2\n",
    "\n",
    "data[['family_status_id', 'family_status']].drop_duplicates().reset_index(drop=True)"
   ]
  },
  {
   "cell_type": "markdown",
   "metadata": {},
   "source": [
    "<div class=\"alert alert-success\" style=\"border-radius: 15px; box-shadow: 4px 4px 4px; border: 1px solid \">\n",
    "<h2> Reviewer's comment 2</h2>\n",
    "    \n",
    "Unfortunately, the purpose of creating them is not stated in the task, so I'll show you the example in the hypotheses part.</div>"
   ]
  },
  {
   "cell_type": "markdown",
   "metadata": {},
   "source": [
    "## Checking the Hypotheses\n"
   ]
  },
  {
   "cell_type": "markdown",
   "metadata": {},
   "source": [
    "**Is there a correlation between having children and paying back on time?**"
   ]
  },
  {
   "cell_type": "code",
   "execution_count": 192,
   "metadata": {},
   "outputs": [
    {
     "data": {
      "text/html": [
       "<div>\n",
       "<style scoped>\n",
       "    .dataframe tbody tr th:only-of-type {\n",
       "        vertical-align: middle;\n",
       "    }\n",
       "\n",
       "    .dataframe tbody tr th {\n",
       "        vertical-align: top;\n",
       "    }\n",
       "\n",
       "    .dataframe thead th {\n",
       "        text-align: right;\n",
       "    }\n",
       "</style>\n",
       "<table border=\"1\" class=\"dataframe\">\n",
       "  <thead>\n",
       "    <tr style=\"text-align: right;\">\n",
       "      <th></th>\n",
       "      <th>count</th>\n",
       "      <th>sum</th>\n",
       "      <th>my_mean</th>\n",
       "    </tr>\n",
       "    <tr>\n",
       "      <th>children</th>\n",
       "      <th></th>\n",
       "      <th></th>\n",
       "      <th></th>\n",
       "    </tr>\n",
       "  </thead>\n",
       "  <tbody>\n",
       "    <tr>\n",
       "      <th>0</th>\n",
       "      <td>14090</td>\n",
       "      <td>1063</td>\n",
       "      <td>7.54%</td>\n",
       "    </tr>\n",
       "    <tr>\n",
       "      <th>1</th>\n",
       "      <td>4855</td>\n",
       "      <td>445</td>\n",
       "      <td>9.17%</td>\n",
       "    </tr>\n",
       "    <tr>\n",
       "      <th>2</th>\n",
       "      <td>2128</td>\n",
       "      <td>202</td>\n",
       "      <td>9.49%</td>\n",
       "    </tr>\n",
       "    <tr>\n",
       "      <th>3</th>\n",
       "      <td>330</td>\n",
       "      <td>27</td>\n",
       "      <td>8.18%</td>\n",
       "    </tr>\n",
       "    <tr>\n",
       "      <th>4</th>\n",
       "      <td>41</td>\n",
       "      <td>4</td>\n",
       "      <td>9.76%</td>\n",
       "    </tr>\n",
       "    <tr>\n",
       "      <th>5</th>\n",
       "      <td>9</td>\n",
       "      <td>0</td>\n",
       "      <td>0.00%</td>\n",
       "    </tr>\n",
       "  </tbody>\n",
       "</table>\n",
       "</div>"
      ],
      "text/plain": [
       "          count   sum my_mean\n",
       "children                     \n",
       "0         14090  1063  7.54% \n",
       "1          4855   445  9.17% \n",
       "2          2128   202  9.49% \n",
       "3           330    27  8.18% \n",
       "4            41     4  9.76% \n",
       "5             9     0  0.00% "
      ]
     },
     "execution_count": 192,
     "metadata": {},
     "output_type": "execute_result"
    }
   ],
   "source": [
    "# Check the children data and paying back on time\n",
    "\n",
    "# Calculating default-rate based on the number of children\n",
    "\n",
    "def my_mean(x):\n",
    "    return '{:.2%} '.format(x.mean())\n",
    "\n",
    "data.groupby('children')['debt'].agg(['count', 'sum', my_mean])"
   ]
  },
  {
   "cell_type": "markdown",
   "metadata": {},
   "source": [
    "**Conclusion**\n",
    "\n",
    "People with no children tends to ask more for a loan than others, 7.5% on them don't pay of time.\n",
    "The less children you have the higher probability you will ask for a loan.\n",
    "People with 1-4 children also have some diffiuclties with the payments, 8-10% of them don't pay on time."
   ]
  },
  {
   "cell_type": "markdown",
   "metadata": {},
   "source": [
    "<div class=\"alert alert-warning\" style=\"border-radius: 15px; box-shadow: 4px 4px 4px; border: 1px solid \">\n",
    "<b> Reviewer's comment</b>\n",
    "    \n",
    "\n",
    "But sample with 5 kids is too small to make any conclusions :) \n",
    "</div>\n",
    "<div class=\"alert alert-success\" style=\"border-radius: 15px; box-shadow: 4px 4px 4px; border: 1px solid \">\n",
    "<b> Reviewer's comment</b>\n",
    "    \n",
    "\n",
    "You're right. In the column `debt` 1 indicates the presence of debt. Zero is its absence. So, the sum of the whole column will be equal to the sum of 1-s or the number of debtors, and applying the **count** method will return the total number of loans. Thus, to find the share of debtors, you need to divide this sum by the number of loans calculated with count method, and this is nothing more than just mean.</div>"
   ]
  },
  {
   "cell_type": "markdown",
   "metadata": {},
   "source": [
    "<div class=\"alert alert-info\">\n",
    "<b> Student's comment</b>\n",
    "    \n",
    "I deleted the conclusion about the 5 kids.\n",
    "\n",
    "</div>\n",
    "<font color='red'></font>"
   ]
  },
  {
   "cell_type": "code",
   "execution_count": 193,
   "metadata": {},
   "outputs": [
    {
     "data": {
      "text/html": [
       "<div>\n",
       "<style scoped>\n",
       "    .dataframe tbody tr th:only-of-type {\n",
       "        vertical-align: middle;\n",
       "    }\n",
       "\n",
       "    .dataframe tbody tr th {\n",
       "        vertical-align: top;\n",
       "    }\n",
       "\n",
       "    .dataframe thead th {\n",
       "        text-align: right;\n",
       "    }\n",
       "</style>\n",
       "<table border=\"1\" class=\"dataframe\">\n",
       "  <thead>\n",
       "    <tr style=\"text-align: right;\">\n",
       "      <th></th>\n",
       "      <th>count</th>\n",
       "      <th>sum</th>\n",
       "      <th>mean</th>\n",
       "    </tr>\n",
       "    <tr>\n",
       "      <th>children</th>\n",
       "      <th></th>\n",
       "      <th></th>\n",
       "      <th></th>\n",
       "    </tr>\n",
       "  </thead>\n",
       "  <tbody>\n",
       "    <tr>\n",
       "      <th>0</th>\n",
       "      <td>14090</td>\n",
       "      <td>1063</td>\n",
       "      <td>0.075</td>\n",
       "    </tr>\n",
       "    <tr>\n",
       "      <th>1</th>\n",
       "      <td>4855</td>\n",
       "      <td>445</td>\n",
       "      <td>0.092</td>\n",
       "    </tr>\n",
       "    <tr>\n",
       "      <th>2</th>\n",
       "      <td>2128</td>\n",
       "      <td>202</td>\n",
       "      <td>0.095</td>\n",
       "    </tr>\n",
       "    <tr>\n",
       "      <th>3</th>\n",
       "      <td>330</td>\n",
       "      <td>27</td>\n",
       "      <td>0.082</td>\n",
       "    </tr>\n",
       "    <tr>\n",
       "      <th>4</th>\n",
       "      <td>41</td>\n",
       "      <td>4</td>\n",
       "      <td>0.098</td>\n",
       "    </tr>\n",
       "    <tr>\n",
       "      <th>5</th>\n",
       "      <td>9</td>\n",
       "      <td>0</td>\n",
       "      <td>0.000</td>\n",
       "    </tr>\n",
       "  </tbody>\n",
       "</table>\n",
       "</div>"
      ],
      "text/plain": [
       "          count   sum  mean\n",
       "children                   \n",
       "0         14090  1063 0.075\n",
       "1          4855   445 0.092\n",
       "2          2128   202 0.095\n",
       "3           330    27 0.082\n",
       "4            41     4 0.098\n",
       "5             9     0 0.000"
      ]
     },
     "execution_count": 193,
     "metadata": {},
     "output_type": "execute_result"
    }
   ],
   "source": [
    "# Reviewer's code\n",
    "\n",
    "data.groupby('children')['debt'].agg(['count', 'sum', 'mean'])"
   ]
  },
  {
   "cell_type": "code",
   "execution_count": 194,
   "metadata": {},
   "outputs": [
    {
     "data": {
      "text/html": [
       "<div>\n",
       "<style scoped>\n",
       "    .dataframe tbody tr th:only-of-type {\n",
       "        vertical-align: middle;\n",
       "    }\n",
       "\n",
       "    .dataframe tbody tr th {\n",
       "        vertical-align: top;\n",
       "    }\n",
       "\n",
       "    .dataframe thead th {\n",
       "        text-align: right;\n",
       "    }\n",
       "</style>\n",
       "<table border=\"1\" class=\"dataframe\">\n",
       "  <thead>\n",
       "    <tr style=\"text-align: right;\">\n",
       "      <th></th>\n",
       "      <th>count</th>\n",
       "      <th>sum</th>\n",
       "      <th>my_mean</th>\n",
       "    </tr>\n",
       "    <tr>\n",
       "      <th>children</th>\n",
       "      <th></th>\n",
       "      <th></th>\n",
       "      <th></th>\n",
       "    </tr>\n",
       "  </thead>\n",
       "  <tbody>\n",
       "    <tr>\n",
       "      <th>0</th>\n",
       "      <td>14090</td>\n",
       "      <td>1063</td>\n",
       "      <td>7.544</td>\n",
       "    </tr>\n",
       "    <tr>\n",
       "      <th>1</th>\n",
       "      <td>4855</td>\n",
       "      <td>445</td>\n",
       "      <td>9.166</td>\n",
       "    </tr>\n",
       "    <tr>\n",
       "      <th>2</th>\n",
       "      <td>2128</td>\n",
       "      <td>202</td>\n",
       "      <td>9.492</td>\n",
       "    </tr>\n",
       "    <tr>\n",
       "      <th>3</th>\n",
       "      <td>330</td>\n",
       "      <td>27</td>\n",
       "      <td>8.182</td>\n",
       "    </tr>\n",
       "    <tr>\n",
       "      <th>4</th>\n",
       "      <td>41</td>\n",
       "      <td>4</td>\n",
       "      <td>9.756</td>\n",
       "    </tr>\n",
       "    <tr>\n",
       "      <th>5</th>\n",
       "      <td>9</td>\n",
       "      <td>0</td>\n",
       "      <td>0.000</td>\n",
       "    </tr>\n",
       "  </tbody>\n",
       "</table>\n",
       "</div>"
      ],
      "text/plain": [
       "          count   sum  my_mean\n",
       "children                      \n",
       "0         14090  1063    7.544\n",
       "1          4855   445    9.166\n",
       "2          2128   202    9.492\n",
       "3           330    27    8.182\n",
       "4            41     4    9.756\n",
       "5             9     0    0.000"
      ]
     },
     "execution_count": 194,
     "metadata": {},
     "output_type": "execute_result"
    }
   ],
   "source": [
    "# Reviewer's code\n",
    "\n",
    "def my_mean(x): return x.mean()*100\n",
    "\n",
    "# We can you our own function in agg method\n",
    "data.groupby('children')['debt'].agg(['count', 'sum', my_mean])"
   ]
  },
  {
   "cell_type": "code",
   "execution_count": 195,
   "metadata": {},
   "outputs": [
    {
     "data": {
      "text/html": [
       "<div>\n",
       "<style scoped>\n",
       "    .dataframe tbody tr th:only-of-type {\n",
       "        vertical-align: middle;\n",
       "    }\n",
       "\n",
       "    .dataframe tbody tr th {\n",
       "        vertical-align: top;\n",
       "    }\n",
       "\n",
       "    .dataframe thead th {\n",
       "        text-align: right;\n",
       "    }\n",
       "</style>\n",
       "<table border=\"1\" class=\"dataframe\">\n",
       "  <thead>\n",
       "    <tr style=\"text-align: right;\">\n",
       "      <th></th>\n",
       "      <th>count</th>\n",
       "      <th>sum</th>\n",
       "      <th>my_mean</th>\n",
       "    </tr>\n",
       "    <tr>\n",
       "      <th>children</th>\n",
       "      <th></th>\n",
       "      <th></th>\n",
       "      <th></th>\n",
       "    </tr>\n",
       "  </thead>\n",
       "  <tbody>\n",
       "    <tr>\n",
       "      <th>0</th>\n",
       "      <td>14090</td>\n",
       "      <td>1063</td>\n",
       "      <td>7.54%</td>\n",
       "    </tr>\n",
       "    <tr>\n",
       "      <th>1</th>\n",
       "      <td>4855</td>\n",
       "      <td>445</td>\n",
       "      <td>9.17%</td>\n",
       "    </tr>\n",
       "    <tr>\n",
       "      <th>2</th>\n",
       "      <td>2128</td>\n",
       "      <td>202</td>\n",
       "      <td>9.49%</td>\n",
       "    </tr>\n",
       "    <tr>\n",
       "      <th>3</th>\n",
       "      <td>330</td>\n",
       "      <td>27</td>\n",
       "      <td>8.18%</td>\n",
       "    </tr>\n",
       "    <tr>\n",
       "      <th>4</th>\n",
       "      <td>41</td>\n",
       "      <td>4</td>\n",
       "      <td>9.76%</td>\n",
       "    </tr>\n",
       "    <tr>\n",
       "      <th>5</th>\n",
       "      <td>9</td>\n",
       "      <td>0</td>\n",
       "      <td>0.00%</td>\n",
       "    </tr>\n",
       "  </tbody>\n",
       "</table>\n",
       "</div>"
      ],
      "text/plain": [
       "          count   sum my_mean\n",
       "children                     \n",
       "0         14090  1063  7.54% \n",
       "1          4855   445  9.17% \n",
       "2          2128   202  9.49% \n",
       "3           330    27  8.18% \n",
       "4            41     4  9.76% \n",
       "5             9     0  0.00% "
      ]
     },
     "execution_count": 195,
     "metadata": {},
     "output_type": "execute_result"
    }
   ],
   "source": [
    "# Reviewer's code\n",
    "\n",
    "def my_mean(x): return '{:.2%} '.format(x.mean())\n",
    "\n",
    "data.groupby('children')['debt'].agg(['count', 'sum', my_mean])"
   ]
  },
  {
   "cell_type": "markdown",
   "metadata": {},
   "source": [
    "**Is there a correlation between family status and paying back on time?**"
   ]
  },
  {
   "cell_type": "code",
   "execution_count": 196,
   "metadata": {},
   "outputs": [
    {
     "data": {
      "text/html": [
       "<div>\n",
       "<style scoped>\n",
       "    .dataframe tbody tr th:only-of-type {\n",
       "        vertical-align: middle;\n",
       "    }\n",
       "\n",
       "    .dataframe tbody tr th {\n",
       "        vertical-align: top;\n",
       "    }\n",
       "\n",
       "    .dataframe thead th {\n",
       "        text-align: right;\n",
       "    }\n",
       "</style>\n",
       "<table border=\"1\" class=\"dataframe\">\n",
       "  <thead>\n",
       "    <tr style=\"text-align: right;\">\n",
       "      <th></th>\n",
       "      <th>count</th>\n",
       "      <th>sum</th>\n",
       "      <th>my_mean</th>\n",
       "    </tr>\n",
       "    <tr>\n",
       "      <th>family_status</th>\n",
       "      <th></th>\n",
       "      <th></th>\n",
       "      <th></th>\n",
       "    </tr>\n",
       "  </thead>\n",
       "  <tbody>\n",
       "    <tr>\n",
       "      <th>civil partnership</th>\n",
       "      <td>4150</td>\n",
       "      <td>388</td>\n",
       "      <td>9.35%</td>\n",
       "    </tr>\n",
       "    <tr>\n",
       "      <th>divorced</th>\n",
       "      <td>1195</td>\n",
       "      <td>85</td>\n",
       "      <td>7.11%</td>\n",
       "    </tr>\n",
       "    <tr>\n",
       "      <th>married</th>\n",
       "      <td>12339</td>\n",
       "      <td>931</td>\n",
       "      <td>7.55%</td>\n",
       "    </tr>\n",
       "    <tr>\n",
       "      <th>unmarried</th>\n",
       "      <td>2810</td>\n",
       "      <td>274</td>\n",
       "      <td>9.75%</td>\n",
       "    </tr>\n",
       "    <tr>\n",
       "      <th>widow / widower</th>\n",
       "      <td>959</td>\n",
       "      <td>63</td>\n",
       "      <td>6.57%</td>\n",
       "    </tr>\n",
       "  </tbody>\n",
       "</table>\n",
       "</div>"
      ],
      "text/plain": [
       "                   count  sum my_mean\n",
       "family_status                        \n",
       "civil partnership   4150  388  9.35% \n",
       "divorced            1195   85  7.11% \n",
       "married            12339  931  7.55% \n",
       "unmarried           2810  274  9.75% \n",
       "widow / widower      959   63  6.57% "
      ]
     },
     "execution_count": 196,
     "metadata": {},
     "output_type": "execute_result"
    }
   ],
   "source": [
    "def my_mean(x):\n",
    "    return '{:.2%} '.format(x.mean())\n",
    "\n",
    "data.groupby('family_status')['debt'].agg(['count', 'sum', my_mean])\n"
   ]
  },
  {
   "cell_type": "markdown",
   "metadata": {},
   "source": [
    "**Conclusion**\n",
    "\n",
    "The most irresponsible are those who have never been married.\n",
    "\n",
    "All family status has 6.5-9.7% probability to not paying on time.\n",
    "unmarried and civil partnership tends to have more debts than others.\n",
    "widow/widower has less debts than others.\n",
    "Married people ask more for a loan than others, 7.5% on them don't pay on time."
   ]
  },
  {
   "cell_type": "markdown",
   "metadata": {},
   "source": [
    "<div class=\"alert alert-info\">\n",
    "<b> Student's comment</b>\n",
    "    \n",
    "Thank you!\n",
    "I like this code it's super elegant.\n",
    "\n",
    "</div>\n",
    "<font color='red'></font>"
   ]
  },
  {
   "cell_type": "markdown",
   "metadata": {},
   "source": [
    "<div class=\"alert alert-success\" style=\"border-radius: 15px; box-shadow: 4px 4px 4px; border: 1px solid \">\n",
    "<b> Reviewer's comment</b>\n",
    "    \n",
    "\n",
    "Widowed people are, as a rule, older, and they are more responsible. And most likely they already have adult children who can help with payments. In general, we can say this: the most irresponsible are those who have never been married. </div>\n",
    "\n",
    "<div class=\"alert alert-success\" style=\"border-radius: 15px; box-shadow: 4px 4px 4px; border: 1px solid \">\n",
    "<h2> Reviewer's comment 2</h2>\n",
    "    \n",
    "\n",
    "All right, we have pivot tables. The question about the dictionaries is based on the idea that 1. we don't need interchangeable columns in the dataset and 2. we should use numbers instead of str values when using some machine learning algorithms. Let's assume that we drop the **family_status** column after creating the dictionary, leaving only **family_status_id** in the dataset. Then we want to display the debt statistics. In order to make it clear we use dictionary to replace number with str value. That's all. So it's just a good example of using dicts for replacing values in the dataframe. And it is also a good example of saving these values in a small data structure.</div>"
   ]
  },
  {
   "cell_type": "code",
   "execution_count": 197,
   "metadata": {},
   "outputs": [
    {
     "data": {
      "text/plain": [
       "{0: 'married',\n",
       " 1: 'civil partnership',\n",
       " 2: 'widow / widower',\n",
       " 3: 'divorced',\n",
       " 4: 'unmarried'}"
      ]
     },
     "execution_count": 197,
     "metadata": {},
     "output_type": "execute_result"
    }
   ],
   "source": [
    "# Reviewer's code 2\n",
    "\n",
    "dict(zip(data['family_status_id'],data['family_status']))"
   ]
  },
  {
   "cell_type": "markdown",
   "metadata": {},
   "source": [
    "<div class=\"alert alert-success\" style=\"border-radius: 15px; box-shadow: 4px 4px 4px; border: 1px solid \">\n",
    "<h2> Reviewer's comment 2</h2>\n",
    "    \n",
    "The dictionary will look like this. But I'll create it as a dataframe so that it is clear that the same can be done with dataframes just by taking a slice of two columns.\n",
    "</div>"
   ]
  },
  {
   "cell_type": "code",
   "execution_count": 199,
   "metadata": {},
   "outputs": [
    {
     "data": {
      "text/html": [
       "<div>\n",
       "<style scoped>\n",
       "    .dataframe tbody tr th:only-of-type {\n",
       "        vertical-align: middle;\n",
       "    }\n",
       "\n",
       "    .dataframe tbody tr th {\n",
       "        vertical-align: top;\n",
       "    }\n",
       "\n",
       "    .dataframe thead th {\n",
       "        text-align: right;\n",
       "    }\n",
       "</style>\n",
       "<table border=\"1\" class=\"dataframe\">\n",
       "  <thead>\n",
       "    <tr style=\"text-align: right;\">\n",
       "      <th></th>\n",
       "      <th>count</th>\n",
       "      <th>sum</th>\n",
       "      <th>my_mean</th>\n",
       "    </tr>\n",
       "    <tr>\n",
       "      <th>family_status_id</th>\n",
       "      <th></th>\n",
       "      <th></th>\n",
       "      <th></th>\n",
       "    </tr>\n",
       "  </thead>\n",
       "  <tbody>\n",
       "    <tr>\n",
       "      <th>0</th>\n",
       "      <td>12339</td>\n",
       "      <td>931</td>\n",
       "      <td>7.55%</td>\n",
       "    </tr>\n",
       "    <tr>\n",
       "      <th>1</th>\n",
       "      <td>4150</td>\n",
       "      <td>388</td>\n",
       "      <td>9.35%</td>\n",
       "    </tr>\n",
       "    <tr>\n",
       "      <th>2</th>\n",
       "      <td>959</td>\n",
       "      <td>63</td>\n",
       "      <td>6.57%</td>\n",
       "    </tr>\n",
       "    <tr>\n",
       "      <th>3</th>\n",
       "      <td>1195</td>\n",
       "      <td>85</td>\n",
       "      <td>7.11%</td>\n",
       "    </tr>\n",
       "    <tr>\n",
       "      <th>4</th>\n",
       "      <td>2810</td>\n",
       "      <td>274</td>\n",
       "      <td>9.75%</td>\n",
       "    </tr>\n",
       "  </tbody>\n",
       "</table>\n",
       "</div>"
      ],
      "text/plain": [
       "                  count  sum my_mean\n",
       "family_status_id                    \n",
       "0                 12339  931  7.55% \n",
       "1                  4150  388  9.35% \n",
       "2                   959   63  6.57% \n",
       "3                  1195   85  7.11% \n",
       "4                  2810  274  9.75% "
      ]
     },
     "metadata": {},
     "output_type": "display_data"
    },
    {
     "data": {
      "text/html": [
       "<div>\n",
       "<style scoped>\n",
       "    .dataframe tbody tr th:only-of-type {\n",
       "        vertical-align: middle;\n",
       "    }\n",
       "\n",
       "    .dataframe tbody tr th {\n",
       "        vertical-align: top;\n",
       "    }\n",
       "\n",
       "    .dataframe thead th {\n",
       "        text-align: right;\n",
       "    }\n",
       "</style>\n",
       "<table border=\"1\" class=\"dataframe\">\n",
       "  <thead>\n",
       "    <tr style=\"text-align: right;\">\n",
       "      <th></th>\n",
       "      <th>family_status_id</th>\n",
       "      <th>count</th>\n",
       "      <th>sum</th>\n",
       "      <th>my_mean</th>\n",
       "    </tr>\n",
       "  </thead>\n",
       "  <tbody>\n",
       "    <tr>\n",
       "      <th>0</th>\n",
       "      <td>married</td>\n",
       "      <td>12339</td>\n",
       "      <td>931</td>\n",
       "      <td>7.55%</td>\n",
       "    </tr>\n",
       "    <tr>\n",
       "      <th>1</th>\n",
       "      <td>civil partnership</td>\n",
       "      <td>4150</td>\n",
       "      <td>388</td>\n",
       "      <td>9.35%</td>\n",
       "    </tr>\n",
       "    <tr>\n",
       "      <th>2</th>\n",
       "      <td>widow / widower</td>\n",
       "      <td>959</td>\n",
       "      <td>63</td>\n",
       "      <td>6.57%</td>\n",
       "    </tr>\n",
       "    <tr>\n",
       "      <th>3</th>\n",
       "      <td>divorced</td>\n",
       "      <td>1195</td>\n",
       "      <td>85</td>\n",
       "      <td>7.11%</td>\n",
       "    </tr>\n",
       "    <tr>\n",
       "      <th>4</th>\n",
       "      <td>unmarried</td>\n",
       "      <td>2810</td>\n",
       "      <td>274</td>\n",
       "      <td>9.75%</td>\n",
       "    </tr>\n",
       "  </tbody>\n",
       "</table>\n",
       "</div>"
      ],
      "text/plain": [
       "    family_status_id  count  sum my_mean\n",
       "0            married  12339  931  7.55% \n",
       "1  civil partnership   4150  388  9.35% \n",
       "2    widow / widower    959   63  6.57% \n",
       "3           divorced   1195   85  7.11% \n",
       "4          unmarried   2810  274  9.75% "
      ]
     },
     "execution_count": 199,
     "metadata": {},
     "output_type": "execute_result"
    }
   ],
   "source": [
    "# Reviewer's code\n",
    "\n",
    "# Create a dictionary\n",
    "family_dict = data[['family_status_id', 'family_status']]\n",
    "family_dict = family_dict.drop_duplicates().reset_index(drop=True)\n",
    "family_dict\n",
    "\n",
    "def my_mean(x): return '{:.2%} '.format(x.mean())\n",
    "\n",
    "# Table as in the example above\n",
    "a = data.groupby('family_status_id')['debt'].agg(['count', 'sum', my_mean])\n",
    "display(a)\n",
    "\n",
    "# Replacement\n",
    "a.reset_index().replace({'family_status_id': family_dict.family_status.to_dict()})"
   ]
  },
  {
   "cell_type": "markdown",
   "metadata": {},
   "source": [
    "<div class=\"alert alert-success\" style=\"border-radius: 15px; box-shadow: 4px 4px 4px; border: 1px solid \">\n",
    "<h2> Reviewer's comment 2</h2>\n",
    "    \n",
    "\n",
    "This is a great example of how you can replace data using a dictionary key :)\n",
    "</div>"
   ]
  },
  {
   "cell_type": "markdown",
   "metadata": {},
   "source": [
    "**Is there a correlation between income level and paying back on time?**"
   ]
  },
  {
   "cell_type": "code",
   "execution_count": 97,
   "metadata": {},
   "outputs": [],
   "source": [
    "# categorize income in function:\n",
    "def income_category(income):\n",
    "    if income < 10000:\n",
    "        return '0-10K'\n",
    "    elif income < 50000:\n",
    "        return '10K-50K'\n",
    "    elif income < 100000:\n",
    "        return '50K-100K'\n",
    "    elif income < 150000:\n",
    "        return '100K-150K'\n",
    "    elif income < 200000:\n",
    "        return '150K-200K'\n",
    "    elif income < 250000:\n",
    "        return '200K-250K'\n",
    "    elif income < 300000:\n",
    "        return '250K-300K'\n",
    "    else:\n",
    "        return '300K +'"
   ]
  },
  {
   "cell_type": "code",
   "execution_count": 98,
   "metadata": {},
   "outputs": [],
   "source": [
    "#apply the function on the data:\n",
    "data['income_cat'] = data['total_income'].apply(income_category)"
   ]
  },
  {
   "cell_type": "code",
   "execution_count": 99,
   "metadata": {},
   "outputs": [
    {
     "data": {
      "text/html": [
       "<div>\n",
       "<style scoped>\n",
       "    .dataframe tbody tr th:only-of-type {\n",
       "        vertical-align: middle;\n",
       "    }\n",
       "\n",
       "    .dataframe tbody tr th {\n",
       "        vertical-align: top;\n",
       "    }\n",
       "\n",
       "    .dataframe thead th {\n",
       "        text-align: right;\n",
       "    }\n",
       "</style>\n",
       "<table border=\"1\" class=\"dataframe\">\n",
       "  <thead>\n",
       "    <tr style=\"text-align: right;\">\n",
       "      <th></th>\n",
       "      <th>count</th>\n",
       "      <th>sum</th>\n",
       "      <th>my_mean</th>\n",
       "    </tr>\n",
       "    <tr>\n",
       "      <th>income_cat</th>\n",
       "      <th></th>\n",
       "      <th></th>\n",
       "      <th></th>\n",
       "    </tr>\n",
       "  </thead>\n",
       "  <tbody>\n",
       "    <tr>\n",
       "      <th>0-10K</th>\n",
       "      <td>926</td>\n",
       "      <td>58</td>\n",
       "      <td>6.26%</td>\n",
       "    </tr>\n",
       "    <tr>\n",
       "      <th>100K-150K</th>\n",
       "      <td>71</td>\n",
       "      <td>4</td>\n",
       "      <td>5.63%</td>\n",
       "    </tr>\n",
       "    <tr>\n",
       "      <th>10K-50K</th>\n",
       "      <td>19206</td>\n",
       "      <td>1591</td>\n",
       "      <td>8.28%</td>\n",
       "    </tr>\n",
       "    <tr>\n",
       "      <th>150K-200K</th>\n",
       "      <td>17</td>\n",
       "      <td>1</td>\n",
       "      <td>5.88%</td>\n",
       "    </tr>\n",
       "    <tr>\n",
       "      <th>200K-250K</th>\n",
       "      <td>5</td>\n",
       "      <td>0</td>\n",
       "      <td>0.00%</td>\n",
       "    </tr>\n",
       "    <tr>\n",
       "      <th>250K-300K</th>\n",
       "      <td>4</td>\n",
       "      <td>0</td>\n",
       "      <td>0.00%</td>\n",
       "    </tr>\n",
       "    <tr>\n",
       "      <th>300K +</th>\n",
       "      <td>2</td>\n",
       "      <td>1</td>\n",
       "      <td>50.00%</td>\n",
       "    </tr>\n",
       "    <tr>\n",
       "      <th>50K-100K</th>\n",
       "      <td>1222</td>\n",
       "      <td>86</td>\n",
       "      <td>7.04%</td>\n",
       "    </tr>\n",
       "  </tbody>\n",
       "</table>\n",
       "</div>"
      ],
      "text/plain": [
       "            count   sum  my_mean\n",
       "income_cat                      \n",
       "0-10K         926    58   6.26% \n",
       "100K-150K      71     4   5.63% \n",
       "10K-50K     19206  1591   8.28% \n",
       "150K-200K      17     1   5.88% \n",
       "200K-250K       5     0   0.00% \n",
       "250K-300K       4     0   0.00% \n",
       "300K +          2     1  50.00% \n",
       "50K-100K     1222    86   7.04% "
      ]
     },
     "execution_count": 99,
     "metadata": {},
     "output_type": "execute_result"
    }
   ],
   "source": [
    "# Check the income level data and paying back on time\n",
    "\n",
    "# Calculating default-rate based on income level\n",
    "\n",
    "def my_mean(x):\n",
    "    return '{:.2%} '.format(x.mean())\n",
    "\n",
    "data.groupby('income_cat')['debt'].agg(['count', 'sum', my_mean])\n",
    "\n"
   ]
  },
  {
   "cell_type": "markdown",
   "metadata": {},
   "source": [
    "<div class=\"alert alert-danger\" style=\"border-radius: 15px; box-shadow: 4px 4px 4px; border: 1px solid \">\n",
    "<b> Reviewer's comment</b>\n",
    "    \n",
    "The destribution is not fair. Please, check out their sizes :) </div>"
   ]
  },
  {
   "cell_type": "markdown",
   "metadata": {},
   "source": [
    "<div class=\"alert alert-info\">\n",
    "<b> Student's comment</b>\n",
    "    \n",
    "now it's ok?\n",
    "</div>\n",
    "<font color='red'></font>"
   ]
  },
  {
   "cell_type": "markdown",
   "metadata": {},
   "source": [
    "<div class=\"alert alert-warning\" style=\"border-radius: 15px; box-shadow: 4px 4px 4px; border: 1px solid \">\n",
    "<h2> Reviewer's comment 2</h2>\n",
    "    \n",
    "\n",
    "10K-50K is 19206 size, while others are very small. It's not fair to compare them. \n",
    "\n",
    "One possible solution is to divide the column into 5-7 approx. equal categories. For example, if we have 10000 rows and we want to get 5 groups, we can divide them with the step 2000. It is not the best idea though, but it is stille better than analysing a skewed distribution.  It can be implemented with a simple loop or list generator. A **numpy** has also the [array_split](https://numpy.org/doc/stable/reference/generated/numpy.array_split.html) method. \n",
    "    \n",
    "There's another way, a pandas **qcut** method that can be quite useful. It can be tricky at the beginning, so I'll show you an example below. The idea behind qcut is that it splits the list of values according to quintiles. </div>"
   ]
  },
  {
   "cell_type": "code",
   "execution_count": 100,
   "metadata": {},
   "outputs": [
    {
     "data": {
      "text/plain": [
       "0        (34339.686, 362496.645]\n",
       "1         (15765.943, 21141.071]\n",
       "2         (21141.071, 25814.809]\n",
       "3        (34339.686, 362496.645]\n",
       "4         (21141.071, 25814.809]\n",
       "                  ...           \n",
       "21448    (34339.686, 362496.645]\n",
       "21449     (21141.071, 25814.809]\n",
       "21450      (3306.761, 15765.943]\n",
       "21451    (34339.686, 362496.645]\n",
       "21452      (3306.761, 15765.943]\n",
       "Name: total_income, Length: 21453, dtype: category\n",
       "Categories (5, interval[float64]): [(3306.761, 15765.943] < (15765.943, 21141.071] < (21141.071, 25814.809] < (25814.809, 34339.686] < (34339.686, 362496.645]]"
      ]
     },
     "execution_count": 100,
     "metadata": {},
     "output_type": "execute_result"
    }
   ],
   "source": [
    "# Reviewer's code 2\n",
    "\n",
    "pd.qcut(data['total_income'], q=5)"
   ]
  },
  {
   "cell_type": "markdown",
   "metadata": {},
   "source": [
    "<div class=\"alert alert-success\" style=\"border-radius: 15px; box-shadow: 4px 4px 4px; border: 1px solid \">\n",
    "<h2> Reviewer's comment</h2>\n",
    "    \n",
    "\n",
    "Fast and simple :) You can take as many groups as you want. Let's try 3: </div>"
   ]
  },
  {
   "cell_type": "code",
   "execution_count": 101,
   "metadata": {},
   "outputs": [
    {
     "data": {
      "text/plain": [
       "0        (27577.272, 362496.645]\n",
       "1          (3306.761, 19081.788]\n",
       "2         (19081.788, 27577.272]\n",
       "3        (27577.272, 362496.645]\n",
       "4         (19081.788, 27577.272]\n",
       "                  ...           \n",
       "21448    (27577.272, 362496.645]\n",
       "21449     (19081.788, 27577.272]\n",
       "21450      (3306.761, 19081.788]\n",
       "21451    (27577.272, 362496.645]\n",
       "21452      (3306.761, 19081.788]\n",
       "Name: total_income, Length: 21453, dtype: category\n",
       "Categories (3, interval[float64]): [(3306.761, 19081.788] < (19081.788, 27577.272] < (27577.272, 362496.645]]"
      ]
     },
     "execution_count": 101,
     "metadata": {},
     "output_type": "execute_result"
    }
   ],
   "source": [
    "# Reviewer's code 2\n",
    "\n",
    "pd.qcut(data['total_income'], q=3)"
   ]
  },
  {
   "cell_type": "markdown",
   "metadata": {},
   "source": [
    "<div class=\"alert alert-success\" style=\"border-radius: 15px; box-shadow: 4px 4px 4px; border: 1px solid \">\n",
    "<h2> Reviewer's comment 2</h2>\n",
    "    \n",
    "\n",
    "Now it returned 3 categories. \n",
    "\n",
    "\n",
    "Then we can give them names: </div>"
   ]
  },
  {
   "cell_type": "code",
   "execution_count": 102,
   "metadata": {},
   "outputs": [
    {
     "data": {
      "text/plain": [
       "0                 high\n",
       "1        below average\n",
       "2              average\n",
       "3                 high\n",
       "4              average\n",
       "             ...      \n",
       "21448             high\n",
       "21449          average\n",
       "21450              low\n",
       "21451             high\n",
       "21452              low\n",
       "Name: total_income, Length: 21453, dtype: category\n",
       "Categories (5, object): ['low' < 'below average' < 'average' < 'above average' < 'high']"
      ]
     },
     "execution_count": 102,
     "metadata": {},
     "output_type": "execute_result"
    }
   ],
   "source": [
    "# Reviewer's code 2\n",
    "\n",
    "pd.qcut(data['total_income'], 5, ['low', 'below average', 'average', 'above average', 'high'])"
   ]
  },
  {
   "cell_type": "markdown",
   "metadata": {},
   "source": [
    "<div class=\"alert alert-success\" style=\"border-radius: 15px; box-shadow: 4px 4px 4px; border: 1px solid \">\n",
    "<h2> Reviewer's comment 2</h2>\n",
    "    \n",
    "\n",
    "Much better. Another good thing about this method is that we can send it into groupby method: </div>"
   ]
  },
  {
   "cell_type": "code",
   "execution_count": 103,
   "metadata": {},
   "outputs": [
    {
     "data": {
      "text/html": [
       "<div>\n",
       "<style scoped>\n",
       "    .dataframe tbody tr th:only-of-type {\n",
       "        vertical-align: middle;\n",
       "    }\n",
       "\n",
       "    .dataframe tbody tr th {\n",
       "        vertical-align: top;\n",
       "    }\n",
       "\n",
       "    .dataframe thead th {\n",
       "        text-align: right;\n",
       "    }\n",
       "</style>\n",
       "<table border=\"1\" class=\"dataframe\">\n",
       "  <thead>\n",
       "    <tr style=\"text-align: right;\">\n",
       "      <th></th>\n",
       "      <th>count</th>\n",
       "      <th>sum</th>\n",
       "      <th>&lt;lambda_0&gt;</th>\n",
       "    </tr>\n",
       "    <tr>\n",
       "      <th>total_income</th>\n",
       "      <th></th>\n",
       "      <th></th>\n",
       "      <th></th>\n",
       "    </tr>\n",
       "  </thead>\n",
       "  <tbody>\n",
       "    <tr>\n",
       "      <th>low</th>\n",
       "      <td>4291</td>\n",
       "      <td>344</td>\n",
       "      <td>8.02%</td>\n",
       "    </tr>\n",
       "    <tr>\n",
       "      <th>below average</th>\n",
       "      <td>4290</td>\n",
       "      <td>361</td>\n",
       "      <td>8.41%</td>\n",
       "    </tr>\n",
       "    <tr>\n",
       "      <th>average</th>\n",
       "      <td>4291</td>\n",
       "      <td>375</td>\n",
       "      <td>8.74%</td>\n",
       "    </tr>\n",
       "    <tr>\n",
       "      <th>above average</th>\n",
       "      <td>4290</td>\n",
       "      <td>361</td>\n",
       "      <td>8.41%</td>\n",
       "    </tr>\n",
       "    <tr>\n",
       "      <th>high</th>\n",
       "      <td>4291</td>\n",
       "      <td>300</td>\n",
       "      <td>6.99%</td>\n",
       "    </tr>\n",
       "  </tbody>\n",
       "</table>\n",
       "</div>"
      ],
      "text/plain": [
       "               count  sum <lambda_0>\n",
       "total_income                        \n",
       "low             4291  344     8.02% \n",
       "below average   4290  361     8.41% \n",
       "average         4291  375     8.74% \n",
       "above average   4290  361     8.41% \n",
       "high            4291  300     6.99% "
      ]
     },
     "execution_count": 103,
     "metadata": {},
     "output_type": "execute_result"
    }
   ],
   "source": [
    "# Reviewer's code 2\n",
    "\n",
    "cats = pd.qcut(data['total_income'], 5, ['low', 'below average', 'average', 'above average', 'high'])\n",
    "\n",
    "data.groupby(cats)['debt'].agg(['count', 'sum', lambda x: '{:.2%} '.format(x.mean())])"
   ]
  },
  {
   "cell_type": "markdown",
   "metadata": {},
   "source": [
    "<div class=\"alert alert-success\" style=\"border-radius: 15px; box-shadow: 4px 4px 4px; border: 1px solid \">\n",
    "<h2> Reviewer's comment 2</h2>\n",
    "    \n",
    "\n",
    "So, we group by the categories created with qcut. \n",
    "\n",
    "\n",
    "Again, it is not the best solution - to divide into equal parts. The best idea here would be gather more information about the dataframe :) In real life it is ok to ask some questions about data that is given to us.  </div>"
   ]
  },
  {
   "cell_type": "markdown",
   "metadata": {},
   "source": [
    "**Conclusion**\n",
    "\n",
    "People with total income of 10K-50K tends to ask more for a loan than others, 8.2% of them didn't pay on time.\n",
    "After them are people with total income of 50K-100K , 7% of them didn't pay on time.\n",
    "\n",
    "Only two people earn more than 300K and one of them didn't return the loan on time.\n",
    "9 people with total income of 200K-300K paid one time!\n",
    "\n",
    "The rest (0-10K , 100K-200K) has 5-6% default rate."
   ]
  },
  {
   "cell_type": "markdown",
   "metadata": {},
   "source": [
    "**How does credit purpose affect the default rate?**"
   ]
  },
  {
   "cell_type": "code",
   "execution_count": 104,
   "metadata": {},
   "outputs": [
    {
     "data": {
      "text/html": [
       "<div>\n",
       "<style scoped>\n",
       "    .dataframe tbody tr th:only-of-type {\n",
       "        vertical-align: middle;\n",
       "    }\n",
       "\n",
       "    .dataframe tbody tr th {\n",
       "        vertical-align: top;\n",
       "    }\n",
       "\n",
       "    .dataframe thead th {\n",
       "        text-align: right;\n",
       "    }\n",
       "</style>\n",
       "<table border=\"1\" class=\"dataframe\">\n",
       "  <thead>\n",
       "    <tr style=\"text-align: right;\">\n",
       "      <th></th>\n",
       "      <th>count</th>\n",
       "      <th>sum</th>\n",
       "      <th>my_mean</th>\n",
       "    </tr>\n",
       "    <tr>\n",
       "      <th>clean_purpose</th>\n",
       "      <th></th>\n",
       "      <th></th>\n",
       "      <th></th>\n",
       "    </tr>\n",
       "  </thead>\n",
       "  <tbody>\n",
       "    <tr>\n",
       "      <th>car purpose</th>\n",
       "      <td>4306</td>\n",
       "      <td>403</td>\n",
       "      <td>9.36%</td>\n",
       "    </tr>\n",
       "    <tr>\n",
       "      <th>education purpose</th>\n",
       "      <td>4013</td>\n",
       "      <td>370</td>\n",
       "      <td>9.22%</td>\n",
       "    </tr>\n",
       "    <tr>\n",
       "      <th>house purpose</th>\n",
       "      <td>10811</td>\n",
       "      <td>782</td>\n",
       "      <td>7.23%</td>\n",
       "    </tr>\n",
       "    <tr>\n",
       "      <th>wedding purpose</th>\n",
       "      <td>2323</td>\n",
       "      <td>186</td>\n",
       "      <td>8.01%</td>\n",
       "    </tr>\n",
       "  </tbody>\n",
       "</table>\n",
       "</div>"
      ],
      "text/plain": [
       "                   count  sum my_mean\n",
       "clean_purpose                        \n",
       "car purpose         4306  403  9.36% \n",
       "education purpose   4013  370  9.22% \n",
       "house purpose      10811  782  7.23% \n",
       "wedding purpose     2323  186  8.01% "
      ]
     },
     "execution_count": 104,
     "metadata": {},
     "output_type": "execute_result"
    }
   ],
   "source": [
    "def my_mean(x):\n",
    "    return '{:.2%} '.format(x.mean())\n",
    "\n",
    "data.groupby('clean_purpose')['debt'].agg(['count', 'sum', my_mean])\n",
    "\n"
   ]
  },
  {
   "cell_type": "markdown",
   "metadata": {},
   "source": [
    "**Conclusion**\n",
    "\n",
    "most of the people are asking for a loan in order to buy a house and relatively they tend to pay back on time more than the others.\n",
    "\n",
    "9% of people who ask a loan to buy a car or pay for education tends not to pay on time.\n",
    "\n",
    "Asking for a loan to a wedding is less common than others and 8% of them didn't pay on time. "
   ]
  },
  {
   "cell_type": "markdown",
   "metadata": {},
   "source": [
    "<div class=\"alert alert-success\" style=\"border-radius: 15px; box-shadow: 4px 4px 4px; border: 1px solid \">\n",
    "<b> Reviewer's comment </b>\n",
    "    \n",
    "Seems to be true.</div>"
   ]
  },
  {
   "cell_type": "markdown",
   "metadata": {},
   "source": [
    "# General Conclusion \n",
    "\n",
    "**We had 2 columns with missing values:**\n",
    "1. days_employed\n",
    "2. total_income\n",
    "the percentage of the missing values are very small 1%.\n",
    "\n",
    "**We couldn’t find any reason why the values were missing.\n",
    "The assumption were:**\n",
    "1. Those people are not working\n",
    "2. Technical issue with the form\n",
    "3. They didn’t know / want to share this information.\n",
    "\n",
    "**fixing the data:**\n",
    "1. The column days_employed has negative values - we replaced the values with absolute ones.\n",
    "2. The column education has inconsistent values, there are lower and upper case letters - we changed all to a lower case.\n",
    "3. The column children has negative number (-1) and an outlier (20) - we replaced those values with 1 and 2 children. \n",
    "4. The column total_income has some missing values - we filled those rows with the median income according to the income type.\n",
    "5. The dob_years column had some ‘0’ value - we replaced it with the median age.\n",
    "6. The gender column had an unknown value XNA, we replaced it with male because the income was closer to a male income.\n",
    "\n",
    "We had 72 duplicates and we dropped them and reset the index.\n",
    "\n",
    "We add 2 categories to the data :age group and clean purpose.\n",
    "\n",
    "\n",
    "\n",
    "# We checked the Hypotheses:\n",
    "**The correlation between having children and paying back on time:**\n",
    "- All people with 5 children paid on time.\n",
    "- People with 0-4 children has 7.5-9.7% probability to not paying on time.\n",
    "- People with no kids tends to ask for a loan more than others.\n",
    "\n",
    "\n",
    "**The correlation between family status and paying back on time:**\n",
    "- married people tends to ask for a loan more than others.\n",
    "- All family status has 6.5-9.7% probability to not paying on time.\n",
    "- unmarried and civil partnership tends to have more debts than others.\n",
    "\n",
    "**The correlation between income level and paying back on time:**\n",
    "- All income levels has 5.6-8.2% probability to not paying on time.\n",
    "- People with total income of 10K-50K tends to ask more for a loan than others, 8.2% of them didn't pay on time.\n",
    "- Only two people earn more than 300K and one of them didn't return the loan on time.\n",
    "\n",
    "**The correlation between purpose and paying back on time:**\n",
    "- most of the people are asking for a loan in order to buy a house and relatively they tend to pay back on time more than the others.\n",
    "- 9% of people who ask a loan to buy a car or pay for education tends not to pay on time.\n",
    "- Asking for a loan to a wedding is less common than others and 8% of them didn't pay on time.\n"
   ]
  },
  {
   "cell_type": "markdown",
   "metadata": {},
   "source": [
    "<div class=\"alert alert-success\" style=\"border-radius: 15px; box-shadow: 4px 4px 4px; border: 1px solid \">\n",
    "<b> Reviewer's comment</b>\n",
    "    \n",
    "Good conclusion 👍\n",
    "</div>"
   ]
  },
  {
   "cell_type": "markdown",
   "metadata": {},
   "source": [
    "<div style=\"border-radius: 15px; border: 3px solid indigo; padding: 15px;\">\n",
    "<h2> Overall conclusion <a class=\"tocSkip\"></h2>\n",
    " \n",
    "<div class=\"alert alert-success\" style=\"border-radius: 15px; box-shadow: 4px 4px 4px; border: 1px solid \">\n",
    "    \n",
    "You've done a really good job! You've shown strong analytical and coding skills. You are already good at pandas, it's great! The preprocessing was done successfully, the rate for each group was found correctly. \n",
    "    \n",
    "</div>    \n",
    "    \n",
    "<div class=\"alert alert-danger\" style=\"border-radius: 15px; box-shadow: 4px 4px 4px; border: 1px solid \">\n",
    "    \n",
    "There are some issues that need to be fixed, but it will not take much time. As soon as you fix them I will accept the project 😉 \n",
    "    \n",
    "</div>\n",
    "    \n",
    "    \n",
    "<hr>    \n",
    "    \n",
    "    \n",
    "Best regards,\n",
    "    \n",
    "    \n",
    "Sveta\n",
    "</div>"
   ]
  }
 ],
 "metadata": {
  "ExecuteTimeLog": [
   {
    "duration": 2741,
    "start_time": "2021-10-21T01:08:49.480Z"
   },
   {
    "duration": 52,
    "start_time": "2021-10-21T01:08:53.315Z"
   },
   {
    "duration": 49,
    "start_time": "2021-10-21T01:08:57.432Z"
   },
   {
    "duration": 70,
    "start_time": "2021-10-21T01:09:07.706Z"
   },
   {
    "duration": 564,
    "start_time": "2022-08-23T12:37:19.567Z"
   },
   {
    "duration": 15,
    "start_time": "2022-08-23T12:37:46.828Z"
   },
   {
    "duration": 21,
    "start_time": "2022-08-23T12:38:34.340Z"
   },
   {
    "duration": 14,
    "start_time": "2022-08-23T12:39:42.510Z"
   },
   {
    "duration": 74,
    "start_time": "2022-08-23T12:46:23.126Z"
   },
   {
    "duration": 16,
    "start_time": "2022-08-23T12:46:31.681Z"
   },
   {
    "duration": 16,
    "start_time": "2022-08-23T12:46:51.381Z"
   },
   {
    "duration": 15,
    "start_time": "2022-08-23T12:47:00.597Z"
   },
   {
    "duration": 39,
    "start_time": "2022-08-23T12:48:42.641Z"
   },
   {
    "duration": 15,
    "start_time": "2022-08-23T12:48:48.547Z"
   },
   {
    "duration": 6,
    "start_time": "2022-08-23T12:49:42.881Z"
   },
   {
    "duration": 11,
    "start_time": "2022-08-23T12:50:38.980Z"
   },
   {
    "duration": 89,
    "start_time": "2022-08-23T12:51:09.821Z"
   },
   {
    "duration": 8,
    "start_time": "2022-08-23T12:51:14.365Z"
   },
   {
    "duration": 58,
    "start_time": "2022-08-23T12:51:17.227Z"
   },
   {
    "duration": 20,
    "start_time": "2022-08-23T12:51:40.085Z"
   },
   {
    "duration": 35,
    "start_time": "2022-08-23T12:51:52.441Z"
   },
   {
    "duration": 32,
    "start_time": "2022-08-23T12:52:10.643Z"
   },
   {
    "duration": 10,
    "start_time": "2022-08-23T12:53:13.733Z"
   },
   {
    "duration": 14,
    "start_time": "2022-08-23T13:20:46.231Z"
   },
   {
    "duration": 10,
    "start_time": "2022-08-23T13:21:00.927Z"
   },
   {
    "duration": 15,
    "start_time": "2022-08-23T13:23:44.752Z"
   },
   {
    "duration": 19,
    "start_time": "2022-08-23T13:25:12.903Z"
   },
   {
    "duration": 18,
    "start_time": "2022-08-23T13:25:23.060Z"
   },
   {
    "duration": 56,
    "start_time": "2022-08-23T13:26:25.033Z"
   },
   {
    "duration": 10,
    "start_time": "2022-08-23T13:29:30.263Z"
   },
   {
    "duration": 9,
    "start_time": "2022-08-23T13:30:01.546Z"
   },
   {
    "duration": 9,
    "start_time": "2022-08-23T13:30:05.277Z"
   },
   {
    "duration": 9,
    "start_time": "2022-08-23T13:32:03.140Z"
   },
   {
    "duration": 10,
    "start_time": "2022-08-23T13:32:12.626Z"
   },
   {
    "duration": 10,
    "start_time": "2022-08-23T13:33:09.282Z"
   },
   {
    "duration": 24,
    "start_time": "2022-08-23T13:33:44.319Z"
   },
   {
    "duration": 21,
    "start_time": "2022-08-23T13:33:58.662Z"
   },
   {
    "duration": 9,
    "start_time": "2022-08-23T13:35:21.846Z"
   },
   {
    "duration": 7,
    "start_time": "2022-08-23T13:35:28.026Z"
   },
   {
    "duration": 33,
    "start_time": "2022-08-23T13:35:37.328Z"
   },
   {
    "duration": 25,
    "start_time": "2022-08-23T13:36:58.087Z"
   },
   {
    "duration": 12,
    "start_time": "2022-08-23T13:40:03.059Z"
   },
   {
    "duration": 29,
    "start_time": "2022-08-23T13:41:20.684Z"
   },
   {
    "duration": 21,
    "start_time": "2022-08-23T13:41:27.834Z"
   },
   {
    "duration": 24,
    "start_time": "2022-08-23T13:41:31.487Z"
   },
   {
    "duration": 1652,
    "start_time": "2022-08-23T13:43:12.235Z"
   },
   {
    "duration": 8,
    "start_time": "2022-08-23T13:43:27.141Z"
   },
   {
    "duration": 9,
    "start_time": "2022-08-23T13:43:44.278Z"
   },
   {
    "duration": 40,
    "start_time": "2022-08-23T13:43:58.793Z"
   },
   {
    "duration": 7,
    "start_time": "2022-08-23T13:44:32.101Z"
   },
   {
    "duration": 10,
    "start_time": "2022-08-23T13:45:15.345Z"
   },
   {
    "duration": 6,
    "start_time": "2022-08-23T13:46:49.159Z"
   },
   {
    "duration": 6,
    "start_time": "2022-08-23T13:46:57.785Z"
   },
   {
    "duration": 9,
    "start_time": "2022-08-23T13:47:05.117Z"
   },
   {
    "duration": 7,
    "start_time": "2022-08-23T13:47:08.351Z"
   },
   {
    "duration": 7,
    "start_time": "2022-08-23T13:47:17.669Z"
   },
   {
    "duration": 1501,
    "start_time": "2022-08-23T13:47:23.770Z"
   },
   {
    "duration": 6,
    "start_time": "2022-08-23T13:47:32.136Z"
   },
   {
    "duration": 6,
    "start_time": "2022-08-23T13:47:52.648Z"
   },
   {
    "duration": 9,
    "start_time": "2022-08-23T13:49:07.096Z"
   },
   {
    "duration": 12,
    "start_time": "2022-08-23T13:49:22.746Z"
   },
   {
    "duration": 20,
    "start_time": "2022-08-23T13:49:44.374Z"
   },
   {
    "duration": 11,
    "start_time": "2022-08-23T13:52:15.921Z"
   },
   {
    "duration": 7,
    "start_time": "2022-08-23T13:53:41.036Z"
   },
   {
    "duration": 6,
    "start_time": "2022-08-23T13:53:45.851Z"
   },
   {
    "duration": 8,
    "start_time": "2022-08-23T13:53:52.903Z"
   },
   {
    "duration": 6,
    "start_time": "2022-08-23T13:53:55.772Z"
   },
   {
    "duration": 7,
    "start_time": "2022-08-23T13:54:10.770Z"
   },
   {
    "duration": 7,
    "start_time": "2022-08-23T13:54:34.021Z"
   },
   {
    "duration": 8,
    "start_time": "2022-08-23T13:54:59.359Z"
   },
   {
    "duration": 10,
    "start_time": "2022-08-23T13:55:00.489Z"
   },
   {
    "duration": 10,
    "start_time": "2022-08-23T13:55:24.170Z"
   },
   {
    "duration": 8,
    "start_time": "2022-08-23T13:59:00.789Z"
   },
   {
    "duration": 9,
    "start_time": "2022-08-23T13:59:25.494Z"
   },
   {
    "duration": 7,
    "start_time": "2022-08-23T13:59:37.482Z"
   },
   {
    "duration": 8,
    "start_time": "2022-08-23T13:59:57.733Z"
   },
   {
    "duration": 7,
    "start_time": "2022-08-23T14:00:20.285Z"
   },
   {
    "duration": 35,
    "start_time": "2022-08-23T14:02:57.165Z"
   },
   {
    "duration": 1509,
    "start_time": "2022-08-23T14:04:20.027Z"
   },
   {
    "duration": 8,
    "start_time": "2022-08-23T14:04:35.814Z"
   },
   {
    "duration": 12,
    "start_time": "2022-08-23T14:05:02.697Z"
   },
   {
    "duration": 11,
    "start_time": "2022-08-23T14:05:30.616Z"
   },
   {
    "duration": 30,
    "start_time": "2022-08-23T14:06:25.371Z"
   },
   {
    "duration": 8,
    "start_time": "2022-08-23T14:08:24.521Z"
   },
   {
    "duration": 9,
    "start_time": "2022-08-23T14:09:09.534Z"
   },
   {
    "duration": 9,
    "start_time": "2022-08-23T14:09:55.734Z"
   },
   {
    "duration": 10,
    "start_time": "2022-08-23T14:10:08.618Z"
   },
   {
    "duration": 31,
    "start_time": "2022-08-23T14:11:00.348Z"
   },
   {
    "duration": 8,
    "start_time": "2022-08-23T14:12:22.070Z"
   },
   {
    "duration": 6,
    "start_time": "2022-08-23T14:12:23.029Z"
   },
   {
    "duration": 120,
    "start_time": "2022-08-23T14:41:18.975Z"
   },
   {
    "duration": 14,
    "start_time": "2022-08-23T14:41:23.620Z"
   },
   {
    "duration": 12,
    "start_time": "2022-08-23T15:19:09.251Z"
   },
   {
    "duration": 17,
    "start_time": "2022-08-23T15:19:15.088Z"
   },
   {
    "duration": 13,
    "start_time": "2022-08-23T15:21:10.246Z"
   },
   {
    "duration": 22,
    "start_time": "2022-08-23T15:21:18.445Z"
   },
   {
    "duration": 6,
    "start_time": "2022-08-23T15:25:13.544Z"
   },
   {
    "duration": 7,
    "start_time": "2022-08-23T15:25:14.786Z"
   },
   {
    "duration": 8,
    "start_time": "2022-08-23T15:35:29.676Z"
   },
   {
    "duration": 157,
    "start_time": "2022-08-23T15:37:31.182Z"
   },
   {
    "duration": 17,
    "start_time": "2022-08-23T15:37:32.335Z"
   },
   {
    "duration": 15,
    "start_time": "2022-08-23T15:37:33.884Z"
   },
   {
    "duration": 11,
    "start_time": "2022-08-23T15:37:44.395Z"
   },
   {
    "duration": 11,
    "start_time": "2022-08-23T15:37:44.983Z"
   },
   {
    "duration": 11,
    "start_time": "2022-08-23T15:37:46.081Z"
   },
   {
    "duration": 22,
    "start_time": "2022-08-23T15:37:46.625Z"
   },
   {
    "duration": 10,
    "start_time": "2022-08-23T15:38:36.102Z"
   },
   {
    "duration": 14,
    "start_time": "2022-08-23T15:38:48.526Z"
   },
   {
    "duration": 26,
    "start_time": "2022-08-23T15:51:20.421Z"
   },
   {
    "duration": 10,
    "start_time": "2022-08-23T15:55:48.339Z"
   },
   {
    "duration": 14,
    "start_time": "2022-08-23T15:56:04.709Z"
   },
   {
    "duration": 8,
    "start_time": "2022-08-23T15:56:43.777Z"
   },
   {
    "duration": 14,
    "start_time": "2022-08-23T16:01:57.760Z"
   },
   {
    "duration": 7,
    "start_time": "2022-08-23T16:02:07.284Z"
   },
   {
    "duration": 8,
    "start_time": "2022-08-23T16:02:19.292Z"
   },
   {
    "duration": 7,
    "start_time": "2022-08-23T16:02:41.782Z"
   },
   {
    "duration": 7,
    "start_time": "2022-08-23T16:02:58.307Z"
   },
   {
    "duration": 7,
    "start_time": "2022-08-23T16:03:13.037Z"
   },
   {
    "duration": 10,
    "start_time": "2022-08-23T16:03:19.176Z"
   },
   {
    "duration": 9,
    "start_time": "2022-08-23T16:03:32.396Z"
   },
   {
    "duration": 8,
    "start_time": "2022-08-23T18:48:17.591Z"
   },
   {
    "duration": 116,
    "start_time": "2022-08-23T18:48:29.549Z"
   },
   {
    "duration": 22,
    "start_time": "2022-08-23T18:48:30.001Z"
   },
   {
    "duration": 15,
    "start_time": "2022-08-23T18:48:30.178Z"
   },
   {
    "duration": 54,
    "start_time": "2022-08-23T18:48:30.345Z"
   },
   {
    "duration": 11,
    "start_time": "2022-08-23T18:48:30.733Z"
   },
   {
    "duration": 14,
    "start_time": "2022-08-23T18:48:30.899Z"
   },
   {
    "duration": 15,
    "start_time": "2022-08-23T18:48:31.299Z"
   },
   {
    "duration": 23,
    "start_time": "2022-08-23T18:48:31.481Z"
   },
   {
    "duration": 21,
    "start_time": "2022-08-23T18:48:31.682Z"
   },
   {
    "duration": 7,
    "start_time": "2022-08-23T18:48:32.552Z"
   },
   {
    "duration": 9,
    "start_time": "2022-08-23T18:48:32.815Z"
   },
   {
    "duration": 6,
    "start_time": "2022-08-23T18:48:35.738Z"
   },
   {
    "duration": 8,
    "start_time": "2022-08-23T18:48:37.129Z"
   },
   {
    "duration": 7,
    "start_time": "2022-08-23T18:48:39.539Z"
   },
   {
    "duration": 13,
    "start_time": "2022-08-23T18:48:42.633Z"
   },
   {
    "duration": 8,
    "start_time": "2022-08-23T18:50:21.339Z"
   },
   {
    "duration": 9,
    "start_time": "2022-08-23T18:50:48.823Z"
   },
   {
    "duration": 8,
    "start_time": "2022-08-23T18:50:57.736Z"
   },
   {
    "duration": 62,
    "start_time": "2022-08-24T07:05:12.522Z"
   },
   {
    "duration": 991,
    "start_time": "2022-08-24T07:05:22.576Z"
   },
   {
    "duration": 18,
    "start_time": "2022-08-24T07:05:23.569Z"
   },
   {
    "duration": 29,
    "start_time": "2022-08-24T07:05:23.589Z"
   },
   {
    "duration": 57,
    "start_time": "2022-08-24T07:05:23.621Z"
   },
   {
    "duration": 21,
    "start_time": "2022-08-24T07:05:23.691Z"
   },
   {
    "duration": 13,
    "start_time": "2022-08-24T07:05:23.822Z"
   },
   {
    "duration": 12,
    "start_time": "2022-08-24T07:05:24.819Z"
   },
   {
    "duration": 27,
    "start_time": "2022-08-24T07:05:25.248Z"
   },
   {
    "duration": 22,
    "start_time": "2022-08-24T07:05:28.967Z"
   },
   {
    "duration": 43,
    "start_time": "2022-08-24T07:05:53.286Z"
   },
   {
    "duration": 31,
    "start_time": "2022-08-24T07:05:56.170Z"
   },
   {
    "duration": 8,
    "start_time": "2022-08-24T07:23:14.901Z"
   },
   {
    "duration": 17,
    "start_time": "2022-08-24T07:34:51.768Z"
   },
   {
    "duration": 13,
    "start_time": "2022-08-24T07:35:08.027Z"
   },
   {
    "duration": 11,
    "start_time": "2022-08-24T07:35:19.976Z"
   },
   {
    "duration": 9,
    "start_time": "2022-08-24T07:35:24.903Z"
   },
   {
    "duration": 9,
    "start_time": "2022-08-24T07:35:32.287Z"
   },
   {
    "duration": 15,
    "start_time": "2022-08-24T07:35:40.620Z"
   },
   {
    "duration": 28,
    "start_time": "2022-08-24T07:36:00.314Z"
   },
   {
    "duration": 6,
    "start_time": "2022-08-24T07:36:21.318Z"
   },
   {
    "duration": 19,
    "start_time": "2022-08-24T07:36:44.586Z"
   },
   {
    "duration": 139,
    "start_time": "2022-08-24T07:37:00.301Z"
   },
   {
    "duration": 23,
    "start_time": "2022-08-24T07:37:05.185Z"
   },
   {
    "duration": 25,
    "start_time": "2022-08-24T07:37:05.367Z"
   },
   {
    "duration": 62,
    "start_time": "2022-08-24T07:37:05.515Z"
   },
   {
    "duration": 18,
    "start_time": "2022-08-24T07:37:05.867Z"
   },
   {
    "duration": 18,
    "start_time": "2022-08-24T07:37:06.036Z"
   },
   {
    "duration": 20,
    "start_time": "2022-08-24T07:37:06.593Z"
   },
   {
    "duration": 34,
    "start_time": "2022-08-24T07:37:07.079Z"
   },
   {
    "duration": 23,
    "start_time": "2022-08-24T07:37:07.317Z"
   },
   {
    "duration": 6,
    "start_time": "2022-08-24T07:37:08.349Z"
   },
   {
    "duration": 10,
    "start_time": "2022-08-24T07:37:09.815Z"
   },
   {
    "duration": 11,
    "start_time": "2022-08-24T07:37:10.315Z"
   },
   {
    "duration": 14,
    "start_time": "2022-08-24T07:37:11.709Z"
   },
   {
    "duration": 9,
    "start_time": "2022-08-24T07:43:44.727Z"
   },
   {
    "duration": 24,
    "start_time": "2022-08-24T07:44:04.885Z"
   },
   {
    "duration": 10,
    "start_time": "2022-08-24T07:56:12.552Z"
   },
   {
    "duration": 11,
    "start_time": "2022-08-24T07:56:29.191Z"
   },
   {
    "duration": 8,
    "start_time": "2022-08-24T08:12:54.407Z"
   },
   {
    "duration": 9,
    "start_time": "2022-08-24T08:15:03.564Z"
   },
   {
    "duration": 16,
    "start_time": "2022-08-24T08:15:25.467Z"
   },
   {
    "duration": 7,
    "start_time": "2022-08-24T08:19:26.175Z"
   },
   {
    "duration": 9,
    "start_time": "2022-08-24T08:19:27.255Z"
   },
   {
    "duration": 9,
    "start_time": "2022-08-24T08:19:30.186Z"
   },
   {
    "duration": 10,
    "start_time": "2022-08-24T08:24:23.882Z"
   },
   {
    "duration": 44,
    "start_time": "2022-08-24T08:28:26.834Z"
   },
   {
    "duration": 30,
    "start_time": "2022-08-24T08:30:33.134Z"
   },
   {
    "duration": 8,
    "start_time": "2022-08-24T08:38:57.207Z"
   },
   {
    "duration": 12,
    "start_time": "2022-08-24T08:39:10.101Z"
   },
   {
    "duration": 122,
    "start_time": "2022-08-24T08:39:18.401Z"
   },
   {
    "duration": 9,
    "start_time": "2022-08-24T08:39:25.904Z"
   },
   {
    "duration": 30,
    "start_time": "2022-08-24T08:40:39.934Z"
   },
   {
    "duration": 18,
    "start_time": "2022-08-24T08:41:08.354Z"
   },
   {
    "duration": 12,
    "start_time": "2022-08-24T08:41:10.539Z"
   },
   {
    "duration": 8,
    "start_time": "2022-08-24T08:42:00.238Z"
   },
   {
    "duration": 19,
    "start_time": "2022-08-24T08:42:01.107Z"
   },
   {
    "duration": 13,
    "start_time": "2022-08-24T08:42:01.740Z"
   },
   {
    "duration": 135,
    "start_time": "2022-08-24T08:42:11.078Z"
   },
   {
    "duration": 23,
    "start_time": "2022-08-24T08:42:12.076Z"
   },
   {
    "duration": 17,
    "start_time": "2022-08-24T08:42:12.279Z"
   },
   {
    "duration": 90,
    "start_time": "2022-08-24T08:42:12.414Z"
   },
   {
    "duration": 20,
    "start_time": "2022-08-24T08:42:12.790Z"
   },
   {
    "duration": 18,
    "start_time": "2022-08-24T08:42:12.952Z"
   },
   {
    "duration": 18,
    "start_time": "2022-08-24T08:42:13.577Z"
   },
   {
    "duration": 33,
    "start_time": "2022-08-24T08:42:14.106Z"
   },
   {
    "duration": 24,
    "start_time": "2022-08-24T08:42:14.354Z"
   },
   {
    "duration": 11,
    "start_time": "2022-08-24T08:42:17.004Z"
   },
   {
    "duration": 11,
    "start_time": "2022-08-24T08:42:17.866Z"
   },
   {
    "duration": 11,
    "start_time": "2022-08-24T08:42:19.891Z"
   },
   {
    "duration": 13,
    "start_time": "2022-08-24T08:43:23.956Z"
   },
   {
    "duration": 10,
    "start_time": "2022-08-24T08:43:35.120Z"
   },
   {
    "duration": 17,
    "start_time": "2022-08-24T08:43:45.884Z"
   },
   {
    "duration": 5,
    "start_time": "2022-08-24T08:46:39.010Z"
   },
   {
    "duration": 9,
    "start_time": "2022-08-24T08:47:11.822Z"
   },
   {
    "duration": 23,
    "start_time": "2022-08-24T08:50:55.383Z"
   },
   {
    "duration": 27,
    "start_time": "2022-08-24T08:52:02.888Z"
   },
   {
    "duration": 117,
    "start_time": "2022-08-24T08:52:19.037Z"
   },
   {
    "duration": 21,
    "start_time": "2022-08-24T08:52:22.900Z"
   },
   {
    "duration": 16,
    "start_time": "2022-08-24T08:52:43.992Z"
   },
   {
    "duration": 103,
    "start_time": "2022-08-24T08:52:55.508Z"
   },
   {
    "duration": 10,
    "start_time": "2022-08-24T08:53:08.658Z"
   },
   {
    "duration": 11,
    "start_time": "2022-08-24T08:53:19.923Z"
   },
   {
    "duration": 21,
    "start_time": "2022-08-24T08:53:31.503Z"
   },
   {
    "duration": 69,
    "start_time": "2022-08-24T08:54:03.262Z"
   },
   {
    "duration": 4,
    "start_time": "2022-08-24T08:54:13.884Z"
   },
   {
    "duration": 22,
    "start_time": "2022-08-24T08:54:19.872Z"
   },
   {
    "duration": 25,
    "start_time": "2022-08-24T08:54:24.592Z"
   },
   {
    "duration": 30,
    "start_time": "2022-08-24T08:54:34.604Z"
   },
   {
    "duration": 11,
    "start_time": "2022-08-24T08:54:52.248Z"
   },
   {
    "duration": 26,
    "start_time": "2022-08-24T08:55:09.018Z"
   },
   {
    "duration": 36,
    "start_time": "2022-08-24T08:55:42.874Z"
   },
   {
    "duration": 8,
    "start_time": "2022-08-24T14:23:10.169Z"
   },
   {
    "duration": 7,
    "start_time": "2022-08-24T14:23:20.206Z"
   },
   {
    "duration": 8,
    "start_time": "2022-08-24T14:23:40.927Z"
   },
   {
    "duration": 15,
    "start_time": "2022-08-24T14:24:11.858Z"
   },
   {
    "duration": 15,
    "start_time": "2022-08-24T14:24:27.118Z"
   },
   {
    "duration": 6,
    "start_time": "2022-08-24T14:26:22.090Z"
   },
   {
    "duration": 507,
    "start_time": "2022-08-24T14:27:15.724Z"
   },
   {
    "duration": 11,
    "start_time": "2022-08-24T14:27:33.634Z"
   },
   {
    "duration": 9,
    "start_time": "2022-08-24T14:30:45.019Z"
   },
   {
    "duration": 6,
    "start_time": "2022-08-24T14:31:40.507Z"
   },
   {
    "duration": 6,
    "start_time": "2022-08-24T14:32:22.708Z"
   },
   {
    "duration": 4,
    "start_time": "2022-08-24T14:38:35.876Z"
   },
   {
    "duration": 8,
    "start_time": "2022-08-24T14:38:57.010Z"
   },
   {
    "duration": 10,
    "start_time": "2022-08-24T14:39:09.906Z"
   },
   {
    "duration": 13,
    "start_time": "2022-08-24T14:40:09.867Z"
   },
   {
    "duration": 6,
    "start_time": "2022-08-24T14:40:10.569Z"
   },
   {
    "duration": 6,
    "start_time": "2022-08-24T14:44:20.146Z"
   },
   {
    "duration": 6,
    "start_time": "2022-08-24T14:44:21.145Z"
   },
   {
    "duration": 7,
    "start_time": "2022-08-24T14:44:54.786Z"
   },
   {
    "duration": 9,
    "start_time": "2022-08-24T14:44:56.232Z"
   },
   {
    "duration": 7,
    "start_time": "2022-08-24T14:44:57.030Z"
   },
   {
    "duration": 8,
    "start_time": "2022-08-24T14:45:13.638Z"
   },
   {
    "duration": 8,
    "start_time": "2022-08-24T14:45:14.168Z"
   },
   {
    "duration": 8,
    "start_time": "2022-08-24T14:45:27.828Z"
   },
   {
    "duration": 6,
    "start_time": "2022-08-24T14:45:28.411Z"
   },
   {
    "duration": 10,
    "start_time": "2022-08-24T14:46:46.962Z"
   },
   {
    "duration": 13,
    "start_time": "2022-08-24T14:46:47.676Z"
   },
   {
    "duration": 131,
    "start_time": "2022-08-24T14:46:59.208Z"
   },
   {
    "duration": 20,
    "start_time": "2022-08-24T14:47:00.003Z"
   },
   {
    "duration": 26,
    "start_time": "2022-08-24T14:47:00.226Z"
   },
   {
    "duration": 64,
    "start_time": "2022-08-24T14:47:00.412Z"
   },
   {
    "duration": 7,
    "start_time": "2022-08-24T14:47:06.859Z"
   },
   {
    "duration": 7,
    "start_time": "2022-08-24T14:47:07.429Z"
   },
   {
    "duration": 9,
    "start_time": "2022-08-24T14:47:08.950Z"
   },
   {
    "duration": 8,
    "start_time": "2022-08-24T14:47:15.640Z"
   },
   {
    "duration": 15,
    "start_time": "2022-08-24T14:47:18.894Z"
   },
   {
    "duration": 7,
    "start_time": "2022-08-24T14:47:20.277Z"
   },
   {
    "duration": 152,
    "start_time": "2022-08-24T14:49:13.625Z"
   },
   {
    "duration": 18,
    "start_time": "2022-08-24T14:49:14.284Z"
   },
   {
    "duration": 17,
    "start_time": "2022-08-24T14:49:14.464Z"
   },
   {
    "duration": 75,
    "start_time": "2022-08-24T14:49:14.650Z"
   },
   {
    "duration": 16,
    "start_time": "2022-08-24T14:49:14.984Z"
   },
   {
    "duration": 20,
    "start_time": "2022-08-24T14:49:15.130Z"
   },
   {
    "duration": 19,
    "start_time": "2022-08-24T14:49:15.448Z"
   },
   {
    "duration": 33,
    "start_time": "2022-08-24T14:49:17.423Z"
   },
   {
    "duration": 6,
    "start_time": "2022-08-24T14:49:23.522Z"
   },
   {
    "duration": 9,
    "start_time": "2022-08-24T14:49:26.856Z"
   },
   {
    "duration": 9,
    "start_time": "2022-08-24T14:49:31.176Z"
   },
   {
    "duration": 8,
    "start_time": "2022-08-24T14:50:09.848Z"
   },
   {
    "duration": 8,
    "start_time": "2022-08-24T14:50:10.312Z"
   },
   {
    "duration": 7,
    "start_time": "2022-08-24T14:52:43.649Z"
   },
   {
    "duration": 124,
    "start_time": "2022-08-24T14:54:59.151Z"
   },
   {
    "duration": 18,
    "start_time": "2022-08-24T14:54:59.472Z"
   },
   {
    "duration": 15,
    "start_time": "2022-08-24T14:54:59.619Z"
   },
   {
    "duration": 95,
    "start_time": "2022-08-24T14:54:59.924Z"
   },
   {
    "duration": 17,
    "start_time": "2022-08-24T14:55:00.246Z"
   },
   {
    "duration": 15,
    "start_time": "2022-08-24T14:55:45.335Z"
   },
   {
    "duration": 939,
    "start_time": "2022-08-24T14:57:35.282Z"
   },
   {
    "duration": 9,
    "start_time": "2022-08-24T14:58:29.189Z"
   },
   {
    "duration": 10,
    "start_time": "2022-08-24T14:59:27.799Z"
   },
   {
    "duration": 8,
    "start_time": "2022-08-24T15:00:01.140Z"
   },
   {
    "duration": 6,
    "start_time": "2022-08-24T15:07:38.874Z"
   },
   {
    "duration": 8,
    "start_time": "2022-08-24T15:07:48.161Z"
   },
   {
    "duration": 120,
    "start_time": "2022-08-24T16:56:05.510Z"
   },
   {
    "duration": 17,
    "start_time": "2022-08-24T16:56:05.863Z"
   },
   {
    "duration": 15,
    "start_time": "2022-08-24T16:56:06.014Z"
   },
   {
    "duration": 61,
    "start_time": "2022-08-24T16:56:06.175Z"
   },
   {
    "duration": 11,
    "start_time": "2022-08-24T16:56:06.646Z"
   },
   {
    "duration": 13,
    "start_time": "2022-08-24T16:56:06.816Z"
   },
   {
    "duration": 12,
    "start_time": "2022-08-24T16:56:13.942Z"
   },
   {
    "duration": 16,
    "start_time": "2022-08-24T16:56:18.609Z"
   },
   {
    "duration": 14,
    "start_time": "2022-08-24T16:56:18.955Z"
   },
   {
    "duration": 6,
    "start_time": "2022-08-24T16:56:24.753Z"
   },
   {
    "duration": 6,
    "start_time": "2022-08-24T16:56:42.070Z"
   },
   {
    "duration": 18,
    "start_time": "2022-08-24T16:58:44.466Z"
   },
   {
    "duration": 15,
    "start_time": "2022-08-24T17:02:07.362Z"
   },
   {
    "duration": 202,
    "start_time": "2022-08-24T17:02:24.106Z"
   },
   {
    "duration": 204,
    "start_time": "2022-08-24T17:02:27.162Z"
   },
   {
    "duration": 207,
    "start_time": "2022-08-24T17:02:33.326Z"
   },
   {
    "duration": 211,
    "start_time": "2022-08-24T17:02:45.216Z"
   },
   {
    "duration": 282,
    "start_time": "2022-08-24T17:03:29.389Z"
   },
   {
    "duration": 259,
    "start_time": "2022-08-24T17:03:39.067Z"
   },
   {
    "duration": 5,
    "start_time": "2022-08-24T17:03:40.085Z"
   },
   {
    "duration": 9,
    "start_time": "2022-08-24T17:04:11.780Z"
   },
   {
    "duration": 116,
    "start_time": "2022-08-24T17:04:52.471Z"
   },
   {
    "duration": 127,
    "start_time": "2022-08-24T17:05:05.104Z"
   },
   {
    "duration": 18,
    "start_time": "2022-08-24T17:05:05.537Z"
   },
   {
    "duration": 15,
    "start_time": "2022-08-24T17:05:05.712Z"
   },
   {
    "duration": 56,
    "start_time": "2022-08-24T17:05:05.844Z"
   },
   {
    "duration": 7,
    "start_time": "2022-08-24T17:05:52.760Z"
   },
   {
    "duration": 6,
    "start_time": "2022-08-24T17:05:53.404Z"
   },
   {
    "duration": 436,
    "start_time": "2022-08-24T17:05:55.775Z"
   },
   {
    "duration": 5,
    "start_time": "2022-08-24T17:05:56.468Z"
   },
   {
    "duration": 9,
    "start_time": "2022-08-24T17:05:59.789Z"
   },
   {
    "duration": 12,
    "start_time": "2022-08-24T17:19:30.545Z"
   },
   {
    "duration": 9,
    "start_time": "2022-08-24T17:19:54.736Z"
   },
   {
    "duration": 8,
    "start_time": "2022-08-24T17:20:58.832Z"
   },
   {
    "duration": 10,
    "start_time": "2022-08-24T17:21:27.272Z"
   },
   {
    "duration": 10,
    "start_time": "2022-08-24T17:21:44.198Z"
   },
   {
    "duration": 11,
    "start_time": "2022-08-24T17:21:57.895Z"
   },
   {
    "duration": 10,
    "start_time": "2022-08-24T17:22:04.281Z"
   },
   {
    "duration": 11,
    "start_time": "2022-08-24T17:22:11.281Z"
   },
   {
    "duration": 17,
    "start_time": "2022-08-24T17:23:08.401Z"
   },
   {
    "duration": 11,
    "start_time": "2022-08-24T17:23:43.600Z"
   },
   {
    "duration": 11,
    "start_time": "2022-08-24T17:23:56.408Z"
   },
   {
    "duration": 11,
    "start_time": "2022-08-24T17:24:03.430Z"
   },
   {
    "duration": 4,
    "start_time": "2022-08-24T17:25:27.926Z"
   },
   {
    "duration": 5,
    "start_time": "2022-08-24T17:25:31.640Z"
   },
   {
    "duration": 8,
    "start_time": "2022-08-24T17:25:42.104Z"
   },
   {
    "duration": 6,
    "start_time": "2022-08-24T17:25:52.549Z"
   },
   {
    "duration": 10,
    "start_time": "2022-08-24T17:26:14.792Z"
   },
   {
    "duration": 7,
    "start_time": "2022-08-24T17:26:20.568Z"
   },
   {
    "duration": 431,
    "start_time": "2022-08-24T17:26:55.559Z"
   },
   {
    "duration": 6,
    "start_time": "2022-08-24T17:26:58.641Z"
   },
   {
    "duration": 149,
    "start_time": "2022-08-24T17:27:28.958Z"
   },
   {
    "duration": 17,
    "start_time": "2022-08-24T17:27:29.345Z"
   },
   {
    "duration": 14,
    "start_time": "2022-08-24T17:27:29.509Z"
   },
   {
    "duration": 57,
    "start_time": "2022-08-24T17:27:29.665Z"
   },
   {
    "duration": 11,
    "start_time": "2022-08-24T17:27:29.979Z"
   },
   {
    "duration": 12,
    "start_time": "2022-08-24T17:27:30.110Z"
   },
   {
    "duration": 6,
    "start_time": "2022-08-24T17:27:38.419Z"
   },
   {
    "duration": 6,
    "start_time": "2022-08-24T17:27:41.427Z"
   },
   {
    "duration": 6,
    "start_time": "2022-08-24T17:28:15.249Z"
   },
   {
    "duration": 422,
    "start_time": "2022-08-24T17:28:16.821Z"
   },
   {
    "duration": 7,
    "start_time": "2022-08-24T17:28:17.417Z"
   },
   {
    "duration": 7,
    "start_time": "2022-08-24T17:28:20.087Z"
   },
   {
    "duration": 6,
    "start_time": "2022-08-24T17:28:26.509Z"
   },
   {
    "duration": 52,
    "start_time": "2022-08-24T18:35:53.401Z"
   },
   {
    "duration": 6,
    "start_time": "2022-08-24T18:35:59.328Z"
   },
   {
    "duration": 8,
    "start_time": "2022-08-24T18:36:05.215Z"
   },
   {
    "duration": 116,
    "start_time": "2022-08-24T18:36:24.987Z"
   },
   {
    "duration": 16,
    "start_time": "2022-08-24T18:36:25.358Z"
   },
   {
    "duration": 21,
    "start_time": "2022-08-24T18:36:25.520Z"
   },
   {
    "duration": 52,
    "start_time": "2022-08-24T18:36:25.652Z"
   },
   {
    "duration": 50,
    "start_time": "2022-08-24T18:36:35.248Z"
   },
   {
    "duration": 7,
    "start_time": "2022-08-24T18:36:39.716Z"
   },
   {
    "duration": 6,
    "start_time": "2022-08-24T18:37:03.644Z"
   },
   {
    "duration": 389,
    "start_time": "2022-08-24T18:37:06.134Z"
   },
   {
    "duration": 7,
    "start_time": "2022-08-24T18:37:07.469Z"
   },
   {
    "duration": 7,
    "start_time": "2022-08-24T18:37:10.465Z"
   },
   {
    "duration": 8,
    "start_time": "2022-08-24T18:37:11.838Z"
   },
   {
    "duration": 5,
    "start_time": "2022-08-24T18:39:11.559Z"
   },
   {
    "duration": 8,
    "start_time": "2022-08-24T18:39:32.397Z"
   },
   {
    "duration": 7,
    "start_time": "2022-08-24T18:39:37.055Z"
   },
   {
    "duration": 10,
    "start_time": "2022-08-24T18:39:55.568Z"
   },
   {
    "duration": 7,
    "start_time": "2022-08-24T18:39:58.395Z"
   },
   {
    "duration": 20,
    "start_time": "2022-08-24T18:45:36.528Z"
   },
   {
    "duration": 3,
    "start_time": "2022-08-24T18:46:24.120Z"
   },
   {
    "duration": 5,
    "start_time": "2022-08-24T18:46:36.941Z"
   },
   {
    "duration": 8,
    "start_time": "2022-08-24T18:47:23.927Z"
   },
   {
    "duration": 8,
    "start_time": "2022-08-24T18:48:01.780Z"
   },
   {
    "duration": 134,
    "start_time": "2022-08-24T18:48:10.269Z"
   },
   {
    "duration": 18,
    "start_time": "2022-08-24T18:48:10.582Z"
   },
   {
    "duration": 13,
    "start_time": "2022-08-24T18:48:10.721Z"
   },
   {
    "duration": 53,
    "start_time": "2022-08-24T18:48:10.890Z"
   },
   {
    "duration": 6,
    "start_time": "2022-08-24T18:48:17.159Z"
   },
   {
    "duration": 8,
    "start_time": "2022-08-24T18:48:20.835Z"
   },
   {
    "duration": 8,
    "start_time": "2022-08-24T18:48:34.656Z"
   },
   {
    "duration": 4,
    "start_time": "2022-08-24T18:49:29.391Z"
   },
   {
    "duration": 7,
    "start_time": "2022-08-24T18:49:30.179Z"
   },
   {
    "duration": 10,
    "start_time": "2022-08-24T18:52:54.957Z"
   },
   {
    "duration": 7,
    "start_time": "2022-08-24T18:53:04.073Z"
   },
   {
    "duration": 8,
    "start_time": "2022-08-24T18:53:24.768Z"
   },
   {
    "duration": 6,
    "start_time": "2022-08-24T18:53:52.212Z"
   },
   {
    "duration": 4,
    "start_time": "2022-08-24T18:53:57.597Z"
   },
   {
    "duration": 11,
    "start_time": "2022-08-24T18:54:03.307Z"
   },
   {
    "duration": 157,
    "start_time": "2022-08-24T18:54:49.518Z"
   },
   {
    "duration": 16,
    "start_time": "2022-08-24T18:54:49.906Z"
   },
   {
    "duration": 15,
    "start_time": "2022-08-24T18:54:50.073Z"
   },
   {
    "duration": 58,
    "start_time": "2022-08-24T18:54:50.246Z"
   },
   {
    "duration": 16,
    "start_time": "2022-08-24T18:54:50.599Z"
   },
   {
    "duration": 19,
    "start_time": "2022-08-24T18:54:50.785Z"
   },
   {
    "duration": 12,
    "start_time": "2022-08-24T18:54:51.161Z"
   },
   {
    "duration": 23,
    "start_time": "2022-08-24T18:54:51.346Z"
   },
   {
    "duration": 32,
    "start_time": "2022-08-24T18:54:51.526Z"
   },
   {
    "duration": 10,
    "start_time": "2022-08-24T18:54:52.069Z"
   },
   {
    "duration": 11,
    "start_time": "2022-08-24T18:54:52.248Z"
   },
   {
    "duration": 12,
    "start_time": "2022-08-24T18:54:52.434Z"
   },
   {
    "duration": 31,
    "start_time": "2022-08-24T18:54:52.797Z"
   },
   {
    "duration": 3,
    "start_time": "2022-08-24T18:54:53.174Z"
   },
   {
    "duration": 3,
    "start_time": "2022-08-24T18:54:53.541Z"
   },
   {
    "duration": 14,
    "start_time": "2022-08-24T18:54:54.148Z"
   },
   {
    "duration": 12,
    "start_time": "2022-08-24T18:54:54.352Z"
   },
   {
    "duration": 19,
    "start_time": "2022-08-24T18:54:54.712Z"
   },
   {
    "duration": 8,
    "start_time": "2022-08-24T18:55:01.432Z"
   },
   {
    "duration": 11,
    "start_time": "2022-08-24T18:55:02.180Z"
   },
   {
    "duration": 8,
    "start_time": "2022-08-24T18:55:03.598Z"
   },
   {
    "duration": 449,
    "start_time": "2022-08-24T18:55:04.798Z"
   },
   {
    "duration": 9,
    "start_time": "2022-08-24T18:55:05.276Z"
   },
   {
    "duration": 7,
    "start_time": "2022-08-24T18:55:05.804Z"
   },
   {
    "duration": 9,
    "start_time": "2022-08-24T18:55:06.414Z"
   },
   {
    "duration": 9,
    "start_time": "2022-08-24T18:55:10.726Z"
   },
   {
    "duration": 4,
    "start_time": "2022-08-24T18:55:11.691Z"
   },
   {
    "duration": 7,
    "start_time": "2022-08-24T18:55:12.308Z"
   },
   {
    "duration": 12,
    "start_time": "2022-08-24T18:55:14.399Z"
   },
   {
    "duration": 8,
    "start_time": "2022-08-24T18:55:42.115Z"
   },
   {
    "duration": 13,
    "start_time": "2022-08-24T18:56:01.917Z"
   },
   {
    "duration": 8,
    "start_time": "2022-08-24T18:56:23.909Z"
   },
   {
    "duration": 8,
    "start_time": "2022-08-24T18:56:41.138Z"
   },
   {
    "duration": 10,
    "start_time": "2022-08-24T18:56:46.077Z"
   },
   {
    "duration": 9,
    "start_time": "2022-08-24T18:56:57.135Z"
   },
   {
    "duration": 589,
    "start_time": "2022-08-29T11:05:25.548Z"
   },
   {
    "duration": 16,
    "start_time": "2022-08-29T11:09:59.525Z"
   },
   {
    "duration": 126,
    "start_time": "2022-08-29T12:21:36.747Z"
   },
   {
    "duration": 15,
    "start_time": "2022-08-29T12:21:37.176Z"
   },
   {
    "duration": 17,
    "start_time": "2022-08-29T12:21:37.371Z"
   },
   {
    "duration": 60,
    "start_time": "2022-08-29T12:21:37.547Z"
   },
   {
    "duration": 10,
    "start_time": "2022-08-29T12:21:37.932Z"
   },
   {
    "duration": 10,
    "start_time": "2022-08-29T12:21:38.136Z"
   },
   {
    "duration": 11,
    "start_time": "2022-08-29T12:21:38.534Z"
   },
   {
    "duration": 20,
    "start_time": "2022-08-29T12:21:38.751Z"
   },
   {
    "duration": 22,
    "start_time": "2022-08-29T12:21:38.959Z"
   },
   {
    "duration": 6,
    "start_time": "2022-08-29T12:21:39.556Z"
   },
   {
    "duration": 8,
    "start_time": "2022-08-29T12:21:39.753Z"
   },
   {
    "duration": 9,
    "start_time": "2022-08-29T12:21:39.948Z"
   },
   {
    "duration": 31,
    "start_time": "2022-08-29T12:21:40.364Z"
   },
   {
    "duration": 2,
    "start_time": "2022-08-29T12:21:40.751Z"
   },
   {
    "duration": 12,
    "start_time": "2022-08-29T12:22:01.774Z"
   },
   {
    "duration": 10,
    "start_time": "2022-08-29T12:22:02.868Z"
   },
   {
    "duration": 12,
    "start_time": "2022-08-29T12:22:03.137Z"
   },
   {
    "duration": 6,
    "start_time": "2022-08-29T12:22:14.131Z"
   },
   {
    "duration": 8,
    "start_time": "2022-08-29T12:22:14.729Z"
   },
   {
    "duration": 6,
    "start_time": "2022-08-29T12:22:21.317Z"
   },
   {
    "duration": 98,
    "start_time": "2022-08-29T12:23:26.581Z"
   },
   {
    "duration": 15,
    "start_time": "2022-08-29T12:23:26.967Z"
   },
   {
    "duration": 15,
    "start_time": "2022-08-29T12:23:27.178Z"
   },
   {
    "duration": 50,
    "start_time": "2022-08-29T12:23:27.352Z"
   },
   {
    "duration": 13,
    "start_time": "2022-08-29T12:23:27.764Z"
   },
   {
    "duration": 11,
    "start_time": "2022-08-29T12:23:27.951Z"
   },
   {
    "duration": 10,
    "start_time": "2022-08-29T12:23:28.389Z"
   },
   {
    "duration": 24,
    "start_time": "2022-08-29T12:23:28.591Z"
   },
   {
    "duration": 21,
    "start_time": "2022-08-29T12:23:28.876Z"
   },
   {
    "duration": 8,
    "start_time": "2022-08-29T12:23:29.638Z"
   },
   {
    "duration": 8,
    "start_time": "2022-08-29T12:23:30.353Z"
   },
   {
    "duration": 8,
    "start_time": "2022-08-29T12:23:31.821Z"
   },
   {
    "duration": 29,
    "start_time": "2022-08-29T12:23:32.938Z"
   },
   {
    "duration": 2,
    "start_time": "2022-08-29T12:23:34.197Z"
   },
   {
    "duration": 3,
    "start_time": "2022-08-29T12:23:34.863Z"
   },
   {
    "duration": 11,
    "start_time": "2022-08-29T12:23:36.868Z"
   },
   {
    "duration": 10,
    "start_time": "2022-08-29T12:23:37.394Z"
   },
   {
    "duration": 12,
    "start_time": "2022-08-29T12:23:39.073Z"
   },
   {
    "duration": 6,
    "start_time": "2022-08-29T12:23:42.788Z"
   },
   {
    "duration": 9,
    "start_time": "2022-08-29T12:24:01.540Z"
   },
   {
    "duration": 6,
    "start_time": "2022-08-29T12:24:05.385Z"
   },
   {
    "duration": 360,
    "start_time": "2022-08-29T12:24:13.589Z"
   },
   {
    "duration": 5,
    "start_time": "2022-08-29T12:24:14.247Z"
   },
   {
    "duration": 6,
    "start_time": "2022-08-29T12:24:16.859Z"
   },
   {
    "duration": 6,
    "start_time": "2022-08-29T12:24:19.847Z"
   },
   {
    "duration": 6,
    "start_time": "2022-08-29T12:24:26.690Z"
   },
   {
    "duration": 3,
    "start_time": "2022-08-29T12:24:38.932Z"
   },
   {
    "duration": 6,
    "start_time": "2022-08-29T12:24:40.679Z"
   },
   {
    "duration": 6,
    "start_time": "2022-08-29T12:24:46.672Z"
   },
   {
    "duration": 110,
    "start_time": "2022-08-29T12:25:37.963Z"
   },
   {
    "duration": 14,
    "start_time": "2022-08-29T12:25:38.331Z"
   },
   {
    "duration": 14,
    "start_time": "2022-08-29T12:25:38.521Z"
   },
   {
    "duration": 49,
    "start_time": "2022-08-29T12:25:38.695Z"
   },
   {
    "duration": 10,
    "start_time": "2022-08-29T12:25:39.095Z"
   },
   {
    "duration": 11,
    "start_time": "2022-08-29T12:25:39.250Z"
   },
   {
    "duration": 11,
    "start_time": "2022-08-29T12:25:39.662Z"
   },
   {
    "duration": 22,
    "start_time": "2022-08-29T12:25:39.864Z"
   },
   {
    "duration": 24,
    "start_time": "2022-08-29T12:25:40.259Z"
   },
   {
    "duration": 7,
    "start_time": "2022-08-29T12:25:43.588Z"
   },
   {
    "duration": 8,
    "start_time": "2022-08-29T12:25:44.196Z"
   },
   {
    "duration": 8,
    "start_time": "2022-08-29T12:25:45.795Z"
   },
   {
    "duration": 29,
    "start_time": "2022-08-29T12:25:48.392Z"
   },
   {
    "duration": 2,
    "start_time": "2022-08-29T12:25:50.929Z"
   },
   {
    "duration": 2,
    "start_time": "2022-08-29T12:25:52.778Z"
   },
   {
    "duration": 10,
    "start_time": "2022-08-29T12:25:55.064Z"
   },
   {
    "duration": 9,
    "start_time": "2022-08-29T12:25:55.965Z"
   },
   {
    "duration": 12,
    "start_time": "2022-08-29T12:25:58.300Z"
   },
   {
    "duration": 7,
    "start_time": "2022-08-29T12:26:02.723Z"
   },
   {
    "duration": 7,
    "start_time": "2022-08-29T12:26:06.130Z"
   },
   {
    "duration": 7,
    "start_time": "2022-08-29T12:26:14.295Z"
   },
   {
    "duration": 360,
    "start_time": "2022-08-29T12:26:22.894Z"
   },
   {
    "duration": 6,
    "start_time": "2022-08-29T12:26:25.163Z"
   },
   {
    "duration": 6,
    "start_time": "2022-08-29T12:26:27.569Z"
   },
   {
    "duration": 8,
    "start_time": "2022-08-29T12:26:33.854Z"
   },
   {
    "duration": 8,
    "start_time": "2022-08-29T12:26:46.218Z"
   },
   {
    "duration": 4,
    "start_time": "2022-08-29T12:26:48.751Z"
   },
   {
    "duration": 5,
    "start_time": "2022-08-29T12:26:52.963Z"
   },
   {
    "duration": 6,
    "start_time": "2022-08-29T12:26:58.658Z"
   },
   {
    "duration": 7,
    "start_time": "2022-08-29T12:28:26.789Z"
   },
   {
    "duration": 59,
    "start_time": "2022-08-29T12:29:14.276Z"
   },
   {
    "duration": 6,
    "start_time": "2022-08-29T12:29:19.528Z"
   },
   {
    "duration": 9,
    "start_time": "2022-08-29T12:29:23.847Z"
   },
   {
    "duration": 10,
    "start_time": "2022-08-29T12:29:49.693Z"
   },
   {
    "duration": 6,
    "start_time": "2022-08-29T12:29:54.622Z"
   },
   {
    "duration": 7,
    "start_time": "2022-08-29T12:31:13.347Z"
   },
   {
    "duration": 7,
    "start_time": "2022-08-29T12:31:20.835Z"
   },
   {
    "duration": 8,
    "start_time": "2022-08-29T12:31:38.039Z"
   },
   {
    "duration": 8,
    "start_time": "2022-08-29T12:31:49.222Z"
   },
   {
    "duration": 15,
    "start_time": "2022-08-29T12:36:03.349Z"
   },
   {
    "duration": 22,
    "start_time": "2022-08-29T12:36:23.699Z"
   },
   {
    "duration": 64,
    "start_time": "2022-08-29T12:37:07.585Z"
   },
   {
    "duration": 21,
    "start_time": "2022-08-29T12:37:44.535Z"
   },
   {
    "duration": 20,
    "start_time": "2022-08-29T12:50:37.945Z"
   },
   {
    "duration": 4,
    "start_time": "2022-08-29T13:09:14.412Z"
   },
   {
    "duration": 5,
    "start_time": "2022-08-29T13:09:26.389Z"
   },
   {
    "duration": 11,
    "start_time": "2022-08-29T13:13:56.366Z"
   },
   {
    "duration": 7,
    "start_time": "2022-08-29T13:14:08.292Z"
   },
   {
    "duration": 10,
    "start_time": "2022-08-29T13:14:21.756Z"
   },
   {
    "duration": 21,
    "start_time": "2022-08-29T13:14:36.594Z"
   },
   {
    "duration": 5,
    "start_time": "2022-08-29T13:15:59.385Z"
   },
   {
    "duration": 6,
    "start_time": "2022-08-29T13:16:34.407Z"
   },
   {
    "duration": 5,
    "start_time": "2022-08-29T13:16:53.605Z"
   },
   {
    "duration": 5,
    "start_time": "2022-08-29T13:38:30.371Z"
   },
   {
    "duration": 12,
    "start_time": "2022-08-29T13:39:28.734Z"
   },
   {
    "duration": 12,
    "start_time": "2022-08-29T13:41:18.757Z"
   },
   {
    "duration": 9,
    "start_time": "2022-08-29T13:41:30.536Z"
   },
   {
    "duration": 8,
    "start_time": "2022-08-29T13:41:38.658Z"
   },
   {
    "duration": 10,
    "start_time": "2022-08-29T13:41:43.128Z"
   },
   {
    "duration": 6,
    "start_time": "2022-08-29T13:41:49.531Z"
   },
   {
    "duration": 5,
    "start_time": "2022-08-29T13:42:48.854Z"
   },
   {
    "duration": 3,
    "start_time": "2022-08-29T13:44:26.685Z"
   },
   {
    "duration": 9,
    "start_time": "2022-08-29T13:45:20.165Z"
   },
   {
    "duration": 17,
    "start_time": "2022-08-29T13:45:37.646Z"
   },
   {
    "duration": 16,
    "start_time": "2022-08-29T13:45:44.955Z"
   },
   {
    "duration": 15,
    "start_time": "2022-08-29T13:46:55.185Z"
   },
   {
    "duration": 18,
    "start_time": "2022-08-29T13:47:01.834Z"
   },
   {
    "duration": 16,
    "start_time": "2022-08-29T13:59:24.382Z"
   },
   {
    "duration": 27,
    "start_time": "2022-08-29T13:59:28.029Z"
   },
   {
    "duration": 16,
    "start_time": "2022-08-29T14:00:39.526Z"
   },
   {
    "duration": 8,
    "start_time": "2022-08-29T14:02:21.264Z"
   },
   {
    "duration": 18,
    "start_time": "2022-08-29T14:02:41.084Z"
   },
   {
    "duration": 17,
    "start_time": "2022-08-29T14:02:48.235Z"
   },
   {
    "duration": 3,
    "start_time": "2022-08-29T14:02:54.699Z"
   },
   {
    "duration": 7,
    "start_time": "2022-08-29T14:03:06.688Z"
   },
   {
    "duration": 10,
    "start_time": "2022-08-29T14:03:10.327Z"
   },
   {
    "duration": 4,
    "start_time": "2022-08-29T14:03:12.855Z"
   },
   {
    "duration": 111,
    "start_time": "2022-08-29T14:03:44.793Z"
   },
   {
    "duration": 19,
    "start_time": "2022-08-29T14:03:50.981Z"
   },
   {
    "duration": 16,
    "start_time": "2022-08-29T14:03:51.614Z"
   },
   {
    "duration": 50,
    "start_time": "2022-08-29T14:03:51.942Z"
   },
   {
    "duration": 13,
    "start_time": "2022-08-29T14:03:52.541Z"
   },
   {
    "duration": 11,
    "start_time": "2022-08-29T14:03:53.088Z"
   },
   {
    "duration": 11,
    "start_time": "2022-08-29T14:03:54.051Z"
   },
   {
    "duration": 21,
    "start_time": "2022-08-29T14:03:54.727Z"
   },
   {
    "duration": 19,
    "start_time": "2022-08-29T14:03:54.957Z"
   },
   {
    "duration": 7,
    "start_time": "2022-08-29T14:03:55.484Z"
   },
   {
    "duration": 8,
    "start_time": "2022-08-29T14:03:55.638Z"
   },
   {
    "duration": 8,
    "start_time": "2022-08-29T14:03:55.830Z"
   },
   {
    "duration": 26,
    "start_time": "2022-08-29T14:03:56.191Z"
   },
   {
    "duration": 2,
    "start_time": "2022-08-29T14:03:56.519Z"
   },
   {
    "duration": 3,
    "start_time": "2022-08-29T14:03:56.867Z"
   },
   {
    "duration": 10,
    "start_time": "2022-08-29T14:03:57.414Z"
   },
   {
    "duration": 10,
    "start_time": "2022-08-29T14:03:57.601Z"
   },
   {
    "duration": 12,
    "start_time": "2022-08-29T14:03:57.773Z"
   },
   {
    "duration": 7,
    "start_time": "2022-08-29T14:03:59.264Z"
   },
   {
    "duration": 6,
    "start_time": "2022-08-29T14:03:59.653Z"
   },
   {
    "duration": 6,
    "start_time": "2022-08-29T14:03:59.841Z"
   },
   {
    "duration": 344,
    "start_time": "2022-08-29T14:04:00.206Z"
   },
   {
    "duration": 5,
    "start_time": "2022-08-29T14:04:00.551Z"
   },
   {
    "duration": 6,
    "start_time": "2022-08-29T14:04:00.636Z"
   },
   {
    "duration": 7,
    "start_time": "2022-08-29T14:04:00.820Z"
   },
   {
    "duration": 8,
    "start_time": "2022-08-29T14:04:01.923Z"
   },
   {
    "duration": 4,
    "start_time": "2022-08-29T14:04:02.765Z"
   },
   {
    "duration": 5,
    "start_time": "2022-08-29T14:04:03.064Z"
   },
   {
    "duration": 6,
    "start_time": "2022-08-29T14:04:03.475Z"
   },
   {
    "duration": 24,
    "start_time": "2022-08-29T14:04:04.503Z"
   },
   {
    "duration": 6,
    "start_time": "2022-08-29T14:04:05.113Z"
   },
   {
    "duration": 5,
    "start_time": "2022-08-29T14:04:06.388Z"
   },
   {
    "duration": 21,
    "start_time": "2022-08-29T14:04:06.629Z"
   },
   {
    "duration": 9,
    "start_time": "2022-08-29T14:04:06.817Z"
   },
   {
    "duration": 24,
    "start_time": "2022-08-29T14:04:06.999Z"
   },
   {
    "duration": 5,
    "start_time": "2022-08-29T14:04:09.936Z"
   },
   {
    "duration": 3,
    "start_time": "2022-08-29T14:04:10.109Z"
   },
   {
    "duration": 2,
    "start_time": "2022-08-29T14:04:10.504Z"
   },
   {
    "duration": 6,
    "start_time": "2022-08-29T14:04:10.879Z"
   },
   {
    "duration": 8,
    "start_time": "2022-08-29T14:04:11.542Z"
   },
   {
    "duration": 3,
    "start_time": "2022-08-29T14:04:11.982Z"
   },
   {
    "duration": 5,
    "start_time": "2022-08-29T14:04:13.664Z"
   },
   {
    "duration": 3,
    "start_time": "2022-08-29T14:04:13.977Z"
   },
   {
    "duration": 3,
    "start_time": "2022-08-29T14:04:15.013Z"
   },
   {
    "duration": 18,
    "start_time": "2022-08-29T14:04:40.398Z"
   },
   {
    "duration": 17,
    "start_time": "2022-08-29T14:04:47.306Z"
   },
   {
    "duration": 3,
    "start_time": "2022-08-29T14:04:53.961Z"
   },
   {
    "duration": 4,
    "start_time": "2022-08-29T14:05:20.699Z"
   },
   {
    "duration": 4,
    "start_time": "2022-08-29T14:05:27.240Z"
   },
   {
    "duration": 7,
    "start_time": "2022-08-29T14:06:07.923Z"
   },
   {
    "duration": 4,
    "start_time": "2022-08-29T14:06:22.745Z"
   },
   {
    "duration": 7,
    "start_time": "2022-08-29T14:06:30.629Z"
   },
   {
    "duration": 5,
    "start_time": "2022-08-29T14:06:46.203Z"
   },
   {
    "duration": 6,
    "start_time": "2022-08-29T14:06:54.602Z"
   },
   {
    "duration": 3,
    "start_time": "2022-08-29T14:09:40.271Z"
   },
   {
    "duration": 3,
    "start_time": "2022-08-29T14:09:44.996Z"
   },
   {
    "duration": 4,
    "start_time": "2022-08-29T14:09:58.816Z"
   },
   {
    "duration": 14,
    "start_time": "2022-08-29T14:16:15.746Z"
   },
   {
    "duration": 17,
    "start_time": "2022-08-29T14:25:26.611Z"
   },
   {
    "duration": 5,
    "start_time": "2022-08-29T14:25:53.635Z"
   },
   {
    "duration": 6,
    "start_time": "2022-08-29T14:26:12.542Z"
   },
   {
    "duration": 9,
    "start_time": "2022-08-29T14:32:27.873Z"
   },
   {
    "duration": 13,
    "start_time": "2022-08-29T14:33:27.535Z"
   },
   {
    "duration": 1326,
    "start_time": "2022-08-29T14:33:52.479Z"
   },
   {
    "duration": 14,
    "start_time": "2022-08-29T14:34:01.996Z"
   },
   {
    "duration": 99,
    "start_time": "2022-08-29T14:34:27.005Z"
   },
   {
    "duration": 9,
    "start_time": "2022-08-29T14:34:50.379Z"
   },
   {
    "duration": 108,
    "start_time": "2022-08-29T14:34:59.232Z"
   },
   {
    "duration": 13,
    "start_time": "2022-08-29T14:34:59.569Z"
   },
   {
    "duration": 13,
    "start_time": "2022-08-29T14:34:59.731Z"
   },
   {
    "duration": 43,
    "start_time": "2022-08-29T14:34:59.900Z"
   },
   {
    "duration": 11,
    "start_time": "2022-08-29T14:35:00.888Z"
   },
   {
    "duration": 11,
    "start_time": "2022-08-29T14:35:01.920Z"
   },
   {
    "duration": 10,
    "start_time": "2022-08-29T14:35:16.888Z"
   },
   {
    "duration": 19,
    "start_time": "2022-08-29T14:35:17.077Z"
   },
   {
    "duration": 21,
    "start_time": "2022-08-29T14:35:17.247Z"
   },
   {
    "duration": 6,
    "start_time": "2022-08-29T14:35:17.741Z"
   },
   {
    "duration": 8,
    "start_time": "2022-08-29T14:35:17.900Z"
   },
   {
    "duration": 8,
    "start_time": "2022-08-29T14:35:18.058Z"
   },
   {
    "duration": 27,
    "start_time": "2022-08-29T14:35:18.425Z"
   },
   {
    "duration": 3,
    "start_time": "2022-08-29T14:35:18.793Z"
   },
   {
    "duration": 2,
    "start_time": "2022-08-29T14:35:19.159Z"
   },
   {
    "duration": 11,
    "start_time": "2022-08-29T14:35:19.711Z"
   },
   {
    "duration": 8,
    "start_time": "2022-08-29T14:35:19.943Z"
   },
   {
    "duration": 12,
    "start_time": "2022-08-29T14:35:20.132Z"
   },
   {
    "duration": 6,
    "start_time": "2022-08-29T14:35:20.663Z"
   },
   {
    "duration": 6,
    "start_time": "2022-08-29T14:35:21.152Z"
   },
   {
    "duration": 6,
    "start_time": "2022-08-29T14:35:21.378Z"
   },
   {
    "duration": 341,
    "start_time": "2022-08-29T14:35:21.716Z"
   },
   {
    "duration": 5,
    "start_time": "2022-08-29T14:35:22.059Z"
   },
   {
    "duration": 5,
    "start_time": "2022-08-29T14:35:22.084Z"
   },
   {
    "duration": 6,
    "start_time": "2022-08-29T14:35:22.246Z"
   },
   {
    "duration": 7,
    "start_time": "2022-08-29T14:35:22.822Z"
   },
   {
    "duration": 4,
    "start_time": "2022-08-29T14:35:23.200Z"
   },
   {
    "duration": 5,
    "start_time": "2022-08-29T14:35:23.453Z"
   },
   {
    "duration": 6,
    "start_time": "2022-08-29T14:35:23.802Z"
   },
   {
    "duration": 21,
    "start_time": "2022-08-29T14:35:24.652Z"
   },
   {
    "duration": 5,
    "start_time": "2022-08-29T14:35:25.008Z"
   },
   {
    "duration": 4,
    "start_time": "2022-08-29T14:35:25.552Z"
   },
   {
    "duration": 20,
    "start_time": "2022-08-29T14:35:26.136Z"
   },
   {
    "duration": 9,
    "start_time": "2022-08-29T14:35:26.334Z"
   },
   {
    "duration": 21,
    "start_time": "2022-08-29T14:35:26.595Z"
   },
   {
    "duration": 5,
    "start_time": "2022-08-29T14:35:26.948Z"
   },
   {
    "duration": 2,
    "start_time": "2022-08-29T14:35:27.431Z"
   },
   {
    "duration": 2,
    "start_time": "2022-08-29T14:35:28.709Z"
   },
   {
    "duration": 5,
    "start_time": "2022-08-29T14:35:28.995Z"
   },
   {
    "duration": 6,
    "start_time": "2022-08-29T14:35:29.158Z"
   },
   {
    "duration": 2,
    "start_time": "2022-08-29T14:35:29.317Z"
   },
   {
    "duration": 5,
    "start_time": "2022-08-29T14:35:29.839Z"
   },
   {
    "duration": 3,
    "start_time": "2022-08-29T14:35:30.027Z"
   },
   {
    "duration": 3,
    "start_time": "2022-08-29T14:35:30.389Z"
   },
   {
    "duration": 17,
    "start_time": "2022-08-29T14:35:30.744Z"
   },
   {
    "duration": 17,
    "start_time": "2022-08-29T14:35:30.955Z"
   },
   {
    "duration": 16,
    "start_time": "2022-08-29T14:35:31.129Z"
   },
   {
    "duration": 5,
    "start_time": "2022-08-29T14:35:31.327Z"
   },
   {
    "duration": 3,
    "start_time": "2022-08-29T14:35:35.765Z"
   },
   {
    "duration": 4,
    "start_time": "2022-08-29T14:35:35.955Z"
   },
   {
    "duration": 13,
    "start_time": "2022-08-29T14:35:36.692Z"
   },
   {
    "duration": 78,
    "start_time": "2022-08-29T14:35:48.603Z"
   },
   {
    "duration": 10,
    "start_time": "2022-08-29T14:36:07.485Z"
   },
   {
    "duration": 5,
    "start_time": "2022-08-29T14:47:17.386Z"
   },
   {
    "duration": 9,
    "start_time": "2022-08-29T14:47:45.336Z"
   },
   {
    "duration": 6,
    "start_time": "2022-08-29T14:48:08.752Z"
   },
   {
    "duration": 10,
    "start_time": "2022-08-29T14:48:27.064Z"
   },
   {
    "duration": 98,
    "start_time": "2022-08-29T14:52:36.254Z"
   },
   {
    "duration": 94,
    "start_time": "2022-08-29T14:53:28.957Z"
   },
   {
    "duration": 79,
    "start_time": "2022-08-29T14:58:34.310Z"
   },
   {
    "duration": 3,
    "start_time": "2022-08-29T14:59:23.212Z"
   },
   {
    "duration": 397,
    "start_time": "2022-08-29T15:02:24.220Z"
   },
   {
    "duration": 4,
    "start_time": "2022-08-29T15:02:49.801Z"
   },
   {
    "duration": 1951,
    "start_time": "2022-08-29T15:02:51.844Z"
   },
   {
    "duration": 3,
    "start_time": "2022-08-29T15:03:22.130Z"
   },
   {
    "duration": 441,
    "start_time": "2022-08-29T15:03:22.997Z"
   },
   {
    "duration": 124,
    "start_time": "2022-08-29T15:03:43.747Z"
   },
   {
    "duration": 406,
    "start_time": "2022-08-29T15:03:44.810Z"
   },
   {
    "duration": 3,
    "start_time": "2022-08-29T15:04:49.216Z"
   },
   {
    "duration": 1834,
    "start_time": "2022-08-29T15:04:51.793Z"
   },
   {
    "duration": 4,
    "start_time": "2022-08-29T15:06:11.581Z"
   },
   {
    "duration": 10,
    "start_time": "2022-08-29T15:06:14.253Z"
   },
   {
    "duration": 4,
    "start_time": "2022-08-29T15:06:44.165Z"
   },
   {
    "duration": 10,
    "start_time": "2022-08-29T15:06:48.975Z"
   },
   {
    "duration": 5,
    "start_time": "2022-08-29T15:06:55.991Z"
   },
   {
    "duration": 19,
    "start_time": "2022-08-29T15:07:05.201Z"
   },
   {
    "duration": 12,
    "start_time": "2022-08-29T15:07:33.419Z"
   },
   {
    "duration": 8,
    "start_time": "2022-08-29T15:07:43.370Z"
   },
   {
    "duration": 23,
    "start_time": "2022-08-29T15:16:42.697Z"
   },
   {
    "duration": 106,
    "start_time": "2022-08-29T15:17:46.376Z"
   },
   {
    "duration": 14,
    "start_time": "2022-08-29T15:17:48.205Z"
   },
   {
    "duration": 12,
    "start_time": "2022-08-29T15:17:49.550Z"
   },
   {
    "duration": 43,
    "start_time": "2022-08-29T15:17:52.027Z"
   },
   {
    "duration": 10,
    "start_time": "2022-08-29T15:17:55.636Z"
   },
   {
    "duration": 10,
    "start_time": "2022-08-29T15:17:56.823Z"
   },
   {
    "duration": 11,
    "start_time": "2022-08-29T15:18:09.410Z"
   },
   {
    "duration": 19,
    "start_time": "2022-08-29T15:18:19.268Z"
   },
   {
    "duration": 19,
    "start_time": "2022-08-29T15:18:20.836Z"
   },
   {
    "duration": 19,
    "start_time": "2022-08-29T15:18:33.236Z"
   },
   {
    "duration": 18,
    "start_time": "2022-08-29T15:18:39.457Z"
   },
   {
    "duration": 20,
    "start_time": "2022-08-29T15:19:04.324Z"
   },
   {
    "duration": 7,
    "start_time": "2022-08-29T15:19:04.844Z"
   },
   {
    "duration": 10,
    "start_time": "2022-08-29T15:19:05.009Z"
   },
   {
    "duration": 8,
    "start_time": "2022-08-29T15:19:05.176Z"
   },
   {
    "duration": 26,
    "start_time": "2022-08-29T15:19:05.501Z"
   },
   {
    "duration": 2,
    "start_time": "2022-08-29T15:19:05.819Z"
   },
   {
    "duration": 3,
    "start_time": "2022-08-29T15:19:06.144Z"
   },
   {
    "duration": 9,
    "start_time": "2022-08-29T15:19:06.705Z"
   },
   {
    "duration": 8,
    "start_time": "2022-08-29T15:19:06.882Z"
   },
   {
    "duration": 12,
    "start_time": "2022-08-29T15:19:07.064Z"
   },
   {
    "duration": 5,
    "start_time": "2022-08-29T15:19:07.641Z"
   },
   {
    "duration": 7,
    "start_time": "2022-08-29T15:19:08.087Z"
   },
   {
    "duration": 6,
    "start_time": "2022-08-29T15:19:08.380Z"
   },
   {
    "duration": 355,
    "start_time": "2022-08-29T15:19:10.043Z"
   },
   {
    "duration": 6,
    "start_time": "2022-08-29T15:19:11.828Z"
   },
   {
    "duration": 7,
    "start_time": "2022-08-29T15:19:13.562Z"
   },
   {
    "duration": 6,
    "start_time": "2022-08-29T15:19:14.179Z"
   },
   {
    "duration": 10,
    "start_time": "2022-08-29T15:19:15.908Z"
   },
   {
    "duration": 3,
    "start_time": "2022-08-29T15:19:16.254Z"
   },
   {
    "duration": 6,
    "start_time": "2022-08-29T15:19:16.440Z"
   },
   {
    "duration": 6,
    "start_time": "2022-08-29T15:19:20.496Z"
   },
   {
    "duration": 21,
    "start_time": "2022-08-29T15:19:21.268Z"
   },
   {
    "duration": 5,
    "start_time": "2022-08-29T15:19:21.712Z"
   },
   {
    "duration": 4,
    "start_time": "2022-08-29T15:19:22.201Z"
   },
   {
    "duration": 18,
    "start_time": "2022-08-29T15:19:24.029Z"
   },
   {
    "duration": 11,
    "start_time": "2022-08-29T15:19:24.585Z"
   },
   {
    "duration": 21,
    "start_time": "2022-08-29T15:19:24.878Z"
   },
   {
    "duration": 5,
    "start_time": "2022-08-29T15:19:25.477Z"
   },
   {
    "duration": 3,
    "start_time": "2022-08-29T15:19:25.682Z"
   },
   {
    "duration": 2,
    "start_time": "2022-08-29T15:19:28.364Z"
   },
   {
    "duration": 4,
    "start_time": "2022-08-29T15:19:28.689Z"
   },
   {
    "duration": 5,
    "start_time": "2022-08-29T15:19:28.841Z"
   },
   {
    "duration": 2,
    "start_time": "2022-08-29T15:19:29.001Z"
   },
   {
    "duration": 5,
    "start_time": "2022-08-29T15:19:29.493Z"
   },
   {
    "duration": 2,
    "start_time": "2022-08-29T15:19:29.648Z"
   },
   {
    "duration": 2,
    "start_time": "2022-08-29T15:19:29.982Z"
   },
   {
    "duration": 15,
    "start_time": "2022-08-29T15:19:31.930Z"
   },
   {
    "duration": 18,
    "start_time": "2022-08-29T15:19:32.122Z"
   },
   {
    "duration": 17,
    "start_time": "2022-08-29T15:19:32.308Z"
   },
   {
    "duration": 6,
    "start_time": "2022-08-29T15:19:32.468Z"
   },
   {
    "duration": 4,
    "start_time": "2022-08-29T15:19:32.825Z"
   },
   {
    "duration": 5,
    "start_time": "2022-08-29T15:19:33.002Z"
   },
   {
    "duration": 13,
    "start_time": "2022-08-29T15:19:33.539Z"
   },
   {
    "duration": 11,
    "start_time": "2022-08-29T15:19:35.822Z"
   },
   {
    "duration": 7,
    "start_time": "2022-08-29T15:19:36.045Z"
   },
   {
    "duration": 3,
    "start_time": "2022-08-29T15:19:36.258Z"
   },
   {
    "duration": 3,
    "start_time": "2022-08-29T15:19:36.765Z"
   },
   {
    "duration": 10,
    "start_time": "2022-08-29T15:19:37.021Z"
   },
   {
    "duration": 10,
    "start_time": "2022-08-29T15:19:37.251Z"
   },
   {
    "duration": 20,
    "start_time": "2022-08-29T15:19:38.436Z"
   },
   {
    "duration": 2,
    "start_time": "2022-08-29T15:19:38.621Z"
   },
   {
    "duration": 2,
    "start_time": "2022-08-29T15:19:38.801Z"
   },
   {
    "duration": 24,
    "start_time": "2022-08-29T15:21:08.552Z"
   },
   {
    "duration": 20,
    "start_time": "2022-08-29T15:21:38.098Z"
   },
   {
    "duration": 9,
    "start_time": "2022-08-29T15:22:21.992Z"
   },
   {
    "duration": 20,
    "start_time": "2022-08-29T15:29:29.743Z"
   },
   {
    "duration": 20,
    "start_time": "2022-08-29T15:29:36.600Z"
   },
   {
    "duration": 93,
    "start_time": "2022-08-29T15:30:52.432Z"
   },
   {
    "duration": 23,
    "start_time": "2022-08-29T15:31:16.187Z"
   },
   {
    "duration": 15,
    "start_time": "2022-08-29T15:32:04.970Z"
   },
   {
    "duration": 16,
    "start_time": "2022-08-29T15:33:39.873Z"
   },
   {
    "duration": 7,
    "start_time": "2022-08-29T15:35:15.232Z"
   },
   {
    "duration": 6,
    "start_time": "2022-08-29T15:35:18.899Z"
   },
   {
    "duration": 10,
    "start_time": "2022-08-29T15:37:32.047Z"
   },
   {
    "duration": 4,
    "start_time": "2022-08-29T15:37:37.003Z"
   },
   {
    "duration": 1391,
    "start_time": "2022-08-29T15:37:49.540Z"
   },
   {
    "duration": 95,
    "start_time": "2022-08-29T15:38:13.284Z"
   },
   {
    "duration": 7,
    "start_time": "2022-08-29T15:38:18.091Z"
   },
   {
    "duration": 8,
    "start_time": "2022-08-29T15:38:42.162Z"
   },
   {
    "duration": 10,
    "start_time": "2022-08-29T15:38:53.882Z"
   },
   {
    "duration": 10,
    "start_time": "2022-08-29T15:39:11.173Z"
   },
   {
    "duration": 11,
    "start_time": "2022-08-29T15:39:23.047Z"
   },
   {
    "duration": 14,
    "start_time": "2022-08-29T15:40:07.935Z"
   },
   {
    "duration": 16,
    "start_time": "2022-08-29T15:40:48.080Z"
   },
   {
    "duration": 16,
    "start_time": "2022-08-29T15:41:45.480Z"
   },
   {
    "duration": 18,
    "start_time": "2022-08-29T15:42:09.835Z"
   },
   {
    "duration": 16,
    "start_time": "2022-08-29T15:43:26.457Z"
   },
   {
    "duration": 16,
    "start_time": "2022-08-29T15:43:49.599Z"
   },
   {
    "duration": 3,
    "start_time": "2022-08-29T16:50:25.989Z"
   },
   {
    "duration": 3,
    "start_time": "2022-08-29T16:51:37.024Z"
   },
   {
    "duration": 4,
    "start_time": "2022-08-29T16:51:52.742Z"
   },
   {
    "duration": 357,
    "start_time": "2022-08-29T16:52:39.288Z"
   },
   {
    "duration": 583,
    "start_time": "2022-08-31T07:17:47.023Z"
   },
   {
    "duration": 13,
    "start_time": "2022-08-31T07:17:47.608Z"
   },
   {
    "duration": 19,
    "start_time": "2022-08-31T07:17:47.622Z"
   },
   {
    "duration": 45,
    "start_time": "2022-08-31T07:17:47.732Z"
   },
   {
    "duration": 9,
    "start_time": "2022-08-31T07:17:48.052Z"
   },
   {
    "duration": 10,
    "start_time": "2022-08-31T07:17:48.232Z"
   },
   {
    "duration": 8,
    "start_time": "2022-08-31T07:17:48.600Z"
   },
   {
    "duration": 17,
    "start_time": "2022-08-31T07:17:48.793Z"
   },
   {
    "duration": 19,
    "start_time": "2022-08-31T07:17:48.971Z"
   },
   {
    "duration": 6,
    "start_time": "2022-08-31T07:17:49.538Z"
   },
   {
    "duration": 6,
    "start_time": "2022-08-31T07:17:49.744Z"
   },
   {
    "duration": 6,
    "start_time": "2022-08-31T07:17:49.922Z"
   },
   {
    "duration": 24,
    "start_time": "2022-08-31T07:17:50.311Z"
   },
   {
    "duration": 2,
    "start_time": "2022-08-31T07:17:50.691Z"
   },
   {
    "duration": 3,
    "start_time": "2022-08-31T07:17:51.050Z"
   },
   {
    "duration": 9,
    "start_time": "2022-08-31T07:17:51.611Z"
   },
   {
    "duration": 9,
    "start_time": "2022-08-31T07:17:51.832Z"
   },
   {
    "duration": 12,
    "start_time": "2022-08-31T07:17:52.019Z"
   },
   {
    "duration": 6,
    "start_time": "2022-08-31T07:17:52.603Z"
   },
   {
    "duration": 7,
    "start_time": "2022-08-31T07:17:52.787Z"
   },
   {
    "duration": 5,
    "start_time": "2022-08-31T07:17:52.976Z"
   },
   {
    "duration": 384,
    "start_time": "2022-08-31T07:17:53.365Z"
   },
   {
    "duration": 5,
    "start_time": "2022-08-31T07:17:53.751Z"
   },
   {
    "duration": 5,
    "start_time": "2022-08-31T07:17:53.761Z"
   },
   {
    "duration": 6,
    "start_time": "2022-08-31T07:17:53.967Z"
   },
   {
    "duration": 7,
    "start_time": "2022-08-31T07:17:54.567Z"
   },
   {
    "duration": 3,
    "start_time": "2022-08-31T07:17:54.997Z"
   },
   {
    "duration": 5,
    "start_time": "2022-08-31T07:17:55.212Z"
   },
   {
    "duration": 5,
    "start_time": "2022-08-31T07:17:55.831Z"
   },
   {
    "duration": 20,
    "start_time": "2022-08-31T07:17:56.351Z"
   },
   {
    "duration": 4,
    "start_time": "2022-08-31T07:17:56.610Z"
   },
   {
    "duration": 5,
    "start_time": "2022-08-31T07:17:56.941Z"
   },
   {
    "duration": 20,
    "start_time": "2022-08-31T07:17:58.141Z"
   },
   {
    "duration": 8,
    "start_time": "2022-08-31T07:17:58.497Z"
   },
   {
    "duration": 21,
    "start_time": "2022-08-31T07:17:58.986Z"
   },
   {
    "duration": 4,
    "start_time": "2022-08-31T07:17:59.382Z"
   },
   {
    "duration": 2,
    "start_time": "2022-08-31T07:17:59.590Z"
   },
   {
    "duration": 2,
    "start_time": "2022-08-31T07:18:00.142Z"
   },
   {
    "duration": 4,
    "start_time": "2022-08-31T07:18:04.459Z"
   },
   {
    "duration": 5,
    "start_time": "2022-08-31T07:18:04.692Z"
   },
   {
    "duration": 2,
    "start_time": "2022-08-31T07:18:05.836Z"
   },
   {
    "duration": 6,
    "start_time": "2022-08-31T07:18:44.160Z"
   },
   {
    "duration": 5,
    "start_time": "2022-08-31T07:18:48.929Z"
   },
   {
    "duration": 10,
    "start_time": "2022-08-31T07:19:14.684Z"
   },
   {
    "duration": 9,
    "start_time": "2022-08-31T07:19:21.363Z"
   },
   {
    "duration": 9,
    "start_time": "2022-08-31T07:19:25.320Z"
   },
   {
    "duration": 9,
    "start_time": "2022-08-31T07:19:32.357Z"
   },
   {
    "duration": 9,
    "start_time": "2022-08-31T07:19:47.042Z"
   },
   {
    "duration": 9,
    "start_time": "2022-08-31T07:19:54.734Z"
   },
   {
    "duration": 9,
    "start_time": "2022-08-31T07:19:58.000Z"
   },
   {
    "duration": 11,
    "start_time": "2022-08-31T07:22:14.175Z"
   },
   {
    "duration": 12,
    "start_time": "2022-08-31T07:22:41.013Z"
   },
   {
    "duration": 12,
    "start_time": "2022-08-31T07:23:14.291Z"
   },
   {
    "duration": 12,
    "start_time": "2022-08-31T07:23:32.046Z"
   },
   {
    "duration": 72,
    "start_time": "2022-08-31T07:24:16.390Z"
   },
   {
    "duration": 5,
    "start_time": "2022-08-31T07:25:17.966Z"
   },
   {
    "duration": 5,
    "start_time": "2022-08-31T07:25:44.721Z"
   },
   {
    "duration": 5,
    "start_time": "2022-08-31T07:25:57.211Z"
   },
   {
    "duration": 3,
    "start_time": "2022-08-31T07:25:57.515Z"
   },
   {
    "duration": 2,
    "start_time": "2022-08-31T07:26:03.702Z"
   },
   {
    "duration": 17,
    "start_time": "2022-08-31T07:26:04.266Z"
   },
   {
    "duration": 18,
    "start_time": "2022-08-31T07:26:04.877Z"
   },
   {
    "duration": 17,
    "start_time": "2022-08-31T07:26:05.636Z"
   },
   {
    "duration": 5,
    "start_time": "2022-08-31T07:26:07.080Z"
   },
   {
    "duration": 3,
    "start_time": "2022-08-31T07:26:17.868Z"
   },
   {
    "duration": 4,
    "start_time": "2022-08-31T07:26:18.276Z"
   },
   {
    "duration": 13,
    "start_time": "2022-08-31T07:26:27.676Z"
   },
   {
    "duration": 8,
    "start_time": "2022-08-31T07:26:40.103Z"
   },
   {
    "duration": 19,
    "start_time": "2022-08-31T07:35:55.781Z"
   },
   {
    "duration": 14,
    "start_time": "2022-08-31T07:39:44.827Z"
   },
   {
    "duration": 17,
    "start_time": "2022-08-31T07:39:47.337Z"
   },
   {
    "duration": 17,
    "start_time": "2022-08-31T07:39:48.525Z"
   },
   {
    "duration": 4,
    "start_time": "2022-08-31T08:02:20.689Z"
   },
   {
    "duration": 1352,
    "start_time": "2022-08-31T08:03:36.599Z"
   },
   {
    "duration": 11,
    "start_time": "2022-08-31T08:03:52.178Z"
   },
   {
    "duration": 11,
    "start_time": "2022-08-31T08:04:22.485Z"
   },
   {
    "duration": 7,
    "start_time": "2022-08-31T08:04:53.074Z"
   },
   {
    "duration": 6,
    "start_time": "2022-08-31T08:05:03.025Z"
   },
   {
    "duration": 108,
    "start_time": "2022-08-31T08:05:28.443Z"
   },
   {
    "duration": 4,
    "start_time": "2022-08-31T08:12:23.723Z"
   },
   {
    "duration": 9,
    "start_time": "2022-08-31T08:12:44.630Z"
   },
   {
    "duration": 3,
    "start_time": "2022-08-31T08:12:55.296Z"
   },
   {
    "duration": 23,
    "start_time": "2022-08-31T08:12:58.699Z"
   },
   {
    "duration": 8,
    "start_time": "2022-08-31T08:13:09.025Z"
   },
   {
    "duration": 11,
    "start_time": "2022-08-31T08:14:01.628Z"
   },
   {
    "duration": 12,
    "start_time": "2022-08-31T08:15:04.346Z"
   },
   {
    "duration": 3,
    "start_time": "2022-08-31T08:15:45.035Z"
   },
   {
    "duration": 6,
    "start_time": "2022-08-31T08:15:46.964Z"
   },
   {
    "duration": 11,
    "start_time": "2022-08-31T08:15:56.475Z"
   },
   {
    "duration": 10,
    "start_time": "2022-08-31T08:15:58.578Z"
   },
   {
    "duration": 7,
    "start_time": "2022-08-31T08:17:13.225Z"
   },
   {
    "duration": 6,
    "start_time": "2022-08-31T08:17:27.059Z"
   },
   {
    "duration": 5,
    "start_time": "2022-08-31T08:17:58.503Z"
   },
   {
    "duration": 4,
    "start_time": "2022-08-31T08:18:05.382Z"
   },
   {
    "duration": 5,
    "start_time": "2022-08-31T08:18:11.328Z"
   },
   {
    "duration": 13,
    "start_time": "2022-08-31T08:19:56.762Z"
   },
   {
    "duration": 6,
    "start_time": "2022-08-31T09:21:47.308Z"
   },
   {
    "duration": 6,
    "start_time": "2022-08-31T09:22:09.793Z"
   },
   {
    "duration": 85,
    "start_time": "2022-08-31T09:25:57.987Z"
   },
   {
    "duration": 12,
    "start_time": "2022-08-31T09:25:58.300Z"
   },
   {
    "duration": 12,
    "start_time": "2022-08-31T09:25:58.467Z"
   },
   {
    "duration": 46,
    "start_time": "2022-08-31T09:25:58.635Z"
   },
   {
    "duration": 9,
    "start_time": "2022-08-31T09:25:58.975Z"
   },
   {
    "duration": 9,
    "start_time": "2022-08-31T09:25:59.148Z"
   },
   {
    "duration": 9,
    "start_time": "2022-08-31T09:25:59.816Z"
   },
   {
    "duration": 18,
    "start_time": "2022-08-31T09:25:59.900Z"
   },
   {
    "duration": 17,
    "start_time": "2022-08-31T09:25:59.983Z"
   },
   {
    "duration": 8,
    "start_time": "2022-08-31T09:26:00.233Z"
   },
   {
    "duration": 7,
    "start_time": "2022-08-31T09:26:00.317Z"
   },
   {
    "duration": 8,
    "start_time": "2022-08-31T09:26:00.399Z"
   },
   {
    "duration": 23,
    "start_time": "2022-08-31T09:26:00.568Z"
   },
   {
    "duration": 2,
    "start_time": "2022-08-31T09:26:00.741Z"
   },
   {
    "duration": 2,
    "start_time": "2022-08-31T09:26:00.905Z"
   },
   {
    "duration": 9,
    "start_time": "2022-08-31T09:26:01.154Z"
   },
   {
    "duration": 8,
    "start_time": "2022-08-31T09:26:01.239Z"
   },
   {
    "duration": 11,
    "start_time": "2022-08-31T09:26:01.325Z"
   },
   {
    "duration": 6,
    "start_time": "2022-08-31T09:26:01.575Z"
   },
   {
    "duration": 5,
    "start_time": "2022-08-31T09:26:01.658Z"
   },
   {
    "duration": 5,
    "start_time": "2022-08-31T09:26:01.744Z"
   },
   {
    "duration": 386,
    "start_time": "2022-08-31T09:26:01.909Z"
   },
   {
    "duration": 5,
    "start_time": "2022-08-31T09:26:02.296Z"
   },
   {
    "duration": 14,
    "start_time": "2022-08-31T09:26:02.310Z"
   },
   {
    "duration": 25,
    "start_time": "2022-08-31T09:26:02.326Z"
   },
   {
    "duration": 7,
    "start_time": "2022-08-31T09:26:02.412Z"
   },
   {
    "duration": 3,
    "start_time": "2022-08-31T09:26:02.577Z"
   },
   {
    "duration": 7,
    "start_time": "2022-08-31T09:26:02.662Z"
   },
   {
    "duration": 6,
    "start_time": "2022-08-31T09:26:02.984Z"
   },
   {
    "duration": 20,
    "start_time": "2022-08-31T09:26:03.567Z"
   },
   {
    "duration": 5,
    "start_time": "2022-08-31T09:26:03.651Z"
   },
   {
    "duration": 3,
    "start_time": "2022-08-31T09:26:03.735Z"
   },
   {
    "duration": 19,
    "start_time": "2022-08-31T09:26:03.817Z"
   },
   {
    "duration": 12,
    "start_time": "2022-08-31T09:26:03.904Z"
   },
   {
    "duration": 20,
    "start_time": "2022-08-31T09:26:03.987Z"
   },
   {
    "duration": 4,
    "start_time": "2022-08-31T09:26:04.153Z"
   },
   {
    "duration": 4,
    "start_time": "2022-08-31T09:26:04.237Z"
   },
   {
    "duration": 2,
    "start_time": "2022-08-31T09:26:04.417Z"
   },
   {
    "duration": 9,
    "start_time": "2022-08-31T09:26:04.573Z"
   },
   {
    "duration": 17,
    "start_time": "2022-08-31T09:26:04.660Z"
   },
   {
    "duration": 6,
    "start_time": "2022-08-31T09:26:04.738Z"
   },
   {
    "duration": 6,
    "start_time": "2022-08-31T09:26:04.823Z"
   },
   {
    "duration": 5,
    "start_time": "2022-08-31T09:26:05.074Z"
   },
   {
    "duration": 2,
    "start_time": "2022-08-31T09:26:05.162Z"
   },
   {
    "duration": 2,
    "start_time": "2022-08-31T09:26:05.324Z"
   },
   {
    "duration": 15,
    "start_time": "2022-08-31T09:26:05.493Z"
   },
   {
    "duration": 17,
    "start_time": "2022-08-31T09:26:05.577Z"
   },
   {
    "duration": 23,
    "start_time": "2022-08-31T09:26:05.659Z"
   },
   {
    "duration": 5,
    "start_time": "2022-08-31T09:26:05.742Z"
   },
   {
    "duration": 2,
    "start_time": "2022-08-31T09:26:05.909Z"
   },
   {
    "duration": 5,
    "start_time": "2022-08-31T09:26:05.995Z"
   },
   {
    "duration": 16,
    "start_time": "2022-08-31T09:26:06.245Z"
   },
   {
    "duration": 11,
    "start_time": "2022-08-31T09:26:06.505Z"
   },
   {
    "duration": 8,
    "start_time": "2022-08-31T09:26:06.580Z"
   },
   {
    "duration": 3,
    "start_time": "2022-08-31T09:26:06.947Z"
   },
   {
    "duration": 3,
    "start_time": "2022-08-31T09:26:07.156Z"
   },
   {
    "duration": 10,
    "start_time": "2022-08-31T09:26:07.356Z"
   },
   {
    "duration": 11,
    "start_time": "2022-08-31T09:26:07.541Z"
   },
   {
    "duration": 9,
    "start_time": "2022-08-31T09:26:08.103Z"
   },
   {
    "duration": 25,
    "start_time": "2022-08-31T09:26:08.335Z"
   },
   {
    "duration": 16,
    "start_time": "2022-08-31T09:26:09.083Z"
   },
   {
    "duration": 16,
    "start_time": "2022-08-31T09:26:09.587Z"
   },
   {
    "duration": 19,
    "start_time": "2022-08-31T09:26:09.957Z"
   },
   {
    "duration": 5,
    "start_time": "2022-08-31T09:26:12.120Z"
   },
   {
    "duration": 5,
    "start_time": "2022-08-31T09:26:12.545Z"
   },
   {
    "duration": 2,
    "start_time": "2022-08-31T09:26:14.531Z"
   },
   {
    "duration": 2,
    "start_time": "2022-08-31T09:26:14.718Z"
   },
   {
    "duration": 16,
    "start_time": "2022-08-31T09:26:30.263Z"
   },
   {
    "duration": 7,
    "start_time": "2022-08-31T09:26:33.735Z"
   },
   {
    "duration": 5,
    "start_time": "2022-08-31T09:26:37.368Z"
   },
   {
    "duration": 6,
    "start_time": "2022-08-31T09:27:35.641Z"
   },
   {
    "duration": 5,
    "start_time": "2022-08-31T09:27:43.661Z"
   },
   {
    "duration": 5,
    "start_time": "2022-08-31T09:27:57.531Z"
   },
   {
    "duration": 14,
    "start_time": "2022-08-31T09:28:24.441Z"
   },
   {
    "duration": 7,
    "start_time": "2022-08-31T09:28:26.156Z"
   },
   {
    "duration": 8,
    "start_time": "2022-08-31T09:28:39.601Z"
   },
   {
    "duration": 7,
    "start_time": "2022-08-31T09:28:40.125Z"
   },
   {
    "duration": 8,
    "start_time": "2022-08-31T09:28:45.058Z"
   },
   {
    "duration": 4,
    "start_time": "2022-08-31T09:28:58.922Z"
   },
   {
    "duration": 3,
    "start_time": "2022-08-31T09:29:10.068Z"
   },
   {
    "duration": 14,
    "start_time": "2022-08-31T09:29:21.046Z"
   },
   {
    "duration": 10,
    "start_time": "2022-08-31T09:40:41.173Z"
   },
   {
    "duration": 12,
    "start_time": "2022-08-31T09:41:14.594Z"
   },
   {
    "duration": 20,
    "start_time": "2022-08-31T09:43:20.599Z"
   },
   {
    "duration": 11,
    "start_time": "2022-08-31T09:44:04.198Z"
   },
   {
    "duration": 4,
    "start_time": "2022-08-31T09:44:40.659Z"
   },
   {
    "duration": 7,
    "start_time": "2022-08-31T09:44:48.620Z"
   },
   {
    "duration": 5,
    "start_time": "2022-08-31T09:45:03.842Z"
   },
   {
    "duration": 6,
    "start_time": "2022-08-31T09:45:15.855Z"
   },
   {
    "duration": 7,
    "start_time": "2022-08-31T09:45:52.784Z"
   },
   {
    "duration": 7,
    "start_time": "2022-08-31T09:46:02.741Z"
   },
   {
    "duration": 6,
    "start_time": "2022-08-31T09:46:08.540Z"
   },
   {
    "duration": 7,
    "start_time": "2022-08-31T09:46:15.818Z"
   },
   {
    "duration": 5,
    "start_time": "2022-08-31T09:46:18.389Z"
   },
   {
    "duration": 138,
    "start_time": "2022-08-31T09:46:31.878Z"
   },
   {
    "duration": 12,
    "start_time": "2022-08-31T09:46:39.982Z"
   },
   {
    "duration": 13,
    "start_time": "2022-08-31T09:46:55.931Z"
   },
   {
    "duration": 14,
    "start_time": "2022-08-31T09:47:15.250Z"
   },
   {
    "duration": 7,
    "start_time": "2022-08-31T09:52:46.183Z"
   },
   {
    "duration": 13,
    "start_time": "2022-08-31T09:52:47.034Z"
   },
   {
    "duration": 15,
    "start_time": "2022-08-31T09:52:47.114Z"
   },
   {
    "duration": 46,
    "start_time": "2022-08-31T09:52:47.200Z"
   },
   {
    "duration": 9,
    "start_time": "2022-08-31T09:52:47.367Z"
   },
   {
    "duration": 11,
    "start_time": "2022-08-31T09:52:47.451Z"
   },
   {
    "duration": 9,
    "start_time": "2022-08-31T09:52:47.617Z"
   },
   {
    "duration": 7,
    "start_time": "2022-08-31T09:52:47.703Z"
   },
   {
    "duration": 8,
    "start_time": "2022-08-31T09:52:47.785Z"
   },
   {
    "duration": 6,
    "start_time": "2022-08-31T09:52:48.035Z"
   },
   {
    "duration": 6,
    "start_time": "2022-08-31T09:52:48.118Z"
   },
   {
    "duration": 6,
    "start_time": "2022-08-31T09:52:48.207Z"
   },
   {
    "duration": 19,
    "start_time": "2022-08-31T09:52:48.371Z"
   },
   {
    "duration": 2,
    "start_time": "2022-08-31T09:52:48.539Z"
   },
   {
    "duration": 2,
    "start_time": "2022-08-31T09:52:48.708Z"
   },
   {
    "duration": 10,
    "start_time": "2022-08-31T09:52:48.959Z"
   },
   {
    "duration": 8,
    "start_time": "2022-08-31T09:52:49.043Z"
   },
   {
    "duration": 10,
    "start_time": "2022-08-31T09:52:49.127Z"
   },
   {
    "duration": 6,
    "start_time": "2022-08-31T09:52:49.377Z"
   },
   {
    "duration": 7,
    "start_time": "2022-08-31T09:52:49.461Z"
   },
   {
    "duration": 6,
    "start_time": "2022-08-31T09:52:49.545Z"
   },
   {
    "duration": 385,
    "start_time": "2022-08-31T09:52:49.716Z"
   },
   {
    "duration": 9,
    "start_time": "2022-08-31T09:52:50.103Z"
   },
   {
    "duration": 9,
    "start_time": "2022-08-31T09:52:50.113Z"
   },
   {
    "duration": 8,
    "start_time": "2022-08-31T09:52:50.124Z"
   },
   {
    "duration": 7,
    "start_time": "2022-08-31T09:52:50.217Z"
   },
   {
    "duration": 3,
    "start_time": "2022-08-31T09:52:50.384Z"
   },
   {
    "duration": 5,
    "start_time": "2022-08-31T09:52:50.468Z"
   },
   {
    "duration": 6,
    "start_time": "2022-08-31T09:52:50.634Z"
   },
   {
    "duration": 23,
    "start_time": "2022-08-31T09:52:50.802Z"
   },
   {
    "duration": 4,
    "start_time": "2022-08-31T09:52:50.885Z"
   },
   {
    "duration": 4,
    "start_time": "2022-08-31T09:52:50.968Z"
   },
   {
    "duration": 7,
    "start_time": "2022-08-31T09:52:51.053Z"
   },
   {
    "duration": 4,
    "start_time": "2022-08-31T09:52:51.136Z"
   },
   {
    "duration": 21,
    "start_time": "2022-08-31T09:52:51.218Z"
   },
   {
    "duration": 5,
    "start_time": "2022-08-31T09:52:51.387Z"
   },
   {
    "duration": 2,
    "start_time": "2022-08-31T09:52:51.472Z"
   },
   {
    "duration": 2,
    "start_time": "2022-08-31T09:52:51.638Z"
   },
   {
    "duration": 5,
    "start_time": "2022-08-31T09:52:51.807Z"
   },
   {
    "duration": 12,
    "start_time": "2022-08-31T09:52:51.890Z"
   },
   {
    "duration": 4,
    "start_time": "2022-08-31T09:52:51.975Z"
   },
   {
    "duration": 5,
    "start_time": "2022-08-31T09:52:52.059Z"
   },
   {
    "duration": 5,
    "start_time": "2022-08-31T09:52:52.309Z"
   },
   {
    "duration": 2,
    "start_time": "2022-08-31T09:52:52.392Z"
   },
   {
    "duration": 3,
    "start_time": "2022-08-31T09:52:52.560Z"
   },
   {
    "duration": 20,
    "start_time": "2022-08-31T09:52:52.726Z"
   },
   {
    "duration": 22,
    "start_time": "2022-08-31T09:52:52.810Z"
   },
   {
    "duration": 20,
    "start_time": "2022-08-31T09:52:52.893Z"
   },
   {
    "duration": 5,
    "start_time": "2022-08-31T09:52:52.976Z"
   },
   {
    "duration": 2,
    "start_time": "2022-08-31T09:52:53.143Z"
   },
   {
    "duration": 3,
    "start_time": "2022-08-31T09:52:53.226Z"
   },
   {
    "duration": 12,
    "start_time": "2022-08-31T09:52:53.477Z"
   },
   {
    "duration": 9,
    "start_time": "2022-08-31T09:52:53.731Z"
   },
   {
    "duration": 6,
    "start_time": "2022-08-31T09:52:53.816Z"
   },
   {
    "duration": 3,
    "start_time": "2022-08-31T09:52:53.900Z"
   },
   {
    "duration": 3,
    "start_time": "2022-08-31T09:52:53.984Z"
   },
   {
    "duration": 8,
    "start_time": "2022-08-31T09:52:54.068Z"
   },
   {
    "duration": 7,
    "start_time": "2022-08-31T09:52:54.151Z"
   },
   {
    "duration": 9,
    "start_time": "2022-08-31T09:52:54.403Z"
   },
   {
    "duration": 8,
    "start_time": "2022-08-31T09:52:54.488Z"
   },
   {
    "duration": 15,
    "start_time": "2022-08-31T09:52:54.657Z"
   },
   {
    "duration": 16,
    "start_time": "2022-08-31T09:52:54.741Z"
   },
   {
    "duration": 16,
    "start_time": "2022-08-31T09:52:54.827Z"
   },
   {
    "duration": 6,
    "start_time": "2022-08-31T09:52:55.073Z"
   },
   {
    "duration": 4,
    "start_time": "2022-08-31T09:52:55.165Z"
   },
   {
    "duration": 2,
    "start_time": "2022-08-31T09:52:55.242Z"
   },
   {
    "duration": 5,
    "start_time": "2022-08-31T09:52:55.326Z"
   },
   {
    "duration": 2,
    "start_time": "2022-08-31T09:52:55.493Z"
   },
   {
    "duration": 7,
    "start_time": "2022-08-31T09:53:37.280Z"
   },
   {
    "duration": 7,
    "start_time": "2022-08-31T09:54:19.633Z"
   },
   {
    "duration": 7,
    "start_time": "2022-08-31T09:54:47.951Z"
   },
   {
    "duration": 448,
    "start_time": "2022-08-31T09:55:14.642Z"
   },
   {
    "duration": 0,
    "start_time": "2022-08-31T09:55:15.093Z"
   },
   {
    "duration": 0,
    "start_time": "2022-08-31T09:55:15.095Z"
   },
   {
    "duration": 0,
    "start_time": "2022-08-31T09:55:15.095Z"
   },
   {
    "duration": 0,
    "start_time": "2022-08-31T09:55:15.096Z"
   },
   {
    "duration": 0,
    "start_time": "2022-08-31T09:55:15.097Z"
   },
   {
    "duration": 0,
    "start_time": "2022-08-31T09:55:15.098Z"
   },
   {
    "duration": 0,
    "start_time": "2022-08-31T09:55:15.099Z"
   },
   {
    "duration": 0,
    "start_time": "2022-08-31T09:55:15.111Z"
   },
   {
    "duration": 0,
    "start_time": "2022-08-31T09:55:15.112Z"
   },
   {
    "duration": 0,
    "start_time": "2022-08-31T09:55:15.112Z"
   },
   {
    "duration": 0,
    "start_time": "2022-08-31T09:55:15.114Z"
   },
   {
    "duration": 0,
    "start_time": "2022-08-31T09:55:15.114Z"
   },
   {
    "duration": 0,
    "start_time": "2022-08-31T09:55:15.115Z"
   },
   {
    "duration": 0,
    "start_time": "2022-08-31T09:55:15.116Z"
   },
   {
    "duration": 0,
    "start_time": "2022-08-31T09:55:15.117Z"
   },
   {
    "duration": 0,
    "start_time": "2022-08-31T09:55:15.118Z"
   },
   {
    "duration": 0,
    "start_time": "2022-08-31T09:55:15.118Z"
   },
   {
    "duration": 0,
    "start_time": "2022-08-31T09:55:15.119Z"
   },
   {
    "duration": 0,
    "start_time": "2022-08-31T09:55:15.120Z"
   },
   {
    "duration": 0,
    "start_time": "2022-08-31T09:55:15.121Z"
   },
   {
    "duration": 0,
    "start_time": "2022-08-31T09:55:15.122Z"
   },
   {
    "duration": 0,
    "start_time": "2022-08-31T09:55:15.123Z"
   },
   {
    "duration": 0,
    "start_time": "2022-08-31T09:55:15.124Z"
   },
   {
    "duration": 0,
    "start_time": "2022-08-31T09:55:15.125Z"
   },
   {
    "duration": 0,
    "start_time": "2022-08-31T09:55:15.126Z"
   },
   {
    "duration": 0,
    "start_time": "2022-08-31T09:55:15.127Z"
   },
   {
    "duration": 0,
    "start_time": "2022-08-31T09:55:15.127Z"
   },
   {
    "duration": 0,
    "start_time": "2022-08-31T09:55:15.128Z"
   },
   {
    "duration": 0,
    "start_time": "2022-08-31T09:55:15.129Z"
   },
   {
    "duration": 0,
    "start_time": "2022-08-31T09:55:15.130Z"
   },
   {
    "duration": 0,
    "start_time": "2022-08-31T09:55:15.131Z"
   },
   {
    "duration": 0,
    "start_time": "2022-08-31T09:55:15.131Z"
   },
   {
    "duration": 0,
    "start_time": "2022-08-31T09:55:15.132Z"
   },
   {
    "duration": 0,
    "start_time": "2022-08-31T09:55:15.133Z"
   },
   {
    "duration": 0,
    "start_time": "2022-08-31T09:55:15.133Z"
   },
   {
    "duration": 0,
    "start_time": "2022-08-31T09:55:15.134Z"
   },
   {
    "duration": 0,
    "start_time": "2022-08-31T09:55:15.135Z"
   },
   {
    "duration": 0,
    "start_time": "2022-08-31T09:55:15.136Z"
   },
   {
    "duration": 0,
    "start_time": "2022-08-31T09:55:15.137Z"
   },
   {
    "duration": 0,
    "start_time": "2022-08-31T09:55:15.138Z"
   },
   {
    "duration": 0,
    "start_time": "2022-08-31T09:55:15.138Z"
   },
   {
    "duration": 0,
    "start_time": "2022-08-31T09:55:15.139Z"
   },
   {
    "duration": 0,
    "start_time": "2022-08-31T09:55:15.139Z"
   },
   {
    "duration": 0,
    "start_time": "2022-08-31T09:55:15.140Z"
   },
   {
    "duration": 0,
    "start_time": "2022-08-31T09:55:15.141Z"
   },
   {
    "duration": 0,
    "start_time": "2022-08-31T09:55:15.143Z"
   },
   {
    "duration": 0,
    "start_time": "2022-08-31T09:55:15.143Z"
   },
   {
    "duration": 0,
    "start_time": "2022-08-31T09:55:15.144Z"
   },
   {
    "duration": 0,
    "start_time": "2022-08-31T09:55:15.145Z"
   },
   {
    "duration": 0,
    "start_time": "2022-08-31T09:55:15.146Z"
   },
   {
    "duration": 0,
    "start_time": "2022-08-31T09:55:15.146Z"
   },
   {
    "duration": 0,
    "start_time": "2022-08-31T09:55:15.147Z"
   },
   {
    "duration": 0,
    "start_time": "2022-08-31T09:55:15.148Z"
   },
   {
    "duration": 0,
    "start_time": "2022-08-31T09:55:15.211Z"
   },
   {
    "duration": 0,
    "start_time": "2022-08-31T09:55:15.213Z"
   },
   {
    "duration": 0,
    "start_time": "2022-08-31T09:55:15.214Z"
   },
   {
    "duration": 0,
    "start_time": "2022-08-31T09:55:15.216Z"
   },
   {
    "duration": 0,
    "start_time": "2022-08-31T09:55:15.217Z"
   },
   {
    "duration": 0,
    "start_time": "2022-08-31T09:55:15.218Z"
   },
   {
    "duration": 0,
    "start_time": "2022-08-31T09:55:15.220Z"
   },
   {
    "duration": 0,
    "start_time": "2022-08-31T09:55:15.221Z"
   },
   {
    "duration": 0,
    "start_time": "2022-08-31T09:55:15.222Z"
   },
   {
    "duration": 0,
    "start_time": "2022-08-31T09:55:15.223Z"
   },
   {
    "duration": 0,
    "start_time": "2022-08-31T09:55:15.224Z"
   },
   {
    "duration": 0,
    "start_time": "2022-08-31T09:55:15.224Z"
   },
   {
    "duration": 0,
    "start_time": "2022-08-31T09:55:15.225Z"
   },
   {
    "duration": 0,
    "start_time": "2022-08-31T09:55:15.226Z"
   },
   {
    "duration": 0,
    "start_time": "2022-08-31T09:55:15.227Z"
   },
   {
    "duration": 0,
    "start_time": "2022-08-31T09:55:15.228Z"
   },
   {
    "duration": 0,
    "start_time": "2022-08-31T09:55:15.229Z"
   },
   {
    "duration": 0,
    "start_time": "2022-08-31T09:55:15.230Z"
   },
   {
    "duration": 0,
    "start_time": "2022-08-31T09:55:15.230Z"
   },
   {
    "duration": 0,
    "start_time": "2022-08-31T09:55:15.231Z"
   },
   {
    "duration": 0,
    "start_time": "2022-08-31T09:55:15.233Z"
   },
   {
    "duration": 0,
    "start_time": "2022-08-31T09:55:15.234Z"
   },
   {
    "duration": 1,
    "start_time": "2022-08-31T09:55:15.234Z"
   },
   {
    "duration": 0,
    "start_time": "2022-08-31T09:55:15.235Z"
   },
   {
    "duration": 0,
    "start_time": "2022-08-31T09:55:15.236Z"
   },
   {
    "duration": 0,
    "start_time": "2022-08-31T09:55:15.237Z"
   },
   {
    "duration": 0,
    "start_time": "2022-08-31T09:55:15.237Z"
   },
   {
    "duration": 0,
    "start_time": "2022-08-31T09:55:15.238Z"
   },
   {
    "duration": 0,
    "start_time": "2022-08-31T09:55:15.239Z"
   },
   {
    "duration": 0,
    "start_time": "2022-08-31T09:55:15.240Z"
   },
   {
    "duration": 0,
    "start_time": "2022-08-31T09:55:15.241Z"
   },
   {
    "duration": 0,
    "start_time": "2022-08-31T09:55:15.241Z"
   },
   {
    "duration": 0,
    "start_time": "2022-08-31T09:55:15.243Z"
   },
   {
    "duration": 0,
    "start_time": "2022-08-31T09:55:15.244Z"
   },
   {
    "duration": 0,
    "start_time": "2022-08-31T09:55:15.244Z"
   },
   {
    "duration": 0,
    "start_time": "2022-08-31T09:55:15.245Z"
   },
   {
    "duration": 6,
    "start_time": "2022-08-31T09:55:33.480Z"
   },
   {
    "duration": 7,
    "start_time": "2022-08-31T09:55:48.613Z"
   },
   {
    "duration": 77,
    "start_time": "2022-08-31T09:56:14.003Z"
   },
   {
    "duration": 14,
    "start_time": "2022-08-31T09:56:16.800Z"
   },
   {
    "duration": 19,
    "start_time": "2022-08-31T09:56:16.878Z"
   },
   {
    "duration": 46,
    "start_time": "2022-08-31T09:56:16.962Z"
   },
   {
    "duration": 10,
    "start_time": "2022-08-31T09:56:17.127Z"
   },
   {
    "duration": 9,
    "start_time": "2022-08-31T09:56:17.211Z"
   },
   {
    "duration": 9,
    "start_time": "2022-08-31T09:56:17.378Z"
   },
   {
    "duration": 18,
    "start_time": "2022-08-31T09:56:17.462Z"
   },
   {
    "duration": 19,
    "start_time": "2022-08-31T09:56:17.543Z"
   },
   {
    "duration": 6,
    "start_time": "2022-08-31T09:56:17.798Z"
   },
   {
    "duration": 6,
    "start_time": "2022-08-31T09:56:17.881Z"
   },
   {
    "duration": 6,
    "start_time": "2022-08-31T09:56:17.963Z"
   },
   {
    "duration": 28,
    "start_time": "2022-08-31T09:56:18.131Z"
   },
   {
    "duration": 2,
    "start_time": "2022-08-31T09:56:18.301Z"
   },
   {
    "duration": 2,
    "start_time": "2022-08-31T09:56:18.468Z"
   },
   {
    "duration": 10,
    "start_time": "2022-08-31T09:56:18.721Z"
   },
   {
    "duration": 9,
    "start_time": "2022-08-31T09:56:18.803Z"
   },
   {
    "duration": 11,
    "start_time": "2022-08-31T09:56:18.887Z"
   },
   {
    "duration": 5,
    "start_time": "2022-08-31T09:56:19.137Z"
   },
   {
    "duration": 6,
    "start_time": "2022-08-31T09:56:19.221Z"
   },
   {
    "duration": 5,
    "start_time": "2022-08-31T09:56:19.303Z"
   },
   {
    "duration": 376,
    "start_time": "2022-08-31T09:56:19.476Z"
   },
   {
    "duration": 5,
    "start_time": "2022-08-31T09:56:20.507Z"
   },
   {
    "duration": 5,
    "start_time": "2022-08-31T09:56:21.005Z"
   },
   {
    "duration": 7,
    "start_time": "2022-08-31T09:56:21.084Z"
   },
   {
    "duration": 6,
    "start_time": "2022-08-31T09:56:21.338Z"
   },
   {
    "duration": 4,
    "start_time": "2022-08-31T09:56:21.503Z"
   },
   {
    "duration": 5,
    "start_time": "2022-08-31T09:56:21.588Z"
   },
   {
    "duration": 9,
    "start_time": "2022-08-31T09:56:21.755Z"
   },
   {
    "duration": 29,
    "start_time": "2022-08-31T09:56:21.925Z"
   },
   {
    "duration": 6,
    "start_time": "2022-08-31T09:56:22.007Z"
   },
   {
    "duration": 3,
    "start_time": "2022-08-31T09:56:22.092Z"
   },
   {
    "duration": 19,
    "start_time": "2022-08-31T09:56:22.175Z"
   },
   {
    "duration": 8,
    "start_time": "2022-08-31T09:56:22.259Z"
   },
   {
    "duration": 21,
    "start_time": "2022-08-31T09:56:22.342Z"
   },
   {
    "duration": 6,
    "start_time": "2022-08-31T09:56:22.512Z"
   },
   {
    "duration": 2,
    "start_time": "2022-08-31T09:56:22.596Z"
   },
   {
    "duration": 2,
    "start_time": "2022-08-31T09:56:22.760Z"
   },
   {
    "duration": 4,
    "start_time": "2022-08-31T09:56:22.931Z"
   },
   {
    "duration": 12,
    "start_time": "2022-08-31T09:56:23.016Z"
   },
   {
    "duration": 4,
    "start_time": "2022-08-31T09:56:23.099Z"
   },
   {
    "duration": 5,
    "start_time": "2022-08-31T09:56:23.182Z"
   },
   {
    "duration": 5,
    "start_time": "2022-08-31T09:56:23.442Z"
   },
   {
    "duration": 2,
    "start_time": "2022-08-31T09:56:23.520Z"
   },
   {
    "duration": 2,
    "start_time": "2022-08-31T09:56:23.687Z"
   },
   {
    "duration": 17,
    "start_time": "2022-08-31T09:56:23.854Z"
   },
   {
    "duration": 17,
    "start_time": "2022-08-31T09:56:23.938Z"
   },
   {
    "duration": 16,
    "start_time": "2022-08-31T09:56:24.022Z"
   },
   {
    "duration": 5,
    "start_time": "2022-08-31T09:56:24.106Z"
   },
   {
    "duration": 2,
    "start_time": "2022-08-31T09:56:24.275Z"
   },
   {
    "duration": 4,
    "start_time": "2022-08-31T09:56:24.360Z"
   },
   {
    "duration": 12,
    "start_time": "2022-08-31T09:56:24.612Z"
   },
   {
    "duration": 5,
    "start_time": "2022-08-31T09:56:32.321Z"
   },
   {
    "duration": 3,
    "start_time": "2022-08-31T09:56:33.375Z"
   },
   {
    "duration": 4,
    "start_time": "2022-08-31T09:56:33.707Z"
   },
   {
    "duration": 8,
    "start_time": "2022-08-31T09:56:58.039Z"
   },
   {
    "duration": 9,
    "start_time": "2022-08-31T09:57:42.691Z"
   },
   {
    "duration": 79,
    "start_time": "2022-08-31T09:57:52.213Z"
   },
   {
    "duration": 12,
    "start_time": "2022-08-31T09:57:53.399Z"
   },
   {
    "duration": 14,
    "start_time": "2022-08-31T09:57:53.480Z"
   },
   {
    "duration": 43,
    "start_time": "2022-08-31T09:57:53.563Z"
   },
   {
    "duration": 8,
    "start_time": "2022-08-31T09:57:53.733Z"
   },
   {
    "duration": 9,
    "start_time": "2022-08-31T09:57:53.818Z"
   },
   {
    "duration": 9,
    "start_time": "2022-08-31T09:57:53.983Z"
   },
   {
    "duration": 17,
    "start_time": "2022-08-31T09:57:54.069Z"
   },
   {
    "duration": 17,
    "start_time": "2022-08-31T09:57:54.151Z"
   },
   {
    "duration": 6,
    "start_time": "2022-08-31T09:57:54.403Z"
   },
   {
    "duration": 6,
    "start_time": "2022-08-31T09:57:54.506Z"
   },
   {
    "duration": 7,
    "start_time": "2022-08-31T09:57:54.570Z"
   },
   {
    "duration": 23,
    "start_time": "2022-08-31T09:57:54.736Z"
   },
   {
    "duration": 2,
    "start_time": "2022-08-31T09:57:54.910Z"
   },
   {
    "duration": 2,
    "start_time": "2022-08-31T09:57:55.077Z"
   },
   {
    "duration": 9,
    "start_time": "2022-08-31T09:57:55.586Z"
   },
   {
    "duration": 8,
    "start_time": "2022-08-31T09:57:55.597Z"
   },
   {
    "duration": 17,
    "start_time": "2022-08-31T09:57:55.606Z"
   },
   {
    "duration": 5,
    "start_time": "2022-08-31T09:57:55.742Z"
   },
   {
    "duration": 6,
    "start_time": "2022-08-31T09:57:55.829Z"
   },
   {
    "duration": 5,
    "start_time": "2022-08-31T09:57:55.909Z"
   },
   {
    "duration": 369,
    "start_time": "2022-08-31T09:57:56.079Z"
   },
   {
    "duration": 5,
    "start_time": "2022-08-31T09:57:56.450Z"
   },
   {
    "duration": 10,
    "start_time": "2022-08-31T09:57:56.456Z"
   },
   {
    "duration": 9,
    "start_time": "2022-08-31T09:57:56.467Z"
   },
   {
    "duration": 8,
    "start_time": "2022-08-31T09:57:56.580Z"
   },
   {
    "duration": 3,
    "start_time": "2022-08-31T09:57:56.750Z"
   },
   {
    "duration": 6,
    "start_time": "2022-08-31T09:57:56.832Z"
   },
   {
    "duration": 6,
    "start_time": "2022-08-31T09:57:57.004Z"
   },
   {
    "duration": 22,
    "start_time": "2022-08-31T09:57:57.168Z"
   },
   {
    "duration": 5,
    "start_time": "2022-08-31T09:57:57.251Z"
   },
   {
    "duration": 4,
    "start_time": "2022-08-31T09:57:57.338Z"
   },
   {
    "duration": 19,
    "start_time": "2022-08-31T09:57:57.419Z"
   },
   {
    "duration": 8,
    "start_time": "2022-08-31T09:57:57.507Z"
   },
   {
    "duration": 22,
    "start_time": "2022-08-31T09:57:57.585Z"
   },
   {
    "duration": 4,
    "start_time": "2022-08-31T09:57:57.753Z"
   },
   {
    "duration": 2,
    "start_time": "2022-08-31T09:57:57.837Z"
   },
   {
    "duration": 2,
    "start_time": "2022-08-31T09:57:58.006Z"
   },
   {
    "duration": 4,
    "start_time": "2022-08-31T09:57:58.181Z"
   },
   {
    "duration": 16,
    "start_time": "2022-08-31T09:57:58.256Z"
   },
   {
    "duration": 6,
    "start_time": "2022-08-31T09:57:58.341Z"
   },
   {
    "duration": 5,
    "start_time": "2022-08-31T09:57:58.937Z"
   },
   {
    "duration": 4,
    "start_time": "2022-08-31T09:57:59.609Z"
   },
   {
    "duration": 2,
    "start_time": "2022-08-31T09:57:59.691Z"
   },
   {
    "duration": 2,
    "start_time": "2022-08-31T09:58:06.471Z"
   },
   {
    "duration": 15,
    "start_time": "2022-08-31T09:58:07.516Z"
   },
   {
    "duration": 17,
    "start_time": "2022-08-31T09:58:07.911Z"
   },
   {
    "duration": 15,
    "start_time": "2022-08-31T09:58:08.219Z"
   },
   {
    "duration": 5,
    "start_time": "2022-08-31T09:58:08.559Z"
   },
   {
    "duration": 15,
    "start_time": "2022-08-31T09:58:43.370Z"
   },
   {
    "duration": 16,
    "start_time": "2022-08-31T09:58:44.082Z"
   },
   {
    "duration": 17,
    "start_time": "2022-08-31T09:58:44.836Z"
   },
   {
    "duration": 5,
    "start_time": "2022-08-31T09:58:46.907Z"
   },
   {
    "duration": 3,
    "start_time": "2022-08-31T09:58:51.882Z"
   },
   {
    "duration": 4,
    "start_time": "2022-08-31T09:58:52.852Z"
   },
   {
    "duration": 11,
    "start_time": "2022-08-31T09:58:56.089Z"
   },
   {
    "duration": 9,
    "start_time": "2022-08-31T09:59:01.244Z"
   },
   {
    "duration": 7,
    "start_time": "2022-08-31T09:59:02.836Z"
   },
   {
    "duration": 3,
    "start_time": "2022-08-31T09:59:05.730Z"
   },
   {
    "duration": 4,
    "start_time": "2022-08-31T09:59:06.025Z"
   },
   {
    "duration": 9,
    "start_time": "2022-08-31T09:59:06.273Z"
   },
   {
    "duration": 12,
    "start_time": "2022-08-31T09:59:06.462Z"
   },
   {
    "duration": 9,
    "start_time": "2022-08-31T09:59:07.130Z"
   },
   {
    "duration": 19,
    "start_time": "2022-08-31T09:59:07.214Z"
   },
   {
    "duration": 16,
    "start_time": "2022-08-31T09:59:07.380Z"
   },
   {
    "duration": 15,
    "start_time": "2022-08-31T09:59:07.466Z"
   },
   {
    "duration": 17,
    "start_time": "2022-08-31T09:59:07.550Z"
   },
   {
    "duration": 6,
    "start_time": "2022-08-31T09:59:07.800Z"
   },
   {
    "duration": 4,
    "start_time": "2022-08-31T09:59:07.885Z"
   },
   {
    "duration": 2,
    "start_time": "2022-08-31T09:59:07.968Z"
   },
   {
    "duration": 5,
    "start_time": "2022-08-31T09:59:08.052Z"
   },
   {
    "duration": 2,
    "start_time": "2022-08-31T09:59:08.216Z"
   },
   {
    "duration": 8,
    "start_time": "2022-08-31T09:59:08.385Z"
   },
   {
    "duration": 19,
    "start_time": "2022-08-31T09:59:24.543Z"
   },
   {
    "duration": 13,
    "start_time": "2022-08-31T09:59:40.030Z"
   },
   {
    "duration": 7,
    "start_time": "2022-08-31T09:59:46.241Z"
   },
   {
    "duration": 7,
    "start_time": "2022-08-31T09:59:46.628Z"
   },
   {
    "duration": 7,
    "start_time": "2022-08-31T09:59:50.144Z"
   },
   {
    "duration": 4,
    "start_time": "2022-08-31T09:59:50.670Z"
   },
   {
    "duration": 2,
    "start_time": "2022-08-31T09:59:52.086Z"
   },
   {
    "duration": 2,
    "start_time": "2022-08-31T09:59:53.064Z"
   },
   {
    "duration": 2,
    "start_time": "2022-08-31T09:59:53.415Z"
   },
   {
    "duration": 14,
    "start_time": "2022-08-31T09:59:55.159Z"
   },
   {
    "duration": 13,
    "start_time": "2022-08-31T10:00:00.193Z"
   },
   {
    "duration": 9,
    "start_time": "2022-08-31T10:16:04.456Z"
   },
   {
    "duration": 1284,
    "start_time": "2022-08-31T10:19:46.643Z"
   },
   {
    "duration": 59,
    "start_time": "2022-08-31T10:20:45.120Z"
   },
   {
    "duration": 1141,
    "start_time": "2022-08-31T10:25:33.615Z"
   },
   {
    "duration": 4,
    "start_time": "2022-08-31T10:25:52.350Z"
   },
   {
    "duration": 8,
    "start_time": "2022-08-31T10:26:27.931Z"
   },
   {
    "duration": 10,
    "start_time": "2022-08-31T10:27:52.486Z"
   },
   {
    "duration": 8,
    "start_time": "2022-08-31T10:28:04.943Z"
   },
   {
    "duration": 8,
    "start_time": "2022-08-31T10:28:12.871Z"
   },
   {
    "duration": 9,
    "start_time": "2022-08-31T10:28:37.103Z"
   },
   {
    "duration": 3,
    "start_time": "2022-08-31T10:28:37.530Z"
   },
   {
    "duration": 8,
    "start_time": "2022-08-31T10:28:37.951Z"
   },
   {
    "duration": 5,
    "start_time": "2022-08-31T10:28:38.638Z"
   },
   {
    "duration": 5,
    "start_time": "2022-08-31T10:28:40.470Z"
   },
   {
    "duration": 9,
    "start_time": "2022-08-31T10:29:01.995Z"
   },
   {
    "duration": 7,
    "start_time": "2022-08-31T10:29:09.978Z"
   },
   {
    "duration": 8,
    "start_time": "2022-08-31T10:29:18.282Z"
   },
   {
    "duration": 4,
    "start_time": "2022-08-31T10:29:21.490Z"
   },
   {
    "duration": 3,
    "start_time": "2022-08-31T10:35:42.858Z"
   },
   {
    "duration": 4,
    "start_time": "2022-08-31T10:37:15.953Z"
   },
   {
    "duration": 3,
    "start_time": "2022-08-31T10:37:17.209Z"
   },
   {
    "duration": 9,
    "start_time": "2022-08-31T10:39:46.820Z"
   },
   {
    "duration": 4,
    "start_time": "2022-08-31T10:39:55.341Z"
   },
   {
    "duration": 1742,
    "start_time": "2022-08-31T10:39:56.284Z"
   },
   {
    "duration": 1769,
    "start_time": "2022-08-31T10:40:24.806Z"
   },
   {
    "duration": 1777,
    "start_time": "2022-08-31T10:40:48.054Z"
   },
   {
    "duration": 11,
    "start_time": "2022-08-31T10:41:28.212Z"
   },
   {
    "duration": 4,
    "start_time": "2022-08-31T10:42:47.701Z"
   },
   {
    "duration": 4,
    "start_time": "2022-08-31T10:42:56.533Z"
   },
   {
    "duration": 31,
    "start_time": "2022-08-31T10:43:03.864Z"
   },
   {
    "duration": 7,
    "start_time": "2022-08-31T10:43:11.284Z"
   },
   {
    "duration": 8,
    "start_time": "2022-08-31T10:43:33.799Z"
   },
   {
    "duration": 8,
    "start_time": "2022-08-31T10:43:43.814Z"
   },
   {
    "duration": 8,
    "start_time": "2022-08-31T10:45:20.510Z"
   },
   {
    "duration": 8,
    "start_time": "2022-08-31T10:49:08.338Z"
   },
   {
    "duration": 5,
    "start_time": "2022-08-31T10:49:58.044Z"
   },
   {
    "duration": 18,
    "start_time": "2022-08-31T10:51:04.279Z"
   },
   {
    "duration": 18,
    "start_time": "2022-08-31T10:51:09.279Z"
   },
   {
    "duration": 7,
    "start_time": "2022-08-31T10:51:21.532Z"
   },
   {
    "duration": 5,
    "start_time": "2022-08-31T10:51:34.262Z"
   },
   {
    "duration": 5,
    "start_time": "2022-08-31T10:51:55.393Z"
   },
   {
    "duration": 7,
    "start_time": "2022-08-31T10:52:33.819Z"
   },
   {
    "duration": 5,
    "start_time": "2022-08-31T11:01:46.929Z"
   },
   {
    "duration": 7,
    "start_time": "2022-08-31T11:02:46.591Z"
   },
   {
    "duration": 7,
    "start_time": "2022-08-31T11:02:52.253Z"
   },
   {
    "duration": 6,
    "start_time": "2022-08-31T11:03:40.675Z"
   },
   {
    "duration": 10,
    "start_time": "2022-08-31T11:04:13.143Z"
   },
   {
    "duration": 10,
    "start_time": "2022-08-31T11:04:36.618Z"
   },
   {
    "duration": 10,
    "start_time": "2022-08-31T11:04:58.550Z"
   },
   {
    "duration": 12,
    "start_time": "2022-08-31T15:57:29.923Z"
   },
   {
    "duration": 11,
    "start_time": "2022-08-31T15:57:35.896Z"
   },
   {
    "duration": 12,
    "start_time": "2022-08-31T15:57:46.048Z"
   },
   {
    "duration": 12,
    "start_time": "2022-08-31T15:58:09.272Z"
   },
   {
    "duration": 15,
    "start_time": "2022-08-31T15:58:54.625Z"
   },
   {
    "duration": 15,
    "start_time": "2022-08-31T15:59:03.075Z"
   },
   {
    "duration": 13,
    "start_time": "2022-08-31T15:59:07.134Z"
   },
   {
    "duration": 14,
    "start_time": "2022-08-31T15:59:12.946Z"
   },
   {
    "duration": 12,
    "start_time": "2022-08-31T15:59:20.588Z"
   },
   {
    "duration": 12,
    "start_time": "2022-08-31T16:00:00.664Z"
   },
   {
    "duration": 487,
    "start_time": "2022-09-01T18:12:51.026Z"
   },
   {
    "duration": 14,
    "start_time": "2022-09-01T18:12:51.515Z"
   },
   {
    "duration": 19,
    "start_time": "2022-09-01T18:12:51.530Z"
   },
   {
    "duration": 54,
    "start_time": "2022-09-01T18:12:51.550Z"
   },
   {
    "duration": 9,
    "start_time": "2022-09-01T18:12:51.606Z"
   },
   {
    "duration": 9,
    "start_time": "2022-09-01T18:12:51.617Z"
   },
   {
    "duration": 8,
    "start_time": "2022-09-01T18:12:51.731Z"
   },
   {
    "duration": 21,
    "start_time": "2022-09-01T18:12:51.813Z"
   },
   {
    "duration": 18,
    "start_time": "2022-09-01T18:12:51.899Z"
   },
   {
    "duration": 6,
    "start_time": "2022-09-01T18:12:52.146Z"
   },
   {
    "duration": 7,
    "start_time": "2022-09-01T18:12:52.222Z"
   },
   {
    "duration": 8,
    "start_time": "2022-09-01T18:12:52.315Z"
   },
   {
    "duration": 23,
    "start_time": "2022-09-01T18:12:52.483Z"
   },
   {
    "duration": 2,
    "start_time": "2022-09-01T18:12:52.638Z"
   },
   {
    "duration": 3,
    "start_time": "2022-09-01T18:12:53.189Z"
   },
   {
    "duration": 12,
    "start_time": "2022-09-01T18:12:53.193Z"
   },
   {
    "duration": 7,
    "start_time": "2022-09-01T18:12:53.207Z"
   },
   {
    "duration": 10,
    "start_time": "2022-09-01T18:12:53.228Z"
   },
   {
    "duration": 5,
    "start_time": "2022-09-01T18:12:53.483Z"
   },
   {
    "duration": 7,
    "start_time": "2022-09-01T18:12:53.774Z"
   },
   {
    "duration": 6,
    "start_time": "2022-09-01T18:12:53.783Z"
   },
   {
    "duration": 339,
    "start_time": "2022-09-01T18:12:53.819Z"
   },
   {
    "duration": 5,
    "start_time": "2022-09-01T18:12:54.159Z"
   },
   {
    "duration": 7,
    "start_time": "2022-09-01T18:12:54.165Z"
   },
   {
    "duration": 6,
    "start_time": "2022-09-01T18:12:54.174Z"
   },
   {
    "duration": 7,
    "start_time": "2022-09-01T18:12:54.313Z"
   },
   {
    "duration": 3,
    "start_time": "2022-09-01T18:12:54.480Z"
   },
   {
    "duration": 5,
    "start_time": "2022-09-01T18:12:54.566Z"
   },
   {
    "duration": 6,
    "start_time": "2022-09-01T18:12:54.732Z"
   },
   {
    "duration": 21,
    "start_time": "2022-09-01T18:12:54.905Z"
   },
   {
    "duration": 5,
    "start_time": "2022-09-01T18:12:54.985Z"
   },
   {
    "duration": 4,
    "start_time": "2022-09-01T18:12:55.071Z"
   },
   {
    "duration": 20,
    "start_time": "2022-09-01T18:12:55.170Z"
   },
   {
    "duration": 8,
    "start_time": "2022-09-01T18:12:55.234Z"
   },
   {
    "duration": 21,
    "start_time": "2022-09-01T18:12:55.325Z"
   },
   {
    "duration": 4,
    "start_time": "2022-09-01T18:12:55.489Z"
   },
   {
    "duration": 2,
    "start_time": "2022-09-01T18:12:55.573Z"
   },
   {
    "duration": 2,
    "start_time": "2022-09-01T18:12:56.019Z"
   },
   {
    "duration": 8,
    "start_time": "2022-09-01T18:12:56.023Z"
   },
   {
    "duration": 13,
    "start_time": "2022-09-01T18:12:56.032Z"
   },
   {
    "duration": 4,
    "start_time": "2022-09-01T18:12:56.073Z"
   },
   {
    "duration": 91,
    "start_time": "2022-09-01T18:13:40.698Z"
   },
   {
    "duration": 21,
    "start_time": "2022-09-01T18:14:09.367Z"
   },
   {
    "duration": 17,
    "start_time": "2022-09-01T18:14:10.987Z"
   },
   {
    "duration": 45,
    "start_time": "2022-09-01T18:14:15.250Z"
   },
   {
    "duration": 9,
    "start_time": "2022-09-01T18:23:39.684Z"
   },
   {
    "duration": 9,
    "start_time": "2022-09-01T18:28:56.536Z"
   },
   {
    "duration": 18,
    "start_time": "2022-09-01T18:29:06.772Z"
   },
   {
    "duration": 19,
    "start_time": "2022-09-01T18:29:08.421Z"
   },
   {
    "duration": 5,
    "start_time": "2022-09-01T18:38:55.768Z"
   },
   {
    "duration": 7,
    "start_time": "2022-09-01T18:39:34.971Z"
   },
   {
    "duration": 9,
    "start_time": "2022-09-01T18:40:59.033Z"
   },
   {
    "duration": 59,
    "start_time": "2022-09-01T18:41:09.662Z"
   },
   {
    "duration": 9,
    "start_time": "2022-09-01T18:41:18.367Z"
   },
   {
    "duration": 5,
    "start_time": "2022-09-01T18:41:24.791Z"
   },
   {
    "duration": 10,
    "start_time": "2022-09-01T18:41:30.913Z"
   },
   {
    "duration": 2,
    "start_time": "2022-09-01T18:42:13.951Z"
   },
   {
    "duration": 7,
    "start_time": "2022-09-01T18:42:21.990Z"
   },
   {
    "duration": 19,
    "start_time": "2022-09-02T12:44:02.643Z"
   },
   {
    "duration": 21,
    "start_time": "2022-09-02T12:44:02.665Z"
   },
   {
    "duration": 80,
    "start_time": "2022-09-02T12:44:02.688Z"
   },
   {
    "duration": 10,
    "start_time": "2022-09-02T12:44:03.988Z"
   },
   {
    "duration": 10,
    "start_time": "2022-09-02T12:44:09.462Z"
   },
   {
    "duration": 10,
    "start_time": "2022-09-02T12:44:10.052Z"
   },
   {
    "duration": 9,
    "start_time": "2022-09-02T12:44:14.670Z"
   },
   {
    "duration": 17,
    "start_time": "2022-09-02T12:44:17.637Z"
   },
   {
    "duration": 20,
    "start_time": "2022-09-02T12:44:17.969Z"
   },
   {
    "duration": 10,
    "start_time": "2022-09-02T12:50:00.889Z"
   },
   {
    "duration": 8,
    "start_time": "2022-09-02T12:50:03.169Z"
   },
   {
    "duration": 10,
    "start_time": "2022-09-02T12:50:04.475Z"
   },
   {
    "duration": 6,
    "start_time": "2022-09-02T12:50:09.486Z"
   },
   {
    "duration": 6,
    "start_time": "2022-09-02T12:50:10.258Z"
   },
   {
    "duration": 5,
    "start_time": "2022-09-02T12:50:10.826Z"
   },
   {
    "duration": 6,
    "start_time": "2022-09-02T12:50:42.547Z"
   },
   {
    "duration": 7,
    "start_time": "2022-09-02T12:50:43.325Z"
   },
   {
    "duration": 343,
    "start_time": "2022-09-02T12:50:49.004Z"
   },
   {
    "duration": 5,
    "start_time": "2022-09-02T12:50:52.782Z"
   },
   {
    "duration": 6,
    "start_time": "2022-09-02T12:50:55.686Z"
   },
   {
    "duration": 7,
    "start_time": "2022-09-02T12:50:58.178Z"
   },
   {
    "duration": 9,
    "start_time": "2022-09-02T12:51:17.856Z"
   },
   {
    "duration": 3,
    "start_time": "2022-09-02T12:51:26.478Z"
   },
   {
    "duration": 5,
    "start_time": "2022-09-02T12:51:26.941Z"
   },
   {
    "duration": 6,
    "start_time": "2022-09-02T12:51:38.189Z"
   },
   {
    "duration": 22,
    "start_time": "2022-09-02T12:52:22.628Z"
   },
   {
    "duration": 4,
    "start_time": "2022-09-02T12:55:04.153Z"
   },
   {
    "duration": 4,
    "start_time": "2022-09-02T12:55:05.850Z"
   },
   {
    "duration": 19,
    "start_time": "2022-09-02T12:55:07.208Z"
   },
   {
    "duration": 12,
    "start_time": "2022-09-02T12:56:08.385Z"
   },
   {
    "duration": 20,
    "start_time": "2022-09-02T12:56:08.814Z"
   },
   {
    "duration": 5,
    "start_time": "2022-09-02T12:56:49.082Z"
   },
   {
    "duration": 3,
    "start_time": "2022-09-02T12:56:50.174Z"
   },
   {
    "duration": 5,
    "start_time": "2022-09-02T12:57:06.155Z"
   },
   {
    "duration": 12,
    "start_time": "2022-09-02T12:57:07.755Z"
   },
   {
    "duration": 4,
    "start_time": "2022-09-02T12:57:34.731Z"
   },
   {
    "duration": 5,
    "start_time": "2022-09-02T12:57:34.947Z"
   },
   {
    "duration": 4,
    "start_time": "2022-09-02T12:57:43.276Z"
   },
   {
    "duration": 16,
    "start_time": "2022-09-02T12:57:53.758Z"
   },
   {
    "duration": 16,
    "start_time": "2022-09-02T12:57:55.419Z"
   },
   {
    "duration": 15,
    "start_time": "2022-09-02T12:57:55.781Z"
   },
   {
    "duration": 5,
    "start_time": "2022-09-02T12:57:56.381Z"
   },
   {
    "duration": 2,
    "start_time": "2022-09-02T12:58:08.577Z"
   },
   {
    "duration": 2,
    "start_time": "2022-09-02T12:58:11.528Z"
   },
   {
    "duration": 4,
    "start_time": "2022-09-02T12:58:11.865Z"
   },
   {
    "duration": 11,
    "start_time": "2022-09-02T12:58:25.091Z"
   },
   {
    "duration": 10,
    "start_time": "2022-09-02T12:59:29.475Z"
   },
   {
    "duration": 259,
    "start_time": "2022-09-04T08:15:25.188Z"
   },
   {
    "duration": 13,
    "start_time": "2022-09-04T08:15:25.449Z"
   },
   {
    "duration": 12,
    "start_time": "2022-09-04T08:15:25.463Z"
   },
   {
    "duration": 46,
    "start_time": "2022-09-04T08:15:25.476Z"
   },
   {
    "duration": 8,
    "start_time": "2022-09-04T08:15:25.523Z"
   },
   {
    "duration": 26,
    "start_time": "2022-09-04T08:15:25.532Z"
   },
   {
    "duration": 8,
    "start_time": "2022-09-04T08:15:25.559Z"
   },
   {
    "duration": 16,
    "start_time": "2022-09-04T08:15:25.569Z"
   },
   {
    "duration": 16,
    "start_time": "2022-09-04T08:15:25.587Z"
   },
   {
    "duration": 6,
    "start_time": "2022-09-04T08:15:25.605Z"
   },
   {
    "duration": 4,
    "start_time": "2022-09-04T08:15:25.612Z"
   },
   {
    "duration": 44,
    "start_time": "2022-09-04T08:15:25.618Z"
   },
   {
    "duration": 25,
    "start_time": "2022-09-04T08:15:25.664Z"
   },
   {
    "duration": 3,
    "start_time": "2022-09-04T08:15:25.690Z"
   },
   {
    "duration": 4,
    "start_time": "2022-09-04T08:15:25.695Z"
   },
   {
    "duration": 12,
    "start_time": "2022-09-04T08:15:25.701Z"
   },
   {
    "duration": 43,
    "start_time": "2022-09-04T08:15:25.714Z"
   },
   {
    "duration": 11,
    "start_time": "2022-09-04T08:15:25.759Z"
   },
   {
    "duration": 4,
    "start_time": "2022-09-04T08:15:25.771Z"
   },
   {
    "duration": 10,
    "start_time": "2022-09-04T08:15:25.777Z"
   },
   {
    "duration": 7,
    "start_time": "2022-09-04T08:15:25.788Z"
   },
   {
    "duration": 354,
    "start_time": "2022-09-04T08:15:25.796Z"
   },
   {
    "duration": 6,
    "start_time": "2022-09-04T08:15:26.154Z"
   },
   {
    "duration": 10,
    "start_time": "2022-09-04T08:15:26.161Z"
   },
   {
    "duration": 6,
    "start_time": "2022-09-04T08:15:26.173Z"
   },
   {
    "duration": 6,
    "start_time": "2022-09-04T08:15:26.181Z"
   },
   {
    "duration": 3,
    "start_time": "2022-09-04T08:15:26.189Z"
   },
   {
    "duration": 8,
    "start_time": "2022-09-04T08:15:26.195Z"
   },
   {
    "duration": 18,
    "start_time": "2022-09-04T08:15:26.204Z"
   },
   {
    "duration": 36,
    "start_time": "2022-09-04T08:15:26.224Z"
   },
   {
    "duration": 5,
    "start_time": "2022-09-04T08:15:26.261Z"
   },
   {
    "duration": 5,
    "start_time": "2022-09-04T08:15:26.268Z"
   },
   {
    "duration": 19,
    "start_time": "2022-09-04T08:15:26.274Z"
   },
   {
    "duration": 8,
    "start_time": "2022-09-04T08:15:26.295Z"
   },
   {
    "duration": 52,
    "start_time": "2022-09-04T08:15:26.304Z"
   },
   {
    "duration": 5,
    "start_time": "2022-09-04T08:15:26.357Z"
   },
   {
    "duration": 3,
    "start_time": "2022-09-04T08:15:26.364Z"
   },
   {
    "duration": 5,
    "start_time": "2022-09-04T08:15:26.368Z"
   },
   {
    "duration": 11,
    "start_time": "2022-09-04T08:15:26.374Z"
   },
   {
    "duration": 18,
    "start_time": "2022-09-04T08:15:26.386Z"
   },
   {
    "duration": 4,
    "start_time": "2022-09-04T08:15:26.406Z"
   },
   {
    "duration": 6,
    "start_time": "2022-09-04T08:15:26.411Z"
   },
   {
    "duration": 6,
    "start_time": "2022-09-04T08:15:26.418Z"
   },
   {
    "duration": 3,
    "start_time": "2022-09-04T08:15:26.425Z"
   },
   {
    "duration": 30,
    "start_time": "2022-09-04T08:15:26.429Z"
   },
   {
    "duration": 17,
    "start_time": "2022-09-04T08:15:26.461Z"
   },
   {
    "duration": 15,
    "start_time": "2022-09-04T08:15:26.479Z"
   },
   {
    "duration": 13,
    "start_time": "2022-09-04T08:15:26.496Z"
   },
   {
    "duration": 5,
    "start_time": "2022-09-04T08:15:26.510Z"
   },
   {
    "duration": 5,
    "start_time": "2022-09-04T08:15:26.516Z"
   },
   {
    "duration": 6,
    "start_time": "2022-09-04T08:15:26.522Z"
   },
   {
    "duration": 12,
    "start_time": "2022-09-04T08:15:26.555Z"
   },
   {
    "duration": 13,
    "start_time": "2022-09-04T08:15:26.568Z"
   },
   {
    "duration": 7,
    "start_time": "2022-09-04T08:15:26.583Z"
   },
   {
    "duration": 3,
    "start_time": "2022-09-04T08:15:26.592Z"
   },
   {
    "duration": 5,
    "start_time": "2022-09-04T08:15:26.597Z"
   },
   {
    "duration": 12,
    "start_time": "2022-09-04T08:15:26.604Z"
   },
   {
    "duration": 38,
    "start_time": "2022-09-04T08:15:26.617Z"
   },
   {
    "duration": 11,
    "start_time": "2022-09-04T08:15:26.657Z"
   },
   {
    "duration": 27,
    "start_time": "2022-09-04T08:15:26.670Z"
   },
   {
    "duration": 15,
    "start_time": "2022-09-04T08:15:26.698Z"
   },
   {
    "duration": 14,
    "start_time": "2022-09-04T08:15:26.714Z"
   },
   {
    "duration": 43,
    "start_time": "2022-09-04T08:15:26.730Z"
   },
   {
    "duration": 6,
    "start_time": "2022-09-04T08:15:26.774Z"
   },
   {
    "duration": 10,
    "start_time": "2022-09-04T08:15:26.781Z"
   },
   {
    "duration": 13,
    "start_time": "2022-09-04T08:15:26.793Z"
   },
   {
    "duration": 9,
    "start_time": "2022-09-04T08:15:26.808Z"
   },
   {
    "duration": 4,
    "start_time": "2022-09-04T08:15:26.819Z"
   },
   {
    "duration": 14,
    "start_time": "2022-09-04T08:15:26.824Z"
   },
   {
    "duration": 7,
    "start_time": "2022-09-04T08:15:26.855Z"
   },
   {
    "duration": 42,
    "start_time": "2022-09-04T08:15:26.863Z"
   },
   {
    "duration": 7,
    "start_time": "2022-09-04T08:15:26.906Z"
   },
   {
    "duration": 5,
    "start_time": "2022-09-04T08:15:26.915Z"
   },
   {
    "duration": 3,
    "start_time": "2022-09-04T08:15:26.922Z"
   },
   {
    "duration": 29,
    "start_time": "2022-09-04T08:15:26.926Z"
   },
   {
    "duration": 5,
    "start_time": "2022-09-04T08:15:26.957Z"
   },
   {
    "duration": 17,
    "start_time": "2022-09-04T08:15:26.963Z"
   },
   {
    "duration": 16,
    "start_time": "2022-09-04T08:15:26.981Z"
   },
   {
    "duration": 11,
    "start_time": "2022-09-04T08:15:26.998Z"
   },
   {
    "duration": 7,
    "start_time": "2022-09-04T08:15:27.010Z"
   },
   {
    "duration": 891,
    "start_time": "2022-09-04T08:15:27.018Z"
   },
   {
    "duration": 1028,
    "start_time": "2022-09-04T08:15:27.913Z"
   },
   {
    "duration": 4,
    "start_time": "2022-09-04T08:15:28.942Z"
   },
   {
    "duration": 10,
    "start_time": "2022-09-04T08:15:28.948Z"
   },
   {
    "duration": 5,
    "start_time": "2022-09-04T08:15:28.959Z"
   },
   {
    "duration": 8,
    "start_time": "2022-09-04T08:15:28.965Z"
   },
   {
    "duration": 1497,
    "start_time": "2022-09-04T08:15:28.974Z"
   },
   {
    "duration": 7,
    "start_time": "2022-09-04T08:15:30.472Z"
   },
   {
    "duration": 14,
    "start_time": "2022-09-04T08:15:30.480Z"
   },
   {
    "duration": 15,
    "start_time": "2022-09-04T08:15:30.496Z"
   },
   {
    "duration": 14,
    "start_time": "2022-09-04T08:15:30.513Z"
   },
   {
    "duration": 19,
    "start_time": "2022-09-04T08:15:30.529Z"
   },
   {
    "duration": 9,
    "start_time": "2022-09-04T08:15:30.550Z"
   },
   {
    "duration": 19,
    "start_time": "2022-09-04T08:15:30.561Z"
   },
   {
    "duration": 24,
    "start_time": "2022-09-04T08:15:30.581Z"
   },
   {
    "duration": 5,
    "start_time": "2022-09-04T08:15:30.607Z"
   },
   {
    "duration": 14,
    "start_time": "2022-09-04T08:15:30.614Z"
   },
   {
    "duration": 121,
    "start_time": "2022-09-04T08:16:01.091Z"
   },
   {
    "duration": 14,
    "start_time": "2022-09-04T08:16:01.214Z"
   },
   {
    "duration": 14,
    "start_time": "2022-09-04T08:16:01.230Z"
   },
   {
    "duration": 44,
    "start_time": "2022-09-04T08:16:01.255Z"
   },
   {
    "duration": 9,
    "start_time": "2022-09-04T08:16:01.301Z"
   },
   {
    "duration": 32,
    "start_time": "2022-09-04T08:16:01.312Z"
   },
   {
    "duration": 11,
    "start_time": "2022-09-04T08:16:01.345Z"
   },
   {
    "duration": 20,
    "start_time": "2022-09-04T08:16:01.358Z"
   },
   {
    "duration": 17,
    "start_time": "2022-09-04T08:16:01.379Z"
   },
   {
    "duration": 6,
    "start_time": "2022-09-04T08:16:01.397Z"
   },
   {
    "duration": 9,
    "start_time": "2022-09-04T08:16:01.404Z"
   },
   {
    "duration": 11,
    "start_time": "2022-09-04T08:16:01.414Z"
   },
   {
    "duration": 40,
    "start_time": "2022-09-04T08:16:01.427Z"
   },
   {
    "duration": 2,
    "start_time": "2022-09-04T08:16:01.470Z"
   },
   {
    "duration": 15,
    "start_time": "2022-09-04T08:16:01.473Z"
   },
   {
    "duration": 21,
    "start_time": "2022-09-04T08:16:01.489Z"
   },
   {
    "duration": 18,
    "start_time": "2022-09-04T08:16:01.511Z"
   },
   {
    "duration": 12,
    "start_time": "2022-09-04T08:16:01.531Z"
   },
   {
    "duration": 4,
    "start_time": "2022-09-04T08:16:01.544Z"
   },
   {
    "duration": 13,
    "start_time": "2022-09-04T08:16:01.550Z"
   },
   {
    "duration": 7,
    "start_time": "2022-09-04T08:16:01.565Z"
   },
   {
    "duration": 350,
    "start_time": "2022-09-04T08:16:01.573Z"
   },
   {
    "duration": 4,
    "start_time": "2022-09-04T08:16:01.925Z"
   },
   {
    "duration": 7,
    "start_time": "2022-09-04T08:16:01.930Z"
   },
   {
    "duration": 17,
    "start_time": "2022-09-04T08:16:01.938Z"
   },
   {
    "duration": 6,
    "start_time": "2022-09-04T08:16:01.956Z"
   },
   {
    "duration": 7,
    "start_time": "2022-09-04T08:16:01.963Z"
   },
   {
    "duration": 7,
    "start_time": "2022-09-04T08:16:01.971Z"
   },
   {
    "duration": 19,
    "start_time": "2022-09-04T08:16:01.979Z"
   },
   {
    "duration": 21,
    "start_time": "2022-09-04T08:16:01.999Z"
   },
   {
    "duration": 4,
    "start_time": "2022-09-04T08:16:02.021Z"
   },
   {
    "duration": 5,
    "start_time": "2022-09-04T08:16:02.026Z"
   },
   {
    "duration": 27,
    "start_time": "2022-09-04T08:16:02.032Z"
   },
   {
    "duration": 8,
    "start_time": "2022-09-04T08:16:02.061Z"
   },
   {
    "duration": 20,
    "start_time": "2022-09-04T08:16:02.070Z"
   },
   {
    "duration": 5,
    "start_time": "2022-09-04T08:16:02.092Z"
   },
   {
    "duration": 11,
    "start_time": "2022-09-04T08:16:02.098Z"
   },
   {
    "duration": 8,
    "start_time": "2022-09-04T08:16:02.110Z"
   },
   {
    "duration": 12,
    "start_time": "2022-09-04T08:16:02.120Z"
   },
   {
    "duration": 28,
    "start_time": "2022-09-04T08:16:02.134Z"
   },
   {
    "duration": 4,
    "start_time": "2022-09-04T08:16:02.167Z"
   },
   {
    "duration": 13,
    "start_time": "2022-09-04T08:16:02.172Z"
   },
   {
    "duration": 8,
    "start_time": "2022-09-04T08:16:02.186Z"
   },
   {
    "duration": 6,
    "start_time": "2022-09-04T08:16:02.196Z"
   },
   {
    "duration": 19,
    "start_time": "2022-09-04T08:16:02.203Z"
   },
   {
    "duration": 23,
    "start_time": "2022-09-04T08:16:02.223Z"
   },
   {
    "duration": 14,
    "start_time": "2022-09-04T08:16:02.248Z"
   },
   {
    "duration": 14,
    "start_time": "2022-09-04T08:16:02.263Z"
   },
   {
    "duration": 5,
    "start_time": "2022-09-04T08:16:02.278Z"
   },
   {
    "duration": 5,
    "start_time": "2022-09-04T08:16:02.284Z"
   },
   {
    "duration": 7,
    "start_time": "2022-09-04T08:16:02.290Z"
   },
   {
    "duration": 15,
    "start_time": "2022-09-04T08:16:02.298Z"
   },
   {
    "duration": 12,
    "start_time": "2022-09-04T08:16:02.314Z"
   },
   {
    "duration": 5,
    "start_time": "2022-09-04T08:16:02.327Z"
   },
   {
    "duration": 22,
    "start_time": "2022-09-04T08:16:02.333Z"
   },
   {
    "duration": 14,
    "start_time": "2022-09-04T08:16:02.357Z"
   },
   {
    "duration": 10,
    "start_time": "2022-09-04T08:16:02.373Z"
   },
   {
    "duration": 9,
    "start_time": "2022-09-04T08:16:02.385Z"
   },
   {
    "duration": 10,
    "start_time": "2022-09-04T08:16:02.395Z"
   },
   {
    "duration": 19,
    "start_time": "2022-09-04T08:16:02.407Z"
   },
   {
    "duration": 29,
    "start_time": "2022-09-04T08:16:02.427Z"
   },
   {
    "duration": 14,
    "start_time": "2022-09-04T08:16:02.457Z"
   },
   {
    "duration": 14,
    "start_time": "2022-09-04T08:16:02.472Z"
   },
   {
    "duration": 5,
    "start_time": "2022-09-04T08:16:02.487Z"
   },
   {
    "duration": 6,
    "start_time": "2022-09-04T08:16:02.493Z"
   },
   {
    "duration": 6,
    "start_time": "2022-09-04T08:16:02.500Z"
   },
   {
    "duration": 7,
    "start_time": "2022-09-04T08:16:02.508Z"
   },
   {
    "duration": 6,
    "start_time": "2022-09-04T08:16:02.516Z"
   },
   {
    "duration": 39,
    "start_time": "2022-09-04T08:16:02.523Z"
   },
   {
    "duration": 6,
    "start_time": "2022-09-04T08:16:02.563Z"
   },
   {
    "duration": 6,
    "start_time": "2022-09-04T08:16:02.570Z"
   },
   {
    "duration": 5,
    "start_time": "2022-09-04T08:16:02.577Z"
   },
   {
    "duration": 4,
    "start_time": "2022-09-04T08:16:02.584Z"
   },
   {
    "duration": 5,
    "start_time": "2022-09-04T08:16:02.589Z"
   },
   {
    "duration": 8,
    "start_time": "2022-09-04T08:16:02.595Z"
   },
   {
    "duration": 8,
    "start_time": "2022-09-04T08:16:02.605Z"
   },
   {
    "duration": 21,
    "start_time": "2022-09-04T08:16:02.614Z"
   },
   {
    "duration": 26,
    "start_time": "2022-09-04T08:16:02.637Z"
   },
   {
    "duration": 8,
    "start_time": "2022-09-04T08:16:02.664Z"
   },
   {
    "duration": 3,
    "start_time": "2022-09-04T08:16:02.673Z"
   },
   {
    "duration": 6,
    "start_time": "2022-09-04T08:16:02.677Z"
   },
   {
    "duration": 10,
    "start_time": "2022-09-04T08:16:02.684Z"
   },
   {
    "duration": 4,
    "start_time": "2022-09-04T08:16:02.695Z"
   },
   {
    "duration": 9,
    "start_time": "2022-09-04T08:16:02.701Z"
   },
   {
    "duration": 4,
    "start_time": "2022-09-04T08:16:02.712Z"
   },
   {
    "duration": 6,
    "start_time": "2022-09-04T08:16:02.718Z"
   },
   {
    "duration": 1559,
    "start_time": "2022-09-04T08:16:02.725Z"
   },
   {
    "duration": 6,
    "start_time": "2022-09-04T08:16:04.286Z"
   },
   {
    "duration": 2,
    "start_time": "2022-09-04T08:16:04.293Z"
   },
   {
    "duration": 4,
    "start_time": "2022-09-04T08:16:04.297Z"
   },
   {
    "duration": 6,
    "start_time": "2022-09-04T08:16:04.302Z"
   },
   {
    "duration": 5,
    "start_time": "2022-09-04T08:16:04.309Z"
   },
   {
    "duration": 5,
    "start_time": "2022-09-04T08:16:04.316Z"
   },
   {
    "duration": 14,
    "start_time": "2022-09-04T08:16:04.322Z"
   },
   {
    "duration": 26,
    "start_time": "2022-09-04T08:16:04.337Z"
   },
   {
    "duration": 2,
    "start_time": "2022-09-04T08:16:04.365Z"
   },
   {
    "duration": 4,
    "start_time": "2022-09-04T08:16:04.369Z"
   },
   {
    "duration": 37,
    "start_time": "2022-09-04T08:25:01.930Z"
   },
   {
    "duration": 38,
    "start_time": "2022-09-04T08:26:48.450Z"
   },
   {
    "duration": 37,
    "start_time": "2022-09-04T08:27:05.120Z"
   },
   {
    "duration": 1173,
    "start_time": "2022-09-04T08:27:42.954Z"
   },
   {
    "duration": 17,
    "start_time": "2022-09-04T08:27:56.497Z"
   },
   {
    "duration": 18,
    "start_time": "2022-09-04T08:28:17.504Z"
   },
   {
    "duration": 5,
    "start_time": "2022-09-04T08:28:42.009Z"
   },
   {
    "duration": 4,
    "start_time": "2022-09-04T08:28:43.167Z"
   },
   {
    "duration": 2,
    "start_time": "2022-09-04T08:28:48.769Z"
   },
   {
    "duration": 5,
    "start_time": "2022-09-04T08:28:49.052Z"
   },
   {
    "duration": 94,
    "start_time": "2022-09-04T08:28:54.692Z"
   },
   {
    "duration": 17,
    "start_time": "2022-09-04T08:28:54.788Z"
   },
   {
    "duration": 17,
    "start_time": "2022-09-04T08:28:54.807Z"
   },
   {
    "duration": 47,
    "start_time": "2022-09-04T08:28:54.855Z"
   },
   {
    "duration": 10,
    "start_time": "2022-09-04T08:28:54.904Z"
   },
   {
    "duration": 41,
    "start_time": "2022-09-04T08:28:54.915Z"
   },
   {
    "duration": 10,
    "start_time": "2022-09-04T08:28:54.957Z"
   },
   {
    "duration": 21,
    "start_time": "2022-09-04T08:28:54.969Z"
   },
   {
    "duration": 22,
    "start_time": "2022-09-04T08:28:54.992Z"
   },
   {
    "duration": 7,
    "start_time": "2022-09-04T08:28:55.016Z"
   },
   {
    "duration": 35,
    "start_time": "2022-09-04T08:28:55.025Z"
   },
   {
    "duration": 29,
    "start_time": "2022-09-04T08:28:55.062Z"
   },
   {
    "duration": 9,
    "start_time": "2022-09-04T08:28:55.092Z"
   },
   {
    "duration": 7,
    "start_time": "2022-09-04T08:28:55.104Z"
   },
   {
    "duration": 13,
    "start_time": "2022-09-04T08:28:55.113Z"
   },
   {
    "duration": 29,
    "start_time": "2022-09-04T08:28:55.128Z"
   },
   {
    "duration": 6,
    "start_time": "2022-09-04T08:28:55.158Z"
   },
   {
    "duration": 6,
    "start_time": "2022-09-04T08:28:55.165Z"
   },
   {
    "duration": 376,
    "start_time": "2022-09-04T08:28:55.172Z"
   },
   {
    "duration": 9,
    "start_time": "2022-09-04T08:28:55.549Z"
   },
   {
    "duration": 9,
    "start_time": "2022-09-04T08:28:55.559Z"
   },
   {
    "duration": 8,
    "start_time": "2022-09-04T08:28:55.569Z"
   },
   {
    "duration": 6,
    "start_time": "2022-09-04T08:28:55.578Z"
   },
   {
    "duration": 5,
    "start_time": "2022-09-04T08:28:55.586Z"
   },
   {
    "duration": 8,
    "start_time": "2022-09-04T08:28:55.592Z"
   },
   {
    "duration": 7,
    "start_time": "2022-09-04T08:28:55.601Z"
   },
   {
    "duration": 23,
    "start_time": "2022-09-04T08:28:55.609Z"
   },
   {
    "duration": 4,
    "start_time": "2022-09-04T08:28:55.655Z"
   },
   {
    "duration": 7,
    "start_time": "2022-09-04T08:28:55.660Z"
   },
   {
    "duration": 18,
    "start_time": "2022-09-04T08:28:55.669Z"
   },
   {
    "duration": 17,
    "start_time": "2022-09-04T08:28:55.688Z"
   },
   {
    "duration": 21,
    "start_time": "2022-09-04T08:28:55.706Z"
   },
   {
    "duration": 5,
    "start_time": "2022-09-04T08:28:55.728Z"
   },
   {
    "duration": 21,
    "start_time": "2022-09-04T08:28:55.734Z"
   },
   {
    "duration": 12,
    "start_time": "2022-09-04T08:28:55.756Z"
   },
   {
    "duration": 4,
    "start_time": "2022-09-04T08:28:55.769Z"
   },
   {
    "duration": 6,
    "start_time": "2022-09-04T08:28:55.774Z"
   },
   {
    "duration": 10,
    "start_time": "2022-09-04T08:28:55.781Z"
   },
   {
    "duration": 16,
    "start_time": "2022-09-04T08:28:55.792Z"
   },
   {
    "duration": 15,
    "start_time": "2022-09-04T08:28:55.809Z"
   },
   {
    "duration": 14,
    "start_time": "2022-09-04T08:28:55.854Z"
   },
   {
    "duration": 4,
    "start_time": "2022-09-04T08:28:55.870Z"
   },
   {
    "duration": 6,
    "start_time": "2022-09-04T08:28:55.876Z"
   },
   {
    "duration": 5,
    "start_time": "2022-09-04T08:28:55.883Z"
   },
   {
    "duration": 12,
    "start_time": "2022-09-04T08:28:55.890Z"
   },
   {
    "duration": 10,
    "start_time": "2022-09-04T08:28:55.904Z"
   },
   {
    "duration": 5,
    "start_time": "2022-09-04T08:28:55.915Z"
   },
   {
    "duration": 35,
    "start_time": "2022-09-04T08:28:55.921Z"
   },
   {
    "duration": 4,
    "start_time": "2022-09-04T08:28:55.958Z"
   },
   {
    "duration": 9,
    "start_time": "2022-09-04T08:28:55.964Z"
   },
   {
    "duration": 8,
    "start_time": "2022-09-04T08:28:55.974Z"
   },
   {
    "duration": 9,
    "start_time": "2022-09-04T08:28:55.984Z"
   },
   {
    "duration": 17,
    "start_time": "2022-09-04T08:28:55.994Z"
   },
   {
    "duration": 44,
    "start_time": "2022-09-04T08:28:56.012Z"
   },
   {
    "duration": 15,
    "start_time": "2022-09-04T08:28:56.057Z"
   },
   {
    "duration": 14,
    "start_time": "2022-09-04T08:28:56.073Z"
   },
   {
    "duration": 5,
    "start_time": "2022-09-04T08:28:56.088Z"
   },
   {
    "duration": 5,
    "start_time": "2022-09-04T08:28:56.094Z"
   },
   {
    "duration": 4,
    "start_time": "2022-09-04T08:28:56.100Z"
   },
   {
    "duration": 7,
    "start_time": "2022-09-04T08:28:56.105Z"
   },
   {
    "duration": 10,
    "start_time": "2022-09-04T08:28:56.113Z"
   },
   {
    "duration": 38,
    "start_time": "2022-09-04T08:28:56.124Z"
   },
   {
    "duration": 6,
    "start_time": "2022-09-04T08:28:56.164Z"
   },
   {
    "duration": 5,
    "start_time": "2022-09-04T08:28:56.171Z"
   },
   {
    "duration": 6,
    "start_time": "2022-09-04T08:28:56.178Z"
   },
   {
    "duration": 11,
    "start_time": "2022-09-04T08:28:56.185Z"
   },
   {
    "duration": 6,
    "start_time": "2022-09-04T08:28:56.197Z"
   },
   {
    "duration": 9,
    "start_time": "2022-09-04T08:28:56.204Z"
   },
   {
    "duration": 6,
    "start_time": "2022-09-04T08:28:56.214Z"
   },
   {
    "duration": 15,
    "start_time": "2022-09-04T08:28:56.221Z"
   },
   {
    "duration": 24,
    "start_time": "2022-09-04T08:28:56.237Z"
   },
   {
    "duration": 8,
    "start_time": "2022-09-04T08:28:56.262Z"
   },
   {
    "duration": 3,
    "start_time": "2022-09-04T08:28:56.271Z"
   },
   {
    "duration": 5,
    "start_time": "2022-09-04T08:28:56.275Z"
   },
   {
    "duration": 13,
    "start_time": "2022-09-04T08:28:56.281Z"
   },
   {
    "duration": 4,
    "start_time": "2022-09-04T08:28:56.295Z"
   },
   {
    "duration": 6,
    "start_time": "2022-09-04T08:28:56.301Z"
   },
   {
    "duration": 3,
    "start_time": "2022-09-04T08:28:56.308Z"
   },
   {
    "duration": 5,
    "start_time": "2022-09-04T08:28:56.312Z"
   },
   {
    "duration": 1666,
    "start_time": "2022-09-04T08:28:56.318Z"
   },
   {
    "duration": 7,
    "start_time": "2022-09-04T08:28:57.985Z"
   },
   {
    "duration": 2,
    "start_time": "2022-09-04T08:28:57.993Z"
   },
   {
    "duration": 4,
    "start_time": "2022-09-04T08:28:57.997Z"
   },
   {
    "duration": 5,
    "start_time": "2022-09-04T08:28:58.002Z"
   },
   {
    "duration": 6,
    "start_time": "2022-09-04T08:28:58.008Z"
   },
   {
    "duration": 4,
    "start_time": "2022-09-04T08:28:58.015Z"
   },
   {
    "duration": 9,
    "start_time": "2022-09-04T08:28:58.021Z"
   },
   {
    "duration": 27,
    "start_time": "2022-09-04T08:28:58.032Z"
   },
   {
    "duration": 2,
    "start_time": "2022-09-04T08:28:58.060Z"
   },
   {
    "duration": 5,
    "start_time": "2022-09-04T08:28:58.064Z"
   },
   {
    "duration": 9,
    "start_time": "2022-09-04T08:34:09.648Z"
   },
   {
    "duration": 9,
    "start_time": "2022-09-04T08:35:17.793Z"
   },
   {
    "duration": 9,
    "start_time": "2022-09-04T08:35:32.598Z"
   },
   {
    "duration": 10,
    "start_time": "2022-09-04T08:35:40.263Z"
   },
   {
    "duration": 9,
    "start_time": "2022-09-04T08:35:49.064Z"
   },
   {
    "duration": 10,
    "start_time": "2022-09-04T08:35:55.457Z"
   },
   {
    "duration": 8,
    "start_time": "2022-09-04T08:36:01.231Z"
   },
   {
    "duration": 7,
    "start_time": "2022-09-04T08:36:17.861Z"
   },
   {
    "duration": 10,
    "start_time": "2022-09-04T08:37:21.902Z"
   },
   {
    "duration": 6,
    "start_time": "2022-09-04T08:37:25.471Z"
   },
   {
    "duration": 9,
    "start_time": "2022-09-04T08:37:46.998Z"
   },
   {
    "duration": 174,
    "start_time": "2022-09-04T08:39:32.486Z"
   },
   {
    "duration": 13,
    "start_time": "2022-09-04T08:39:32.662Z"
   },
   {
    "duration": 12,
    "start_time": "2022-09-04T08:39:32.676Z"
   },
   {
    "duration": 77,
    "start_time": "2022-09-04T08:39:32.691Z"
   },
   {
    "duration": 11,
    "start_time": "2022-09-04T08:39:32.770Z"
   },
   {
    "duration": 10,
    "start_time": "2022-09-04T08:39:32.783Z"
   },
   {
    "duration": 9,
    "start_time": "2022-09-04T08:39:32.795Z"
   },
   {
    "duration": 19,
    "start_time": "2022-09-04T08:39:32.806Z"
   },
   {
    "duration": 19,
    "start_time": "2022-09-04T08:39:32.855Z"
   },
   {
    "duration": 7,
    "start_time": "2022-09-04T08:39:32.876Z"
   },
   {
    "duration": 7,
    "start_time": "2022-09-04T08:39:32.884Z"
   },
   {
    "duration": 26,
    "start_time": "2022-09-04T08:39:32.893Z"
   },
   {
    "duration": 39,
    "start_time": "2022-09-04T08:39:32.920Z"
   },
   {
    "duration": 7,
    "start_time": "2022-09-04T08:39:32.961Z"
   },
   {
    "duration": 13,
    "start_time": "2022-09-04T08:39:32.970Z"
   },
   {
    "duration": 5,
    "start_time": "2022-09-04T08:39:32.984Z"
   },
   {
    "duration": 7,
    "start_time": "2022-09-04T08:39:32.990Z"
   },
   {
    "duration": 20,
    "start_time": "2022-09-04T08:39:32.998Z"
   },
   {
    "duration": 352,
    "start_time": "2022-09-04T08:39:33.020Z"
   },
   {
    "duration": 5,
    "start_time": "2022-09-04T08:39:33.373Z"
   },
   {
    "duration": 9,
    "start_time": "2022-09-04T08:39:33.379Z"
   },
   {
    "duration": 6,
    "start_time": "2022-09-04T08:39:33.390Z"
   },
   {
    "duration": 6,
    "start_time": "2022-09-04T08:39:33.397Z"
   },
   {
    "duration": 4,
    "start_time": "2022-09-04T08:39:33.404Z"
   },
   {
    "duration": 6,
    "start_time": "2022-09-04T08:39:33.410Z"
   },
   {
    "duration": 6,
    "start_time": "2022-09-04T08:39:33.417Z"
   },
   {
    "duration": 45,
    "start_time": "2022-09-04T08:39:33.424Z"
   },
   {
    "duration": 5,
    "start_time": "2022-09-04T08:39:33.474Z"
   },
   {
    "duration": 4,
    "start_time": "2022-09-04T08:39:33.480Z"
   },
   {
    "duration": 17,
    "start_time": "2022-09-04T08:39:33.486Z"
   },
   {
    "duration": 6,
    "start_time": "2022-09-04T08:39:33.504Z"
   },
   {
    "duration": 50,
    "start_time": "2022-09-04T08:39:33.512Z"
   },
   {
    "duration": 5,
    "start_time": "2022-09-04T08:39:33.563Z"
   },
   {
    "duration": 6,
    "start_time": "2022-09-04T08:39:33.570Z"
   },
   {
    "duration": 12,
    "start_time": "2022-09-04T08:39:33.577Z"
   },
   {
    "duration": 4,
    "start_time": "2022-09-04T08:39:33.591Z"
   },
   {
    "duration": 6,
    "start_time": "2022-09-04T08:39:33.597Z"
   },
   {
    "duration": 6,
    "start_time": "2022-09-04T08:39:33.605Z"
   },
   {
    "duration": 46,
    "start_time": "2022-09-04T08:39:33.612Z"
   },
   {
    "duration": 14,
    "start_time": "2022-09-04T08:39:33.660Z"
   },
   {
    "duration": 13,
    "start_time": "2022-09-04T08:39:33.675Z"
   },
   {
    "duration": 5,
    "start_time": "2022-09-04T08:39:33.689Z"
   },
   {
    "duration": 5,
    "start_time": "2022-09-04T08:39:33.695Z"
   },
   {
    "duration": 5,
    "start_time": "2022-09-04T08:39:33.701Z"
   },
   {
    "duration": 12,
    "start_time": "2022-09-04T08:39:33.708Z"
   },
   {
    "duration": 35,
    "start_time": "2022-09-04T08:39:33.721Z"
   },
   {
    "duration": 6,
    "start_time": "2022-09-04T08:39:33.757Z"
   },
   {
    "duration": 5,
    "start_time": "2022-09-04T08:39:33.764Z"
   },
   {
    "duration": 7,
    "start_time": "2022-09-04T08:39:33.770Z"
   },
   {
    "duration": 10,
    "start_time": "2022-09-04T08:39:33.778Z"
   },
   {
    "duration": 7,
    "start_time": "2022-09-04T08:39:33.789Z"
   },
   {
    "duration": 8,
    "start_time": "2022-09-04T08:39:33.799Z"
   },
   {
    "duration": 47,
    "start_time": "2022-09-04T08:39:33.809Z"
   },
   {
    "duration": 14,
    "start_time": "2022-09-04T08:39:33.858Z"
   },
   {
    "duration": 15,
    "start_time": "2022-09-04T08:39:33.873Z"
   },
   {
    "duration": 15,
    "start_time": "2022-09-04T08:39:33.889Z"
   },
   {
    "duration": 6,
    "start_time": "2022-09-04T08:39:33.906Z"
   },
   {
    "duration": 11,
    "start_time": "2022-09-04T08:39:33.913Z"
   },
   {
    "duration": 30,
    "start_time": "2022-09-04T08:39:33.925Z"
   },
   {
    "duration": 9,
    "start_time": "2022-09-04T08:39:33.956Z"
   },
   {
    "duration": 7,
    "start_time": "2022-09-04T08:39:33.966Z"
   },
   {
    "duration": 17,
    "start_time": "2022-09-04T08:39:33.974Z"
   },
   {
    "duration": 6,
    "start_time": "2022-09-04T08:39:33.992Z"
   },
   {
    "duration": 5,
    "start_time": "2022-09-04T08:39:33.999Z"
   },
   {
    "duration": 5,
    "start_time": "2022-09-04T08:39:34.006Z"
   },
   {
    "duration": 4,
    "start_time": "2022-09-04T08:39:34.012Z"
   },
   {
    "duration": 4,
    "start_time": "2022-09-04T08:39:34.017Z"
   },
   {
    "duration": 4,
    "start_time": "2022-09-04T08:39:34.022Z"
   },
   {
    "duration": 5,
    "start_time": "2022-09-04T08:39:34.027Z"
   },
   {
    "duration": 13,
    "start_time": "2022-09-04T08:39:34.054Z"
   },
   {
    "duration": 10,
    "start_time": "2022-09-04T08:39:34.069Z"
   },
   {
    "duration": 9,
    "start_time": "2022-09-04T08:39:34.080Z"
   },
   {
    "duration": 3,
    "start_time": "2022-09-04T08:39:34.090Z"
   },
   {
    "duration": 6,
    "start_time": "2022-09-04T08:39:34.094Z"
   },
   {
    "duration": 12,
    "start_time": "2022-09-04T08:39:34.101Z"
   },
   {
    "duration": 4,
    "start_time": "2022-09-04T08:39:34.115Z"
   },
   {
    "duration": 35,
    "start_time": "2022-09-04T08:39:34.120Z"
   },
   {
    "duration": 3,
    "start_time": "2022-09-04T08:39:34.156Z"
   },
   {
    "duration": 7,
    "start_time": "2022-09-04T08:39:34.160Z"
   },
   {
    "duration": 1522,
    "start_time": "2022-09-04T08:39:34.169Z"
   },
   {
    "duration": 6,
    "start_time": "2022-09-04T08:39:35.693Z"
   },
   {
    "duration": 6,
    "start_time": "2022-09-04T08:39:35.704Z"
   },
   {
    "duration": 8,
    "start_time": "2022-09-04T08:39:35.711Z"
   },
   {
    "duration": 8,
    "start_time": "2022-09-04T08:39:35.720Z"
   },
   {
    "duration": 35,
    "start_time": "2022-09-04T08:39:35.729Z"
   },
   {
    "duration": 3,
    "start_time": "2022-09-04T08:39:35.765Z"
   },
   {
    "duration": 7,
    "start_time": "2022-09-04T08:39:35.769Z"
   },
   {
    "duration": 9,
    "start_time": "2022-09-04T08:40:26.180Z"
   },
   {
    "duration": 4,
    "start_time": "2022-09-04T08:42:14.119Z"
   },
   {
    "duration": 1203,
    "start_time": "2022-09-04T08:42:25.580Z"
   },
   {
    "duration": 1224,
    "start_time": "2022-09-04T08:42:44.251Z"
   },
   {
    "duration": 16,
    "start_time": "2022-09-04T08:45:00.664Z"
   },
   {
    "duration": 17,
    "start_time": "2022-09-04T08:46:20.860Z"
   },
   {
    "duration": 16,
    "start_time": "2022-09-04T08:46:44.555Z"
   },
   {
    "duration": 23,
    "start_time": "2022-09-04T08:47:08.998Z"
   },
   {
    "duration": 14,
    "start_time": "2022-09-04T08:52:58.432Z"
   },
   {
    "duration": 14,
    "start_time": "2022-09-04T08:53:05.971Z"
   },
   {
    "duration": 12,
    "start_time": "2022-09-04T08:53:16.674Z"
   },
   {
    "duration": 15,
    "start_time": "2022-09-04T09:01:59.232Z"
   },
   {
    "duration": 15,
    "start_time": "2022-09-04T09:03:02.248Z"
   },
   {
    "duration": 18,
    "start_time": "2022-09-04T09:03:14.477Z"
   },
   {
    "duration": 19,
    "start_time": "2022-09-04T09:18:43.928Z"
   },
   {
    "duration": 13,
    "start_time": "2022-09-04T09:25:05.968Z"
   },
   {
    "duration": 9,
    "start_time": "2022-09-04T09:25:23.033Z"
   },
   {
    "duration": 9,
    "start_time": "2022-09-04T09:27:45.898Z"
   },
   {
    "duration": 9,
    "start_time": "2022-09-04T09:34:49.440Z"
   },
   {
    "duration": 16,
    "start_time": "2022-09-04T09:47:13.773Z"
   },
   {
    "duration": 25,
    "start_time": "2022-09-04T09:48:22.644Z"
   },
   {
    "duration": 16,
    "start_time": "2022-09-04T09:48:38.043Z"
   },
   {
    "duration": 25,
    "start_time": "2022-09-04T09:54:07.072Z"
   },
   {
    "duration": 6,
    "start_time": "2022-09-04T09:54:19.634Z"
   },
   {
    "duration": 15,
    "start_time": "2022-09-04T09:54:34.161Z"
   },
   {
    "duration": 14,
    "start_time": "2022-09-04T09:54:40.788Z"
   },
   {
    "duration": 9,
    "start_time": "2022-09-04T09:58:15.386Z"
   },
   {
    "duration": 6,
    "start_time": "2022-09-04T09:59:30.877Z"
   },
   {
    "duration": 17,
    "start_time": "2022-09-04T10:00:38.332Z"
   },
   {
    "duration": 14,
    "start_time": "2022-09-04T10:00:58.033Z"
   },
   {
    "duration": 11,
    "start_time": "2022-09-04T10:01:29.573Z"
   },
   {
    "duration": 8,
    "start_time": "2022-09-04T10:02:48.789Z"
   },
   {
    "duration": 9,
    "start_time": "2022-09-04T10:02:59.144Z"
   },
   {
    "duration": 9,
    "start_time": "2022-09-04T10:03:08.441Z"
   },
   {
    "duration": 10,
    "start_time": "2022-09-04T10:06:22.852Z"
   },
   {
    "duration": 7,
    "start_time": "2022-09-04T10:06:28.246Z"
   },
   {
    "duration": 12,
    "start_time": "2022-09-04T10:07:15.150Z"
   },
   {
    "duration": 13,
    "start_time": "2022-09-04T10:08:25.595Z"
   },
   {
    "duration": 13,
    "start_time": "2022-09-04T10:08:40.035Z"
   },
   {
    "duration": 18,
    "start_time": "2022-09-04T10:09:13.850Z"
   },
   {
    "duration": 10,
    "start_time": "2022-09-04T10:09:21.237Z"
   },
   {
    "duration": 14,
    "start_time": "2022-09-04T10:22:59.379Z"
   },
   {
    "duration": 11,
    "start_time": "2022-09-04T10:29:15.680Z"
   },
   {
    "duration": 19,
    "start_time": "2022-09-04T10:36:25.354Z"
   },
   {
    "duration": 20,
    "start_time": "2022-09-04T10:36:41.432Z"
   },
   {
    "duration": 39,
    "start_time": "2022-09-04T10:39:28.235Z"
   },
   {
    "duration": 28,
    "start_time": "2022-09-04T10:41:55.571Z"
   },
   {
    "duration": 32,
    "start_time": "2022-09-04T10:42:09.734Z"
   },
   {
    "duration": 12,
    "start_time": "2022-09-04T10:43:30.481Z"
   },
   {
    "duration": 34,
    "start_time": "2022-09-04T10:45:20.343Z"
   },
   {
    "duration": 19,
    "start_time": "2022-09-04T10:48:11.039Z"
   },
   {
    "duration": 19,
    "start_time": "2022-09-04T10:48:30.638Z"
   },
   {
    "duration": 86,
    "start_time": "2022-09-04T10:48:58.783Z"
   },
   {
    "duration": 28,
    "start_time": "2022-09-04T10:49:08.035Z"
   },
   {
    "duration": 19,
    "start_time": "2022-09-04T10:50:11.679Z"
   },
   {
    "duration": 22,
    "start_time": "2022-09-04T10:52:03.850Z"
   },
   {
    "duration": 14,
    "start_time": "2022-09-04T10:52:12.899Z"
   },
   {
    "duration": 7,
    "start_time": "2022-09-04T11:00:10.996Z"
   },
   {
    "duration": 6,
    "start_time": "2022-09-04T11:00:21.473Z"
   },
   {
    "duration": 7,
    "start_time": "2022-09-04T11:00:34.237Z"
   },
   {
    "duration": 5,
    "start_time": "2022-09-04T11:01:52.329Z"
   },
   {
    "duration": 5,
    "start_time": "2022-09-04T11:03:10.984Z"
   },
   {
    "duration": 8,
    "start_time": "2022-09-04T11:03:35.940Z"
   },
   {
    "duration": 8,
    "start_time": "2022-09-04T11:03:44.441Z"
   },
   {
    "duration": 7,
    "start_time": "2022-09-04T11:03:49.702Z"
   },
   {
    "duration": 3,
    "start_time": "2022-09-04T11:07:11.401Z"
   },
   {
    "duration": 9,
    "start_time": "2022-09-04T11:07:45.187Z"
   },
   {
    "duration": 11,
    "start_time": "2022-09-04T11:07:52.532Z"
   },
   {
    "duration": 14,
    "start_time": "2022-09-04T11:09:05.153Z"
   },
   {
    "duration": 33,
    "start_time": "2022-09-04T11:09:10.019Z"
   },
   {
    "duration": 12,
    "start_time": "2022-09-04T11:09:31.681Z"
   },
   {
    "duration": 13,
    "start_time": "2022-09-04T11:09:51.297Z"
   },
   {
    "duration": 12,
    "start_time": "2022-09-04T11:10:25.432Z"
   },
   {
    "duration": 18,
    "start_time": "2022-09-04T11:10:34.355Z"
   },
   {
    "duration": 4,
    "start_time": "2022-09-04T11:12:31.729Z"
   },
   {
    "duration": 11,
    "start_time": "2022-09-04T11:12:32.305Z"
   },
   {
    "duration": 2,
    "start_time": "2022-09-04T11:12:33.168Z"
   },
   {
    "duration": 126,
    "start_time": "2022-09-04T17:32:22.042Z"
   },
   {
    "duration": 12,
    "start_time": "2022-09-04T17:32:22.170Z"
   },
   {
    "duration": 11,
    "start_time": "2022-09-04T17:32:22.184Z"
   },
   {
    "duration": 67,
    "start_time": "2022-09-04T17:32:22.197Z"
   },
   {
    "duration": 11,
    "start_time": "2022-09-04T17:32:22.268Z"
   },
   {
    "duration": 10,
    "start_time": "2022-09-04T17:32:22.280Z"
   },
   {
    "duration": 15,
    "start_time": "2022-09-04T17:32:22.292Z"
   },
   {
    "duration": 17,
    "start_time": "2022-09-04T17:32:22.308Z"
   },
   {
    "duration": 40,
    "start_time": "2022-09-04T17:32:22.327Z"
   },
   {
    "duration": 12,
    "start_time": "2022-09-04T17:32:22.369Z"
   },
   {
    "duration": 8,
    "start_time": "2022-09-04T17:32:22.383Z"
   },
   {
    "duration": 24,
    "start_time": "2022-09-04T17:32:22.393Z"
   },
   {
    "duration": 8,
    "start_time": "2022-09-04T17:32:22.418Z"
   },
   {
    "duration": 35,
    "start_time": "2022-09-04T17:32:22.428Z"
   },
   {
    "duration": 10,
    "start_time": "2022-09-04T17:32:22.469Z"
   },
   {
    "duration": 4,
    "start_time": "2022-09-04T17:32:22.481Z"
   },
   {
    "duration": 5,
    "start_time": "2022-09-04T17:32:22.486Z"
   },
   {
    "duration": 6,
    "start_time": "2022-09-04T17:32:22.492Z"
   },
   {
    "duration": 370,
    "start_time": "2022-09-04T17:32:22.499Z"
   },
   {
    "duration": 5,
    "start_time": "2022-09-04T17:32:22.870Z"
   },
   {
    "duration": 7,
    "start_time": "2022-09-04T17:32:22.877Z"
   },
   {
    "duration": 7,
    "start_time": "2022-09-04T17:32:22.885Z"
   },
   {
    "duration": 7,
    "start_time": "2022-09-04T17:32:22.893Z"
   },
   {
    "duration": 2,
    "start_time": "2022-09-04T17:32:22.901Z"
   },
   {
    "duration": 6,
    "start_time": "2022-09-04T17:32:22.905Z"
   },
   {
    "duration": 8,
    "start_time": "2022-09-04T17:32:22.913Z"
   },
   {
    "duration": 50,
    "start_time": "2022-09-04T17:32:22.922Z"
   },
   {
    "duration": 4,
    "start_time": "2022-09-04T17:32:22.976Z"
   },
   {
    "duration": 4,
    "start_time": "2022-09-04T17:32:22.982Z"
   },
   {
    "duration": 19,
    "start_time": "2022-09-04T17:32:22.987Z"
   },
   {
    "duration": 9,
    "start_time": "2022-09-04T17:32:23.008Z"
   },
   {
    "duration": 51,
    "start_time": "2022-09-04T17:32:23.018Z"
   },
   {
    "duration": 6,
    "start_time": "2022-09-04T17:32:23.071Z"
   },
   {
    "duration": 8,
    "start_time": "2022-09-04T17:32:23.078Z"
   },
   {
    "duration": 13,
    "start_time": "2022-09-04T17:32:23.087Z"
   },
   {
    "duration": 4,
    "start_time": "2022-09-04T17:32:23.101Z"
   },
   {
    "duration": 11,
    "start_time": "2022-09-04T17:32:23.106Z"
   },
   {
    "duration": 7,
    "start_time": "2022-09-04T17:32:23.119Z"
   },
   {
    "duration": 38,
    "start_time": "2022-09-04T17:32:23.127Z"
   },
   {
    "duration": 17,
    "start_time": "2022-09-04T17:32:23.167Z"
   },
   {
    "duration": 15,
    "start_time": "2022-09-04T17:32:23.185Z"
   },
   {
    "duration": 5,
    "start_time": "2022-09-04T17:32:23.202Z"
   },
   {
    "duration": 3,
    "start_time": "2022-09-04T17:32:23.208Z"
   },
   {
    "duration": 5,
    "start_time": "2022-09-04T17:32:23.213Z"
   },
   {
    "duration": 39,
    "start_time": "2022-09-04T17:32:23.220Z"
   },
   {
    "duration": 10,
    "start_time": "2022-09-04T17:32:23.261Z"
   },
   {
    "duration": 7,
    "start_time": "2022-09-04T17:32:23.273Z"
   },
   {
    "duration": 3,
    "start_time": "2022-09-04T17:32:23.281Z"
   },
   {
    "duration": 6,
    "start_time": "2022-09-04T17:32:23.286Z"
   },
   {
    "duration": 9,
    "start_time": "2022-09-04T17:32:23.294Z"
   },
   {
    "duration": 11,
    "start_time": "2022-09-04T17:32:23.304Z"
   },
   {
    "duration": 8,
    "start_time": "2022-09-04T17:32:23.316Z"
   },
   {
    "duration": 49,
    "start_time": "2022-09-04T17:32:23.325Z"
   },
   {
    "duration": 13,
    "start_time": "2022-09-04T17:32:23.375Z"
   },
   {
    "duration": 15,
    "start_time": "2022-09-04T17:32:23.389Z"
   },
   {
    "duration": 14,
    "start_time": "2022-09-04T17:32:23.405Z"
   },
   {
    "duration": 4,
    "start_time": "2022-09-04T17:32:23.421Z"
   },
   {
    "duration": 7,
    "start_time": "2022-09-04T17:32:23.426Z"
   },
   {
    "duration": 13,
    "start_time": "2022-09-04T17:32:23.454Z"
   },
   {
    "duration": 11,
    "start_time": "2022-09-04T17:32:23.468Z"
   },
   {
    "duration": 9,
    "start_time": "2022-09-04T17:32:23.481Z"
   },
   {
    "duration": 15,
    "start_time": "2022-09-04T17:32:23.491Z"
   },
   {
    "duration": 5,
    "start_time": "2022-09-04T17:32:23.508Z"
   },
   {
    "duration": 6,
    "start_time": "2022-09-04T17:32:23.515Z"
   },
   {
    "duration": 11,
    "start_time": "2022-09-04T17:32:23.522Z"
   },
   {
    "duration": 5,
    "start_time": "2022-09-04T17:32:23.534Z"
   },
   {
    "duration": 7,
    "start_time": "2022-09-04T17:32:23.540Z"
   },
   {
    "duration": 7,
    "start_time": "2022-09-04T17:32:23.548Z"
   },
   {
    "duration": 13,
    "start_time": "2022-09-04T17:32:23.557Z"
   },
   {
    "duration": 20,
    "start_time": "2022-09-04T17:32:23.571Z"
   },
   {
    "duration": 12,
    "start_time": "2022-09-04T17:32:23.593Z"
   },
   {
    "duration": 10,
    "start_time": "2022-09-04T17:32:23.606Z"
   },
   {
    "duration": 3,
    "start_time": "2022-09-04T17:32:23.617Z"
   },
   {
    "duration": 4,
    "start_time": "2022-09-04T17:32:23.622Z"
   },
   {
    "duration": 9,
    "start_time": "2022-09-04T17:32:23.628Z"
   },
   {
    "duration": 4,
    "start_time": "2022-09-04T17:32:23.664Z"
   },
   {
    "duration": 16,
    "start_time": "2022-09-04T17:32:23.669Z"
   },
   {
    "duration": 6,
    "start_time": "2022-09-04T17:32:23.686Z"
   },
   {
    "duration": 7,
    "start_time": "2022-09-04T17:32:23.693Z"
   },
   {
    "duration": 1594,
    "start_time": "2022-09-04T17:32:23.702Z"
   },
   {
    "duration": 6,
    "start_time": "2022-09-04T17:32:25.297Z"
   },
   {
    "duration": 11,
    "start_time": "2022-09-04T17:32:25.307Z"
   },
   {
    "duration": 16,
    "start_time": "2022-09-04T17:32:25.319Z"
   },
   {
    "duration": 33,
    "start_time": "2022-09-04T17:32:25.336Z"
   },
   {
    "duration": 14,
    "start_time": "2022-09-04T17:32:25.371Z"
   },
   {
    "duration": 16,
    "start_time": "2022-09-04T17:32:25.386Z"
   },
   {
    "duration": 0,
    "start_time": "2022-09-04T17:32:25.403Z"
   },
   {
    "duration": 0,
    "start_time": "2022-09-04T17:32:25.404Z"
   },
   {
    "duration": 0,
    "start_time": "2022-09-04T17:32:25.405Z"
   },
   {
    "duration": 0,
    "start_time": "2022-09-04T17:32:25.406Z"
   },
   {
    "duration": 0,
    "start_time": "2022-09-04T17:32:25.406Z"
   },
   {
    "duration": 0,
    "start_time": "2022-09-04T17:32:25.408Z"
   },
   {
    "duration": 0,
    "start_time": "2022-09-04T17:32:25.409Z"
   },
   {
    "duration": 93,
    "start_time": "2022-09-04T17:32:59.191Z"
   },
   {
    "duration": 15,
    "start_time": "2022-09-04T17:32:59.554Z"
   },
   {
    "duration": 14,
    "start_time": "2022-09-04T17:33:00.060Z"
   },
   {
    "duration": 45,
    "start_time": "2022-09-04T17:33:00.139Z"
   },
   {
    "duration": 8,
    "start_time": "2022-09-04T17:33:00.304Z"
   },
   {
    "duration": 9,
    "start_time": "2022-09-04T17:33:00.400Z"
   },
   {
    "duration": 10,
    "start_time": "2022-09-04T17:33:01.916Z"
   },
   {
    "duration": 17,
    "start_time": "2022-09-04T17:33:02.001Z"
   },
   {
    "duration": 18,
    "start_time": "2022-09-04T17:33:02.088Z"
   },
   {
    "duration": 8,
    "start_time": "2022-09-04T17:33:02.337Z"
   },
   {
    "duration": 7,
    "start_time": "2022-09-04T17:33:02.418Z"
   },
   {
    "duration": 23,
    "start_time": "2022-09-04T17:33:02.501Z"
   },
   {
    "duration": 10,
    "start_time": "2022-09-04T17:33:02.766Z"
   },
   {
    "duration": 8,
    "start_time": "2022-09-04T17:33:02.836Z"
   },
   {
    "duration": 10,
    "start_time": "2022-09-04T17:33:02.931Z"
   },
   {
    "duration": 6,
    "start_time": "2022-09-04T17:33:03.170Z"
   },
   {
    "duration": 6,
    "start_time": "2022-09-04T17:33:03.267Z"
   },
   {
    "duration": 6,
    "start_time": "2022-09-04T17:33:03.336Z"
   },
   {
    "duration": 347,
    "start_time": "2022-09-04T17:33:03.503Z"
   },
   {
    "duration": 13,
    "start_time": "2022-09-04T17:33:03.857Z"
   },
   {
    "duration": 9,
    "start_time": "2022-09-04T17:33:03.871Z"
   },
   {
    "duration": 7,
    "start_time": "2022-09-04T17:33:03.881Z"
   },
   {
    "duration": 7,
    "start_time": "2022-09-04T17:33:04.008Z"
   },
   {
    "duration": 3,
    "start_time": "2022-09-04T17:33:04.173Z"
   },
   {
    "duration": 5,
    "start_time": "2022-09-04T17:33:04.266Z"
   },
   {
    "duration": 6,
    "start_time": "2022-09-04T17:33:04.427Z"
   },
   {
    "duration": 20,
    "start_time": "2022-09-04T17:33:04.590Z"
   },
   {
    "duration": 10,
    "start_time": "2022-09-04T17:33:04.766Z"
   },
   {
    "duration": 3,
    "start_time": "2022-09-04T17:33:04.840Z"
   },
   {
    "duration": 29,
    "start_time": "2022-09-04T17:33:04.928Z"
   },
   {
    "duration": 8,
    "start_time": "2022-09-04T17:33:05.095Z"
   },
   {
    "duration": 21,
    "start_time": "2022-09-04T17:33:05.177Z"
   },
   {
    "duration": 5,
    "start_time": "2022-09-04T17:33:05.430Z"
   },
   {
    "duration": 4,
    "start_time": "2022-09-04T17:33:05.680Z"
   },
   {
    "duration": 12,
    "start_time": "2022-09-04T17:33:05.766Z"
   },
   {
    "duration": 5,
    "start_time": "2022-09-04T17:33:05.929Z"
   },
   {
    "duration": 4,
    "start_time": "2022-09-04T17:33:06.014Z"
   },
   {
    "duration": 5,
    "start_time": "2022-09-04T17:33:06.180Z"
   },
   {
    "duration": 16,
    "start_time": "2022-09-04T17:33:06.432Z"
   },
   {
    "duration": 22,
    "start_time": "2022-09-04T17:33:06.515Z"
   },
   {
    "duration": 16,
    "start_time": "2022-09-04T17:33:06.598Z"
   },
   {
    "duration": 5,
    "start_time": "2022-09-04T17:33:06.682Z"
   },
   {
    "duration": 2,
    "start_time": "2022-09-04T17:33:06.865Z"
   },
   {
    "duration": 4,
    "start_time": "2022-09-04T17:33:06.932Z"
   },
   {
    "duration": 12,
    "start_time": "2022-09-04T17:33:07.184Z"
   },
   {
    "duration": 12,
    "start_time": "2022-09-04T17:33:07.436Z"
   },
   {
    "duration": 7,
    "start_time": "2022-09-04T17:33:07.517Z"
   },
   {
    "duration": 3,
    "start_time": "2022-09-04T17:33:07.604Z"
   },
   {
    "duration": 3,
    "start_time": "2022-09-04T17:33:07.686Z"
   },
   {
    "duration": 10,
    "start_time": "2022-09-04T17:33:07.781Z"
   },
   {
    "duration": 9,
    "start_time": "2022-09-04T17:33:07.868Z"
   },
   {
    "duration": 11,
    "start_time": "2022-09-04T17:33:08.066Z"
   },
   {
    "duration": 19,
    "start_time": "2022-09-04T17:33:08.766Z"
   },
   {
    "duration": 14,
    "start_time": "2022-09-04T17:33:09.701Z"
   },
   {
    "duration": 14,
    "start_time": "2022-09-04T17:33:09.992Z"
   },
   {
    "duration": 17,
    "start_time": "2022-09-04T17:33:10.337Z"
   },
   {
    "duration": 6,
    "start_time": "2022-09-04T17:33:12.797Z"
   },
   {
    "duration": 5,
    "start_time": "2022-09-04T17:33:14.066Z"
   },
   {
    "duration": 2,
    "start_time": "2022-09-04T17:33:14.700Z"
   },
   {
    "duration": 6,
    "start_time": "2022-09-04T17:33:18.069Z"
   },
   {
    "duration": 2,
    "start_time": "2022-09-04T17:33:22.674Z"
   },
   {
    "duration": 18,
    "start_time": "2022-09-04T17:33:24.253Z"
   },
   {
    "duration": 7,
    "start_time": "2022-09-04T17:33:29.470Z"
   },
   {
    "duration": 7,
    "start_time": "2022-09-04T17:33:30.007Z"
   },
   {
    "duration": 6,
    "start_time": "2022-09-04T17:33:30.585Z"
   },
   {
    "duration": 4,
    "start_time": "2022-09-04T17:33:30.812Z"
   },
   {
    "duration": 3,
    "start_time": "2022-09-04T17:33:31.861Z"
   },
   {
    "duration": 2,
    "start_time": "2022-09-04T17:33:32.097Z"
   },
   {
    "duration": 2,
    "start_time": "2022-09-04T17:33:32.291Z"
   },
   {
    "duration": 13,
    "start_time": "2022-09-04T17:33:32.822Z"
   },
   {
    "duration": 10,
    "start_time": "2022-09-04T17:33:39.425Z"
   },
   {
    "duration": 9,
    "start_time": "2022-09-04T17:33:39.596Z"
   },
   {
    "duration": 3,
    "start_time": "2022-09-04T17:33:39.766Z"
   },
   {
    "duration": 3,
    "start_time": "2022-09-04T17:33:39.842Z"
   },
   {
    "duration": 8,
    "start_time": "2022-09-04T17:33:39.928Z"
   },
   {
    "duration": 5,
    "start_time": "2022-09-04T17:33:40.010Z"
   },
   {
    "duration": 5,
    "start_time": "2022-09-04T17:33:40.094Z"
   },
   {
    "duration": 3,
    "start_time": "2022-09-04T17:33:40.178Z"
   },
   {
    "duration": 4,
    "start_time": "2022-09-04T17:33:40.266Z"
   },
   {
    "duration": 1604,
    "start_time": "2022-09-04T17:33:40.346Z"
   },
   {
    "duration": 14,
    "start_time": "2022-09-04T17:33:41.954Z"
   },
   {
    "duration": 8,
    "start_time": "2022-09-04T17:33:41.970Z"
   },
   {
    "duration": 10,
    "start_time": "2022-09-04T17:33:41.979Z"
   },
   {
    "duration": 20,
    "start_time": "2022-09-04T17:33:41.990Z"
   },
   {
    "duration": 16,
    "start_time": "2022-09-04T17:33:42.011Z"
   },
   {
    "duration": 43,
    "start_time": "2022-09-04T17:33:42.028Z"
   },
   {
    "duration": 18,
    "start_time": "2022-09-04T17:33:50.066Z"
   },
   {
    "duration": 17,
    "start_time": "2022-09-04T17:34:40.437Z"
   },
   {
    "duration": 11,
    "start_time": "2022-09-04T17:35:06.720Z"
   },
   {
    "duration": 16,
    "start_time": "2022-09-04T17:35:32.204Z"
   },
   {
    "duration": 28,
    "start_time": "2022-09-04T17:35:56.408Z"
   },
   {
    "duration": 17,
    "start_time": "2022-09-04T17:36:14.983Z"
   },
   {
    "duration": 26,
    "start_time": "2022-09-04T17:36:24.314Z"
   },
   {
    "duration": 20,
    "start_time": "2022-09-04T17:37:44.658Z"
   },
   {
    "duration": 13,
    "start_time": "2022-09-04T17:39:29.011Z"
   },
   {
    "duration": 17,
    "start_time": "2022-09-04T17:39:54.398Z"
   },
   {
    "duration": 15,
    "start_time": "2022-09-04T17:40:39.962Z"
   },
   {
    "duration": 16,
    "start_time": "2022-09-04T17:44:19.988Z"
   },
   {
    "duration": 15,
    "start_time": "2022-09-04T17:44:27.862Z"
   },
   {
    "duration": 76,
    "start_time": "2022-09-04T17:44:41.032Z"
   },
   {
    "duration": 15,
    "start_time": "2022-09-04T17:44:55.609Z"
   },
   {
    "duration": 94,
    "start_time": "2022-09-04T17:45:10.895Z"
   },
   {
    "duration": 15,
    "start_time": "2022-09-04T17:45:14.305Z"
   },
   {
    "duration": 16,
    "start_time": "2022-09-04T17:45:26.912Z"
   },
   {
    "duration": 17,
    "start_time": "2022-09-04T17:45:30.737Z"
   },
   {
    "duration": 15,
    "start_time": "2022-09-04T17:46:03.074Z"
   },
   {
    "duration": 7,
    "start_time": "2022-09-04T17:46:23.758Z"
   },
   {
    "duration": 7,
    "start_time": "2022-09-04T17:46:32.024Z"
   },
   {
    "duration": 7,
    "start_time": "2022-09-04T17:46:34.806Z"
   },
   {
    "duration": 4,
    "start_time": "2022-09-04T17:46:35.089Z"
   },
   {
    "duration": 4,
    "start_time": "2022-09-04T17:46:42.895Z"
   },
   {
    "duration": 11,
    "start_time": "2022-09-04T17:46:53.722Z"
   },
   {
    "duration": 12,
    "start_time": "2022-09-04T17:47:08.544Z"
   },
   {
    "duration": 11,
    "start_time": "2022-09-04T17:47:12.617Z"
   },
   {
    "duration": 7,
    "start_time": "2022-09-04T17:47:54.408Z"
   },
   {
    "duration": 10,
    "start_time": "2022-09-04T17:49:20.712Z"
   },
   {
    "duration": 12,
    "start_time": "2022-09-04T17:50:57.982Z"
   },
   {
    "duration": 26,
    "start_time": "2022-09-04T17:51:29.763Z"
   },
   {
    "duration": 16,
    "start_time": "2022-09-04T17:51:47.426Z"
   },
   {
    "duration": 17,
    "start_time": "2022-09-04T17:52:29.404Z"
   },
   {
    "duration": 16,
    "start_time": "2022-09-04T17:52:45.350Z"
   },
   {
    "duration": 17,
    "start_time": "2022-09-04T17:52:59.208Z"
   },
   {
    "duration": 16,
    "start_time": "2022-09-04T17:53:28.129Z"
   },
   {
    "duration": 33,
    "start_time": "2022-09-04T17:53:57.360Z"
   },
   {
    "duration": 16,
    "start_time": "2022-09-04T17:54:03.229Z"
   },
   {
    "duration": 16,
    "start_time": "2022-09-04T17:54:29.045Z"
   },
   {
    "duration": 13,
    "start_time": "2022-09-04T17:54:50.079Z"
   },
   {
    "duration": 19,
    "start_time": "2022-09-04T17:57:47.592Z"
   },
   {
    "duration": 1177,
    "start_time": "2022-09-04T17:58:36.402Z"
   },
   {
    "duration": 27,
    "start_time": "2022-09-04T17:58:50.178Z"
   },
   {
    "duration": 17,
    "start_time": "2022-09-04T18:00:51.040Z"
   },
   {
    "duration": 1242,
    "start_time": "2022-09-04T18:01:52.590Z"
   },
   {
    "duration": 17,
    "start_time": "2022-09-04T18:02:14.376Z"
   },
   {
    "duration": 14,
    "start_time": "2022-09-04T18:03:00.031Z"
   },
   {
    "duration": 14,
    "start_time": "2022-09-04T18:03:08.506Z"
   },
   {
    "duration": 17,
    "start_time": "2022-09-04T18:03:15.574Z"
   },
   {
    "duration": 17,
    "start_time": "2022-09-04T18:04:36.631Z"
   },
   {
    "duration": 23,
    "start_time": "2022-09-04T18:05:20.664Z"
   },
   {
    "duration": 15,
    "start_time": "2022-09-04T18:06:10.777Z"
   },
   {
    "duration": 17,
    "start_time": "2022-09-04T18:06:38.311Z"
   },
   {
    "duration": 16,
    "start_time": "2022-09-04T18:10:00.056Z"
   },
   {
    "duration": 3,
    "start_time": "2022-09-04T18:10:15.495Z"
   },
   {
    "duration": 7,
    "start_time": "2022-09-04T18:10:20.398Z"
   },
   {
    "duration": 17,
    "start_time": "2022-09-04T18:10:21.337Z"
   },
   {
    "duration": 3,
    "start_time": "2022-09-04T18:14:39.078Z"
   },
   {
    "duration": 7,
    "start_time": "2022-09-04T18:14:39.328Z"
   },
   {
    "duration": 18,
    "start_time": "2022-09-04T18:14:39.977Z"
   },
   {
    "duration": 17,
    "start_time": "2022-09-04T18:18:24.304Z"
   },
   {
    "duration": 13,
    "start_time": "2022-09-04T18:19:19.020Z"
   },
   {
    "duration": 15,
    "start_time": "2022-09-04T18:19:23.861Z"
   },
   {
    "duration": 3,
    "start_time": "2022-09-04T18:19:27.817Z"
   },
   {
    "duration": 7,
    "start_time": "2022-09-04T18:19:28.398Z"
   },
   {
    "duration": 17,
    "start_time": "2022-09-04T18:19:39.564Z"
   },
   {
    "duration": 130,
    "start_time": "2022-09-04T18:39:25.689Z"
   },
   {
    "duration": 13,
    "start_time": "2022-09-04T18:39:25.820Z"
   },
   {
    "duration": 11,
    "start_time": "2022-09-04T18:39:25.834Z"
   },
   {
    "duration": 48,
    "start_time": "2022-09-04T18:39:25.847Z"
   },
   {
    "duration": 8,
    "start_time": "2022-09-04T18:39:25.896Z"
   },
   {
    "duration": 9,
    "start_time": "2022-09-04T18:39:25.905Z"
   },
   {
    "duration": 9,
    "start_time": "2022-09-04T18:39:25.915Z"
   },
   {
    "duration": 41,
    "start_time": "2022-09-04T18:39:25.925Z"
   },
   {
    "duration": 18,
    "start_time": "2022-09-04T18:39:25.967Z"
   },
   {
    "duration": 6,
    "start_time": "2022-09-04T18:39:25.987Z"
   },
   {
    "duration": 7,
    "start_time": "2022-09-04T18:39:25.994Z"
   },
   {
    "duration": 53,
    "start_time": "2022-09-04T18:39:26.002Z"
   },
   {
    "duration": 8,
    "start_time": "2022-09-04T18:39:26.057Z"
   },
   {
    "duration": 7,
    "start_time": "2022-09-04T18:39:26.067Z"
   },
   {
    "duration": 13,
    "start_time": "2022-09-04T18:39:26.075Z"
   },
   {
    "duration": 4,
    "start_time": "2022-09-04T18:39:26.089Z"
   },
   {
    "duration": 7,
    "start_time": "2022-09-04T18:39:26.094Z"
   },
   {
    "duration": 5,
    "start_time": "2022-09-04T18:39:26.102Z"
   },
   {
    "duration": 365,
    "start_time": "2022-09-04T18:39:26.108Z"
   },
   {
    "duration": 5,
    "start_time": "2022-09-04T18:39:26.474Z"
   },
   {
    "duration": 7,
    "start_time": "2022-09-04T18:39:26.480Z"
   },
   {
    "duration": 11,
    "start_time": "2022-09-04T18:39:26.488Z"
   },
   {
    "duration": 8,
    "start_time": "2022-09-04T18:39:26.500Z"
   },
   {
    "duration": 4,
    "start_time": "2022-09-04T18:39:26.509Z"
   },
   {
    "duration": 8,
    "start_time": "2022-09-04T18:39:26.514Z"
   },
   {
    "duration": 12,
    "start_time": "2022-09-04T18:39:26.524Z"
   },
   {
    "duration": 37,
    "start_time": "2022-09-04T18:39:26.538Z"
   },
   {
    "duration": 5,
    "start_time": "2022-09-04T18:39:26.579Z"
   },
   {
    "duration": 6,
    "start_time": "2022-09-04T18:39:26.585Z"
   },
   {
    "duration": 17,
    "start_time": "2022-09-04T18:39:26.593Z"
   },
   {
    "duration": 8,
    "start_time": "2022-09-04T18:39:26.612Z"
   },
   {
    "duration": 47,
    "start_time": "2022-09-04T18:39:26.621Z"
   },
   {
    "duration": 6,
    "start_time": "2022-09-04T18:39:26.669Z"
   },
   {
    "duration": 10,
    "start_time": "2022-09-04T18:39:26.677Z"
   },
   {
    "duration": 13,
    "start_time": "2022-09-04T18:39:26.689Z"
   },
   {
    "duration": 6,
    "start_time": "2022-09-04T18:39:26.704Z"
   },
   {
    "duration": 18,
    "start_time": "2022-09-04T18:39:26.712Z"
   },
   {
    "duration": 26,
    "start_time": "2022-09-04T18:39:26.731Z"
   },
   {
    "duration": 27,
    "start_time": "2022-09-04T18:39:26.759Z"
   },
   {
    "duration": 25,
    "start_time": "2022-09-04T18:39:26.788Z"
   },
   {
    "duration": 42,
    "start_time": "2022-09-04T18:39:26.816Z"
   },
   {
    "duration": 6,
    "start_time": "2022-09-04T18:39:26.860Z"
   },
   {
    "duration": 4,
    "start_time": "2022-09-04T18:39:26.868Z"
   },
   {
    "duration": 6,
    "start_time": "2022-09-04T18:39:26.874Z"
   },
   {
    "duration": 16,
    "start_time": "2022-09-04T18:39:26.882Z"
   },
   {
    "duration": 13,
    "start_time": "2022-09-04T18:39:26.900Z"
   },
   {
    "duration": 6,
    "start_time": "2022-09-04T18:39:26.915Z"
   },
   {
    "duration": 33,
    "start_time": "2022-09-04T18:39:26.923Z"
   },
   {
    "duration": 8,
    "start_time": "2022-09-04T18:39:26.958Z"
   },
   {
    "duration": 9,
    "start_time": "2022-09-04T18:39:26.968Z"
   },
   {
    "duration": 12,
    "start_time": "2022-09-04T18:39:26.978Z"
   },
   {
    "duration": 10,
    "start_time": "2022-09-04T18:39:26.991Z"
   },
   {
    "duration": 17,
    "start_time": "2022-09-04T18:39:27.003Z"
   },
   {
    "duration": 39,
    "start_time": "2022-09-04T18:39:27.022Z"
   },
   {
    "duration": 14,
    "start_time": "2022-09-04T18:39:27.062Z"
   },
   {
    "duration": 14,
    "start_time": "2022-09-04T18:39:27.078Z"
   },
   {
    "duration": 5,
    "start_time": "2022-09-04T18:39:27.093Z"
   },
   {
    "duration": 7,
    "start_time": "2022-09-04T18:39:27.099Z"
   },
   {
    "duration": 2,
    "start_time": "2022-09-04T18:39:27.108Z"
   },
   {
    "duration": 7,
    "start_time": "2022-09-04T18:39:27.112Z"
   },
   {
    "duration": 34,
    "start_time": "2022-09-04T18:39:27.121Z"
   },
   {
    "duration": 15,
    "start_time": "2022-09-04T18:39:27.157Z"
   },
   {
    "duration": 5,
    "start_time": "2022-09-04T18:39:27.174Z"
   },
   {
    "duration": 7,
    "start_time": "2022-09-04T18:39:27.180Z"
   },
   {
    "duration": 5,
    "start_time": "2022-09-04T18:39:27.188Z"
   },
   {
    "duration": 5,
    "start_time": "2022-09-04T18:39:27.195Z"
   },
   {
    "duration": 7,
    "start_time": "2022-09-04T18:39:27.201Z"
   },
   {
    "duration": 4,
    "start_time": "2022-09-04T18:39:27.209Z"
   },
   {
    "duration": 4,
    "start_time": "2022-09-04T18:39:27.215Z"
   },
   {
    "duration": 44,
    "start_time": "2022-09-04T18:39:27.220Z"
   },
   {
    "duration": 14,
    "start_time": "2022-09-04T18:39:27.267Z"
   },
   {
    "duration": 21,
    "start_time": "2022-09-04T18:39:27.283Z"
   },
   {
    "duration": 4,
    "start_time": "2022-09-04T18:39:27.305Z"
   },
   {
    "duration": 10,
    "start_time": "2022-09-04T18:39:27.311Z"
   },
   {
    "duration": 16,
    "start_time": "2022-09-04T18:39:27.323Z"
   },
   {
    "duration": 9,
    "start_time": "2022-09-04T18:39:27.355Z"
   },
   {
    "duration": 11,
    "start_time": "2022-09-04T18:39:27.366Z"
   },
   {
    "duration": 12,
    "start_time": "2022-09-04T18:39:27.379Z"
   },
   {
    "duration": 9,
    "start_time": "2022-09-04T18:39:27.393Z"
   },
   {
    "duration": 1556,
    "start_time": "2022-09-04T18:39:27.403Z"
   },
   {
    "duration": 5,
    "start_time": "2022-09-04T18:39:28.960Z"
   },
   {
    "duration": 7,
    "start_time": "2022-09-04T18:39:28.969Z"
   },
   {
    "duration": 8,
    "start_time": "2022-09-04T18:39:28.977Z"
   },
   {
    "duration": 17,
    "start_time": "2022-09-04T18:39:28.987Z"
   },
   {
    "duration": 49,
    "start_time": "2022-09-04T18:39:29.006Z"
   },
   {
    "duration": 3,
    "start_time": "2022-09-04T18:39:29.056Z"
   },
   {
    "duration": 9,
    "start_time": "2022-09-04T18:39:29.061Z"
   },
   {
    "duration": 17,
    "start_time": "2022-09-04T18:39:29.071Z"
   },
   {
    "duration": 18,
    "start_time": "2022-09-04T18:39:29.090Z"
   },
   {
    "duration": 91,
    "start_time": "2022-09-04T19:37:02.451Z"
   },
   {
    "duration": 17,
    "start_time": "2022-09-04T19:37:02.544Z"
   },
   {
    "duration": 17,
    "start_time": "2022-09-04T19:37:02.563Z"
   },
   {
    "duration": 83,
    "start_time": "2022-09-04T19:37:02.582Z"
   },
   {
    "duration": 8,
    "start_time": "2022-09-04T19:37:02.667Z"
   },
   {
    "duration": 12,
    "start_time": "2022-09-04T19:37:02.676Z"
   },
   {
    "duration": 9,
    "start_time": "2022-09-04T19:37:02.689Z"
   },
   {
    "duration": 16,
    "start_time": "2022-09-04T19:37:02.700Z"
   },
   {
    "duration": 41,
    "start_time": "2022-09-04T19:37:02.718Z"
   },
   {
    "duration": 5,
    "start_time": "2022-09-04T19:37:02.761Z"
   },
   {
    "duration": 7,
    "start_time": "2022-09-04T19:37:02.768Z"
   },
   {
    "duration": 22,
    "start_time": "2022-09-04T19:37:02.776Z"
   },
   {
    "duration": 10,
    "start_time": "2022-09-04T19:37:02.799Z"
   },
   {
    "duration": 43,
    "start_time": "2022-09-04T19:37:02.812Z"
   },
   {
    "duration": 10,
    "start_time": "2022-09-04T19:37:02.856Z"
   },
   {
    "duration": 5,
    "start_time": "2022-09-04T19:37:02.867Z"
   },
   {
    "duration": 6,
    "start_time": "2022-09-04T19:37:02.873Z"
   },
   {
    "duration": 5,
    "start_time": "2022-09-04T19:37:02.880Z"
   },
   {
    "duration": 380,
    "start_time": "2022-09-04T19:37:02.886Z"
   },
   {
    "duration": 5,
    "start_time": "2022-09-04T19:37:03.267Z"
   },
   {
    "duration": 6,
    "start_time": "2022-09-04T19:37:03.273Z"
   },
   {
    "duration": 7,
    "start_time": "2022-09-04T19:37:03.281Z"
   },
   {
    "duration": 7,
    "start_time": "2022-09-04T19:37:03.289Z"
   },
   {
    "duration": 3,
    "start_time": "2022-09-04T19:37:03.297Z"
   },
   {
    "duration": 6,
    "start_time": "2022-09-04T19:37:03.301Z"
   },
   {
    "duration": 8,
    "start_time": "2022-09-04T19:37:03.308Z"
   },
   {
    "duration": 50,
    "start_time": "2022-09-04T19:37:03.317Z"
   },
   {
    "duration": 5,
    "start_time": "2022-09-04T19:37:03.368Z"
   },
   {
    "duration": 10,
    "start_time": "2022-09-04T19:37:03.374Z"
   },
   {
    "duration": 17,
    "start_time": "2022-09-04T19:37:03.385Z"
   },
   {
    "duration": 7,
    "start_time": "2022-09-04T19:37:03.404Z"
   },
   {
    "duration": 43,
    "start_time": "2022-09-04T19:37:03.413Z"
   },
   {
    "duration": 5,
    "start_time": "2022-09-04T19:37:03.457Z"
   },
   {
    "duration": 6,
    "start_time": "2022-09-04T19:37:03.464Z"
   },
   {
    "duration": 12,
    "start_time": "2022-09-04T19:37:03.471Z"
   },
   {
    "duration": 4,
    "start_time": "2022-09-04T19:37:03.484Z"
   },
   {
    "duration": 6,
    "start_time": "2022-09-04T19:37:03.490Z"
   },
   {
    "duration": 7,
    "start_time": "2022-09-04T19:37:03.497Z"
   },
   {
    "duration": 15,
    "start_time": "2022-09-04T19:37:03.505Z"
   },
   {
    "duration": 18,
    "start_time": "2022-09-04T19:37:03.556Z"
   },
   {
    "duration": 14,
    "start_time": "2022-09-04T19:37:03.578Z"
   },
   {
    "duration": 5,
    "start_time": "2022-09-04T19:37:03.594Z"
   },
   {
    "duration": 6,
    "start_time": "2022-09-04T19:37:03.601Z"
   },
   {
    "duration": 9,
    "start_time": "2022-09-04T19:37:03.609Z"
   },
   {
    "duration": 39,
    "start_time": "2022-09-04T19:37:03.620Z"
   },
   {
    "duration": 11,
    "start_time": "2022-09-04T19:37:03.661Z"
   },
   {
    "duration": 6,
    "start_time": "2022-09-04T19:37:03.673Z"
   },
   {
    "duration": 5,
    "start_time": "2022-09-04T19:37:03.681Z"
   },
   {
    "duration": 8,
    "start_time": "2022-09-04T19:37:03.687Z"
   },
   {
    "duration": 15,
    "start_time": "2022-09-04T19:37:03.696Z"
   },
   {
    "duration": 10,
    "start_time": "2022-09-04T19:37:03.712Z"
   },
   {
    "duration": 42,
    "start_time": "2022-09-04T19:37:03.723Z"
   },
   {
    "duration": 19,
    "start_time": "2022-09-04T19:37:03.766Z"
   },
   {
    "duration": 13,
    "start_time": "2022-09-04T19:37:03.787Z"
   },
   {
    "duration": 14,
    "start_time": "2022-09-04T19:37:03.802Z"
   },
   {
    "duration": 48,
    "start_time": "2022-09-04T19:37:03.818Z"
   },
   {
    "duration": 16,
    "start_time": "2022-09-04T19:37:03.868Z"
   },
   {
    "duration": 8,
    "start_time": "2022-09-04T19:37:03.886Z"
   },
   {
    "duration": 3,
    "start_time": "2022-09-04T19:37:03.896Z"
   },
   {
    "duration": 6,
    "start_time": "2022-09-04T19:37:03.901Z"
   },
   {
    "duration": 3,
    "start_time": "2022-09-04T19:37:03.909Z"
   },
   {
    "duration": 20,
    "start_time": "2022-09-04T19:37:03.913Z"
   },
   {
    "duration": 23,
    "start_time": "2022-09-04T19:37:03.935Z"
   },
   {
    "duration": 7,
    "start_time": "2022-09-04T19:37:03.960Z"
   },
   {
    "duration": 6,
    "start_time": "2022-09-04T19:37:03.969Z"
   },
   {
    "duration": 5,
    "start_time": "2022-09-04T19:37:03.976Z"
   },
   {
    "duration": 6,
    "start_time": "2022-09-04T19:37:03.983Z"
   },
   {
    "duration": 8,
    "start_time": "2022-09-04T19:37:03.990Z"
   },
   {
    "duration": 7,
    "start_time": "2022-09-04T19:37:03.999Z"
   },
   {
    "duration": 15,
    "start_time": "2022-09-04T19:37:04.008Z"
   },
   {
    "duration": 33,
    "start_time": "2022-09-04T19:37:04.024Z"
   },
   {
    "duration": 9,
    "start_time": "2022-09-04T19:37:04.058Z"
   },
   {
    "duration": 4,
    "start_time": "2022-09-04T19:37:04.069Z"
   },
   {
    "duration": 4,
    "start_time": "2022-09-04T19:37:04.074Z"
   },
   {
    "duration": 9,
    "start_time": "2022-09-04T19:37:04.080Z"
   },
   {
    "duration": 4,
    "start_time": "2022-09-04T19:37:04.090Z"
   },
   {
    "duration": 5,
    "start_time": "2022-09-04T19:37:04.095Z"
   },
   {
    "duration": 3,
    "start_time": "2022-09-04T19:37:04.102Z"
   },
   {
    "duration": 5,
    "start_time": "2022-09-04T19:37:04.106Z"
   },
   {
    "duration": 92,
    "start_time": "2022-09-04T19:38:54.252Z"
   },
   {
    "duration": 11,
    "start_time": "2022-09-04T19:38:54.346Z"
   },
   {
    "duration": 10,
    "start_time": "2022-09-04T19:38:54.359Z"
   },
   {
    "duration": 43,
    "start_time": "2022-09-04T19:38:54.371Z"
   },
   {
    "duration": 7,
    "start_time": "2022-09-04T19:38:54.415Z"
   },
   {
    "duration": 36,
    "start_time": "2022-09-04T19:38:54.424Z"
   },
   {
    "duration": 9,
    "start_time": "2022-09-04T19:38:54.462Z"
   },
   {
    "duration": 17,
    "start_time": "2022-09-04T19:38:54.472Z"
   },
   {
    "duration": 15,
    "start_time": "2022-09-04T19:38:54.491Z"
   },
   {
    "duration": 6,
    "start_time": "2022-09-04T19:38:54.508Z"
   },
   {
    "duration": 6,
    "start_time": "2022-09-04T19:38:54.515Z"
   },
   {
    "duration": 55,
    "start_time": "2022-09-04T19:38:54.522Z"
   },
   {
    "duration": 8,
    "start_time": "2022-09-04T19:38:54.579Z"
   },
   {
    "duration": 9,
    "start_time": "2022-09-04T19:38:54.588Z"
   },
   {
    "duration": 22,
    "start_time": "2022-09-04T19:38:54.599Z"
   },
   {
    "duration": 4,
    "start_time": "2022-09-04T19:38:54.623Z"
   },
   {
    "duration": 27,
    "start_time": "2022-09-04T19:38:54.628Z"
   },
   {
    "duration": 7,
    "start_time": "2022-09-04T19:38:54.657Z"
   },
   {
    "duration": 348,
    "start_time": "2022-09-04T19:38:54.665Z"
   },
   {
    "duration": 6,
    "start_time": "2022-09-04T19:38:55.015Z"
   },
   {
    "duration": 9,
    "start_time": "2022-09-04T19:38:55.022Z"
   },
   {
    "duration": 7,
    "start_time": "2022-09-04T19:38:55.032Z"
   },
   {
    "duration": 7,
    "start_time": "2022-09-04T19:38:55.054Z"
   },
   {
    "duration": 3,
    "start_time": "2022-09-04T19:38:55.063Z"
   },
   {
    "duration": 5,
    "start_time": "2022-09-04T19:38:55.067Z"
   },
   {
    "duration": 7,
    "start_time": "2022-09-04T19:38:55.074Z"
   },
   {
    "duration": 20,
    "start_time": "2022-09-04T19:38:55.082Z"
   },
   {
    "duration": 4,
    "start_time": "2022-09-04T19:38:55.106Z"
   },
   {
    "duration": 8,
    "start_time": "2022-09-04T19:38:55.112Z"
   },
   {
    "duration": 18,
    "start_time": "2022-09-04T19:38:55.154Z"
   },
   {
    "duration": 10,
    "start_time": "2022-09-04T19:38:55.173Z"
   },
   {
    "duration": 20,
    "start_time": "2022-09-04T19:38:55.184Z"
   },
   {
    "duration": 4,
    "start_time": "2022-09-04T19:38:55.206Z"
   },
   {
    "duration": 7,
    "start_time": "2022-09-04T19:38:55.211Z"
   },
   {
    "duration": 43,
    "start_time": "2022-09-04T19:38:55.219Z"
   },
   {
    "duration": 4,
    "start_time": "2022-09-04T19:38:55.264Z"
   },
   {
    "duration": 7,
    "start_time": "2022-09-04T19:38:55.269Z"
   },
   {
    "duration": 7,
    "start_time": "2022-09-04T19:38:55.277Z"
   },
   {
    "duration": 15,
    "start_time": "2022-09-04T19:38:55.285Z"
   },
   {
    "duration": 16,
    "start_time": "2022-09-04T19:38:55.302Z"
   },
   {
    "duration": 43,
    "start_time": "2022-09-04T19:38:55.319Z"
   },
   {
    "duration": 6,
    "start_time": "2022-09-04T19:38:55.364Z"
   },
   {
    "duration": 3,
    "start_time": "2022-09-04T19:38:55.372Z"
   },
   {
    "duration": 6,
    "start_time": "2022-09-04T19:38:55.377Z"
   },
   {
    "duration": 12,
    "start_time": "2022-09-04T19:38:55.385Z"
   },
   {
    "duration": 12,
    "start_time": "2022-09-04T19:38:55.398Z"
   },
   {
    "duration": 5,
    "start_time": "2022-09-04T19:38:55.412Z"
   },
   {
    "duration": 3,
    "start_time": "2022-09-04T19:38:55.455Z"
   },
   {
    "duration": 8,
    "start_time": "2022-09-04T19:38:55.459Z"
   },
   {
    "duration": 9,
    "start_time": "2022-09-04T19:38:55.469Z"
   },
   {
    "duration": 11,
    "start_time": "2022-09-04T19:38:55.480Z"
   },
   {
    "duration": 8,
    "start_time": "2022-09-04T19:38:55.493Z"
   },
   {
    "duration": 19,
    "start_time": "2022-09-04T19:38:55.502Z"
   },
   {
    "duration": 39,
    "start_time": "2022-09-04T19:38:55.523Z"
   },
   {
    "duration": 13,
    "start_time": "2022-09-04T19:38:55.564Z"
   },
   {
    "duration": 15,
    "start_time": "2022-09-04T19:38:55.579Z"
   },
   {
    "duration": 5,
    "start_time": "2022-09-04T19:38:55.595Z"
   },
   {
    "duration": 8,
    "start_time": "2022-09-04T19:38:55.601Z"
   },
   {
    "duration": 5,
    "start_time": "2022-09-04T19:38:55.611Z"
   },
   {
    "duration": 39,
    "start_time": "2022-09-04T19:38:55.617Z"
   },
   {
    "duration": 2,
    "start_time": "2022-09-04T19:38:55.657Z"
   },
   {
    "duration": 19,
    "start_time": "2022-09-04T19:38:55.660Z"
   },
   {
    "duration": 6,
    "start_time": "2022-09-04T19:38:55.680Z"
   },
   {
    "duration": 6,
    "start_time": "2022-09-04T19:38:55.688Z"
   },
   {
    "duration": 6,
    "start_time": "2022-09-04T19:38:55.696Z"
   },
   {
    "duration": 5,
    "start_time": "2022-09-04T19:38:55.703Z"
   },
   {
    "duration": 45,
    "start_time": "2022-09-04T19:38:55.710Z"
   },
   {
    "duration": 1,
    "start_time": "2022-09-04T19:38:55.757Z"
   },
   {
    "duration": 5,
    "start_time": "2022-09-04T19:38:55.760Z"
   },
   {
    "duration": 16,
    "start_time": "2022-09-04T19:38:55.766Z"
   },
   {
    "duration": 10,
    "start_time": "2022-09-04T19:38:55.783Z"
   },
   {
    "duration": 10,
    "start_time": "2022-09-04T19:38:55.794Z"
   },
   {
    "duration": 3,
    "start_time": "2022-09-04T19:38:55.805Z"
   },
   {
    "duration": 4,
    "start_time": "2022-09-04T19:38:55.809Z"
   },
   {
    "duration": 9,
    "start_time": "2022-09-04T19:38:55.814Z"
   },
   {
    "duration": 31,
    "start_time": "2022-09-04T19:38:55.824Z"
   },
   {
    "duration": 4,
    "start_time": "2022-09-04T19:38:55.857Z"
   },
   {
    "duration": 4,
    "start_time": "2022-09-04T19:38:55.862Z"
   },
   {
    "duration": 5,
    "start_time": "2022-09-04T19:38:55.867Z"
   },
   {
    "duration": 1705,
    "start_time": "2022-09-04T19:38:55.874Z"
   },
   {
    "duration": 6,
    "start_time": "2022-09-04T19:38:57.580Z"
   },
   {
    "duration": 11,
    "start_time": "2022-09-04T19:38:57.591Z"
   },
   {
    "duration": 12,
    "start_time": "2022-09-04T19:38:57.604Z"
   },
   {
    "duration": 15,
    "start_time": "2022-09-04T19:38:57.617Z"
   },
   {
    "duration": 36,
    "start_time": "2022-09-04T19:38:57.633Z"
   },
   {
    "duration": 5,
    "start_time": "2022-09-04T19:38:57.671Z"
   },
   {
    "duration": 13,
    "start_time": "2022-09-04T19:38:57.677Z"
   },
   {
    "duration": 20,
    "start_time": "2022-09-04T19:38:57.691Z"
   },
   {
    "duration": 18,
    "start_time": "2022-09-04T19:38:57.713Z"
   },
   {
    "duration": 594,
    "start_time": "2022-09-05T13:00:07.082Z"
   },
   {
    "duration": 14,
    "start_time": "2022-09-05T13:00:07.678Z"
   },
   {
    "duration": 18,
    "start_time": "2022-09-05T13:00:07.693Z"
   },
   {
    "duration": 47,
    "start_time": "2022-09-05T13:00:07.713Z"
   },
   {
    "duration": 8,
    "start_time": "2022-09-05T13:00:07.762Z"
   },
   {
    "duration": 12,
    "start_time": "2022-09-05T13:00:07.784Z"
   },
   {
    "duration": 10,
    "start_time": "2022-09-05T13:00:07.797Z"
   },
   {
    "duration": 18,
    "start_time": "2022-09-05T13:00:07.808Z"
   },
   {
    "duration": 17,
    "start_time": "2022-09-05T13:00:07.828Z"
   },
   {
    "duration": 5,
    "start_time": "2022-09-05T13:00:07.848Z"
   },
   {
    "duration": 55,
    "start_time": "2022-09-05T13:00:07.854Z"
   },
   {
    "duration": 37,
    "start_time": "2022-09-05T13:00:07.911Z"
   },
   {
    "duration": 10,
    "start_time": "2022-09-05T13:00:07.949Z"
   },
   {
    "duration": 25,
    "start_time": "2022-09-05T13:00:07.960Z"
   },
   {
    "duration": 20,
    "start_time": "2022-09-05T13:00:07.986Z"
   },
   {
    "duration": 30,
    "start_time": "2022-09-05T13:00:08.008Z"
   },
   {
    "duration": 28,
    "start_time": "2022-09-05T13:00:08.039Z"
   },
   {
    "duration": 21,
    "start_time": "2022-09-05T13:00:08.068Z"
   },
   {
    "duration": 379,
    "start_time": "2022-09-05T13:00:08.091Z"
   },
   {
    "duration": 4,
    "start_time": "2022-09-05T13:00:08.472Z"
   },
   {
    "duration": 6,
    "start_time": "2022-09-05T13:00:08.484Z"
   },
   {
    "duration": 8,
    "start_time": "2022-09-05T13:00:08.492Z"
   },
   {
    "duration": 7,
    "start_time": "2022-09-05T13:00:08.501Z"
   },
   {
    "duration": 4,
    "start_time": "2022-09-05T13:00:08.510Z"
   },
   {
    "duration": 6,
    "start_time": "2022-09-05T13:00:08.515Z"
   },
   {
    "duration": 8,
    "start_time": "2022-09-05T13:00:08.522Z"
   },
   {
    "duration": 23,
    "start_time": "2022-09-05T13:00:08.531Z"
   },
   {
    "duration": 5,
    "start_time": "2022-09-05T13:00:08.584Z"
   },
   {
    "duration": 4,
    "start_time": "2022-09-05T13:00:08.591Z"
   },
   {
    "duration": 19,
    "start_time": "2022-09-05T13:00:08.596Z"
   },
   {
    "duration": 7,
    "start_time": "2022-09-05T13:00:08.617Z"
   },
   {
    "duration": 19,
    "start_time": "2022-09-05T13:00:08.625Z"
   },
   {
    "duration": 3,
    "start_time": "2022-09-05T13:00:08.646Z"
   },
   {
    "duration": 36,
    "start_time": "2022-09-05T13:00:08.651Z"
   },
   {
    "duration": 18,
    "start_time": "2022-09-05T13:00:08.689Z"
   },
   {
    "duration": 5,
    "start_time": "2022-09-05T13:00:08.708Z"
   },
   {
    "duration": 8,
    "start_time": "2022-09-05T13:00:08.714Z"
   },
   {
    "duration": 8,
    "start_time": "2022-09-05T13:00:08.723Z"
   },
   {
    "duration": 21,
    "start_time": "2022-09-05T13:00:08.732Z"
   },
   {
    "duration": 15,
    "start_time": "2022-09-05T13:00:08.754Z"
   },
   {
    "duration": 27,
    "start_time": "2022-09-05T13:00:08.771Z"
   },
   {
    "duration": 5,
    "start_time": "2022-09-05T13:00:08.799Z"
   },
   {
    "duration": 10,
    "start_time": "2022-09-05T13:00:08.806Z"
   },
   {
    "duration": 6,
    "start_time": "2022-09-05T13:00:08.818Z"
   },
   {
    "duration": 18,
    "start_time": "2022-09-05T13:00:08.826Z"
   },
   {
    "duration": 11,
    "start_time": "2022-09-05T13:00:08.846Z"
   },
   {
    "duration": 6,
    "start_time": "2022-09-05T13:00:08.858Z"
   },
   {
    "duration": 20,
    "start_time": "2022-09-05T13:00:08.866Z"
   },
   {
    "duration": 8,
    "start_time": "2022-09-05T13:00:08.887Z"
   },
   {
    "duration": 12,
    "start_time": "2022-09-05T13:00:08.896Z"
   },
   {
    "duration": 8,
    "start_time": "2022-09-05T13:00:08.910Z"
   },
   {
    "duration": 10,
    "start_time": "2022-09-05T13:00:08.920Z"
   },
   {
    "duration": 19,
    "start_time": "2022-09-05T13:00:08.931Z"
   },
   {
    "duration": 35,
    "start_time": "2022-09-05T13:00:08.951Z"
   },
   {
    "duration": 14,
    "start_time": "2022-09-05T13:00:08.988Z"
   },
   {
    "duration": 16,
    "start_time": "2022-09-05T13:00:09.003Z"
   },
   {
    "duration": 5,
    "start_time": "2022-09-05T13:00:09.020Z"
   },
   {
    "duration": 8,
    "start_time": "2022-09-05T13:00:09.026Z"
   },
   {
    "duration": 4,
    "start_time": "2022-09-05T13:00:09.035Z"
   },
   {
    "duration": 8,
    "start_time": "2022-09-05T13:00:09.040Z"
   },
   {
    "duration": 4,
    "start_time": "2022-09-05T13:00:09.049Z"
   },
   {
    "duration": 32,
    "start_time": "2022-09-05T13:00:09.054Z"
   },
   {
    "duration": 6,
    "start_time": "2022-09-05T13:00:09.088Z"
   },
   {
    "duration": 6,
    "start_time": "2022-09-05T13:00:09.095Z"
   },
   {
    "duration": 6,
    "start_time": "2022-09-05T13:00:09.102Z"
   },
   {
    "duration": 26,
    "start_time": "2022-09-05T13:00:09.109Z"
   },
   {
    "duration": 4,
    "start_time": "2022-09-05T13:00:09.136Z"
   },
   {
    "duration": 7,
    "start_time": "2022-09-05T13:00:09.142Z"
   },
   {
    "duration": 5,
    "start_time": "2022-09-05T13:00:09.150Z"
   },
   {
    "duration": 21,
    "start_time": "2022-09-05T13:00:09.156Z"
   },
   {
    "duration": 11,
    "start_time": "2022-09-05T13:00:09.178Z"
   },
   {
    "duration": 10,
    "start_time": "2022-09-05T13:00:09.190Z"
   },
   {
    "duration": 3,
    "start_time": "2022-09-05T13:00:09.202Z"
   },
   {
    "duration": 912,
    "start_time": "2022-09-05T13:00:09.206Z"
   },
   {
    "duration": 1069,
    "start_time": "2022-09-05T13:00:10.120Z"
   },
   {
    "duration": 4,
    "start_time": "2022-09-05T13:00:11.191Z"
   },
   {
    "duration": 14,
    "start_time": "2022-09-05T13:00:11.196Z"
   },
   {
    "duration": 8,
    "start_time": "2022-09-05T13:00:11.211Z"
   },
   {
    "duration": 7,
    "start_time": "2022-09-05T13:00:11.220Z"
   },
   {
    "duration": 1592,
    "start_time": "2022-09-05T13:00:11.228Z"
   },
   {
    "duration": 8,
    "start_time": "2022-09-05T13:00:12.821Z"
   },
   {
    "duration": 16,
    "start_time": "2022-09-05T13:00:12.834Z"
   },
   {
    "duration": 12,
    "start_time": "2022-09-05T13:00:12.851Z"
   },
   {
    "duration": 14,
    "start_time": "2022-09-05T13:00:12.864Z"
   },
   {
    "duration": 21,
    "start_time": "2022-09-05T13:00:12.880Z"
   },
   {
    "duration": 10,
    "start_time": "2022-09-05T13:00:12.903Z"
   },
   {
    "duration": 10,
    "start_time": "2022-09-05T13:00:12.915Z"
   },
   {
    "duration": 25,
    "start_time": "2022-09-05T13:00:12.927Z"
   },
   {
    "duration": 14,
    "start_time": "2022-09-05T13:00:12.954Z"
   },
   {
    "duration": 129,
    "start_time": "2022-09-05T13:04:37.361Z"
   },
   {
    "duration": 14,
    "start_time": "2022-09-05T13:04:37.492Z"
   },
   {
    "duration": 12,
    "start_time": "2022-09-05T13:04:37.507Z"
   },
   {
    "duration": 49,
    "start_time": "2022-09-05T13:04:37.521Z"
   },
   {
    "duration": 19,
    "start_time": "2022-09-05T13:04:37.572Z"
   },
   {
    "duration": 9,
    "start_time": "2022-09-05T13:04:37.592Z"
   },
   {
    "duration": 15,
    "start_time": "2022-09-05T13:04:37.603Z"
   },
   {
    "duration": 18,
    "start_time": "2022-09-05T13:04:37.620Z"
   },
   {
    "duration": 17,
    "start_time": "2022-09-05T13:04:37.640Z"
   },
   {
    "duration": 7,
    "start_time": "2022-09-05T13:04:37.685Z"
   },
   {
    "duration": 5,
    "start_time": "2022-09-05T13:04:37.693Z"
   },
   {
    "duration": 13,
    "start_time": "2022-09-05T13:04:37.699Z"
   },
   {
    "duration": 12,
    "start_time": "2022-09-05T13:04:37.713Z"
   },
   {
    "duration": 58,
    "start_time": "2022-09-05T13:04:37.727Z"
   },
   {
    "duration": 8,
    "start_time": "2022-09-05T13:04:37.786Z"
   },
   {
    "duration": 9,
    "start_time": "2022-09-05T13:04:37.795Z"
   },
   {
    "duration": 11,
    "start_time": "2022-09-05T13:04:37.805Z"
   },
   {
    "duration": 6,
    "start_time": "2022-09-05T13:04:37.818Z"
   },
   {
    "duration": 8,
    "start_time": "2022-09-05T13:04:37.825Z"
   },
   {
    "duration": 7,
    "start_time": "2022-09-05T13:04:37.835Z"
   },
   {
    "duration": 379,
    "start_time": "2022-09-05T13:04:37.843Z"
   },
   {
    "duration": 5,
    "start_time": "2022-09-05T13:04:38.223Z"
   },
   {
    "duration": 9,
    "start_time": "2022-09-05T13:04:38.230Z"
   },
   {
    "duration": 8,
    "start_time": "2022-09-05T13:04:38.240Z"
   },
   {
    "duration": 6,
    "start_time": "2022-09-05T13:04:38.250Z"
   },
   {
    "duration": 3,
    "start_time": "2022-09-05T13:04:38.257Z"
   },
   {
    "duration": 5,
    "start_time": "2022-09-05T13:04:38.284Z"
   },
   {
    "duration": 9,
    "start_time": "2022-09-05T13:04:38.290Z"
   },
   {
    "duration": 19,
    "start_time": "2022-09-05T13:04:38.300Z"
   },
   {
    "duration": 4,
    "start_time": "2022-09-05T13:04:38.320Z"
   },
   {
    "duration": 4,
    "start_time": "2022-09-05T13:04:38.325Z"
   },
   {
    "duration": 22,
    "start_time": "2022-09-05T13:04:38.330Z"
   },
   {
    "duration": 34,
    "start_time": "2022-09-05T13:04:38.354Z"
   },
   {
    "duration": 21,
    "start_time": "2022-09-05T13:04:38.390Z"
   },
   {
    "duration": 5,
    "start_time": "2022-09-05T13:04:38.412Z"
   },
   {
    "duration": 7,
    "start_time": "2022-09-05T13:04:38.418Z"
   },
   {
    "duration": 13,
    "start_time": "2022-09-05T13:04:38.426Z"
   },
   {
    "duration": 5,
    "start_time": "2022-09-05T13:04:38.440Z"
   },
   {
    "duration": 9,
    "start_time": "2022-09-05T13:04:38.446Z"
   },
   {
    "duration": 5,
    "start_time": "2022-09-05T13:04:38.485Z"
   },
   {
    "duration": 16,
    "start_time": "2022-09-05T13:04:38.493Z"
   },
   {
    "duration": 15,
    "start_time": "2022-09-05T13:04:38.510Z"
   },
   {
    "duration": 13,
    "start_time": "2022-09-05T13:04:38.527Z"
   },
   {
    "duration": 5,
    "start_time": "2022-09-05T13:04:38.541Z"
   },
   {
    "duration": 6,
    "start_time": "2022-09-05T13:04:38.547Z"
   },
   {
    "duration": 3,
    "start_time": "2022-09-05T13:04:38.585Z"
   },
   {
    "duration": 16,
    "start_time": "2022-09-05T13:04:38.589Z"
   },
   {
    "duration": 9,
    "start_time": "2022-09-05T13:04:38.606Z"
   },
   {
    "duration": 5,
    "start_time": "2022-09-05T13:04:38.617Z"
   },
   {
    "duration": 3,
    "start_time": "2022-09-05T13:04:38.623Z"
   },
   {
    "duration": 7,
    "start_time": "2022-09-05T13:04:38.628Z"
   },
   {
    "duration": 11,
    "start_time": "2022-09-05T13:04:38.636Z"
   },
   {
    "duration": 10,
    "start_time": "2022-09-05T13:04:38.649Z"
   },
   {
    "duration": 37,
    "start_time": "2022-09-05T13:04:38.660Z"
   },
   {
    "duration": 18,
    "start_time": "2022-09-05T13:04:38.698Z"
   },
   {
    "duration": 14,
    "start_time": "2022-09-05T13:04:38.717Z"
   },
   {
    "duration": 15,
    "start_time": "2022-09-05T13:04:38.732Z"
   },
   {
    "duration": 42,
    "start_time": "2022-09-05T13:04:38.748Z"
   },
   {
    "duration": 5,
    "start_time": "2022-09-05T13:04:38.791Z"
   },
   {
    "duration": 6,
    "start_time": "2022-09-05T13:04:38.798Z"
   },
   {
    "duration": 9,
    "start_time": "2022-09-05T13:04:38.806Z"
   },
   {
    "duration": 8,
    "start_time": "2022-09-05T13:04:38.816Z"
   },
   {
    "duration": 4,
    "start_time": "2022-09-05T13:04:38.825Z"
   },
   {
    "duration": 16,
    "start_time": "2022-09-05T13:04:38.831Z"
   },
   {
    "duration": 6,
    "start_time": "2022-09-05T13:04:38.848Z"
   },
   {
    "duration": 7,
    "start_time": "2022-09-05T13:04:38.856Z"
   },
   {
    "duration": 24,
    "start_time": "2022-09-05T13:04:38.864Z"
   },
   {
    "duration": 3,
    "start_time": "2022-09-05T13:04:38.890Z"
   },
   {
    "duration": 5,
    "start_time": "2022-09-05T13:04:38.894Z"
   },
   {
    "duration": 7,
    "start_time": "2022-09-05T13:04:38.900Z"
   },
   {
    "duration": 7,
    "start_time": "2022-09-05T13:04:38.908Z"
   },
   {
    "duration": 14,
    "start_time": "2022-09-05T13:04:38.917Z"
   },
   {
    "duration": 10,
    "start_time": "2022-09-05T13:04:38.933Z"
   },
   {
    "duration": 9,
    "start_time": "2022-09-05T13:04:38.944Z"
   },
   {
    "duration": 2,
    "start_time": "2022-09-05T13:04:38.955Z"
   },
   {
    "duration": 2,
    "start_time": "2022-09-05T13:04:38.985Z"
   },
   {
    "duration": 11,
    "start_time": "2022-09-05T13:04:38.989Z"
   },
   {
    "duration": 5,
    "start_time": "2022-09-05T13:04:39.001Z"
   },
   {
    "duration": 10,
    "start_time": "2022-09-05T13:04:39.008Z"
   },
   {
    "duration": 4,
    "start_time": "2022-09-05T13:04:39.020Z"
   },
   {
    "duration": 6,
    "start_time": "2022-09-05T13:04:39.025Z"
   },
   {
    "duration": 2093,
    "start_time": "2022-09-05T13:04:39.032Z"
   },
   {
    "duration": 5,
    "start_time": "2022-09-05T13:04:41.126Z"
   },
   {
    "duration": 7,
    "start_time": "2022-09-05T13:04:41.185Z"
   },
   {
    "duration": 8,
    "start_time": "2022-09-05T13:04:41.194Z"
   },
   {
    "duration": 14,
    "start_time": "2022-09-05T13:04:41.203Z"
   },
   {
    "duration": 71,
    "start_time": "2022-09-05T13:04:41.218Z"
   },
   {
    "duration": 3,
    "start_time": "2022-09-05T13:04:41.290Z"
   },
   {
    "duration": 12,
    "start_time": "2022-09-05T13:04:41.294Z"
   },
   {
    "duration": 19,
    "start_time": "2022-09-05T13:04:41.308Z"
   },
   {
    "duration": 66,
    "start_time": "2022-09-05T13:04:41.329Z"
   },
   {
    "duration": 107,
    "start_time": "2022-09-05T13:09:54.950Z"
   },
   {
    "duration": 8,
    "start_time": "2022-09-05T13:09:58.375Z"
   },
   {
    "duration": 155,
    "start_time": "2022-09-05T13:10:08.786Z"
   },
   {
    "duration": 12,
    "start_time": "2022-09-05T13:10:08.942Z"
   },
   {
    "duration": 13,
    "start_time": "2022-09-05T13:10:08.956Z"
   },
   {
    "duration": 63,
    "start_time": "2022-09-05T13:10:08.970Z"
   },
   {
    "duration": 7,
    "start_time": "2022-09-05T13:10:09.034Z"
   },
   {
    "duration": 28,
    "start_time": "2022-09-05T13:10:09.043Z"
   },
   {
    "duration": 15,
    "start_time": "2022-09-05T13:10:09.072Z"
   },
   {
    "duration": 19,
    "start_time": "2022-09-05T13:10:09.088Z"
   },
   {
    "duration": 22,
    "start_time": "2022-09-05T13:10:09.109Z"
   },
   {
    "duration": 11,
    "start_time": "2022-09-05T13:10:09.132Z"
   },
   {
    "duration": 25,
    "start_time": "2022-09-05T13:10:09.144Z"
   },
   {
    "duration": 22,
    "start_time": "2022-09-05T13:10:09.170Z"
   },
   {
    "duration": 16,
    "start_time": "2022-09-05T13:10:09.193Z"
   },
   {
    "duration": 34,
    "start_time": "2022-09-05T13:10:09.212Z"
   },
   {
    "duration": 8,
    "start_time": "2022-09-05T13:10:09.248Z"
   },
   {
    "duration": 28,
    "start_time": "2022-09-05T13:10:09.257Z"
   },
   {
    "duration": 46,
    "start_time": "2022-09-05T13:10:09.287Z"
   },
   {
    "duration": 25,
    "start_time": "2022-09-05T13:10:09.334Z"
   },
   {
    "duration": 26,
    "start_time": "2022-09-05T13:10:09.361Z"
   },
   {
    "duration": 23,
    "start_time": "2022-09-05T13:10:09.388Z"
   },
   {
    "duration": 6,
    "start_time": "2022-09-05T13:10:10.733Z"
   },
   {
    "duration": 97,
    "start_time": "2022-09-05T13:10:31.586Z"
   },
   {
    "duration": 12,
    "start_time": "2022-09-05T13:10:31.685Z"
   },
   {
    "duration": 22,
    "start_time": "2022-09-05T13:10:31.698Z"
   },
   {
    "duration": 40,
    "start_time": "2022-09-05T13:10:31.722Z"
   },
   {
    "duration": 7,
    "start_time": "2022-09-05T13:10:31.764Z"
   },
   {
    "duration": 21,
    "start_time": "2022-09-05T13:10:31.773Z"
   },
   {
    "duration": 9,
    "start_time": "2022-09-05T13:10:31.795Z"
   },
   {
    "duration": 16,
    "start_time": "2022-09-05T13:10:31.806Z"
   },
   {
    "duration": 17,
    "start_time": "2022-09-05T13:10:31.824Z"
   },
   {
    "duration": 6,
    "start_time": "2022-09-05T13:10:31.842Z"
   },
   {
    "duration": 36,
    "start_time": "2022-09-05T13:10:31.849Z"
   },
   {
    "duration": 13,
    "start_time": "2022-09-05T13:10:31.886Z"
   },
   {
    "duration": 12,
    "start_time": "2022-09-05T13:10:31.900Z"
   },
   {
    "duration": 26,
    "start_time": "2022-09-05T13:10:31.914Z"
   },
   {
    "duration": 10,
    "start_time": "2022-09-05T13:10:31.942Z"
   },
   {
    "duration": 39,
    "start_time": "2022-09-05T13:10:31.954Z"
   },
   {
    "duration": 14,
    "start_time": "2022-09-05T13:10:31.995Z"
   },
   {
    "duration": 6,
    "start_time": "2022-09-05T13:10:32.011Z"
   },
   {
    "duration": 9,
    "start_time": "2022-09-05T13:10:32.018Z"
   },
   {
    "duration": 8,
    "start_time": "2022-09-05T13:10:32.028Z"
   },
   {
    "duration": 9,
    "start_time": "2022-09-05T13:10:34.092Z"
   },
   {
    "duration": 84,
    "start_time": "2022-09-05T13:10:45.608Z"
   },
   {
    "duration": 12,
    "start_time": "2022-09-05T13:10:45.694Z"
   },
   {
    "duration": 11,
    "start_time": "2022-09-05T13:10:45.708Z"
   },
   {
    "duration": 42,
    "start_time": "2022-09-05T13:10:45.721Z"
   },
   {
    "duration": 24,
    "start_time": "2022-09-05T13:10:45.764Z"
   },
   {
    "duration": 14,
    "start_time": "2022-09-05T13:10:45.789Z"
   },
   {
    "duration": 11,
    "start_time": "2022-09-05T13:10:45.805Z"
   },
   {
    "duration": 18,
    "start_time": "2022-09-05T13:10:45.817Z"
   },
   {
    "duration": 17,
    "start_time": "2022-09-05T13:10:45.836Z"
   },
   {
    "duration": 6,
    "start_time": "2022-09-05T13:10:45.855Z"
   },
   {
    "duration": 27,
    "start_time": "2022-09-05T13:10:45.862Z"
   },
   {
    "duration": 12,
    "start_time": "2022-09-05T13:10:45.891Z"
   },
   {
    "duration": 23,
    "start_time": "2022-09-05T13:10:45.905Z"
   },
   {
    "duration": 24,
    "start_time": "2022-09-05T13:10:45.929Z"
   },
   {
    "duration": 31,
    "start_time": "2022-09-05T13:10:45.955Z"
   },
   {
    "duration": 9,
    "start_time": "2022-09-05T13:10:45.987Z"
   },
   {
    "duration": 13,
    "start_time": "2022-09-05T13:10:45.997Z"
   },
   {
    "duration": 4,
    "start_time": "2022-09-05T13:10:46.012Z"
   },
   {
    "duration": 13,
    "start_time": "2022-09-05T13:10:46.017Z"
   },
   {
    "duration": 12,
    "start_time": "2022-09-05T13:10:46.032Z"
   },
   {
    "duration": 6,
    "start_time": "2022-09-05T13:10:47.913Z"
   },
   {
    "duration": 3,
    "start_time": "2022-09-05T13:21:24.980Z"
   },
   {
    "duration": 10,
    "start_time": "2022-09-05T13:23:11.295Z"
   },
   {
    "duration": 12,
    "start_time": "2022-09-05T13:23:15.142Z"
   },
   {
    "duration": 152,
    "start_time": "2022-09-05T13:23:21.428Z"
   },
   {
    "duration": 17,
    "start_time": "2022-09-05T13:23:21.583Z"
   },
   {
    "duration": 16,
    "start_time": "2022-09-05T13:23:21.602Z"
   },
   {
    "duration": 52,
    "start_time": "2022-09-05T13:23:21.620Z"
   },
   {
    "duration": 14,
    "start_time": "2022-09-05T13:23:21.684Z"
   },
   {
    "duration": 18,
    "start_time": "2022-09-05T13:23:21.700Z"
   },
   {
    "duration": 21,
    "start_time": "2022-09-05T13:23:21.720Z"
   },
   {
    "duration": 20,
    "start_time": "2022-09-05T13:23:21.743Z"
   },
   {
    "duration": 30,
    "start_time": "2022-09-05T13:23:21.786Z"
   },
   {
    "duration": 6,
    "start_time": "2022-09-05T13:23:21.819Z"
   },
   {
    "duration": 11,
    "start_time": "2022-09-05T13:23:21.826Z"
   },
   {
    "duration": 48,
    "start_time": "2022-09-05T13:23:21.838Z"
   },
   {
    "duration": 15,
    "start_time": "2022-09-05T13:23:21.887Z"
   },
   {
    "duration": 28,
    "start_time": "2022-09-05T13:23:21.904Z"
   },
   {
    "duration": 9,
    "start_time": "2022-09-05T13:23:21.934Z"
   },
   {
    "duration": 46,
    "start_time": "2022-09-05T13:23:21.945Z"
   },
   {
    "duration": 12,
    "start_time": "2022-09-05T13:23:21.992Z"
   },
   {
    "duration": 6,
    "start_time": "2022-09-05T13:23:22.005Z"
   },
   {
    "duration": 10,
    "start_time": "2022-09-05T13:23:22.012Z"
   },
   {
    "duration": 6,
    "start_time": "2022-09-05T13:23:22.024Z"
   },
   {
    "duration": 453,
    "start_time": "2022-09-05T13:23:22.032Z"
   },
   {
    "duration": 5,
    "start_time": "2022-09-05T13:23:22.487Z"
   },
   {
    "duration": 13,
    "start_time": "2022-09-05T13:23:22.494Z"
   },
   {
    "duration": 16,
    "start_time": "2022-09-05T13:23:22.509Z"
   },
   {
    "duration": 7,
    "start_time": "2022-09-05T13:23:22.527Z"
   },
   {
    "duration": 7,
    "start_time": "2022-09-05T13:23:22.535Z"
   },
   {
    "duration": 9,
    "start_time": "2022-09-05T13:23:22.543Z"
   },
   {
    "duration": 35,
    "start_time": "2022-09-05T13:23:22.557Z"
   },
   {
    "duration": 28,
    "start_time": "2022-09-05T13:23:22.594Z"
   },
   {
    "duration": 5,
    "start_time": "2022-09-05T13:23:22.624Z"
   },
   {
    "duration": 14,
    "start_time": "2022-09-05T13:23:22.631Z"
   },
   {
    "duration": 28,
    "start_time": "2022-09-05T13:23:22.646Z"
   },
   {
    "duration": 22,
    "start_time": "2022-09-05T13:23:22.676Z"
   },
   {
    "duration": 30,
    "start_time": "2022-09-05T13:23:22.700Z"
   },
   {
    "duration": 5,
    "start_time": "2022-09-05T13:23:22.732Z"
   },
   {
    "duration": 10,
    "start_time": "2022-09-05T13:23:22.739Z"
   },
   {
    "duration": 47,
    "start_time": "2022-09-05T13:23:22.750Z"
   },
   {
    "duration": 6,
    "start_time": "2022-09-05T13:23:22.800Z"
   },
   {
    "duration": 9,
    "start_time": "2022-09-05T13:23:22.809Z"
   },
   {
    "duration": 6,
    "start_time": "2022-09-05T13:23:22.820Z"
   },
   {
    "duration": 21,
    "start_time": "2022-09-05T13:23:22.828Z"
   },
   {
    "duration": 45,
    "start_time": "2022-09-05T13:23:22.851Z"
   },
   {
    "duration": 18,
    "start_time": "2022-09-05T13:23:22.898Z"
   },
   {
    "duration": 12,
    "start_time": "2022-09-05T13:23:22.918Z"
   },
   {
    "duration": 11,
    "start_time": "2022-09-05T13:23:22.932Z"
   },
   {
    "duration": 13,
    "start_time": "2022-09-05T13:23:22.945Z"
   },
   {
    "duration": 34,
    "start_time": "2022-09-05T13:23:22.960Z"
   },
   {
    "duration": 15,
    "start_time": "2022-09-05T13:23:22.995Z"
   },
   {
    "duration": 44,
    "start_time": "2022-09-05T13:23:23.011Z"
   },
   {
    "duration": 15,
    "start_time": "2022-09-05T13:23:23.056Z"
   },
   {
    "duration": 15,
    "start_time": "2022-09-05T13:23:23.072Z"
   },
   {
    "duration": 15,
    "start_time": "2022-09-05T13:23:23.088Z"
   },
   {
    "duration": 20,
    "start_time": "2022-09-05T13:23:23.104Z"
   },
   {
    "duration": 16,
    "start_time": "2022-09-05T13:23:23.127Z"
   },
   {
    "duration": 49,
    "start_time": "2022-09-05T13:23:23.145Z"
   },
   {
    "duration": 17,
    "start_time": "2022-09-05T13:23:23.195Z"
   },
   {
    "duration": 18,
    "start_time": "2022-09-05T13:23:23.214Z"
   },
   {
    "duration": 60,
    "start_time": "2022-09-05T13:23:23.234Z"
   },
   {
    "duration": 8,
    "start_time": "2022-09-05T13:23:23.296Z"
   },
   {
    "duration": 15,
    "start_time": "2022-09-05T13:23:23.306Z"
   },
   {
    "duration": 12,
    "start_time": "2022-09-05T13:23:23.323Z"
   },
   {
    "duration": 12,
    "start_time": "2022-09-05T13:23:23.338Z"
   },
   {
    "duration": 7,
    "start_time": "2022-09-05T13:23:23.353Z"
   },
   {
    "duration": 24,
    "start_time": "2022-09-05T13:23:23.363Z"
   },
   {
    "duration": 8,
    "start_time": "2022-09-05T13:23:23.389Z"
   },
   {
    "duration": 12,
    "start_time": "2022-09-05T13:23:23.399Z"
   },
   {
    "duration": 8,
    "start_time": "2022-09-05T13:23:23.413Z"
   },
   {
    "duration": 13,
    "start_time": "2022-09-05T13:23:23.423Z"
   },
   {
    "duration": 13,
    "start_time": "2022-09-05T13:23:23.437Z"
   },
   {
    "duration": 12,
    "start_time": "2022-09-05T13:23:23.451Z"
   },
   {
    "duration": 11,
    "start_time": "2022-09-05T13:23:23.464Z"
   },
   {
    "duration": 27,
    "start_time": "2022-09-05T13:23:23.476Z"
   },
   {
    "duration": 11,
    "start_time": "2022-09-05T13:23:23.504Z"
   },
   {
    "duration": 29,
    "start_time": "2022-09-05T13:23:23.517Z"
   },
   {
    "duration": 4,
    "start_time": "2022-09-05T13:23:23.548Z"
   },
   {
    "duration": 17,
    "start_time": "2022-09-05T13:23:23.554Z"
   },
   {
    "duration": 21,
    "start_time": "2022-09-05T13:23:23.573Z"
   },
   {
    "duration": 12,
    "start_time": "2022-09-05T13:23:23.597Z"
   },
   {
    "duration": 15,
    "start_time": "2022-09-05T13:23:23.610Z"
   },
   {
    "duration": 7,
    "start_time": "2022-09-05T13:23:23.627Z"
   },
   {
    "duration": 12,
    "start_time": "2022-09-05T13:23:23.637Z"
   },
   {
    "duration": 1935,
    "start_time": "2022-09-05T13:23:23.658Z"
   },
   {
    "duration": 5,
    "start_time": "2022-09-05T13:23:25.595Z"
   },
   {
    "duration": 15,
    "start_time": "2022-09-05T13:23:25.602Z"
   },
   {
    "duration": 18,
    "start_time": "2022-09-05T13:23:25.620Z"
   },
   {
    "duration": 54,
    "start_time": "2022-09-05T13:23:25.639Z"
   },
   {
    "duration": 23,
    "start_time": "2022-09-05T13:23:25.695Z"
   },
   {
    "duration": 10,
    "start_time": "2022-09-05T13:23:25.720Z"
   },
   {
    "duration": 15,
    "start_time": "2022-09-05T13:23:25.786Z"
   },
   {
    "duration": 17,
    "start_time": "2022-09-05T13:23:25.803Z"
   },
   {
    "duration": 82,
    "start_time": "2022-09-05T13:23:25.823Z"
   },
   {
    "duration": 5,
    "start_time": "2022-09-05T13:23:25.908Z"
   },
   {
    "duration": 14,
    "start_time": "2022-09-05T13:23:25.914Z"
   },
   {
    "duration": 71,
    "start_time": "2022-09-05T13:23:25.930Z"
   },
   {
    "duration": 18,
    "start_time": "2022-09-05T13:23:26.003Z"
   },
   {
    "duration": 694,
    "start_time": "2022-09-05T14:26:15.365Z"
   },
   {
    "duration": 18,
    "start_time": "2022-09-05T14:26:16.061Z"
   },
   {
    "duration": 36,
    "start_time": "2022-09-05T14:26:16.081Z"
   },
   {
    "duration": 65,
    "start_time": "2022-09-05T14:26:16.119Z"
   },
   {
    "duration": 14,
    "start_time": "2022-09-05T14:26:16.186Z"
   },
   {
    "duration": 13,
    "start_time": "2022-09-05T14:26:16.201Z"
   },
   {
    "duration": 10,
    "start_time": "2022-09-05T14:26:16.215Z"
   },
   {
    "duration": 42,
    "start_time": "2022-09-05T14:26:16.227Z"
   },
   {
    "duration": 27,
    "start_time": "2022-09-05T14:26:16.272Z"
   },
   {
    "duration": 7,
    "start_time": "2022-09-05T14:26:16.302Z"
   },
   {
    "duration": 8,
    "start_time": "2022-09-05T14:26:16.311Z"
   },
   {
    "duration": 14,
    "start_time": "2022-09-05T14:26:16.321Z"
   },
   {
    "duration": 19,
    "start_time": "2022-09-05T14:26:16.368Z"
   },
   {
    "duration": 30,
    "start_time": "2022-09-05T14:26:16.389Z"
   },
   {
    "duration": 48,
    "start_time": "2022-09-05T14:26:16.421Z"
   },
   {
    "duration": 13,
    "start_time": "2022-09-05T14:26:16.472Z"
   },
   {
    "duration": 31,
    "start_time": "2022-09-05T14:26:16.487Z"
   },
   {
    "duration": 13,
    "start_time": "2022-09-05T14:26:16.520Z"
   },
   {
    "duration": 11,
    "start_time": "2022-09-05T14:26:16.535Z"
   },
   {
    "duration": 24,
    "start_time": "2022-09-05T14:26:16.548Z"
   },
   {
    "duration": 493,
    "start_time": "2022-09-05T14:26:16.576Z"
   },
   {
    "duration": 8,
    "start_time": "2022-09-05T14:26:17.071Z"
   },
   {
    "duration": 36,
    "start_time": "2022-09-05T14:26:17.081Z"
   },
   {
    "duration": 22,
    "start_time": "2022-09-05T14:26:17.119Z"
   },
   {
    "duration": 17,
    "start_time": "2022-09-05T14:26:17.143Z"
   },
   {
    "duration": 18,
    "start_time": "2022-09-05T14:26:17.162Z"
   },
   {
    "duration": 11,
    "start_time": "2022-09-05T14:26:17.182Z"
   },
   {
    "duration": 14,
    "start_time": "2022-09-05T14:26:17.197Z"
   },
   {
    "duration": 29,
    "start_time": "2022-09-05T14:26:17.213Z"
   },
   {
    "duration": 5,
    "start_time": "2022-09-05T14:26:17.244Z"
   },
   {
    "duration": 6,
    "start_time": "2022-09-05T14:26:17.251Z"
   },
   {
    "duration": 34,
    "start_time": "2022-09-05T14:26:17.258Z"
   },
   {
    "duration": 10,
    "start_time": "2022-09-05T14:26:17.294Z"
   },
   {
    "duration": 23,
    "start_time": "2022-09-05T14:26:17.305Z"
   },
   {
    "duration": 5,
    "start_time": "2022-09-05T14:26:17.329Z"
   },
   {
    "duration": 8,
    "start_time": "2022-09-05T14:26:17.336Z"
   },
   {
    "duration": 33,
    "start_time": "2022-09-05T14:26:17.346Z"
   },
   {
    "duration": 4,
    "start_time": "2022-09-05T14:26:17.381Z"
   },
   {
    "duration": 8,
    "start_time": "2022-09-05T14:26:17.387Z"
   },
   {
    "duration": 5,
    "start_time": "2022-09-05T14:26:17.397Z"
   },
   {
    "duration": 16,
    "start_time": "2022-09-05T14:26:36.719Z"
   },
   {
    "duration": 18,
    "start_time": "2022-09-05T14:26:45.846Z"
   },
   {
    "duration": 17,
    "start_time": "2022-09-05T14:26:54.479Z"
   },
   {
    "duration": 84,
    "start_time": "2022-09-05T14:27:26.565Z"
   },
   {
    "duration": 17,
    "start_time": "2022-09-05T14:27:49.572Z"
   },
   {
    "duration": 34,
    "start_time": "2022-09-05T14:27:57.914Z"
   },
   {
    "duration": 23,
    "start_time": "2022-09-05T14:28:45.930Z"
   },
   {
    "duration": 36,
    "start_time": "2022-09-05T14:28:56.262Z"
   },
   {
    "duration": 26,
    "start_time": "2022-09-05T14:29:02.946Z"
   },
   {
    "duration": 22,
    "start_time": "2022-09-05T14:30:15.480Z"
   },
   {
    "duration": 17,
    "start_time": "2022-09-05T14:30:20.921Z"
   },
   {
    "duration": 7,
    "start_time": "2022-09-05T14:30:28.438Z"
   },
   {
    "duration": 2,
    "start_time": "2022-09-05T14:31:36.389Z"
   },
   {
    "duration": 4,
    "start_time": "2022-09-05T14:31:36.775Z"
   },
   {
    "duration": 7,
    "start_time": "2022-09-05T14:46:19.956Z"
   },
   {
    "duration": 8,
    "start_time": "2022-09-05T14:47:49.410Z"
   },
   {
    "duration": 7,
    "start_time": "2022-09-05T14:47:50.115Z"
   },
   {
    "duration": 15,
    "start_time": "2022-09-05T14:51:01.950Z"
   },
   {
    "duration": 11,
    "start_time": "2022-09-05T14:51:15.523Z"
   },
   {
    "duration": 9,
    "start_time": "2022-09-05T14:51:47.162Z"
   },
   {
    "duration": 8,
    "start_time": "2022-09-05T14:52:37.831Z"
   },
   {
    "duration": 5,
    "start_time": "2022-09-05T14:53:47.872Z"
   },
   {
    "duration": 9,
    "start_time": "2022-09-05T14:54:00.726Z"
   },
   {
    "duration": 8,
    "start_time": "2022-09-05T14:54:12.484Z"
   },
   {
    "duration": 7,
    "start_time": "2022-09-05T14:56:23.287Z"
   },
   {
    "duration": 11,
    "start_time": "2022-09-05T14:56:35.259Z"
   },
   {
    "duration": 9,
    "start_time": "2022-09-05T14:57:06.309Z"
   },
   {
    "duration": 11,
    "start_time": "2022-09-05T14:57:11.509Z"
   },
   {
    "duration": 9,
    "start_time": "2022-09-05T14:57:24.572Z"
   },
   {
    "duration": 5,
    "start_time": "2022-09-05T15:00:01.891Z"
   },
   {
    "duration": 5,
    "start_time": "2022-09-05T15:00:02.724Z"
   },
   {
    "duration": 14,
    "start_time": "2022-09-05T15:00:11.597Z"
   },
   {
    "duration": 1314,
    "start_time": "2022-09-05T15:07:53.349Z"
   },
   {
    "duration": 1169,
    "start_time": "2022-09-05T15:07:57.444Z"
   },
   {
    "duration": 98,
    "start_time": "2022-09-05T15:08:02.369Z"
   },
   {
    "duration": 15,
    "start_time": "2022-09-05T15:08:02.469Z"
   },
   {
    "duration": 15,
    "start_time": "2022-09-05T15:08:02.486Z"
   },
   {
    "duration": 82,
    "start_time": "2022-09-05T15:08:02.503Z"
   },
   {
    "duration": 9,
    "start_time": "2022-09-05T15:08:02.587Z"
   },
   {
    "duration": 11,
    "start_time": "2022-09-05T15:08:02.598Z"
   },
   {
    "duration": 11,
    "start_time": "2022-09-05T15:08:02.611Z"
   },
   {
    "duration": 58,
    "start_time": "2022-09-05T15:08:02.623Z"
   },
   {
    "duration": 23,
    "start_time": "2022-09-05T15:08:02.683Z"
   },
   {
    "duration": 8,
    "start_time": "2022-09-05T15:08:02.708Z"
   },
   {
    "duration": 13,
    "start_time": "2022-09-05T15:08:02.717Z"
   },
   {
    "duration": 42,
    "start_time": "2022-09-05T15:08:02.732Z"
   },
   {
    "duration": 15,
    "start_time": "2022-09-05T15:08:02.776Z"
   },
   {
    "duration": 27,
    "start_time": "2022-09-05T15:08:02.792Z"
   },
   {
    "duration": 10,
    "start_time": "2022-09-05T15:08:02.821Z"
   },
   {
    "duration": 42,
    "start_time": "2022-09-05T15:08:02.832Z"
   },
   {
    "duration": 12,
    "start_time": "2022-09-05T15:08:02.876Z"
   },
   {
    "duration": 5,
    "start_time": "2022-09-05T15:08:02.890Z"
   },
   {
    "duration": 12,
    "start_time": "2022-09-05T15:08:02.896Z"
   },
   {
    "duration": 11,
    "start_time": "2022-09-05T15:08:02.909Z"
   },
   {
    "duration": 449,
    "start_time": "2022-09-05T15:08:02.922Z"
   },
   {
    "duration": 5,
    "start_time": "2022-09-05T15:08:03.373Z"
   },
   {
    "duration": 9,
    "start_time": "2022-09-05T15:08:03.380Z"
   },
   {
    "duration": 10,
    "start_time": "2022-09-05T15:08:03.391Z"
   },
   {
    "duration": 9,
    "start_time": "2022-09-05T15:08:03.403Z"
   },
   {
    "duration": 3,
    "start_time": "2022-09-05T15:08:03.414Z"
   },
   {
    "duration": 16,
    "start_time": "2022-09-05T15:08:03.419Z"
   },
   {
    "duration": 34,
    "start_time": "2022-09-05T15:08:03.439Z"
   },
   {
    "duration": 28,
    "start_time": "2022-09-05T15:08:03.475Z"
   },
   {
    "duration": 6,
    "start_time": "2022-09-05T15:08:03.505Z"
   },
   {
    "duration": 13,
    "start_time": "2022-09-05T15:08:03.513Z"
   },
   {
    "duration": 42,
    "start_time": "2022-09-05T15:08:03.528Z"
   },
   {
    "duration": 8,
    "start_time": "2022-09-05T15:08:03.572Z"
   },
   {
    "duration": 22,
    "start_time": "2022-09-05T15:08:03.582Z"
   },
   {
    "duration": 5,
    "start_time": "2022-09-05T15:08:03.606Z"
   },
   {
    "duration": 7,
    "start_time": "2022-09-05T15:08:03.613Z"
   },
   {
    "duration": 45,
    "start_time": "2022-09-05T15:08:03.622Z"
   },
   {
    "duration": 5,
    "start_time": "2022-09-05T15:08:03.669Z"
   },
   {
    "duration": 11,
    "start_time": "2022-09-05T15:08:03.676Z"
   },
   {
    "duration": 8,
    "start_time": "2022-09-05T15:08:03.689Z"
   },
   {
    "duration": 18,
    "start_time": "2022-09-05T15:08:03.698Z"
   },
   {
    "duration": 25,
    "start_time": "2022-09-05T15:08:03.717Z"
   },
   {
    "duration": 44,
    "start_time": "2022-09-05T15:08:03.743Z"
   },
   {
    "duration": 16,
    "start_time": "2022-09-05T15:08:03.789Z"
   },
   {
    "duration": 6,
    "start_time": "2022-09-05T15:08:03.806Z"
   },
   {
    "duration": 5,
    "start_time": "2022-09-05T15:08:03.813Z"
   },
   {
    "duration": 5,
    "start_time": "2022-09-05T15:08:03.820Z"
   },
   {
    "duration": 15,
    "start_time": "2022-09-05T15:08:03.827Z"
   },
   {
    "duration": 8,
    "start_time": "2022-09-05T15:08:03.868Z"
   },
   {
    "duration": 4,
    "start_time": "2022-09-05T15:08:03.877Z"
   },
   {
    "duration": 8,
    "start_time": "2022-09-05T15:08:03.882Z"
   },
   {
    "duration": 13,
    "start_time": "2022-09-05T15:08:03.891Z"
   },
   {
    "duration": 13,
    "start_time": "2022-09-05T15:08:03.906Z"
   },
   {
    "duration": 12,
    "start_time": "2022-09-05T15:08:03.921Z"
   },
   {
    "duration": 55,
    "start_time": "2022-09-05T15:08:03.935Z"
   },
   {
    "duration": 18,
    "start_time": "2022-09-05T15:08:03.992Z"
   },
   {
    "duration": 17,
    "start_time": "2022-09-05T15:08:04.012Z"
   },
   {
    "duration": 45,
    "start_time": "2022-09-05T15:08:04.031Z"
   },
   {
    "duration": 6,
    "start_time": "2022-09-05T15:08:04.077Z"
   },
   {
    "duration": 6,
    "start_time": "2022-09-05T15:08:04.084Z"
   },
   {
    "duration": 18,
    "start_time": "2022-09-05T15:08:04.091Z"
   },
   {
    "duration": 20,
    "start_time": "2022-09-05T15:08:04.111Z"
   },
   {
    "duration": 8,
    "start_time": "2022-09-05T15:08:04.134Z"
   },
   {
    "duration": 30,
    "start_time": "2022-09-05T15:08:04.144Z"
   },
   {
    "duration": 10,
    "start_time": "2022-09-05T15:08:04.176Z"
   },
   {
    "duration": 15,
    "start_time": "2022-09-05T15:08:04.188Z"
   },
   {
    "duration": 4,
    "start_time": "2022-09-05T15:08:04.206Z"
   },
   {
    "duration": 19,
    "start_time": "2022-09-05T15:08:04.212Z"
   },
   {
    "duration": 37,
    "start_time": "2022-09-05T15:08:04.233Z"
   },
   {
    "duration": 18,
    "start_time": "2022-09-05T15:08:04.272Z"
   },
   {
    "duration": 14,
    "start_time": "2022-09-05T15:08:04.292Z"
   },
   {
    "duration": 963,
    "start_time": "2022-09-05T15:08:04.308Z"
   },
   {
    "duration": 1255,
    "start_time": "2022-09-05T15:08:05.273Z"
   },
   {
    "duration": 6,
    "start_time": "2022-09-05T15:08:06.530Z"
   },
   {
    "duration": 11,
    "start_time": "2022-09-05T15:08:06.538Z"
   },
   {
    "duration": 21,
    "start_time": "2022-09-05T15:08:06.551Z"
   },
   {
    "duration": 12,
    "start_time": "2022-09-05T15:08:06.575Z"
   },
   {
    "duration": 1866,
    "start_time": "2022-09-05T15:08:06.590Z"
   },
   {
    "duration": 4,
    "start_time": "2022-09-05T15:08:08.457Z"
   },
   {
    "duration": 10,
    "start_time": "2022-09-05T15:08:08.480Z"
   },
   {
    "duration": 7,
    "start_time": "2022-09-05T15:08:12.820Z"
   },
   {
    "duration": 8,
    "start_time": "2022-09-05T15:08:13.063Z"
   },
   {
    "duration": 66,
    "start_time": "2022-09-05T15:18:55.032Z"
   },
   {
    "duration": 111,
    "start_time": "2022-09-05T15:18:58.642Z"
   },
   {
    "duration": 15,
    "start_time": "2022-09-05T15:18:58.755Z"
   },
   {
    "duration": 14,
    "start_time": "2022-09-05T15:18:58.772Z"
   },
   {
    "duration": 80,
    "start_time": "2022-09-05T15:18:58.789Z"
   },
   {
    "duration": 10,
    "start_time": "2022-09-05T15:18:58.871Z"
   },
   {
    "duration": 12,
    "start_time": "2022-09-05T15:18:58.883Z"
   },
   {
    "duration": 10,
    "start_time": "2022-09-05T15:18:58.897Z"
   },
   {
    "duration": 22,
    "start_time": "2022-09-05T15:18:58.909Z"
   },
   {
    "duration": 54,
    "start_time": "2022-09-05T15:18:58.933Z"
   },
   {
    "duration": 7,
    "start_time": "2022-09-05T15:18:58.991Z"
   },
   {
    "duration": 8,
    "start_time": "2022-09-05T15:18:58.999Z"
   },
   {
    "duration": 14,
    "start_time": "2022-09-05T15:18:59.009Z"
   },
   {
    "duration": 56,
    "start_time": "2022-09-05T15:18:59.025Z"
   },
   {
    "duration": 28,
    "start_time": "2022-09-05T15:18:59.082Z"
   },
   {
    "duration": 10,
    "start_time": "2022-09-05T15:18:59.111Z"
   },
   {
    "duration": 9,
    "start_time": "2022-09-05T15:18:59.123Z"
   },
   {
    "duration": 43,
    "start_time": "2022-09-05T15:18:59.134Z"
   },
   {
    "duration": 6,
    "start_time": "2022-09-05T15:18:59.179Z"
   },
   {
    "duration": 9,
    "start_time": "2022-09-05T15:18:59.186Z"
   },
   {
    "duration": 6,
    "start_time": "2022-09-05T15:18:59.197Z"
   },
   {
    "duration": 446,
    "start_time": "2022-09-05T15:18:59.205Z"
   },
   {
    "duration": 6,
    "start_time": "2022-09-05T15:18:59.653Z"
   },
   {
    "duration": 13,
    "start_time": "2022-09-05T15:18:59.660Z"
   },
   {
    "duration": 8,
    "start_time": "2022-09-05T15:18:59.674Z"
   },
   {
    "duration": 10,
    "start_time": "2022-09-05T15:18:59.684Z"
   },
   {
    "duration": 3,
    "start_time": "2022-09-05T15:18:59.696Z"
   },
   {
    "duration": 7,
    "start_time": "2022-09-05T15:18:59.701Z"
   },
   {
    "duration": 6,
    "start_time": "2022-09-05T15:18:59.713Z"
   },
   {
    "duration": 59,
    "start_time": "2022-09-05T15:18:59.720Z"
   },
   {
    "duration": 6,
    "start_time": "2022-09-05T15:18:59.780Z"
   },
   {
    "duration": 5,
    "start_time": "2022-09-05T15:18:59.787Z"
   },
   {
    "duration": 32,
    "start_time": "2022-09-05T15:18:59.794Z"
   },
   {
    "duration": 10,
    "start_time": "2022-09-05T15:18:59.828Z"
   },
   {
    "duration": 49,
    "start_time": "2022-09-05T15:18:59.839Z"
   },
   {
    "duration": 5,
    "start_time": "2022-09-05T15:18:59.890Z"
   },
   {
    "duration": 13,
    "start_time": "2022-09-05T15:18:59.897Z"
   },
   {
    "duration": 18,
    "start_time": "2022-09-05T15:18:59.912Z"
   },
   {
    "duration": 5,
    "start_time": "2022-09-05T15:18:59.932Z"
   },
   {
    "duration": 30,
    "start_time": "2022-09-05T15:18:59.939Z"
   },
   {
    "duration": 5,
    "start_time": "2022-09-05T15:18:59.970Z"
   },
   {
    "duration": 22,
    "start_time": "2022-09-05T15:18:59.977Z"
   },
   {
    "duration": 24,
    "start_time": "2022-09-05T15:19:00.001Z"
   },
   {
    "duration": 49,
    "start_time": "2022-09-05T15:19:00.027Z"
   },
   {
    "duration": 17,
    "start_time": "2022-09-05T15:19:00.078Z"
   },
   {
    "duration": 6,
    "start_time": "2022-09-05T15:19:00.097Z"
   },
   {
    "duration": 10,
    "start_time": "2022-09-05T15:19:00.104Z"
   },
   {
    "duration": 7,
    "start_time": "2022-09-05T15:19:00.116Z"
   },
   {
    "duration": 17,
    "start_time": "2022-09-05T15:19:00.125Z"
   },
   {
    "duration": 25,
    "start_time": "2022-09-05T15:19:00.144Z"
   },
   {
    "duration": 4,
    "start_time": "2022-09-05T15:19:00.171Z"
   },
   {
    "duration": 8,
    "start_time": "2022-09-05T15:19:00.177Z"
   },
   {
    "duration": 15,
    "start_time": "2022-09-05T15:19:00.187Z"
   },
   {
    "duration": 19,
    "start_time": "2022-09-05T15:19:00.204Z"
   },
   {
    "duration": 14,
    "start_time": "2022-09-05T15:19:00.225Z"
   },
   {
    "duration": 50,
    "start_time": "2022-09-05T15:19:00.241Z"
   },
   {
    "duration": 17,
    "start_time": "2022-09-05T15:19:00.293Z"
   },
   {
    "duration": 20,
    "start_time": "2022-09-05T15:19:00.312Z"
   },
   {
    "duration": 50,
    "start_time": "2022-09-05T15:19:00.334Z"
   },
   {
    "duration": 7,
    "start_time": "2022-09-05T15:19:00.386Z"
   },
   {
    "duration": 10,
    "start_time": "2022-09-05T15:19:00.395Z"
   },
   {
    "duration": 14,
    "start_time": "2022-09-05T15:19:00.408Z"
   },
   {
    "duration": 23,
    "start_time": "2022-09-05T15:19:00.424Z"
   },
   {
    "duration": 24,
    "start_time": "2022-09-05T15:19:00.449Z"
   },
   {
    "duration": 11,
    "start_time": "2022-09-05T15:19:00.476Z"
   },
   {
    "duration": 8,
    "start_time": "2022-09-05T15:19:00.489Z"
   },
   {
    "duration": 17,
    "start_time": "2022-09-05T15:19:00.499Z"
   },
   {
    "duration": 19,
    "start_time": "2022-09-05T15:19:00.518Z"
   },
   {
    "duration": 24,
    "start_time": "2022-09-05T15:19:00.539Z"
   },
   {
    "duration": 14,
    "start_time": "2022-09-05T15:19:00.565Z"
   },
   {
    "duration": 20,
    "start_time": "2022-09-05T15:19:00.581Z"
   },
   {
    "duration": 9,
    "start_time": "2022-09-05T15:19:00.603Z"
   },
   {
    "duration": 9,
    "start_time": "2022-09-05T15:19:00.613Z"
   },
   {
    "duration": 13,
    "start_time": "2022-09-05T15:19:00.623Z"
   },
   {
    "duration": 5,
    "start_time": "2022-09-05T15:19:00.638Z"
   },
   {
    "duration": 12,
    "start_time": "2022-09-05T15:19:00.645Z"
   },
   {
    "duration": 12,
    "start_time": "2022-09-05T15:19:00.658Z"
   },
   {
    "duration": 10,
    "start_time": "2022-09-05T15:19:00.672Z"
   },
   {
    "duration": 1936,
    "start_time": "2022-09-05T15:19:00.684Z"
   },
   {
    "duration": 4,
    "start_time": "2022-09-05T15:19:02.621Z"
   },
   {
    "duration": 15,
    "start_time": "2022-09-05T15:19:02.626Z"
   },
   {
    "duration": 18,
    "start_time": "2022-09-05T15:19:02.643Z"
   },
   {
    "duration": 8,
    "start_time": "2022-09-05T15:19:02.670Z"
   },
   {
    "duration": 17,
    "start_time": "2022-09-05T15:19:02.680Z"
   },
   {
    "duration": 10,
    "start_time": "2022-09-05T15:19:02.699Z"
   },
   {
    "duration": 13,
    "start_time": "2022-09-05T15:19:02.710Z"
   },
   {
    "duration": 44,
    "start_time": "2022-09-05T15:19:02.724Z"
   },
   {
    "duration": 19,
    "start_time": "2022-09-05T15:19:02.769Z"
   },
   {
    "duration": 12,
    "start_time": "2022-09-05T15:19:02.790Z"
   },
   {
    "duration": 15,
    "start_time": "2022-09-05T15:19:02.804Z"
   },
   {
    "duration": 23,
    "start_time": "2022-09-05T15:19:02.820Z"
   },
   {
    "duration": 19,
    "start_time": "2022-09-05T15:19:17.872Z"
   },
   {
    "duration": 18,
    "start_time": "2022-09-05T15:19:27.814Z"
   },
   {
    "duration": 4,
    "start_time": "2022-09-05T15:21:04.381Z"
   },
   {
    "duration": 8,
    "start_time": "2022-09-05T15:21:06.164Z"
   },
   {
    "duration": 21,
    "start_time": "2022-09-05T15:21:53.224Z"
   },
   {
    "duration": 11,
    "start_time": "2022-09-05T15:51:40.882Z"
   },
   {
    "duration": 17,
    "start_time": "2022-09-05T15:52:27.127Z"
   },
   {
    "duration": 13,
    "start_time": "2022-09-05T15:56:24.734Z"
   },
   {
    "duration": 11,
    "start_time": "2022-09-05T15:59:19.761Z"
   },
   {
    "duration": 15,
    "start_time": "2022-09-05T16:00:19.481Z"
   },
   {
    "duration": 13,
    "start_time": "2022-09-05T16:01:17.221Z"
   },
   {
    "duration": 13,
    "start_time": "2022-09-05T16:09:41.344Z"
   },
   {
    "duration": 15,
    "start_time": "2022-09-05T16:10:11.573Z"
   },
   {
    "duration": 98,
    "start_time": "2022-09-05T16:18:16.946Z"
   },
   {
    "duration": 14,
    "start_time": "2022-09-05T16:18:17.046Z"
   },
   {
    "duration": 14,
    "start_time": "2022-09-05T16:18:17.062Z"
   },
   {
    "duration": 54,
    "start_time": "2022-09-05T16:18:17.077Z"
   },
   {
    "duration": 9,
    "start_time": "2022-09-05T16:18:17.134Z"
   },
   {
    "duration": 27,
    "start_time": "2022-09-05T16:18:17.145Z"
   },
   {
    "duration": 13,
    "start_time": "2022-09-05T16:18:17.174Z"
   },
   {
    "duration": 21,
    "start_time": "2022-09-05T16:18:17.189Z"
   },
   {
    "duration": 23,
    "start_time": "2022-09-05T16:18:17.211Z"
   },
   {
    "duration": 8,
    "start_time": "2022-09-05T16:18:17.269Z"
   },
   {
    "duration": 9,
    "start_time": "2022-09-05T16:18:17.279Z"
   },
   {
    "duration": 16,
    "start_time": "2022-09-05T16:18:17.290Z"
   },
   {
    "duration": 60,
    "start_time": "2022-09-05T16:18:17.308Z"
   },
   {
    "duration": 29,
    "start_time": "2022-09-05T16:18:17.371Z"
   },
   {
    "duration": 10,
    "start_time": "2022-09-05T16:18:17.401Z"
   },
   {
    "duration": 10,
    "start_time": "2022-09-05T16:18:17.412Z"
   },
   {
    "duration": 45,
    "start_time": "2022-09-05T16:18:17.424Z"
   },
   {
    "duration": 5,
    "start_time": "2022-09-05T16:18:17.471Z"
   },
   {
    "duration": 9,
    "start_time": "2022-09-05T16:18:17.478Z"
   },
   {
    "duration": 7,
    "start_time": "2022-09-05T16:18:17.489Z"
   },
   {
    "duration": 450,
    "start_time": "2022-09-05T16:18:17.498Z"
   },
   {
    "duration": 5,
    "start_time": "2022-09-05T16:18:17.950Z"
   },
   {
    "duration": 11,
    "start_time": "2022-09-05T16:18:17.957Z"
   },
   {
    "duration": 8,
    "start_time": "2022-09-05T16:18:17.970Z"
   },
   {
    "duration": 8,
    "start_time": "2022-09-05T16:18:17.979Z"
   },
   {
    "duration": 5,
    "start_time": "2022-09-05T16:18:17.989Z"
   },
   {
    "duration": 11,
    "start_time": "2022-09-05T16:18:17.995Z"
   },
   {
    "duration": 13,
    "start_time": "2022-09-05T16:18:18.007Z"
   },
   {
    "duration": 49,
    "start_time": "2022-09-05T16:18:18.022Z"
   },
   {
    "duration": 5,
    "start_time": "2022-09-05T16:18:18.074Z"
   },
   {
    "duration": 5,
    "start_time": "2022-09-05T16:18:18.081Z"
   },
   {
    "duration": 22,
    "start_time": "2022-09-05T16:18:18.087Z"
   },
   {
    "duration": 9,
    "start_time": "2022-09-05T16:18:18.110Z"
   },
   {
    "duration": 50,
    "start_time": "2022-09-05T16:18:18.121Z"
   },
   {
    "duration": 4,
    "start_time": "2022-09-05T16:18:18.173Z"
   },
   {
    "duration": 11,
    "start_time": "2022-09-05T16:18:18.179Z"
   },
   {
    "duration": 15,
    "start_time": "2022-09-05T16:18:18.191Z"
   },
   {
    "duration": 4,
    "start_time": "2022-09-05T16:18:18.208Z"
   },
   {
    "duration": 8,
    "start_time": "2022-09-05T16:18:18.214Z"
   },
   {
    "duration": 9,
    "start_time": "2022-09-05T16:18:18.223Z"
   },
   {
    "duration": 17,
    "start_time": "2022-09-05T16:18:18.269Z"
   },
   {
    "duration": 24,
    "start_time": "2022-09-05T16:18:18.288Z"
   },
   {
    "duration": 21,
    "start_time": "2022-09-05T16:18:18.314Z"
   },
   {
    "duration": 41,
    "start_time": "2022-09-05T16:18:18.337Z"
   },
   {
    "duration": 6,
    "start_time": "2022-09-05T16:18:18.379Z"
   },
   {
    "duration": 13,
    "start_time": "2022-09-05T16:18:18.387Z"
   },
   {
    "duration": 6,
    "start_time": "2022-09-05T16:18:18.402Z"
   },
   {
    "duration": 16,
    "start_time": "2022-09-05T16:18:18.409Z"
   },
   {
    "duration": 8,
    "start_time": "2022-09-05T16:18:18.426Z"
   },
   {
    "duration": 3,
    "start_time": "2022-09-05T16:18:18.436Z"
   },
   {
    "duration": 29,
    "start_time": "2022-09-05T16:18:18.441Z"
   },
   {
    "duration": 13,
    "start_time": "2022-09-05T16:18:18.472Z"
   },
   {
    "duration": 12,
    "start_time": "2022-09-05T16:18:18.486Z"
   },
   {
    "duration": 9,
    "start_time": "2022-09-05T16:18:18.500Z"
   },
   {
    "duration": 21,
    "start_time": "2022-09-05T16:18:18.511Z"
   },
   {
    "duration": 44,
    "start_time": "2022-09-05T16:18:18.533Z"
   },
   {
    "duration": 17,
    "start_time": "2022-09-05T16:18:18.578Z"
   },
   {
    "duration": 17,
    "start_time": "2022-09-05T16:18:18.597Z"
   },
   {
    "duration": 6,
    "start_time": "2022-09-05T16:18:18.615Z"
   },
   {
    "duration": 7,
    "start_time": "2022-09-05T16:18:18.623Z"
   },
   {
    "duration": 37,
    "start_time": "2022-09-05T16:18:18.632Z"
   },
   {
    "duration": 22,
    "start_time": "2022-09-05T16:18:18.670Z"
   },
   {
    "duration": 7,
    "start_time": "2022-09-05T16:18:18.694Z"
   },
   {
    "duration": 12,
    "start_time": "2022-09-05T16:18:18.703Z"
   },
   {
    "duration": 8,
    "start_time": "2022-09-05T16:18:18.717Z"
   },
   {
    "duration": 6,
    "start_time": "2022-09-05T16:18:18.727Z"
   },
   {
    "duration": 32,
    "start_time": "2022-09-05T16:18:18.735Z"
   },
   {
    "duration": 14,
    "start_time": "2022-09-05T16:18:18.770Z"
   },
   {
    "duration": 13,
    "start_time": "2022-09-05T16:18:18.786Z"
   },
   {
    "duration": 15,
    "start_time": "2022-09-05T16:18:18.800Z"
   },
   {
    "duration": 3,
    "start_time": "2022-09-05T16:18:18.817Z"
   },
   {
    "duration": 6,
    "start_time": "2022-09-05T16:18:18.822Z"
   },
   {
    "duration": 40,
    "start_time": "2022-09-05T16:18:18.830Z"
   },
   {
    "duration": 4,
    "start_time": "2022-09-05T16:18:18.872Z"
   },
   {
    "duration": 7,
    "start_time": "2022-09-05T16:18:18.878Z"
   },
   {
    "duration": 5,
    "start_time": "2022-09-05T16:18:18.887Z"
   },
   {
    "duration": 7,
    "start_time": "2022-09-05T16:18:18.893Z"
   },
   {
    "duration": 1924,
    "start_time": "2022-09-05T16:18:18.902Z"
   },
   {
    "duration": 4,
    "start_time": "2022-09-05T16:18:20.827Z"
   },
   {
    "duration": 9,
    "start_time": "2022-09-05T16:18:20.832Z"
   },
   {
    "duration": 10,
    "start_time": "2022-09-05T16:18:20.843Z"
   },
   {
    "duration": 8,
    "start_time": "2022-09-05T16:18:20.868Z"
   },
   {
    "duration": 16,
    "start_time": "2022-09-05T16:18:20.877Z"
   },
   {
    "duration": 10,
    "start_time": "2022-09-05T16:18:20.895Z"
   },
   {
    "duration": 11,
    "start_time": "2022-09-05T16:18:20.907Z"
   },
   {
    "duration": 12,
    "start_time": "2022-09-05T16:18:20.920Z"
   },
   {
    "duration": 46,
    "start_time": "2022-09-05T16:18:20.933Z"
   },
   {
    "duration": 3,
    "start_time": "2022-09-05T16:18:20.981Z"
   },
   {
    "duration": 16,
    "start_time": "2022-09-05T16:18:20.986Z"
   },
   {
    "duration": 18,
    "start_time": "2022-09-05T16:18:21.004Z"
   },
   {
    "duration": 14,
    "start_time": "2022-09-05T16:18:21.024Z"
   },
   {
    "duration": 546,
    "start_time": "2022-09-06T13:56:14.413Z"
   },
   {
    "duration": 19,
    "start_time": "2022-09-06T13:56:14.961Z"
   },
   {
    "duration": 22,
    "start_time": "2022-09-06T13:56:14.981Z"
   },
   {
    "duration": 76,
    "start_time": "2022-09-06T13:56:15.005Z"
   },
   {
    "duration": 9,
    "start_time": "2022-09-06T13:56:15.083Z"
   },
   {
    "duration": 13,
    "start_time": "2022-09-06T13:56:15.093Z"
   },
   {
    "duration": 12,
    "start_time": "2022-09-06T13:56:15.107Z"
   },
   {
    "duration": 46,
    "start_time": "2022-09-06T13:56:15.121Z"
   },
   {
    "duration": 22,
    "start_time": "2022-09-06T13:56:15.168Z"
   },
   {
    "duration": 7,
    "start_time": "2022-09-06T13:56:15.192Z"
   },
   {
    "duration": 20,
    "start_time": "2022-09-06T13:56:15.200Z"
   },
   {
    "duration": 31,
    "start_time": "2022-09-06T13:56:15.221Z"
   },
   {
    "duration": 30,
    "start_time": "2022-09-06T13:56:15.254Z"
   },
   {
    "duration": 34,
    "start_time": "2022-09-06T13:56:15.286Z"
   },
   {
    "duration": 20,
    "start_time": "2022-09-06T13:56:15.322Z"
   },
   {
    "duration": 24,
    "start_time": "2022-09-06T13:56:15.343Z"
   },
   {
    "duration": 53,
    "start_time": "2022-09-06T13:56:15.369Z"
   },
   {
    "duration": 13,
    "start_time": "2022-09-06T13:56:15.424Z"
   },
   {
    "duration": 37,
    "start_time": "2022-09-06T13:56:15.439Z"
   },
   {
    "duration": 9,
    "start_time": "2022-09-06T13:56:15.478Z"
   },
   {
    "duration": 498,
    "start_time": "2022-09-06T13:56:15.489Z"
   },
   {
    "duration": 5,
    "start_time": "2022-09-06T13:56:15.989Z"
   },
   {
    "duration": 11,
    "start_time": "2022-09-06T13:56:15.996Z"
   },
   {
    "duration": 21,
    "start_time": "2022-09-06T13:56:16.009Z"
   },
   {
    "duration": 18,
    "start_time": "2022-09-06T13:56:16.032Z"
   },
   {
    "duration": 26,
    "start_time": "2022-09-06T13:56:16.052Z"
   },
   {
    "duration": 24,
    "start_time": "2022-09-06T13:56:16.080Z"
   },
   {
    "duration": 15,
    "start_time": "2022-09-06T13:56:16.107Z"
   },
   {
    "duration": 44,
    "start_time": "2022-09-06T13:56:16.123Z"
   },
   {
    "duration": 6,
    "start_time": "2022-09-06T13:56:16.171Z"
   },
   {
    "duration": 5,
    "start_time": "2022-09-06T13:56:16.179Z"
   },
   {
    "duration": 26,
    "start_time": "2022-09-06T13:56:16.186Z"
   },
   {
    "duration": 8,
    "start_time": "2022-09-06T13:56:16.213Z"
   },
   {
    "duration": 52,
    "start_time": "2022-09-06T13:56:16.223Z"
   },
   {
    "duration": 5,
    "start_time": "2022-09-06T13:56:16.277Z"
   },
   {
    "duration": 8,
    "start_time": "2022-09-06T13:56:16.284Z"
   },
   {
    "duration": 25,
    "start_time": "2022-09-06T13:56:16.293Z"
   },
   {
    "duration": 6,
    "start_time": "2022-09-06T13:56:16.319Z"
   },
   {
    "duration": 8,
    "start_time": "2022-09-06T13:56:16.327Z"
   },
   {
    "duration": 5,
    "start_time": "2022-09-06T13:56:16.337Z"
   },
   {
    "duration": 33,
    "start_time": "2022-09-06T13:56:16.344Z"
   },
   {
    "duration": 31,
    "start_time": "2022-09-06T13:56:16.379Z"
   },
   {
    "duration": 21,
    "start_time": "2022-09-06T13:56:16.412Z"
   },
   {
    "duration": 42,
    "start_time": "2022-09-06T13:56:16.435Z"
   },
   {
    "duration": 8,
    "start_time": "2022-09-06T13:56:16.478Z"
   },
   {
    "duration": 17,
    "start_time": "2022-09-06T13:56:16.488Z"
   },
   {
    "duration": 18,
    "start_time": "2022-09-06T13:56:23.459Z"
   },
   {
    "duration": 19,
    "start_time": "2022-09-06T14:03:51.453Z"
   },
   {
    "duration": 11,
    "start_time": "2022-09-06T14:03:57.686Z"
   },
   {
    "duration": 10,
    "start_time": "2022-09-06T14:06:05.022Z"
   },
   {
    "duration": 4,
    "start_time": "2022-09-06T14:07:32.810Z"
   },
   {
    "duration": 12,
    "start_time": "2022-09-06T14:07:32.816Z"
   },
   {
    "duration": 16,
    "start_time": "2022-09-06T14:07:32.830Z"
   },
   {
    "duration": 76,
    "start_time": "2022-09-06T14:07:32.847Z"
   },
   {
    "duration": 114,
    "start_time": "2022-09-06T14:07:36.619Z"
   },
   {
    "duration": 13,
    "start_time": "2022-09-06T14:07:36.735Z"
   },
   {
    "duration": 19,
    "start_time": "2022-09-06T14:07:36.750Z"
   },
   {
    "duration": 60,
    "start_time": "2022-09-06T14:07:36.773Z"
   },
   {
    "duration": 15,
    "start_time": "2022-09-06T14:07:36.835Z"
   },
   {
    "duration": 15,
    "start_time": "2022-09-06T14:07:36.858Z"
   },
   {
    "duration": 14,
    "start_time": "2022-09-06T14:07:36.875Z"
   },
   {
    "duration": 21,
    "start_time": "2022-09-06T14:07:36.891Z"
   },
   {
    "duration": 45,
    "start_time": "2022-09-06T14:07:36.914Z"
   },
   {
    "duration": 10,
    "start_time": "2022-09-06T14:07:36.965Z"
   },
   {
    "duration": 17,
    "start_time": "2022-09-06T14:07:36.977Z"
   },
   {
    "duration": 19,
    "start_time": "2022-09-06T14:07:36.997Z"
   },
   {
    "duration": 17,
    "start_time": "2022-09-06T14:07:37.017Z"
   },
   {
    "duration": 48,
    "start_time": "2022-09-06T14:07:37.036Z"
   },
   {
    "duration": 10,
    "start_time": "2022-09-06T14:07:37.086Z"
   },
   {
    "duration": 10,
    "start_time": "2022-09-06T14:07:37.098Z"
   },
   {
    "duration": 17,
    "start_time": "2022-09-06T14:07:37.109Z"
   },
   {
    "duration": 41,
    "start_time": "2022-09-06T14:07:37.127Z"
   },
   {
    "duration": 10,
    "start_time": "2022-09-06T14:07:37.172Z"
   },
   {
    "duration": 6,
    "start_time": "2022-09-06T14:07:37.184Z"
   },
   {
    "duration": 403,
    "start_time": "2022-09-06T14:07:37.191Z"
   },
   {
    "duration": 5,
    "start_time": "2022-09-06T14:07:37.596Z"
   },
   {
    "duration": 8,
    "start_time": "2022-09-06T14:07:37.602Z"
   },
   {
    "duration": 8,
    "start_time": "2022-09-06T14:07:37.612Z"
   },
   {
    "duration": 7,
    "start_time": "2022-09-06T14:07:37.621Z"
   },
   {
    "duration": 3,
    "start_time": "2022-09-06T14:07:37.630Z"
   },
   {
    "duration": 8,
    "start_time": "2022-09-06T14:07:37.657Z"
   },
   {
    "duration": 14,
    "start_time": "2022-09-06T14:07:37.670Z"
   },
   {
    "duration": 33,
    "start_time": "2022-09-06T14:07:37.685Z"
   },
   {
    "duration": 6,
    "start_time": "2022-09-06T14:07:37.720Z"
   },
   {
    "duration": 5,
    "start_time": "2022-09-06T14:07:37.728Z"
   },
   {
    "duration": 52,
    "start_time": "2022-09-06T14:07:37.735Z"
   },
   {
    "duration": 10,
    "start_time": "2022-09-06T14:07:37.789Z"
   },
   {
    "duration": 22,
    "start_time": "2022-09-06T14:07:37.800Z"
   },
   {
    "duration": 4,
    "start_time": "2022-09-06T14:07:37.824Z"
   },
   {
    "duration": 7,
    "start_time": "2022-09-06T14:07:37.829Z"
   },
   {
    "duration": 36,
    "start_time": "2022-09-06T14:07:37.838Z"
   },
   {
    "duration": 11,
    "start_time": "2022-09-06T14:07:37.876Z"
   },
   {
    "duration": 7,
    "start_time": "2022-09-06T14:07:37.888Z"
   },
   {
    "duration": 6,
    "start_time": "2022-09-06T14:07:37.896Z"
   },
   {
    "duration": 18,
    "start_time": "2022-09-06T14:07:37.904Z"
   },
   {
    "duration": 37,
    "start_time": "2022-09-06T14:07:37.923Z"
   },
   {
    "duration": 28,
    "start_time": "2022-09-06T14:07:37.964Z"
   },
   {
    "duration": 18,
    "start_time": "2022-09-06T14:07:37.994Z"
   },
   {
    "duration": 5,
    "start_time": "2022-09-06T14:07:38.014Z"
   },
   {
    "duration": 47,
    "start_time": "2022-09-06T14:07:38.021Z"
   },
   {
    "duration": 15,
    "start_time": "2022-09-06T14:07:38.070Z"
   },
   {
    "duration": 2,
    "start_time": "2022-09-06T14:07:38.087Z"
   },
   {
    "duration": 8,
    "start_time": "2022-09-06T14:07:38.091Z"
   },
   {
    "duration": 13,
    "start_time": "2022-09-06T14:07:38.101Z"
   },
   {
    "duration": 7,
    "start_time": "2022-09-06T14:07:38.116Z"
   },
   {
    "duration": 3,
    "start_time": "2022-09-06T14:07:38.125Z"
   },
   {
    "duration": 8,
    "start_time": "2022-09-06T14:07:38.158Z"
   },
   {
    "duration": 19,
    "start_time": "2022-09-06T14:07:38.167Z"
   },
   {
    "duration": 11,
    "start_time": "2022-09-06T14:07:38.187Z"
   },
   {
    "duration": 11,
    "start_time": "2022-09-06T14:07:38.199Z"
   },
   {
    "duration": 22,
    "start_time": "2022-09-06T14:07:38.212Z"
   },
   {
    "duration": 36,
    "start_time": "2022-09-06T14:07:38.236Z"
   },
   {
    "duration": 16,
    "start_time": "2022-09-06T14:07:38.274Z"
   },
   {
    "duration": 17,
    "start_time": "2022-09-06T14:07:38.292Z"
   },
   {
    "duration": 5,
    "start_time": "2022-09-06T14:07:38.310Z"
   },
   {
    "duration": 41,
    "start_time": "2022-09-06T14:07:38.317Z"
   },
   {
    "duration": 8,
    "start_time": "2022-09-06T14:07:38.360Z"
   },
   {
    "duration": 18,
    "start_time": "2022-09-06T14:07:38.373Z"
   },
   {
    "duration": 8,
    "start_time": "2022-09-06T14:07:38.392Z"
   },
   {
    "duration": 8,
    "start_time": "2022-09-06T14:07:38.402Z"
   },
   {
    "duration": 8,
    "start_time": "2022-09-06T14:07:38.411Z"
   },
   {
    "duration": 5,
    "start_time": "2022-09-06T14:07:38.421Z"
   },
   {
    "duration": 38,
    "start_time": "2022-09-06T14:07:38.427Z"
   },
   {
    "duration": 19,
    "start_time": "2022-09-06T14:07:38.470Z"
   },
   {
    "duration": 13,
    "start_time": "2022-09-06T14:07:38.490Z"
   },
   {
    "duration": 10,
    "start_time": "2022-09-06T14:07:38.504Z"
   },
   {
    "duration": 4,
    "start_time": "2022-09-06T14:07:38.515Z"
   },
   {
    "duration": 1667,
    "start_time": "2022-09-06T14:07:38.521Z"
   },
   {
    "duration": 1622,
    "start_time": "2022-09-06T14:07:40.190Z"
   },
   {
    "duration": 5,
    "start_time": "2022-09-06T14:07:41.814Z"
   },
   {
    "duration": 7,
    "start_time": "2022-09-06T14:07:41.820Z"
   },
   {
    "duration": 8,
    "start_time": "2022-09-06T14:07:41.828Z"
   },
   {
    "duration": 24,
    "start_time": "2022-09-06T14:07:41.838Z"
   },
   {
    "duration": 1785,
    "start_time": "2022-09-06T14:07:41.871Z"
   },
   {
    "duration": 4,
    "start_time": "2022-09-06T14:07:43.658Z"
   },
   {
    "duration": 20,
    "start_time": "2022-09-06T14:07:43.668Z"
   },
   {
    "duration": 7,
    "start_time": "2022-09-06T14:07:43.690Z"
   },
   {
    "duration": 11,
    "start_time": "2022-09-06T14:07:43.698Z"
   },
   {
    "duration": 21,
    "start_time": "2022-09-06T14:07:43.710Z"
   },
   {
    "duration": 14,
    "start_time": "2022-09-06T14:07:43.733Z"
   },
   {
    "duration": 18,
    "start_time": "2022-09-06T14:07:43.758Z"
   },
   {
    "duration": 11,
    "start_time": "2022-09-06T14:07:43.778Z"
   },
   {
    "duration": 11,
    "start_time": "2022-09-06T14:07:43.790Z"
   },
   {
    "duration": 11,
    "start_time": "2022-09-06T14:07:43.803Z"
   },
   {
    "duration": 46,
    "start_time": "2022-09-06T14:07:43.816Z"
   },
   {
    "duration": 5,
    "start_time": "2022-09-06T14:07:43.869Z"
   },
   {
    "duration": 19,
    "start_time": "2022-09-06T14:07:43.876Z"
   },
   {
    "duration": 21,
    "start_time": "2022-09-06T14:07:43.896Z"
   },
   {
    "duration": 12,
    "start_time": "2022-09-06T14:07:43.919Z"
   },
   {
    "duration": 9,
    "start_time": "2022-09-06T14:07:59.873Z"
   },
   {
    "duration": 31,
    "start_time": "2022-09-06T14:08:22.072Z"
   },
   {
    "duration": 13,
    "start_time": "2022-09-06T14:18:57.873Z"
   },
   {
    "duration": 13,
    "start_time": "2022-09-06T14:19:05.854Z"
   },
   {
    "duration": 14,
    "start_time": "2022-09-06T14:19:43.273Z"
   },
   {
    "duration": 20,
    "start_time": "2022-09-06T14:19:58.256Z"
   },
   {
    "duration": 25,
    "start_time": "2022-09-06T14:22:45.345Z"
   },
   {
    "duration": 61,
    "start_time": "2022-09-07T09:20:03.782Z"
   },
   {
    "duration": 7,
    "start_time": "2022-09-07T09:20:25.282Z"
   },
   {
    "duration": 8,
    "start_time": "2022-09-07T09:20:33.399Z"
   },
   {
    "duration": 804,
    "start_time": "2022-09-07T09:20:37.942Z"
   },
   {
    "duration": 21,
    "start_time": "2022-09-07T09:20:38.747Z"
   },
   {
    "duration": 40,
    "start_time": "2022-09-07T09:20:38.770Z"
   },
   {
    "duration": 78,
    "start_time": "2022-09-07T09:20:38.813Z"
   },
   {
    "duration": 15,
    "start_time": "2022-09-07T09:20:38.894Z"
   },
   {
    "duration": 26,
    "start_time": "2022-09-07T09:20:38.911Z"
   },
   {
    "duration": 27,
    "start_time": "2022-09-07T09:20:38.939Z"
   },
   {
    "duration": 50,
    "start_time": "2022-09-07T09:20:38.969Z"
   },
   {
    "duration": 49,
    "start_time": "2022-09-07T09:20:39.021Z"
   },
   {
    "duration": 12,
    "start_time": "2022-09-07T09:20:39.074Z"
   },
   {
    "duration": 30,
    "start_time": "2022-09-07T09:20:39.089Z"
   },
   {
    "duration": 39,
    "start_time": "2022-09-07T09:20:39.121Z"
   },
   {
    "duration": 41,
    "start_time": "2022-09-07T09:20:39.162Z"
   },
   {
    "duration": 50,
    "start_time": "2022-09-07T09:20:39.205Z"
   },
   {
    "duration": 13,
    "start_time": "2022-09-07T09:20:39.257Z"
   },
   {
    "duration": 27,
    "start_time": "2022-09-07T09:20:39.271Z"
   },
   {
    "duration": 35,
    "start_time": "2022-09-07T09:20:39.300Z"
   },
   {
    "duration": 29,
    "start_time": "2022-09-07T09:20:39.337Z"
   },
   {
    "duration": 33,
    "start_time": "2022-09-07T09:20:39.368Z"
   },
   {
    "duration": 24,
    "start_time": "2022-09-07T09:20:39.403Z"
   },
   {
    "duration": 422,
    "start_time": "2022-09-07T09:20:39.428Z"
   },
   {
    "duration": 5,
    "start_time": "2022-09-07T09:20:39.852Z"
   },
   {
    "duration": 21,
    "start_time": "2022-09-07T09:20:39.859Z"
   },
   {
    "duration": 29,
    "start_time": "2022-09-07T09:20:39.882Z"
   },
   {
    "duration": 18,
    "start_time": "2022-09-07T09:20:39.913Z"
   },
   {
    "duration": 21,
    "start_time": "2022-09-07T09:20:39.933Z"
   },
   {
    "duration": 23,
    "start_time": "2022-09-07T09:20:39.955Z"
   },
   {
    "duration": 30,
    "start_time": "2022-09-07T09:20:39.983Z"
   },
   {
    "duration": 42,
    "start_time": "2022-09-07T09:20:40.015Z"
   },
   {
    "duration": 6,
    "start_time": "2022-09-07T09:20:40.059Z"
   },
   {
    "duration": 28,
    "start_time": "2022-09-07T09:20:40.066Z"
   },
   {
    "duration": 50,
    "start_time": "2022-09-07T09:20:40.096Z"
   },
   {
    "duration": 34,
    "start_time": "2022-09-07T09:20:40.148Z"
   },
   {
    "duration": 49,
    "start_time": "2022-09-07T09:20:40.185Z"
   },
   {
    "duration": 6,
    "start_time": "2022-09-07T09:20:40.236Z"
   },
   {
    "duration": 30,
    "start_time": "2022-09-07T09:20:40.244Z"
   },
   {
    "duration": 20,
    "start_time": "2022-09-07T09:20:40.276Z"
   },
   {
    "duration": 7,
    "start_time": "2022-09-07T09:20:40.299Z"
   },
   {
    "duration": 10,
    "start_time": "2022-09-07T09:20:40.307Z"
   },
   {
    "duration": 12,
    "start_time": "2022-09-07T09:20:40.319Z"
   },
   {
    "duration": 27,
    "start_time": "2022-09-07T09:20:40.333Z"
   },
   {
    "duration": 42,
    "start_time": "2022-09-07T09:20:40.361Z"
   },
   {
    "duration": 24,
    "start_time": "2022-09-07T09:20:40.405Z"
   },
   {
    "duration": 21,
    "start_time": "2022-09-07T09:20:40.431Z"
   },
   {
    "duration": 6,
    "start_time": "2022-09-07T09:20:40.454Z"
   },
   {
    "duration": 47,
    "start_time": "2022-09-07T09:20:40.462Z"
   },
   {
    "duration": 16,
    "start_time": "2022-09-07T09:20:40.512Z"
   },
   {
    "duration": 13,
    "start_time": "2022-09-07T09:20:40.530Z"
   },
   {
    "duration": 9,
    "start_time": "2022-09-07T09:20:40.545Z"
   },
   {
    "duration": 19,
    "start_time": "2022-09-07T09:20:40.556Z"
   },
   {
    "duration": 30,
    "start_time": "2022-09-07T09:20:40.576Z"
   },
   {
    "duration": 4,
    "start_time": "2022-09-07T09:20:40.607Z"
   },
   {
    "duration": 6,
    "start_time": "2022-09-07T09:20:40.613Z"
   },
   {
    "duration": 11,
    "start_time": "2022-09-07T09:20:40.620Z"
   },
   {
    "duration": 13,
    "start_time": "2022-09-07T09:20:40.633Z"
   },
   {
    "duration": 11,
    "start_time": "2022-09-07T09:20:40.648Z"
   },
   {
    "duration": 59,
    "start_time": "2022-09-07T09:20:40.660Z"
   },
   {
    "duration": 24,
    "start_time": "2022-09-07T09:20:40.721Z"
   },
   {
    "duration": 24,
    "start_time": "2022-09-07T09:20:40.747Z"
   },
   {
    "duration": 43,
    "start_time": "2022-09-07T09:20:40.773Z"
   },
   {
    "duration": 6,
    "start_time": "2022-09-07T09:20:40.818Z"
   },
   {
    "duration": 8,
    "start_time": "2022-09-07T09:20:40.826Z"
   },
   {
    "duration": 15,
    "start_time": "2022-09-07T09:20:40.837Z"
   },
   {
    "duration": 25,
    "start_time": "2022-09-07T09:20:40.853Z"
   },
   {
    "duration": 31,
    "start_time": "2022-09-07T09:20:40.880Z"
   },
   {
    "duration": 11,
    "start_time": "2022-09-07T09:20:40.913Z"
   },
   {
    "duration": 11,
    "start_time": "2022-09-07T09:20:40.926Z"
   },
   {
    "duration": 7,
    "start_time": "2022-09-07T09:20:40.939Z"
   },
   {
    "duration": 9,
    "start_time": "2022-09-07T09:20:40.947Z"
   },
   {
    "duration": 49,
    "start_time": "2022-09-07T09:20:40.958Z"
   },
   {
    "duration": 14,
    "start_time": "2022-09-07T09:20:41.009Z"
   },
   {
    "duration": 11,
    "start_time": "2022-09-07T09:20:41.025Z"
   },
   {
    "duration": 5,
    "start_time": "2022-09-07T09:20:41.037Z"
   },
   {
    "duration": 963,
    "start_time": "2022-09-07T09:20:41.044Z"
   },
   {
    "duration": 1227,
    "start_time": "2022-09-07T09:20:42.008Z"
   },
   {
    "duration": 5,
    "start_time": "2022-09-07T09:20:43.237Z"
   },
   {
    "duration": 13,
    "start_time": "2022-09-07T09:20:43.244Z"
   },
   {
    "duration": 5,
    "start_time": "2022-09-07T09:20:43.259Z"
   },
   {
    "duration": 8,
    "start_time": "2022-09-07T09:20:43.265Z"
   },
   {
    "duration": 1870,
    "start_time": "2022-09-07T09:20:43.275Z"
   },
   {
    "duration": 4,
    "start_time": "2022-09-07T09:20:45.147Z"
   },
   {
    "duration": 15,
    "start_time": "2022-09-07T09:20:45.157Z"
   },
   {
    "duration": 7,
    "start_time": "2022-09-07T09:20:45.174Z"
   },
   {
    "duration": 8,
    "start_time": "2022-09-07T09:20:45.203Z"
   },
   {
    "duration": 13,
    "start_time": "2022-09-07T09:20:45.213Z"
   },
   {
    "duration": 16,
    "start_time": "2022-09-07T09:20:45.227Z"
   },
   {
    "duration": 14,
    "start_time": "2022-09-07T09:20:45.244Z"
   },
   {
    "duration": 11,
    "start_time": "2022-09-07T09:20:45.260Z"
   },
   {
    "duration": 14,
    "start_time": "2022-09-07T09:20:45.302Z"
   },
   {
    "duration": 13,
    "start_time": "2022-09-07T09:20:45.317Z"
   },
   {
    "duration": 13,
    "start_time": "2022-09-07T09:20:45.332Z"
   },
   {
    "duration": 7,
    "start_time": "2022-09-07T09:20:45.347Z"
   },
   {
    "duration": 64,
    "start_time": "2022-09-07T09:20:45.356Z"
   },
   {
    "duration": 4,
    "start_time": "2022-09-07T09:20:45.422Z"
   },
   {
    "duration": 22,
    "start_time": "2022-09-07T09:20:45.427Z"
   },
   {
    "duration": 19,
    "start_time": "2022-09-07T09:20:45.451Z"
   },
   {
    "duration": 15,
    "start_time": "2022-09-07T09:20:45.472Z"
   },
   {
    "duration": 12,
    "start_time": "2022-09-07T09:20:45.503Z"
   },
   {
    "duration": 10,
    "start_time": "2022-09-07T09:20:45.517Z"
   },
   {
    "duration": 19,
    "start_time": "2022-09-07T09:20:45.529Z"
   },
   {
    "duration": 18,
    "start_time": "2022-09-07T09:20:45.550Z"
   },
   {
    "duration": 36,
    "start_time": "2022-09-07T09:21:40.524Z"
   },
   {
    "duration": 105,
    "start_time": "2022-09-07T09:22:17.988Z"
   },
   {
    "duration": 15,
    "start_time": "2022-09-07T09:22:18.095Z"
   },
   {
    "duration": 39,
    "start_time": "2022-09-07T09:22:18.111Z"
   },
   {
    "duration": 72,
    "start_time": "2022-09-07T09:22:18.152Z"
   },
   {
    "duration": 10,
    "start_time": "2022-09-07T09:22:18.226Z"
   },
   {
    "duration": 47,
    "start_time": "2022-09-07T09:22:18.238Z"
   },
   {
    "duration": 27,
    "start_time": "2022-09-07T09:22:18.287Z"
   },
   {
    "duration": 21,
    "start_time": "2022-09-07T09:22:18.316Z"
   },
   {
    "duration": 34,
    "start_time": "2022-09-07T09:22:18.339Z"
   },
   {
    "duration": 7,
    "start_time": "2022-09-07T09:22:18.375Z"
   },
   {
    "duration": 30,
    "start_time": "2022-09-07T09:22:18.384Z"
   },
   {
    "duration": 39,
    "start_time": "2022-09-07T09:22:18.416Z"
   },
   {
    "duration": 19,
    "start_time": "2022-09-07T09:22:18.457Z"
   },
   {
    "duration": 39,
    "start_time": "2022-09-07T09:22:18.479Z"
   },
   {
    "duration": 10,
    "start_time": "2022-09-07T09:22:18.519Z"
   },
   {
    "duration": 21,
    "start_time": "2022-09-07T09:22:18.531Z"
   },
   {
    "duration": 31,
    "start_time": "2022-09-07T09:22:18.554Z"
   },
   {
    "duration": 50,
    "start_time": "2022-09-07T09:22:18.586Z"
   },
   {
    "duration": 18,
    "start_time": "2022-09-07T09:22:18.638Z"
   },
   {
    "duration": 33,
    "start_time": "2022-09-07T09:22:18.657Z"
   },
   {
    "duration": 466,
    "start_time": "2022-09-07T09:22:18.692Z"
   },
   {
    "duration": 6,
    "start_time": "2022-09-07T09:22:19.160Z"
   },
   {
    "duration": 28,
    "start_time": "2022-09-07T09:22:19.168Z"
   },
   {
    "duration": 33,
    "start_time": "2022-09-07T09:22:19.198Z"
   },
   {
    "duration": 24,
    "start_time": "2022-09-07T09:22:19.233Z"
   },
   {
    "duration": 5,
    "start_time": "2022-09-07T09:22:19.260Z"
   },
   {
    "duration": 26,
    "start_time": "2022-09-07T09:22:19.267Z"
   },
   {
    "duration": 24,
    "start_time": "2022-09-07T09:22:19.296Z"
   },
   {
    "duration": 49,
    "start_time": "2022-09-07T09:22:19.321Z"
   },
   {
    "duration": 6,
    "start_time": "2022-09-07T09:22:19.372Z"
   },
   {
    "duration": 18,
    "start_time": "2022-09-07T09:22:19.380Z"
   },
   {
    "duration": 33,
    "start_time": "2022-09-07T09:22:19.400Z"
   },
   {
    "duration": 12,
    "start_time": "2022-09-07T09:22:19.434Z"
   },
   {
    "duration": 40,
    "start_time": "2022-09-07T09:22:19.448Z"
   },
   {
    "duration": 9,
    "start_time": "2022-09-07T09:22:19.490Z"
   },
   {
    "duration": 32,
    "start_time": "2022-09-07T09:22:19.500Z"
   },
   {
    "duration": 39,
    "start_time": "2022-09-07T09:22:19.534Z"
   },
   {
    "duration": 55,
    "start_time": "2022-09-07T09:22:19.576Z"
   },
   {
    "duration": 46,
    "start_time": "2022-09-07T09:22:19.633Z"
   },
   {
    "duration": 47,
    "start_time": "2022-09-07T09:22:19.682Z"
   },
   {
    "duration": 37,
    "start_time": "2022-09-07T09:22:19.734Z"
   },
   {
    "duration": 38,
    "start_time": "2022-09-07T09:22:19.773Z"
   },
   {
    "duration": 26,
    "start_time": "2022-09-07T09:22:19.813Z"
   },
   {
    "duration": 30,
    "start_time": "2022-09-07T09:22:19.841Z"
   },
   {
    "duration": 26,
    "start_time": "2022-09-07T09:22:19.873Z"
   },
   {
    "duration": 38,
    "start_time": "2022-09-07T09:22:19.901Z"
   },
   {
    "duration": 50,
    "start_time": "2022-09-07T09:22:19.941Z"
   },
   {
    "duration": 27,
    "start_time": "2022-09-07T09:22:19.992Z"
   },
   {
    "duration": 25,
    "start_time": "2022-09-07T09:22:20.021Z"
   },
   {
    "duration": 40,
    "start_time": "2022-09-07T09:22:20.048Z"
   },
   {
    "duration": 54,
    "start_time": "2022-09-07T09:22:20.089Z"
   },
   {
    "duration": 35,
    "start_time": "2022-09-07T09:22:20.144Z"
   },
   {
    "duration": 34,
    "start_time": "2022-09-07T09:22:20.181Z"
   },
   {
    "duration": 37,
    "start_time": "2022-09-07T09:22:20.216Z"
   },
   {
    "duration": 50,
    "start_time": "2022-09-07T09:22:20.255Z"
   },
   {
    "duration": 26,
    "start_time": "2022-09-07T09:22:20.306Z"
   },
   {
    "duration": 45,
    "start_time": "2022-09-07T09:22:20.334Z"
   },
   {
    "duration": 39,
    "start_time": "2022-09-07T09:22:20.381Z"
   },
   {
    "duration": 32,
    "start_time": "2022-09-07T09:22:20.422Z"
   },
   {
    "duration": 40,
    "start_time": "2022-09-07T09:22:20.457Z"
   },
   {
    "duration": 21,
    "start_time": "2022-09-07T09:22:20.499Z"
   },
   {
    "duration": 33,
    "start_time": "2022-09-07T09:22:20.522Z"
   },
   {
    "duration": 38,
    "start_time": "2022-09-07T09:22:20.556Z"
   },
   {
    "duration": 51,
    "start_time": "2022-09-07T09:22:20.596Z"
   },
   {
    "duration": 11,
    "start_time": "2022-09-07T09:22:20.649Z"
   },
   {
    "duration": 21,
    "start_time": "2022-09-07T09:22:20.662Z"
   },
   {
    "duration": 28,
    "start_time": "2022-09-07T09:22:20.685Z"
   },
   {
    "duration": 38,
    "start_time": "2022-09-07T09:22:20.716Z"
   },
   {
    "duration": 25,
    "start_time": "2022-09-07T09:22:20.757Z"
   },
   {
    "duration": 62,
    "start_time": "2022-09-07T09:22:20.783Z"
   },
   {
    "duration": 25,
    "start_time": "2022-09-07T09:22:20.847Z"
   },
   {
    "duration": 36,
    "start_time": "2022-09-07T09:22:20.873Z"
   },
   {
    "duration": 10,
    "start_time": "2022-09-07T09:22:20.911Z"
   },
   {
    "duration": 30,
    "start_time": "2022-09-07T09:22:20.923Z"
   },
   {
    "duration": 30,
    "start_time": "2022-09-07T09:22:20.955Z"
   },
   {
    "duration": 25,
    "start_time": "2022-09-07T09:22:20.987Z"
   },
   {
    "duration": 32,
    "start_time": "2022-09-07T09:22:21.014Z"
   },
   {
    "duration": 32,
    "start_time": "2022-09-07T09:22:21.048Z"
   },
   {
    "duration": 30,
    "start_time": "2022-09-07T09:22:21.082Z"
   },
   {
    "duration": 1933,
    "start_time": "2022-09-07T09:22:21.114Z"
   },
   {
    "duration": 4,
    "start_time": "2022-09-07T09:22:23.049Z"
   },
   {
    "duration": 37,
    "start_time": "2022-09-07T09:22:23.055Z"
   },
   {
    "duration": 43,
    "start_time": "2022-09-07T09:22:23.093Z"
   },
   {
    "duration": 17,
    "start_time": "2022-09-07T09:22:23.138Z"
   },
   {
    "duration": 26,
    "start_time": "2022-09-07T09:22:23.156Z"
   },
   {
    "duration": 36,
    "start_time": "2022-09-07T09:22:23.183Z"
   },
   {
    "duration": 31,
    "start_time": "2022-09-07T09:22:23.221Z"
   },
   {
    "duration": 27,
    "start_time": "2022-09-07T09:22:23.254Z"
   },
   {
    "duration": 45,
    "start_time": "2022-09-07T09:22:23.283Z"
   },
   {
    "duration": 23,
    "start_time": "2022-09-07T09:22:23.330Z"
   },
   {
    "duration": 35,
    "start_time": "2022-09-07T09:22:23.355Z"
   },
   {
    "duration": 37,
    "start_time": "2022-09-07T09:22:23.391Z"
   },
   {
    "duration": 12,
    "start_time": "2022-09-07T09:22:40.723Z"
   },
   {
    "duration": 25,
    "start_time": "2022-09-07T09:25:01.969Z"
   }
  ],
  "kernelspec": {
   "display_name": "Python 3 (ipykernel)",
   "language": "python",
   "name": "python3"
  },
  "language_info": {
   "codemirror_mode": {
    "name": "ipython",
    "version": 3
   },
   "file_extension": ".py",
   "mimetype": "text/x-python",
   "name": "python",
   "nbconvert_exporter": "python",
   "pygments_lexer": "ipython3",
   "version": "3.9.5"
  },
  "toc": {
   "base_numbering": 1,
   "nav_menu": {},
   "number_sections": true,
   "sideBar": true,
   "skip_h1_title": true,
   "title_cell": "Table of Contents",
   "title_sidebar": "Contents",
   "toc_cell": false,
   "toc_position": {},
   "toc_section_display": true,
   "toc_window_display": true
  }
 },
 "nbformat": 4,
 "nbformat_minor": 2
}
